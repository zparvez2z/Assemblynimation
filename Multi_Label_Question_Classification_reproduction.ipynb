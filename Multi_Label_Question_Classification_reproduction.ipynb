{
  "cells": [
    {
      "cell_type": "markdown",
      "metadata": {
        "id": "view-in-github",
        "colab_type": "text"
      },
      "source": [
        "<a href=\"https://colab.research.google.com/github/zparvez2z/Assemblynimation/blob/master/Multi_Label_Question_Classification_reproduction.ipynb\" target=\"_parent\"><img src=\"https://colab.research.google.com/assets/colab-badge.svg\" alt=\"Open In Colab\"/></a>"
      ]
    },
    {
      "cell_type": "markdown",
      "metadata": {
        "id": "nnDmjRfkQhUQ"
      },
      "source": [
        "# TO DO\n",
        "\n",
        "1. Tokenization\n",
        "2. Lemmatization\n",
        "3. POS tagging\n",
        "4. Dependency parsing\n",
        "5. Question focus identification\n",
        "6. Concept Identification\n",
        "    1. SciSpacy(https://spacy.io/universe/project/scispacy)\n",
        "    2. UTS (https://www.nlm.nih.gov/research/umls/index.html)\n",
        "7. Choise Identification using regex\n",
        "8. Quantity identification using regex\n",
        "9. Semantic dependency parsing (spacy)\n",
        "10. Semantic head dependency parsing (spacy) !\n",
        "11. Question type identification ( Factoid, List, Choice, Quantity)\n",
        "12. Apply SOTA Classification Algo. on final dataset\n",
        "13. Answer retrival( corpus generation)\n",
        "14. Answer ranking\n",
        "\n",
        "\n",
        "\n"
      ]
    },
    {
      "cell_type": "markdown",
      "metadata": {
        "id": "SnhoQd_Dvclx"
      },
      "source": [
        "**Question: Will multi-level classification(inititially classifying to factoid/list/MC etc then Bio-Medical label) improve multi-label classification accuracy?!**"
      ]
    },
    {
      "cell_type": "markdown",
      "metadata": {
        "id": "oXQlN5L7ZW-Z"
      },
      "source": [
        "# Required python modules"
      ]
    },
    {
      "cell_type": "code",
      "execution_count": null,
      "metadata": {
        "colab": {
          "base_uri": "https://localhost:8080/"
        },
        "id": "Y4KvNFFZoqhj",
        "outputId": "09f20b69-a352-4df7-e8b2-072abb3fb914"
      },
      "outputs": [
        {
          "name": "stdout",
          "output_type": "stream",
          "text": [
            "Collecting scikit-multilearn\n",
            "  Downloading scikit_multilearn-0.2.0-py3-none-any.whl (89 kB)\n",
            "\u001b[?25l\r\u001b[K     |███▊                            | 10 kB 28.6 MB/s eta 0:00:01\r\u001b[K     |███████▍                        | 20 kB 19.7 MB/s eta 0:00:01\r\u001b[K     |███████████                     | 30 kB 15.1 MB/s eta 0:00:01\r\u001b[K     |██████████████▊                 | 40 kB 13.4 MB/s eta 0:00:01\r\u001b[K     |██████████████████▍             | 51 kB 10.7 MB/s eta 0:00:01\r\u001b[K     |██████████████████████          | 61 kB 10.0 MB/s eta 0:00:01\r\u001b[K     |█████████████████████████▊      | 71 kB 8.8 MB/s eta 0:00:01\r\u001b[K     |█████████████████████████████▍  | 81 kB 9.8 MB/s eta 0:00:01\r\u001b[K     |████████████████████████████████| 89 kB 4.9 MB/s \n",
            "\u001b[?25hInstalling collected packages: scikit-multilearn\n",
            "Successfully installed scikit-multilearn-0.2.0\n"
          ]
        }
      ],
      "source": [
        "# !pip install -U pip setuptools wheel\n",
        "# !pip install -U spacy\n",
        "\n",
        "# !wget https://s3-us-west-2.amazonaws.com/ai2-s2-scispacy/releases/v0.4.0/en_core_sci_scibert-0.4.0.tar.gz\n",
        "# !pip install en_core_sci_scibert-0.4.0.tar.gz\n",
        "\n",
        "# !wget https://s3-us-west-2.amazonaws.com/ai2-s2-scispacy/releases/v0.4.0/en_core_sci_lg-0.4.0.tar.gz\n",
        "# !pip install en_core_sci_lg-0.4.0.tar.gz\n",
        "\n",
        "# !wget https://s3-us-west-2.amazonaws.com/ai2-s2-scispacy/releases/v0.4.0/en_ner_craft_md-0.4.0.tar.gz\n",
        "# !pip install en_ner_craft_md-0.4.0.tar.gz\n",
        "\n",
        "# !wget https://s3-us-west-2.amazonaws.com/ai2-s2-scispacy/releases/v0.4.0/en_ner_jnlpba_md-0.4.0.tar.gz\n",
        "# !pip install en_ner_jnlpba_md-0.4.0.tar.gz\n",
        "\n",
        "# !wget https://s3-us-west-2.amazonaws.com/ai2-s2-scispacy/releases/v0.4.0/en_ner_bc5cdr_md-0.4.0.tar.gz\n",
        "# !pip install en_ner_bc5cdr_md-0.4.0.tar.gz\n",
        "\n",
        "# !wget https://s3-us-west-2.amazonaws.com/ai2-s2-scispacy/releases/v0.4.0/en_ner_bionlp13cg_md-0.4.0.tar.gz\n",
        "# !pip install en_ner_bionlp13cg_md-0.4.0.tar.gz\n",
        "\n",
        "# !pip install scispacy\n",
        "# !pip install swifter\n",
        "# !pip install scikit-multilearn\n",
        "# !python -m spacy download en_core_web_sm"
      ]
    },
    {
      "cell_type": "code",
      "execution_count": null,
      "metadata": {
        "id": "Y_oJjhUfFzm5"
      },
      "outputs": [],
      "source": [
        "# !python -m spacy download en_core_web_lg"
      ]
    },
    {
      "cell_type": "code",
      "execution_count": null,
      "metadata": {
        "id": "12Fk3Pl9Zb9T"
      },
      "outputs": [],
      "source": [
        "import pandas as pd\n",
        "# import scispacy\n",
        "# import spacy\n",
        "# from spacy import displacy\n",
        "# print(spacy.__version__)\n",
        "# import swifter\n",
        "# import dask.dataframe as dd\n",
        "# import multiprocessing\n",
        "# from dask.multiprocessing import get\n",
        "import matplotlib.pyplot as plt\n",
        "import seaborn as sns\n",
        "import traceback\n",
        "import sys\n",
        "# nlp = spacy.load('en_core_web_sm')\n",
        "# import en_core_sci_lg\n",
        "# nlp_sci_lg = en_core_sci_lg.load()"
      ]
    },
    {
      "cell_type": "code",
      "execution_count": null,
      "metadata": {
        "id": "H-pxmn9mw7iv"
      },
      "outputs": [],
      "source": [
        "# #load all spacy model\n",
        "# sci_scibert = spacy.load(\"en_core_sci_scibert\")\n",
        "# sci_lg = spacy.load(\"en_core_sci_lg\")\n",
        "# ner_craft = spacy.load(\"en_ner_craft_md\")\n",
        "# ner_jnlpba = spacy.load(\"en_ner_jnlpba_md\")\n",
        "# ner_bc5cdr = spacy.load(\"en_ner_bc5cdr_md\")\n",
        "# ner_bionlp13cg = spacy.load(\"en_ner_bionlp13cg_md\")\n",
        "\n",
        "nlp = spacy.load(\"en_core_sci_scibert\")"
      ]
    },
    {
      "cell_type": "code",
      "execution_count": null,
      "metadata": {
        "id": "ocnNKNxS3igu"
      },
      "outputs": [],
      "source": [
        ""
      ]
    },
    {
      "cell_type": "markdown",
      "metadata": {
        "id": "8Z50cTM93jYe"
      },
      "source": [
        "# Mount drive"
      ]
    },
    {
      "cell_type": "code",
      "execution_count": 2,
      "metadata": {
        "colab": {
          "base_uri": "https://localhost:8080/"
        },
        "id": "14G93p5_Q-T2",
        "outputId": "062a7088-fe46-4ba7-f468-2d6a2d336806"
      },
      "outputs": [
        {
          "output_type": "stream",
          "name": "stdout",
          "text": [
            "Mounted at /content/drive\n"
          ]
        }
      ],
      "source": [
        "from google.colab import drive\n",
        "drive.mount('/content/drive')"
      ]
    },
    {
      "cell_type": "markdown",
      "metadata": {
        "id": "xqbi7CXYXKCA"
      },
      "source": [
        "# Data import"
      ]
    },
    {
      "cell_type": "code",
      "execution_count": null,
      "metadata": {
        "id": "3QR_niECXMha"
      },
      "outputs": [],
      "source": [
        "#copy data from drive to colab\n",
        "# %cp \"/content/drive/MyDrive/multi_label_question_classification/data_set_with_semantic_types.csv\" \"/content/\"\n",
        "# df = pd.read_csv(\"/content/data_set_with_semantic_types.csv\",encoding= 'utf-8')\n",
        "# df = pd.read_csv(\"/content/prepared_data.csv\",encoding= 'utf-8')\n",
        "%cp /content/drive/MyDrive/multi_label_question_classification/BioASQ-trainingDataset4b_v1.csv /content\n",
        "df = pd.read_csv(\"/content/BioASQ-trainingDataset4b_v1.csv\")"
      ]
    },
    {
      "cell_type": "code",
      "execution_count": null,
      "metadata": {
        "colab": {
          "base_uri": "https://localhost:8080/"
        },
        "id": "hqhWxTrvZRL9",
        "outputId": "6c038d45-786a-4b22-d615-5aad2447ca9b"
      },
      "outputs": [
        {
          "name": "stdout",
          "output_type": "stream",
          "text": [
            "<class 'pandas.core.frame.DataFrame'>\n",
            "RangeIndex: 1307 entries, 0 to 1306\n",
            "Data columns (total 9 columns):\n",
            " #   Column        Non-Null Count  Dtype \n",
            "---  ------        --------------  ----- \n",
            " 0   body          1307 non-null   object\n",
            " 1   documents     1307 non-null   object\n",
            " 2   triples       1307 non-null   object\n",
            " 3   ideal_answer  1285 non-null   object\n",
            " 4   concepts      1285 non-null   object\n",
            " 5   type          1285 non-null   object\n",
            " 6   id            1273 non-null   object\n",
            " 7   snippets      1187 non-null   object\n",
            " 8   Unnamed: 8    816 non-null    object\n",
            "dtypes: object(9)\n",
            "memory usage: 92.0+ KB\n"
          ]
        }
      ],
      "source": [
        "df.info()"
      ]
    },
    {
      "cell_type": "code",
      "execution_count": null,
      "metadata": {
        "id": "5SKL_eZeKjqv"
      },
      "outputs": [],
      "source": [
        "df = df.loc[:, ~df.columns.str.contains('^Unnamed')]\n",
        "df.info()"
      ]
    },
    {
      "cell_type": "markdown",
      "metadata": {
        "id": "DNfRUKPNX2TT"
      },
      "source": [
        "# Labels to lower"
      ]
    },
    {
      "cell_type": "code",
      "execution_count": null,
      "metadata": {
        "id": "868OxVqZX5L1"
      },
      "outputs": [],
      "source": [
        "df[\"Labels\"] = df[\"Labels\"].str.lower()"
      ]
    },
    {
      "cell_type": "code",
      "execution_count": null,
      "metadata": {
        "colab": {
          "base_uri": "https://localhost:8080/",
          "height": 583
        },
        "id": "tU4791z8X1eT",
        "outputId": "f645ef53-d4fb-442f-cad3-02cb5a427ee9"
      },
      "outputs": [
        {
          "data": {
            "text/html": [
              "\n",
              "  <div id=\"df-cf4b43b3-6d0a-4ff1-8c4b-c70751769c58\">\n",
              "    <div class=\"colab-df-container\">\n",
              "      <div>\n",
              "<style scoped>\n",
              "    .dataframe tbody tr th:only-of-type {\n",
              "        vertical-align: middle;\n",
              "    }\n",
              "\n",
              "    .dataframe tbody tr th {\n",
              "        vertical-align: top;\n",
              "    }\n",
              "\n",
              "    .dataframe thead th {\n",
              "        text-align: right;\n",
              "    }\n",
              "</style>\n",
              "<table border=\"1\" class=\"dataframe\">\n",
              "  <thead>\n",
              "    <tr style=\"text-align: right;\">\n",
              "      <th></th>\n",
              "      <th>Question</th>\n",
              "      <th>Documents</th>\n",
              "      <th>Ideal_Answer</th>\n",
              "      <th>Exact_Answer</th>\n",
              "      <th>Concept</th>\n",
              "      <th>Labels</th>\n",
              "      <th>class-1</th>\n",
              "      <th>class-2</th>\n",
              "      <th>class-3</th>\n",
              "      <th>class-4</th>\n",
              "      <th>class-5</th>\n",
              "      <th>class-6</th>\n",
              "      <th>class-7</th>\n",
              "      <th>class-8</th>\n",
              "      <th>Question_focus</th>\n",
              "      <th>Semantic_types</th>\n",
              "    </tr>\n",
              "  </thead>\n",
              "  <tbody>\n",
              "    <tr>\n",
              "      <th>40</th>\n",
              "      <td>List symptoms of the IFAP syndrome.</td>\n",
              "      <td>\"http://www.ncbi.nlm.nih.gov/pubmed/25685152\",...</td>\n",
              "      <td>\"The IFAP syndrome is a rare X-linked genetic...</td>\n",
              "      <td>[\\n          \"follicular ichthyosis\"\\n        ...</td>\n",
              "      <td>\"http://www.nlm.nih.gov/cgi/mesh/2016/MB_cgi?f...</td>\n",
              "      <td>list</td>\n",
              "      <td>tmtool:Disease</td>\n",
              "      <td>NaN</td>\n",
              "      <td>NaN</td>\n",
              "      <td>NaN</td>\n",
              "      <td>NaN</td>\n",
              "      <td>NaN</td>\n",
              "      <td>NaN</td>\n",
              "      <td>NaN</td>\n",
              "      <td>List</td>\n",
              "      <td>['List [inpr]', 'symptoms (Symptoms aspect) [f...</td>\n",
              "    </tr>\n",
              "    <tr>\n",
              "      <th>695</th>\n",
              "      <td>Which are the main NMD factors in Saccharomyce...</td>\n",
              "      <td>\"http://www.ncbi.nlm.nih.gov/pubmed/20675403\",...</td>\n",
              "      <td>\"In Saccharomyces cerevisiae, rapid degradatio...</td>\n",
              "      <td>[\\n          \"Upf1p\"\\n        ], \\n        [\\n...</td>\n",
              "      <td>\"http://www.nlm.nih.gov/cgi/mesh/2015/MB_cgi?f...</td>\n",
              "      <td>list</td>\n",
              "      <td>umls:aapp</td>\n",
              "      <td>NaN</td>\n",
              "      <td>NaN</td>\n",
              "      <td>NaN</td>\n",
              "      <td>NaN</td>\n",
              "      <td>NaN</td>\n",
              "      <td>NaN</td>\n",
              "      <td>NaN</td>\n",
              "      <td>NMD</td>\n",
              "      <td>['Main (Primary) [qlco]', 'NMD (Nonsense Media...</td>\n",
              "    </tr>\n",
              "    <tr>\n",
              "      <th>479</th>\n",
              "      <td>Which is the main target of the anti-arrhythmi...</td>\n",
              "      <td>\"http://www.ncbi.nlm.nih.gov/pubmed/24858181\",...</td>\n",
              "      <td>\"Flecainide is a class 1c antiarrhythmic that ...</td>\n",
              "      <td>\"The sodium channel\"</td>\n",
              "      <td>http://www.biosemantics.org/jochem#4249323</td>\n",
              "      <td>factoid</td>\n",
              "      <td>umls:bacs</td>\n",
              "      <td>umls:aapp</td>\n",
              "      <td>NaN</td>\n",
              "      <td>NaN</td>\n",
              "      <td>NaN</td>\n",
              "      <td>NaN</td>\n",
              "      <td>NaN</td>\n",
              "      <td>NaN</td>\n",
              "      <td>target</td>\n",
              "      <td>['Main (Primary) [qlco]', 'Target [ftcn]', 'An...</td>\n",
              "    </tr>\n",
              "    <tr>\n",
              "      <th>68</th>\n",
              "      <td>In which proteins is the chromodomain present?</td>\n",
              "      <td>\"http://www.ncbi.nlm.nih.gov/pubmed/22897906\",...</td>\n",
              "      <td>\"The chromodomain (chromatin organizer modifie...</td>\n",
              "      <td>[\\n          \"HP1 alpha\"\\n        ], \\n       ...</td>\n",
              "      <td>\"http://www.uniprot.org/uniprot/CDYL1_HUMAN\", ...</td>\n",
              "      <td>list</td>\n",
              "      <td>umls:gngm</td>\n",
              "      <td>umls:aapp</td>\n",
              "      <td>NaN</td>\n",
              "      <td>NaN</td>\n",
              "      <td>NaN</td>\n",
              "      <td>NaN</td>\n",
              "      <td>NaN</td>\n",
              "      <td>NaN</td>\n",
              "      <td>proteins</td>\n",
              "      <td>['PROTEINS (Proteins) [aapp,bacs]', 'PRESENT (...</td>\n",
              "    </tr>\n",
              "    <tr>\n",
              "      <th>582</th>\n",
              "      <td>What is the ubiquitin proteome?</td>\n",
              "      <td>\"http://www.ncbi.nlm.nih.gov/pubmed/23764619\",...</td>\n",
              "      <td>\"The ubiquitin proteome is the entire set ubiq...</td>\n",
              "      <td>\"The ubiquitin proteome is the entire set ubiq...</td>\n",
              "      <td>\"http://www.nlm.nih.gov/cgi/mesh/2014/MB_cgi?f...</td>\n",
              "      <td>factoid</td>\n",
              "      <td>umls:cnce</td>\n",
              "      <td>NaN</td>\n",
              "      <td>NaN</td>\n",
              "      <td>NaN</td>\n",
              "      <td>NaN</td>\n",
              "      <td>NaN</td>\n",
              "      <td>NaN</td>\n",
              "      <td>NaN</td>\n",
              "      <td>proteome</td>\n",
              "      <td>['Ubiquitin [aapp,bacs]', 'Proteome [aapp,bacs]']</td>\n",
              "    </tr>\n",
              "  </tbody>\n",
              "</table>\n",
              "</div>\n",
              "      <button class=\"colab-df-convert\" onclick=\"convertToInteractive('df-cf4b43b3-6d0a-4ff1-8c4b-c70751769c58')\"\n",
              "              title=\"Convert this dataframe to an interactive table.\"\n",
              "              style=\"display:none;\">\n",
              "        \n",
              "  <svg xmlns=\"http://www.w3.org/2000/svg\" height=\"24px\"viewBox=\"0 0 24 24\"\n",
              "       width=\"24px\">\n",
              "    <path d=\"M0 0h24v24H0V0z\" fill=\"none\"/>\n",
              "    <path d=\"M18.56 5.44l.94 2.06.94-2.06 2.06-.94-2.06-.94-.94-2.06-.94 2.06-2.06.94zm-11 1L8.5 8.5l.94-2.06 2.06-.94-2.06-.94L8.5 2.5l-.94 2.06-2.06.94zm10 10l.94 2.06.94-2.06 2.06-.94-2.06-.94-.94-2.06-.94 2.06-2.06.94z\"/><path d=\"M17.41 7.96l-1.37-1.37c-.4-.4-.92-.59-1.43-.59-.52 0-1.04.2-1.43.59L10.3 9.45l-7.72 7.72c-.78.78-.78 2.05 0 2.83L4 21.41c.39.39.9.59 1.41.59.51 0 1.02-.2 1.41-.59l7.78-7.78 2.81-2.81c.8-.78.8-2.07 0-2.86zM5.41 20L4 18.59l7.72-7.72 1.47 1.35L5.41 20z\"/>\n",
              "  </svg>\n",
              "      </button>\n",
              "      \n",
              "  <style>\n",
              "    .colab-df-container {\n",
              "      display:flex;\n",
              "      flex-wrap:wrap;\n",
              "      gap: 12px;\n",
              "    }\n",
              "\n",
              "    .colab-df-convert {\n",
              "      background-color: #E8F0FE;\n",
              "      border: none;\n",
              "      border-radius: 50%;\n",
              "      cursor: pointer;\n",
              "      display: none;\n",
              "      fill: #1967D2;\n",
              "      height: 32px;\n",
              "      padding: 0 0 0 0;\n",
              "      width: 32px;\n",
              "    }\n",
              "\n",
              "    .colab-df-convert:hover {\n",
              "      background-color: #E2EBFA;\n",
              "      box-shadow: 0px 1px 2px rgba(60, 64, 67, 0.3), 0px 1px 3px 1px rgba(60, 64, 67, 0.15);\n",
              "      fill: #174EA6;\n",
              "    }\n",
              "\n",
              "    [theme=dark] .colab-df-convert {\n",
              "      background-color: #3B4455;\n",
              "      fill: #D2E3FC;\n",
              "    }\n",
              "\n",
              "    [theme=dark] .colab-df-convert:hover {\n",
              "      background-color: #434B5C;\n",
              "      box-shadow: 0px 1px 3px 1px rgba(0, 0, 0, 0.15);\n",
              "      filter: drop-shadow(0px 1px 2px rgba(0, 0, 0, 0.3));\n",
              "      fill: #FFFFFF;\n",
              "    }\n",
              "  </style>\n",
              "\n",
              "      <script>\n",
              "        const buttonEl =\n",
              "          document.querySelector('#df-cf4b43b3-6d0a-4ff1-8c4b-c70751769c58 button.colab-df-convert');\n",
              "        buttonEl.style.display =\n",
              "          google.colab.kernel.accessAllowed ? 'block' : 'none';\n",
              "\n",
              "        async function convertToInteractive(key) {\n",
              "          const element = document.querySelector('#df-cf4b43b3-6d0a-4ff1-8c4b-c70751769c58');\n",
              "          const dataTable =\n",
              "            await google.colab.kernel.invokeFunction('convertToInteractive',\n",
              "                                                     [key], {});\n",
              "          if (!dataTable) return;\n",
              "\n",
              "          const docLinkHtml = 'Like what you see? Visit the ' +\n",
              "            '<a target=\"_blank\" href=https://colab.research.google.com/notebooks/data_table.ipynb>data table notebook</a>'\n",
              "            + ' to learn more about interactive tables.';\n",
              "          element.innerHTML = '';\n",
              "          dataTable['output_type'] = 'display_data';\n",
              "          await google.colab.output.renderOutput(dataTable, element);\n",
              "          const docLink = document.createElement('div');\n",
              "          docLink.innerHTML = docLinkHtml;\n",
              "          element.appendChild(docLink);\n",
              "        }\n",
              "      </script>\n",
              "    </div>\n",
              "  </div>\n",
              "  "
            ],
            "text/plain": [
              "                                              Question  ...                                     Semantic_types\n",
              "40                 List symptoms of the IFAP syndrome.  ...  ['List [inpr]', 'symptoms (Symptoms aspect) [f...\n",
              "695  Which are the main NMD factors in Saccharomyce...  ...  ['Main (Primary) [qlco]', 'NMD (Nonsense Media...\n",
              "479  Which is the main target of the anti-arrhythmi...  ...  ['Main (Primary) [qlco]', 'Target [ftcn]', 'An...\n",
              "68      In which proteins is the chromodomain present?  ...  ['PROTEINS (Proteins) [aapp,bacs]', 'PRESENT (...\n",
              "582                    What is the ubiquitin proteome?  ...  ['Ubiquitin [aapp,bacs]', 'Proteome [aapp,bacs]']\n",
              "\n",
              "[5 rows x 16 columns]"
            ]
          },
          "execution_count": 8,
          "metadata": {},
          "output_type": "execute_result"
        }
      ],
      "source": [
        "df.sample(5)"
      ]
    },
    {
      "cell_type": "markdown",
      "metadata": {
        "id": "57piOv6ciA7A"
      },
      "source": [
        ""
      ]
    },
    {
      "cell_type": "markdown",
      "metadata": {
        "id": "_dHn0gosgUfL"
      },
      "source": [
        "# Formatting column names"
      ]
    },
    {
      "cell_type": "code",
      "execution_count": null,
      "metadata": {
        "id": "R71Yg-rcZ_8-"
      },
      "outputs": [],
      "source": [
        "# set column names\n",
        "col_names=['No.',\t'Question_ID',\t'Question',\t'Documents',\t'Ideal_Answer',\t'Exact_Answer',\t'Concept',\t'Labels',\t'class-1',\t'class-2',\t'class-3',\t'class-4',\t'class-5','class-6',\t'class-7',\t'class-8']\n",
        "df.columns = col_names"
      ]
    },
    {
      "cell_type": "code",
      "execution_count": null,
      "metadata": {
        "id": "29cilS7aR1Cl"
      },
      "outputs": [],
      "source": [
        "df = df[df['Labels'].notna()]"
      ]
    },
    {
      "cell_type": "code",
      "execution_count": null,
      "metadata": {
        "colab": {
          "base_uri": "https://localhost:8080/"
        },
        "id": "IPzRSdlSdvwR",
        "outputId": "04d77c94-61a5-4488-a49f-b13aafce981f"
      },
      "outputs": [
        {
          "name": "stdout",
          "output_type": "stream",
          "text": [
            "<class 'pandas.core.frame.DataFrame'>\n",
            "Int64Index: 773 entries, 0 to 780\n",
            "Data columns (total 16 columns):\n",
            " #   Column        Non-Null Count  Dtype \n",
            "---  ------        --------------  ----- \n",
            " 0   No.           773 non-null    int64 \n",
            " 1   Question_ID   773 non-null    object\n",
            " 2   Question      773 non-null    object\n",
            " 3   Documents     689 non-null    object\n",
            " 4   Ideal_Answer  696 non-null    object\n",
            " 5   Exact_Answer  689 non-null    object\n",
            " 6   Concept       552 non-null    object\n",
            " 7   Labels        773 non-null    object\n",
            " 8   class-1       773 non-null    object\n",
            " 9   class-2       359 non-null    object\n",
            " 10  class-3       119 non-null    object\n",
            " 11  class-4       31 non-null     object\n",
            " 12  class-5       13 non-null     object\n",
            " 13  class-6       5 non-null      object\n",
            " 14  class-7       2 non-null      object\n",
            " 15  class-8       2 non-null      object\n",
            "dtypes: int64(1), object(15)\n",
            "memory usage: 102.7+ KB\n"
          ]
        }
      ],
      "source": [
        "df.info()"
      ]
    },
    {
      "cell_type": "code",
      "execution_count": null,
      "metadata": {
        "id": "jcbfNphyhfMf"
      },
      "outputs": [],
      "source": [
        "# drop No. and Question_id\n",
        "df.drop(['No.', 'Question_ID'], axis=1,inplace=True)"
      ]
    },
    {
      "cell_type": "markdown",
      "metadata": {
        "id": "aWhDLBWegfxb"
      },
      "source": [
        "# EDA"
      ]
    },
    {
      "cell_type": "markdown",
      "metadata": {
        "id": "lq6lubsSNNQt"
      },
      "source": [
        "## Labels"
      ]
    },
    {
      "cell_type": "code",
      "execution_count": null,
      "metadata": {
        "id": "0udNKkYuX5SX"
      },
      "outputs": [],
      "source": [
        "#What to do with these data points ?\n",
        "df[df['class-5'].notnull()]"
      ]
    },
    {
      "cell_type": "code",
      "execution_count": null,
      "metadata": {
        "colab": {
          "base_uri": "https://localhost:8080/"
        },
        "id": "0tSPb-wV7nDC",
        "outputId": "090511f0-f52c-4d38-c93b-2283ac21ea88"
      },
      "outputs": [
        {
          "data": {
            "text/plain": [
              "factoid    409\n",
              "list       361\n",
              "Name: Labels, dtype: int64"
            ]
          },
          "execution_count": 14,
          "metadata": {},
          "output_type": "execute_result"
        }
      ],
      "source": [
        "df['Labels'].value_counts()"
      ]
    },
    {
      "cell_type": "code",
      "execution_count": null,
      "metadata": {
        "colab": {
          "base_uri": "https://localhost:8080/",
          "height": 338
        },
        "id": "29SK3Dds5iM8",
        "outputId": "291420b9-059d-413f-c677-dfdb1d788f94"
      },
      "outputs": [
        {
          "name": "stderr",
          "output_type": "stream",
          "text": [
            "/usr/local/lib/python3.7/dist-packages/seaborn/_decorators.py:43: FutureWarning: Pass the following variables as keyword args: x, y. From version 0.12, the only valid positional argument will be `data`, and passing other arguments without an explicit keyword will result in an error or misinterpretation.\n",
            "  FutureWarning\n"
          ]
        },
        {
          "data": {
            "text/plain": [
              "<matplotlib.axes._subplots.AxesSubplot at 0x7fd924216d10>"
            ]
          },
          "execution_count": 10,
          "metadata": {},
          "output_type": "execute_result"
        },
        {
          "data": {
            "image/png": "[encoded data removed]",
            "text/plain": [
              "<Figure size 432x288 with 1 Axes>"
            ]
          },
          "metadata": {},
          "output_type": "display_data"
        }
      ],
      "source": [
        "sns.barplot(df['Labels'].value_counts().index,df['Labels'].value_counts())"
      ]
    },
    {
      "cell_type": "markdown",
      "metadata": {
        "id": "3YP56KQANSAE"
      },
      "source": [
        "## class"
      ]
    },
    {
      "cell_type": "code",
      "execution_count": null,
      "metadata": {
        "colab": {
          "base_uri": "https://localhost:8080/"
        },
        "id": "dKgVYGziBj4g",
        "outputId": "78a1e6fd-9779-401a-8fa0-2f93ca49067f"
      },
      "outputs": [
        {
          "data": {
            "text/plain": [
              "umls:gngm    77\n",
              "umls:dsyn    71\n",
              "umls:enzy    64\n",
              "umls:bacs    39\n",
              "umls:sosy    39\n",
              "             ..\n",
              "umls:elii     1\n",
              "umls:tmco     1\n",
              "umls:dora     1\n",
              "umls:geoa     1\n",
              "umls:popg     1\n",
              "Name: class-1, Length: 71, dtype: int64"
            ]
          },
          "execution_count": 16,
          "metadata": {},
          "output_type": "execute_result"
        }
      ],
      "source": [
        "df['class-1'].value_counts()"
      ]
    },
    {
      "cell_type": "code",
      "execution_count": null,
      "metadata": {
        "colab": {
          "base_uri": "https://localhost:8080/",
          "height": 594
        },
        "id": "W1PTyi3tWuJo",
        "outputId": "0f66d3b5-acce-463c-ec6b-ae43d704499e"
      },
      "outputs": [
        {
          "data": {
            "text/plain": [
              "<matplotlib.axes._subplots.AxesSubplot at 0x7f733a763790>"
            ]
          },
          "execution_count": 17,
          "metadata": {},
          "output_type": "execute_result"
        },
        {
          "data": {
            "image/png": "[encoded data removed]",
            "text/plain": [
              "<Figure size 1152x648 with 1 Axes>"
            ]
          },
          "metadata": {},
          "output_type": "display_data"
        }
      ],
      "source": [
        "a4_dims = (16, 9)\n",
        "fig, ax = plt.subplots(figsize=a4_dims)\n",
        "plt.xticks(rotation=45)\n",
        "sns.barplot(df['class-1'].value_counts().index,df['class-1'].value_counts(),ax=ax)"
      ]
    },
    {
      "cell_type": "code",
      "execution_count": null,
      "metadata": {
        "id": "kAEk2TkOK3LC"
      },
      "outputs": [],
      "source": [
        "df[df['class-1'].str.contains(\"HSP20\")]"
      ]
    },
    {
      "cell_type": "code",
      "execution_count": null,
      "metadata": {
        "id": "ce46mZ-GO-yP"
      },
      "outputs": [],
      "source": [
        "df[df['class-1'].str.contains(\"http\")]"
      ]
    },
    {
      "cell_type": "code",
      "execution_count": null,
      "metadata": {
        "colab": {
          "base_uri": "https://localhost:8080/"
        },
        "id": "hcJtgC5wEVwE",
        "outputId": "7c44a2a6-4ee1-45d9-ca14-7cda31cd7651"
      },
      "outputs": [
        {
          "data": {
            "text/plain": [
              "umls:aapp          105\n",
              "umls:gngm           45\n",
              "umls:dsyn           35\n",
              "umls:qnco           28\n",
              "umls:phsu           22\n",
              "umls:clnd           18\n",
              "umls:bacs           13\n",
              "umls:rcpt            9\n",
              "umls:orch            7\n",
              "tmtool:Disease       5\n",
              "umls:nusq            4\n",
              "umls:mobd            4\n",
              "umls:phpr            4\n",
              "umls:sosy            3\n",
              "tmtool:Chemical      3\n",
              "umls:enzy            3\n",
              "umls:topp            3\n",
              "umls:tisu            3\n",
              "umls:biof            3\n",
              "umls:neop            2\n",
              "umls:diap            2\n",
              "umls:tmco            2\n",
              "umls:comd            2\n",
              "umls:bact            2\n",
              "umls:clas            2\n",
              "umls:imft            2\n",
              "umls:elii            2\n",
              "umls:genf            2\n",
              "umls:qlco            2\n",
              "umls:orgm            2\n",
              "umls:clna            1\n",
              "umls:fngs            1\n",
              "umls:orga            1\n",
              "umls:antb            1\n",
              "umls:orgf            1\n",
              "umls:chem            1\n",
              "umls:patf            1\n",
              "umls:cnce            1\n",
              "_CHOICE              1\n",
              "umls:humn            1\n",
              "umls:acty            1\n",
              "umls:spco            1\n",
              "umls:bpoc            1\n",
              "umls:blor            1\n",
              "tmtool:Gene          1\n",
              "umls:celc            1\n",
              "umls:horm            1\n",
              "umls:medd            1\n",
              "umls:cgab            1\n",
              "Name: class-2, dtype: int64"
            ]
          },
          "execution_count": 20,
          "metadata": {},
          "output_type": "execute_result"
        }
      ],
      "source": [
        "df['class-2'].value_counts()"
      ]
    },
    {
      "cell_type": "code",
      "execution_count": null,
      "metadata": {
        "colab": {
          "base_uri": "https://localhost:8080/",
          "height": 570
        },
        "id": "9nKKm6MQEPUU",
        "outputId": "88a1991d-ff09-463f-f357-7cbaaf2b5c92"
      },
      "outputs": [
        {
          "data": {
            "text/plain": [
              "<matplotlib.axes._subplots.AxesSubplot at 0x7fc74812a290>"
            ]
          },
          "execution_count": 18,
          "metadata": {},
          "output_type": "execute_result"
        },
        {
          "data": {
            "image/png": "[encoded data removed]",
            "text/plain": [
              "<Figure size 1152x648 with 1 Axes>"
            ]
          },
          "metadata": {},
          "output_type": "display_data"
        }
      ],
      "source": [
        "a4_dims = (16, 9)\n",
        "fig, ax = plt.subplots(figsize=a4_dims)\n",
        "plt.xticks(rotation=45)\n",
        "sns.barplot(df['class-2'].value_counts().index,df['class-2'].value_counts(),ax=ax)"
      ]
    },
    {
      "cell_type": "code",
      "execution_count": null,
      "metadata": {
        "colab": {
          "base_uri": "https://localhost:8080/"
        },
        "id": "z0DWXEXWF5oa",
        "outputId": "536c20be-b967-43ab-b51e-f1800b8b4972"
      },
      "outputs": [
        {
          "data": {
            "text/plain": [
              "umls:aapp         53\n",
              "umls:phsu         23\n",
              "umls:gngm         11\n",
              "umls:bacs          6\n",
              "umls:dsyn          6\n",
              "umls:clnd          5\n",
              "tmtool:Disease     1\n",
              "umls:food          1\n",
              "umls:enzy          1\n",
              "umls:lbpr          1\n",
              "umls:neop          1\n",
              "umls:mbrt          1\n",
              "umls:nusq          1\n",
              "umls:qnco          1\n",
              "umls:orgf          1\n",
              "umls:inpo          1\n",
              "umls:bdsu          1\n",
              "umls:moft          1\n",
              "umls:cgab          1\n",
              "umls:mobd          1\n",
              "Name: class-3, dtype: int64"
            ]
          },
          "execution_count": 21,
          "metadata": {},
          "output_type": "execute_result"
        }
      ],
      "source": [
        "df['class-3'].value_counts()"
      ]
    },
    {
      "cell_type": "code",
      "execution_count": null,
      "metadata": {
        "colab": {
          "base_uri": "https://localhost:8080/",
          "height": 576
        },
        "id": "80zKt3lkF-Wu",
        "outputId": "c24f009f-d10d-4c2c-f9ac-b8a86e2785b5"
      },
      "outputs": [
        {
          "data": {
            "text/plain": [
              "<matplotlib.axes._subplots.AxesSubplot at 0x7fc747f34f90>"
            ]
          },
          "execution_count": 22,
          "metadata": {},
          "output_type": "execute_result"
        },
        {
          "data": {
            "image/png": "[encoded data removed]",
            "text/plain": [
              "<Figure size 1152x648 with 1 Axes>"
            ]
          },
          "metadata": {},
          "output_type": "display_data"
        }
      ],
      "source": [
        "a4_dims = (16, 9)\n",
        "fig, ax = plt.subplots(figsize=a4_dims)\n",
        "plt.xticks(rotation=45)\n",
        "sns.barplot(df['class-3'].value_counts().index,df['class-3'].value_counts(),ax=ax)"
      ]
    },
    {
      "cell_type": "code",
      "execution_count": null,
      "metadata": {
        "colab": {
          "base_uri": "https://localhost:8080/"
        },
        "id": "HkChQfIiGTg1",
        "outputId": "b41723c4-3502-4036-9e2e-37bac663aa38"
      },
      "outputs": [
        {
          "data": {
            "text/plain": [
              "umls:aapp    10\n",
              "umls:phsu     9\n",
              "umls:gngm     2\n",
              "umls:bacs     2\n",
              "umls:mobd     1\n",
              "umls:orga     1\n",
              "umls:geoa     1\n",
              "umls:dsyn     1\n",
              "umls:topp     1\n",
              "umls:neop     1\n",
              "umls:bpoc     1\n",
              "Name: class-4, dtype: int64"
            ]
          },
          "execution_count": 24,
          "metadata": {},
          "output_type": "execute_result"
        }
      ],
      "source": [
        "df['class-4'].value_counts()"
      ]
    },
    {
      "cell_type": "code",
      "execution_count": null,
      "metadata": {
        "colab": {
          "base_uri": "https://localhost:8080/",
          "height": 564
        },
        "id": "R-UQvKEGJyK6",
        "outputId": "1d4a7ca6-4da1-433f-e778-21825e5cf0f2"
      },
      "outputs": [
        {
          "data": {
            "text/plain": [
              "<matplotlib.axes._subplots.AxesSubplot at 0x7fc747d578d0>"
            ]
          },
          "execution_count": 29,
          "metadata": {},
          "output_type": "execute_result"
        },
        {
          "data": {
            "image/png": "[encoded data removed]",
            "text/plain": [
              "<Figure size 1152x648 with 1 Axes>"
            ]
          },
          "metadata": {},
          "output_type": "display_data"
        }
      ],
      "source": [
        "a4_dims = (16, 9)\n",
        "fig, ax = plt.subplots(figsize=a4_dims)\n",
        "plt.xticks(rotation=45)\n",
        "sns.barplot(df['class-4'].value_counts().index,df['class-4'].value_counts(),ax=ax)"
      ]
    },
    {
      "cell_type": "code",
      "execution_count": null,
      "metadata": {
        "colab": {
          "base_uri": "https://localhost:8080/"
        },
        "id": "5IggKD1BGvpw",
        "outputId": "7fcbee80-0aaa-491e-e63c-4c55c0e85623"
      },
      "outputs": [
        {
          "data": {
            "text/plain": [
              "umls:aapp    4\n",
              "umls:dsyn    3\n",
              "umls:phsu    2\n",
              "umls:rcpt    1\n",
              "umls:diap    1\n",
              "umls:tmco    1\n",
              "Name: class-5, dtype: int64"
            ]
          },
          "execution_count": 25,
          "metadata": {},
          "output_type": "execute_result"
        }
      ],
      "source": [
        "df['class-5'].value_counts()"
      ]
    },
    {
      "cell_type": "code",
      "execution_count": null,
      "metadata": {
        "colab": {
          "base_uri": "https://localhost:8080/"
        },
        "id": "zgvLykgtGymA",
        "outputId": "b5f364dd-1e79-4645-cea0-e22de37bcc4e"
      },
      "outputs": [
        {
          "data": {
            "text/plain": [
              "umls:aapp    4\n",
              "umls:dsyn    3\n",
              "umls:phsu    2\n",
              "umls:rcpt    1\n",
              "umls:diap    1\n",
              "umls:tmco    1\n",
              "Name: class-5, dtype: int64"
            ]
          },
          "execution_count": 26,
          "metadata": {},
          "output_type": "execute_result"
        }
      ],
      "source": [
        "df['class-6'].value_counts()"
      ]
    },
    {
      "cell_type": "code",
      "execution_count": null,
      "metadata": {
        "colab": {
          "base_uri": "https://localhost:8080/"
        },
        "id": "XOa0dU4BG1An",
        "outputId": "598f6cf6-bf3f-4730-daf2-ef877a0176bc"
      },
      "outputs": [
        {
          "data": {
            "text/plain": [
              "umls:topp    1\n",
              "umls:phsu    1\n",
              "Name: class-7, dtype: int64"
            ]
          },
          "execution_count": 27,
          "metadata": {},
          "output_type": "execute_result"
        }
      ],
      "source": [
        "df['class-7'].value_counts()"
      ]
    },
    {
      "cell_type": "code",
      "execution_count": null,
      "metadata": {
        "colab": {
          "base_uri": "https://localhost:8080/"
        },
        "id": "KeWpZ5zkG6wo",
        "outputId": "2c995cc9-6dea-48de-8350-26aa179ecce2"
      },
      "outputs": [
        {
          "data": {
            "text/plain": [
              "umls:aapp    1\n",
              "umls:hlca    1\n",
              "Name: class-8, dtype: int64"
            ]
          },
          "execution_count": 28,
          "metadata": {},
          "output_type": "execute_result"
        }
      ],
      "source": [
        "df['class-8'].value_counts()"
      ]
    },
    {
      "cell_type": "code",
      "execution_count": null,
      "metadata": {
        "id": "UWTH0v5oxQu1"
      },
      "outputs": [],
      "source": [
        "for idx, value in enumerate(df['Question']):\n",
        "  # print(\"Question lemma:{}\".format(df['Question'].iloc[idx]))\n",
        "  print(df['Question'].iloc[idx],df['class-1'].iloc[idx],df['class-2'].iloc[idx],df['class-3'].iloc[idx],df['class-4'].iloc[idx])\n",
        "  # print(value)"
      ]
    },
    {
      "cell_type": "code",
      "execution_count": null,
      "metadata": {
        "colab": {
          "base_uri": "https://localhost:8080/"
        },
        "id": "KycYwfs_Q5q2",
        "outputId": "3b94b71a-d7ba-4420-9ad9-640e36cfa25c"
      },
      "outputs": [
        {
          "data": {
            "text/plain": [
              "class-1    umls:neop\n",
              "class-2          NaN\n",
              "Name: 5, dtype: object"
            ]
          },
          "execution_count": 42,
          "metadata": {},
          "output_type": "execute_result"
        }
      ],
      "source": [
        "df[['class-1','class-2']].iloc[5]"
      ]
    },
    {
      "cell_type": "markdown",
      "metadata": {
        "id": "X7Oenfa69pxN"
      },
      "source": [
        "# Data correction"
      ]
    },
    {
      "cell_type": "markdown",
      "metadata": {
        "id": "rGoKpcc9CXUj"
      },
      "source": [
        "## Label correction"
      ]
    },
    {
      "cell_type": "code",
      "execution_count": null,
      "metadata": {
        "id": "iPm_7NBjBU2t"
      },
      "outputs": [],
      "source": [
        "df['Labels'].loc[671] = 'factoid'\n",
        "df.drop(df[df['Labels'] == 'summary'].index,inplace=True)"
      ]
    },
    {
      "cell_type": "markdown",
      "metadata": {
        "id": "zgROwrKGM3qo"
      },
      "source": [
        "## Class data correction"
      ]
    },
    {
      "cell_type": "code",
      "execution_count": null,
      "metadata": {
        "id": "HDWsB9riM_cs"
      },
      "outputs": [],
      "source": [
        "df.drop(df[df['class-1'].str.contains(\"HSP20\")].index,inplace=True)\n",
        "df['class-1'].loc[df[df['class-1'].str.contains(\"http\")].index] = 'umls:lbpr'"
      ]
    },
    {
      "cell_type": "markdown",
      "metadata": {
        "id": "ZEV8XmUZCeOW"
      },
      "source": [
        "## Question data correction"
      ]
    },
    {
      "cell_type": "code",
      "execution_count": null,
      "metadata": {
        "id": "PlT9UQ7hQ8g9"
      },
      "outputs": [],
      "source": [
        "df['Question'][0] = 'List signaling molecules (ligands) that interact with the receptor EGFR'"
      ]
    },
    {
      "cell_type": "code",
      "execution_count": null,
      "metadata": {
        "id": "7HFpJQTZ5ZJe"
      },
      "outputs": [],
      "source": [
        "df['Question'][4] = \"List human genes encoding for the dishevelled proteins\""
      ]
    },
    {
      "cell_type": "code",
      "execution_count": null,
      "metadata": {
        "id": "pdRA-Dn4RivX"
      },
      "outputs": [],
      "source": [
        "df['Question'][57] = 'List genes that have been found mutated in CMT1A'"
      ]
    },
    {
      "cell_type": "code",
      "execution_count": null,
      "metadata": {
        "id": "PevP0kBfIqun"
      },
      "outputs": [],
      "source": [
        "df['Question'][85] = 'The protein NONO forms heterodimers With which proteins ?'"
      ]
    },
    {
      "cell_type": "code",
      "execution_count": null,
      "metadata": {
        "id": "ouu1xZ38Iovv"
      },
      "outputs": [],
      "source": [
        ""
      ]
    },
    {
      "cell_type": "markdown",
      "metadata": {
        "id": "rt3BAVuQfazA"
      },
      "source": [
        "# Tokenization"
      ]
    },
    {
      "cell_type": "markdown",
      "metadata": {
        "id": "XDBMcE5w8sVJ"
      },
      "source": [
        "Tokenization"
      ]
    },
    {
      "cell_type": "markdown",
      "metadata": {
        "id": "vcVAHxrXsr7b"
      },
      "source": [
        "Tokenization allows you to identify the basic units in your text. These basic units are called tokens. Tokenization is useful because it breaks a text into meaningful units. These units are used for further analysis, like part of speech tagging."
      ]
    },
    {
      "cell_type": "markdown",
      "metadata": {
        "id": "WdSkl4EbfiRo"
      },
      "source": [
        "# Lemmatization"
      ]
    },
    {
      "cell_type": "markdown",
      "metadata": {
        "id": "rCopXl0CtKIJ"
      },
      "source": [
        "Lemmatization"
      ]
    },
    {
      "cell_type": "markdown",
      "metadata": {
        "id": "eNsVHy3ntRUh"
      },
      "source": [
        "Lemmatization is the process of reducing inflected forms of a word while still ensuring that the reduced form belongs to the language. This reduced form or root word is called a lemma.\n",
        "\n",
        "For example, organizes, organized and organizing are all forms of organize. Here, organize is the lemma. The inflection of a word allows you to express different grammatical categories like tense (organized vs organize), number (trains vs train), and so on. Lemmatization is necessary because it helps you reduce the inflected forms of a word so that they can be analyzed as a single item. It can also help you normalize the text."
      ]
    },
    {
      "cell_type": "code",
      "execution_count": null,
      "metadata": {
        "id": "OiXotEDEHNj7"
      },
      "outputs": [],
      "source": [
        "def get_lemma(question):\n",
        "    try:\n",
        "      doc = nlp(str(question))\n",
        "      lemmetized = ' '.join([n.lemma_ for n in doc])\n",
        "      return lemmetized\n",
        "    except:\n",
        "      return None"
      ]
    },
    {
      "cell_type": "code",
      "execution_count": null,
      "metadata": {
        "colab": {
          "base_uri": "https://localhost:8080/",
          "height": 49,
          "referenced_widgets": [
            "542c1c4ec3f549f2890ca611beaa29af"
          ]
        },
        "id": "8Gn2p6VsHRbD",
        "outputId": "27840c8e-e02e-4c9f-f611-9caf64e579f5"
      },
      "outputs": [
        {
          "data": {
            "application/vnd.jupyter.widget-view+json": {
              "model_id": "542c1c4ec3f549f2890ca611beaa29af",
              "version_major": 2,
              "version_minor": 0
            },
            "text/plain": [
              "Pandas Apply:   0%|          | 0/773 [00:00<?, ?it/s]"
            ]
          },
          "metadata": {},
          "output_type": "display_data"
        }
      ],
      "source": [
        "df['Question_lemma'] = df['Question'].swifter.apply(lambda row : get_lemma(row))"
      ]
    },
    {
      "cell_type": "code",
      "execution_count": null,
      "metadata": {
        "id": "tUUYzijsqgxU"
      },
      "outputs": [],
      "source": [
        "df[['Question','Question_lemma']].to_csv(\"Qs&leamma.csv\")"
      ]
    },
    {
      "cell_type": "markdown",
      "metadata": {
        "id": "dmb5FKyKxlOl"
      },
      "source": [
        "# POS tagging"
      ]
    },
    {
      "cell_type": "markdown",
      "metadata": {
        "id": "uBNut05sxspX"
      },
      "source": [
        "Part of speech or POS is a grammatical role that explains how a particular word is used in a sentence. There are eight parts of speech:\n",
        "\n",
        "    Noun\n",
        "    Pronoun\n",
        "    Adjective\n",
        "    Verb\n",
        "    Adverb\n",
        "    Preposition\n",
        "    Conjunction\n",
        "    Interjection\n",
        "\n",
        "Part of speech tagging is the process of assigning a POS tag to each token depending on its usage in the sentence. POS tags are useful for assigning a syntactic category like noun or verb to each word.\n",
        "\n"
      ]
    },
    {
      "cell_type": "code",
      "execution_count": null,
      "metadata": {
        "id": "FoK9I6WIpmbU"
      },
      "outputs": [],
      "source": [
        "def get_pos_tag(question):\n",
        "    try:\n",
        "      doc = nlp(str(question))\n",
        "      pos_tagged = ' '.join([n.tag_ for n in doc])\n",
        "      return pos_tagged\n",
        "    except:\n",
        "      return None"
      ]
    },
    {
      "cell_type": "code",
      "execution_count": null,
      "metadata": {
        "colab": {
          "base_uri": "https://localhost:8080/",
          "height": 49,
          "referenced_widgets": [
            "3765ff97436043d7bdb31cd0e9475e42"
          ]
        },
        "id": "ausAfNNyqMoo",
        "outputId": "cc288c07-bb9f-4f6e-bb10-e94b23a44e7c"
      },
      "outputs": [
        {
          "data": {
            "application/vnd.jupyter.widget-view+json": {
              "model_id": "3765ff97436043d7bdb31cd0e9475e42",
              "version_major": 2,
              "version_minor": 0
            },
            "text/plain": [
              "Pandas Apply:   0%|          | 0/773 [00:00<?, ?it/s]"
            ]
          },
          "metadata": {},
          "output_type": "display_data"
        }
      ],
      "source": [
        "df['Question_pos_tag'] = df['Question'].swifter.apply(lambda row : get_pos_tag(row))"
      ]
    },
    {
      "cell_type": "code",
      "execution_count": null,
      "metadata": {
        "id": "z6G0IquBqahK"
      },
      "outputs": [],
      "source": [
        "df[['Question','Question_pos_tag']].to_csv(\"Qs&pos.csv\")"
      ]
    },
    {
      "cell_type": "markdown",
      "metadata": {
        "id": "AkmdNMlg4nAb"
      },
      "source": [
        "# Choice identification"
      ]
    },
    {
      "cell_type": "code",
      "execution_count": null,
      "metadata": {
        "id": "QlNH2M9t4jvu"
      },
      "outputs": [],
      "source": [
        "def is_choice(question):\n",
        "  try:    \n",
        "    doc = nlp(question)    \n",
        "    if doc[0].lemma_ == 'be':\n",
        "      # print(question)\n",
        "      return 1\n",
        "    \n",
        "    for token in doc:\n",
        "      if token.lemma_ == 'or':\n",
        "        # print(question)\n",
        "        return 1\n",
        "    \n",
        "    return 0\n",
        "\n",
        "  except:\n",
        "    return None"
      ]
    },
    {
      "cell_type": "code",
      "execution_count": null,
      "metadata": {
        "colab": {
          "base_uri": "https://localhost:8080/",
          "height": 49,
          "referenced_widgets": [
            "14a1ba2ed58b4564a19bad21738b4dc8"
          ]
        },
        "id": "bn0RCaKxtkCL",
        "outputId": "39afba3a-7736-4c7f-d7b7-2b2349c15507"
      },
      "outputs": [
        {
          "data": {
            "application/vnd.jupyter.widget-view+json": {
              "model_id": "14a1ba2ed58b4564a19bad21738b4dc8",
              "version_major": 2,
              "version_minor": 0
            },
            "text/plain": [
              "Pandas Apply:   0%|          | 0/773 [00:00<?, ?it/s]"
            ]
          },
          "metadata": {},
          "output_type": "display_data"
        }
      ],
      "source": [
        "df['Is_choice'] = df['Question'].swifter.apply(lambda row : is_choice(row))"
      ]
    },
    {
      "cell_type": "code",
      "execution_count": null,
      "metadata": {
        "colab": {
          "base_uri": "https://localhost:8080/"
        },
        "id": "bOQORDGxwtlC",
        "outputId": "b171f02f-842c-4787-d14c-44dd69f0cf6d"
      },
      "outputs": [
        {
          "data": {
            "text/plain": [
              "0    751\n",
              "1     22\n",
              "Name: Is_choice, dtype: int64"
            ]
          },
          "execution_count": 21,
          "metadata": {},
          "output_type": "execute_result"
        }
      ],
      "source": [
        "df['Is_choice'].value_counts()"
      ]
    },
    {
      "cell_type": "code",
      "execution_count": null,
      "metadata": {
        "id": "zLgnTxZ7sn58"
      },
      "outputs": [],
      "source": [
        "df[['Question','Is_choice']].to_csv(\"Qs&choice.csv\")"
      ]
    },
    {
      "cell_type": "markdown",
      "metadata": {
        "id": "gnbgaiCq0s0q"
      },
      "source": [
        "# Quantity identification"
      ]
    },
    {
      "cell_type": "code",
      "execution_count": null,
      "metadata": {
        "id": "_0t5XXKo0sJ-"
      },
      "outputs": [],
      "source": [
        "from spacy.matcher import PhraseMatcher\n",
        "phrase_matcher = PhraseMatcher(nlp.vocab)\n",
        "\n",
        "def is_quantity(question):\n",
        "  try:\n",
        "    phrases = ['how many', 'how much', 'how large', 'how long', 'diameter', 'value','rate', \n",
        "               'percentage', 'incidence', 'prevalence', 'proportion', 'number']\n",
        "    patterns = [nlp(text) for text in phrases]\n",
        "    phrase_matcher.add('Quantity', None, *patterns)    \n",
        "    sentence = nlp(question)\n",
        "    matched_phrases = phrase_matcher(sentence)\n",
        "    if matched_phrases:\n",
        "      print(question)\n",
        "      return 1\n",
        "    \n",
        "    return 0\n",
        "  \n",
        "  except:\n",
        "    return None      "
      ]
    },
    {
      "cell_type": "code",
      "execution_count": null,
      "metadata": {
        "colab": {
          "base_uri": "https://localhost:8080/",
          "height": 321,
          "referenced_widgets": [
            "b4bb42142a0542279d44a9f494288351"
          ]
        },
        "id": "-It7MCoS-ftl",
        "outputId": "c2713181-3cfa-468e-ca9f-e296726a7dc9"
      },
      "outputs": [
        {
          "data": {
            "application/vnd.jupyter.widget-view+json": {
              "model_id": "b4bb42142a0542279d44a9f494288351",
              "version_major": 2,
              "version_minor": 0
            },
            "text/plain": [
              "Pandas Apply:   0%|          | 0/773 [00:00<?, ?it/s]"
            ]
          },
          "metadata": {},
          "output_type": "display_data"
        },
        {
          "name": "stdout",
          "output_type": "stream",
          "text": [
            "What is the number of long non coding RNAs in the human genome\n",
            "What is the number of protein coding genes in the human genome?\n",
            "What is the proportion of non canonical splice sites in the human genome?\n",
            "What is the incidence of Edwards syndrom in the european population?\n",
            "What is the rate of survival after commotio cordis?\n",
            "What is the percentage of responders to tetrabenazine treatment for dystonia in children?\n",
            "What is the typical outer diameter of microtubules (tubulin heterodimers)?\n",
            "What is the average diameter of intermediate filaments?\n",
            "In what proportion of children with heart failure has Enalapril been shown to be safe and effective?\n",
            "Which is the prevalence of cystic fibrosis in the human population?\n",
            "Approximately how many recombination hotspots have been found in the yeast genome?\n",
            "What is the incidence of cystic fibrosis in the caucasian population?\n",
            "What is the incidence of sudden cardiac death among young athletes?\n",
            "What is the prevalence of short QT syndrome?\n",
            "Which value of nuchal translucency thickness is set as the threshold for high-risk for Down Syndrome?\n",
            "What is an approximate number of CTCF binding sites in the human genome?\n"
          ]
        }
      ],
      "source": [
        "df['Is_quantity'] = df['Question'].swifter.apply(lambda row : is_quantity(row))"
      ]
    },
    {
      "cell_type": "code",
      "execution_count": null,
      "metadata": {
        "colab": {
          "base_uri": "https://localhost:8080/"
        },
        "id": "OjTv6-pEC1OA",
        "outputId": "ca93b4c3-fd48-4776-dbe9-96785a217809"
      },
      "outputs": [
        {
          "data": {
            "text/plain": [
              "0    757\n",
              "1     16\n",
              "Name: Is_quantity, dtype: int64"
            ]
          },
          "execution_count": 26,
          "metadata": {},
          "output_type": "execute_result"
        }
      ],
      "source": [
        "df['Is_quantity'].value_counts()"
      ]
    },
    {
      "cell_type": "code",
      "execution_count": null,
      "metadata": {
        "id": "XFrJ8KtTzD7C"
      },
      "outputs": [],
      "source": [
        "df[['Question','Is_quantity']].to_csv(\"Qs&qntt.csv\")"
      ]
    },
    {
      "cell_type": "markdown",
      "metadata": {
        "id": "UTGptnEQfthR"
      },
      "source": [
        "# Dependency parsing"
      ]
    },
    {
      "cell_type": "markdown",
      "metadata": {
        "id": "QDjwKZvQx5Mj"
      },
      "source": [
        "Dependency parsing"
      ]
    },
    {
      "cell_type": "markdown",
      "metadata": {
        "id": "qNpz6QdPx_cd"
      },
      "source": [
        "Dependency parsing is the process of extracting the dependency parse of a sentence to represent its grammatical structure. It defines the dependency relationship between headwords and their dependents. The head of a sentence has no dependency and is called the root of the sentence. The verb is usually the head of the sentence. All other words are linked to the headword.\n",
        "\n",
        "The dependencies can be mapped in a directed graph representation:\n",
        "\n",
        "    Words are the nodes.\n",
        "    The grammatical relationships are the edges.\n",
        "\n",
        "Dependency parsing helps you know what role a word plays in the text and how different words relate to each other. It’s also used in shallow parsing and named entity recognition.\n"
      ]
    },
    {
      "cell_type": "markdown",
      "metadata": {
        "id": "QWq6YS85p6Jb"
      },
      "source": [
        "# code"
      ]
    },
    {
      "cell_type": "code",
      "execution_count": null,
      "metadata": {
        "colab": {
          "base_uri": "https://localhost:8080/"
        },
        "id": "OjqSy6QpkZAy",
        "outputId": "bdb585de-49cc-4bc5-9097-b5aa467e94af"
      },
      "outputs": [
        {
          "name": "stderr",
          "output_type": "stream",
          "text": [
            "/usr/local/lib/python3.7/dist-packages/ipykernel_launcher.py:9: DeprecationWarning: [W107] The property `Doc.is_parsed` is deprecated. Use `Doc.has_annotation(\"DEP\")` instead.\n",
            "  if __name__ == '__main__':\n"
          ]
        }
      ],
      "source": [
        "# # nlp = spacy.load('en_core_web_sm')\n",
        "\n",
        "# tokens = []\n",
        "# lemma = []\n",
        "# pos = []\n",
        "# dep = []\n",
        "# # for doc in nlp.pipe(df['species'].astype('unicode').values '''batch_size=50,n_threads=3'''):\n",
        "# for doc in nlp.pipe(df['Question'].astype('unicode').values ):\n",
        "#     if doc.is_parsed:\n",
        "#         tokens.append([n.text for n in doc])\n",
        "#         lemma.append([n.lemma_ for n in doc])\n",
        "#         pos.append([n.tag_ for n in doc])\n",
        "#         dep.append([n.dep_ for n in doc])\n",
        "#     else:\n",
        "#         # We want to make sure that the lists of parsed results have the\n",
        "#         # same number of entries of the original Dataframe, so add some blanks in case the parse fails\n",
        "#         tokens.append(None)\n",
        "#         lemma.append(None)\n",
        "#         pos.append(None)\n",
        "#         dep.append(None)\n",
        "\n",
        "# df['Question_tokens'] = tokens\n",
        "# df['Question_lemma'] = lemma\n",
        "# df['Question_pos'] = pos\n",
        "# df['Question_dep'] = dep\n"
      ]
    },
    {
      "cell_type": "code",
      "execution_count": null,
      "metadata": {
        "colab": {
          "base_uri": "https://localhost:8080/"
        },
        "id": "xC1KkiXABykX",
        "outputId": "085c58ba-c889-4975-c752-307b1ba1b06c"
      },
      "outputs": [
        {
          "data": {
            "text/plain": [
              "773"
            ]
          },
          "execution_count": 11,
          "metadata": {},
          "output_type": "execute_result"
        }
      ],
      "source": [
        "# ddata = dd.from_pandas(df, npartitions=8)\n",
        "# lemma = ddata.map_partitions(lambda df : df.apply(( lambda row : get_lemma(row.Question)) , axis=1)).compute(scheduler='processes')\n",
        "\n",
        "# len(lemma)"
      ]
    },
    {
      "cell_type": "code",
      "execution_count": null,
      "metadata": {
        "colab": {
          "base_uri": "https://localhost:8080/"
        },
        "id": "3ItsJ_VmJHoo",
        "outputId": "f754f092-0296-4560-f7c0-e1ee5b42403b"
      },
      "outputs": [
        {
          "name": "stdout",
          "output_type": "stream",
          "text": [
            "<class 'pandas.core.frame.DataFrame'>\n",
            "Int64Index: 773 entries, 0 to 780\n",
            "Data columns (total 15 columns):\n",
            " #   Column          Non-Null Count  Dtype \n",
            "---  ------          --------------  ----- \n",
            " 0   Question        773 non-null    object\n",
            " 1   Documents       689 non-null    object\n",
            " 2   Ideal_Answer    696 non-null    object\n",
            " 3   Exact_Answer    689 non-null    object\n",
            " 4   Concept         552 non-null    object\n",
            " 5   Labels          773 non-null    object\n",
            " 6   class-1         773 non-null    object\n",
            " 7   class-2         359 non-null    object\n",
            " 8   class-3         119 non-null    object\n",
            " 9   class-4         31 non-null     object\n",
            " 10  class-5         13 non-null     object\n",
            " 11  class-6         5 non-null      object\n",
            " 12  class-7         2 non-null      object\n",
            " 13  class-8         2 non-null      object\n",
            " 14  Question_lemma  773 non-null    object\n",
            "dtypes: object(15)\n",
            "memory usage: 116.6+ KB\n"
          ]
        }
      ],
      "source": [
        "df.info()"
      ]
    },
    {
      "cell_type": "code",
      "execution_count": null,
      "metadata": {
        "id": "tozChJ_0k9XU"
      },
      "outputs": [],
      "source": [
        "# df[['Question','Question_tokens','Question_lemma','Question_pos','Question_dep']].sample(5)"
      ]
    },
    {
      "cell_type": "markdown",
      "metadata": {
        "id": "xHw8ch9xXOJt"
      },
      "source": [
        "# Dependency Visualization"
      ]
    },
    {
      "cell_type": "code",
      "execution_count": null,
      "metadata": {
        "colab": {
          "base_uri": "https://localhost:8080/"
        },
        "id": "NwmMESeL6fRu",
        "outputId": "d03a715e-5395-4588-c917-9eb21c01ac15"
      },
      "outputs": [
        {
          "name": "stdout",
          "output_type": "stream",
          "text": [
            "token:List--->[] \n",
            "token:genes--->[List, found] \n",
            "token:that--->[] \n",
            "token:have--->[] \n",
            "token:been--->[] \n",
            "token:found--->[that, have, been, mutated] \n",
            "token:mutated--->[CMT1A] \n",
            "token:in--->[] \n",
            "token:CMT1A--->[in] \n"
          ]
        }
      ],
      "source": [
        "\n",
        "# nlp = spacy.load(\"en_core_web_sm\")\n",
        "doc = nlp(\"List genes that have been found mutated in CMT1A\")\n",
        "\n",
        "for token in doc:\n",
        "    print(\"token:{}--->{} \".format(token.text,[child for child in token.children]))"
      ]
    },
    {
      "cell_type": "code",
      "execution_count": null,
      "metadata": {
        "colab": {
          "base_uri": "https://localhost:8080/",
          "height": 633
        },
        "id": "STqJmiU9hKhm",
        "outputId": "d27497d6-3b5b-473d-9838-d100de47621e"
      },
      "outputs": [
        {
          "name": "stdout",
          "output_type": "stream",
          "text": [
            "3.0.7\n"
          ]
        },
        {
          "data": {
            "text/html": [
              "<span class=\"tex2jax_ignore\"><svg xmlns=\"http://www.w3.org/2000/svg\" xmlns:xlink=\"http://www.w3.org/1999/xlink\" xml:lang=\"en\" id=\"863daf716ee9419bb3b269c060e73284-0\" class=\"displacy\" width=\"1975\" height=\"574.5\" direction=\"ltr\" style=\"max-width: none; height: 574.5px; color: #000000; background: #ffffff; font-family: Arial; direction: ltr\">\n",
              "<text class=\"displacy-token\" fill=\"currentColor\" text-anchor=\"middle\" y=\"484.5\">\n",
              "    <tspan class=\"displacy-word\" fill=\"currentColor\" x=\"50\">Which</tspan>\n",
              "    <tspan class=\"displacy-tag\" dy=\"2em\" fill=\"currentColor\" x=\"50\">DET</tspan>\n",
              "</text>\n",
              "\n",
              "<text class=\"displacy-token\" fill=\"currentColor\" text-anchor=\"middle\" y=\"484.5\">\n",
              "    <tspan class=\"displacy-word\" fill=\"currentColor\" x=\"225\">thyroid</tspan>\n",
              "    <tspan class=\"displacy-tag\" dy=\"2em\" fill=\"currentColor\" x=\"225\">NOUN</tspan>\n",
              "</text>\n",
              "\n",
              "<text class=\"displacy-token\" fill=\"currentColor\" text-anchor=\"middle\" y=\"484.5\">\n",
              "    <tspan class=\"displacy-word\" fill=\"currentColor\" x=\"400\">hormone</tspan>\n",
              "    <tspan class=\"displacy-tag\" dy=\"2em\" fill=\"currentColor\" x=\"400\">NOUN</tspan>\n",
              "</text>\n",
              "\n",
              "<text class=\"displacy-token\" fill=\"currentColor\" text-anchor=\"middle\" y=\"484.5\">\n",
              "    <tspan class=\"displacy-word\" fill=\"currentColor\" x=\"575\">transporter</tspan>\n",
              "    <tspan class=\"displacy-tag\" dy=\"2em\" fill=\"currentColor\" x=\"575\">NOUN</tspan>\n",
              "</text>\n",
              "\n",
              "<text class=\"displacy-token\" fill=\"currentColor\" text-anchor=\"middle\" y=\"484.5\">\n",
              "    <tspan class=\"displacy-word\" fill=\"currentColor\" x=\"750\">be</tspan>\n",
              "    <tspan class=\"displacy-tag\" dy=\"2em\" fill=\"currentColor\" x=\"750\">VERB</tspan>\n",
              "</text>\n",
              "\n",
              "<text class=\"displacy-token\" fill=\"currentColor\" text-anchor=\"middle\" y=\"484.5\">\n",
              "    <tspan class=\"displacy-word\" fill=\"currentColor\" x=\"925\">implicate</tspan>\n",
              "    <tspan class=\"displacy-tag\" dy=\"2em\" fill=\"currentColor\" x=\"925\">VERB</tspan>\n",
              "</text>\n",
              "\n",
              "<text class=\"displacy-token\" fill=\"currentColor\" text-anchor=\"middle\" y=\"484.5\">\n",
              "    <tspan class=\"displacy-word\" fill=\"currentColor\" x=\"1100\">in</tspan>\n",
              "    <tspan class=\"displacy-tag\" dy=\"2em\" fill=\"currentColor\" x=\"1100\">ADP</tspan>\n",
              "</text>\n",
              "\n",
              "<text class=\"displacy-token\" fill=\"currentColor\" text-anchor=\"middle\" y=\"484.5\">\n",
              "    <tspan class=\"displacy-word\" fill=\"currentColor\" x=\"1275\">thyroid</tspan>\n",
              "    <tspan class=\"displacy-tag\" dy=\"2em\" fill=\"currentColor\" x=\"1275\">NOUN</tspan>\n",
              "</text>\n",
              "\n",
              "<text class=\"displacy-token\" fill=\"currentColor\" text-anchor=\"middle\" y=\"484.5\">\n",
              "    <tspan class=\"displacy-word\" fill=\"currentColor\" x=\"1450\">hormone</tspan>\n",
              "    <tspan class=\"displacy-tag\" dy=\"2em\" fill=\"currentColor\" x=\"1450\">NOUN</tspan>\n",
              "</text>\n",
              "\n",
              "<text class=\"displacy-token\" fill=\"currentColor\" text-anchor=\"middle\" y=\"484.5\">\n",
              "    <tspan class=\"displacy-word\" fill=\"currentColor\" x=\"1625\">resistence</tspan>\n",
              "    <tspan class=\"displacy-tag\" dy=\"2em\" fill=\"currentColor\" x=\"1625\">NOUN</tspan>\n",
              "</text>\n",
              "\n",
              "<text class=\"displacy-token\" fill=\"currentColor\" text-anchor=\"middle\" y=\"484.5\">\n",
              "    <tspan class=\"displacy-word\" fill=\"currentColor\" x=\"1800\">syndrome?</tspan>\n",
              "    <tspan class=\"displacy-tag\" dy=\"2em\" fill=\"currentColor\" x=\"1800\">NOUN</tspan>\n",
              "</text>\n",
              "\n",
              "<g class=\"displacy-arrow\">\n",
              "    <path class=\"displacy-arc\" id=\"arrow-863daf716ee9419bb3b269c060e73284-0-0\" stroke-width=\"2px\" d=\"M70,439.5 C70,177.0 565.0,177.0 565.0,439.5\" fill=\"none\" stroke=\"currentColor\"/>\n",
              "    <text dy=\"1.25em\" style=\"font-size: 0.8em; letter-spacing: 1px\">\n",
              "        <textPath xlink:href=\"#arrow-863daf716ee9419bb3b269c060e73284-0-0\" class=\"displacy-label\" startOffset=\"50%\" side=\"left\" fill=\"currentColor\" text-anchor=\"middle\">det</textPath>\n",
              "    </text>\n",
              "    <path class=\"displacy-arrowhead\" d=\"M70,441.5 L62,429.5 78,429.5\" fill=\"currentColor\"/>\n",
              "</g>\n",
              "\n",
              "<g class=\"displacy-arrow\">\n",
              "    <path class=\"displacy-arc\" id=\"arrow-863daf716ee9419bb3b269c060e73284-0-1\" stroke-width=\"2px\" d=\"M245,439.5 C245,264.5 560.0,264.5 560.0,439.5\" fill=\"none\" stroke=\"currentColor\"/>\n",
              "    <text dy=\"1.25em\" style=\"font-size: 0.8em; letter-spacing: 1px\">\n",
              "        <textPath xlink:href=\"#arrow-863daf716ee9419bb3b269c060e73284-0-1\" class=\"displacy-label\" startOffset=\"50%\" side=\"left\" fill=\"currentColor\" text-anchor=\"middle\">compound</textPath>\n",
              "    </text>\n",
              "    <path class=\"displacy-arrowhead\" d=\"M245,441.5 L237,429.5 253,429.5\" fill=\"currentColor\"/>\n",
              "</g>\n",
              "\n",
              "<g class=\"displacy-arrow\">\n",
              "    <path class=\"displacy-arc\" id=\"arrow-863daf716ee9419bb3b269c060e73284-0-2\" stroke-width=\"2px\" d=\"M420,439.5 C420,352.0 555.0,352.0 555.0,439.5\" fill=\"none\" stroke=\"currentColor\"/>\n",
              "    <text dy=\"1.25em\" style=\"font-size: 0.8em; letter-spacing: 1px\">\n",
              "        <textPath xlink:href=\"#arrow-863daf716ee9419bb3b269c060e73284-0-2\" class=\"displacy-label\" startOffset=\"50%\" side=\"left\" fill=\"currentColor\" text-anchor=\"middle\">compound</textPath>\n",
              "    </text>\n",
              "    <path class=\"displacy-arrowhead\" d=\"M420,441.5 L412,429.5 428,429.5\" fill=\"currentColor\"/>\n",
              "</g>\n",
              "\n",
              "<g class=\"displacy-arrow\">\n",
              "    <path class=\"displacy-arc\" id=\"arrow-863daf716ee9419bb3b269c060e73284-0-3\" stroke-width=\"2px\" d=\"M595,439.5 C595,264.5 910.0,264.5 910.0,439.5\" fill=\"none\" stroke=\"currentColor\"/>\n",
              "    <text dy=\"1.25em\" style=\"font-size: 0.8em; letter-spacing: 1px\">\n",
              "        <textPath xlink:href=\"#arrow-863daf716ee9419bb3b269c060e73284-0-3\" class=\"displacy-label\" startOffset=\"50%\" side=\"left\" fill=\"currentColor\" text-anchor=\"middle\">nsubjpass</textPath>\n",
              "    </text>\n",
              "    <path class=\"displacy-arrowhead\" d=\"M595,441.5 L587,429.5 603,429.5\" fill=\"currentColor\"/>\n",
              "</g>\n",
              "\n",
              "<g class=\"displacy-arrow\">\n",
              "    <path class=\"displacy-arc\" id=\"arrow-863daf716ee9419bb3b269c060e73284-0-4\" stroke-width=\"2px\" d=\"M770,439.5 C770,352.0 905.0,352.0 905.0,439.5\" fill=\"none\" stroke=\"currentColor\"/>\n",
              "    <text dy=\"1.25em\" style=\"font-size: 0.8em; letter-spacing: 1px\">\n",
              "        <textPath xlink:href=\"#arrow-863daf716ee9419bb3b269c060e73284-0-4\" class=\"displacy-label\" startOffset=\"50%\" side=\"left\" fill=\"currentColor\" text-anchor=\"middle\">auxpass</textPath>\n",
              "    </text>\n",
              "    <path class=\"displacy-arrowhead\" d=\"M770,441.5 L762,429.5 778,429.5\" fill=\"currentColor\"/>\n",
              "</g>\n",
              "\n",
              "<g class=\"displacy-arrow\">\n",
              "    <path class=\"displacy-arc\" id=\"arrow-863daf716ee9419bb3b269c060e73284-0-5\" stroke-width=\"2px\" d=\"M1120,439.5 C1120,89.5 1795.0,89.5 1795.0,439.5\" fill=\"none\" stroke=\"currentColor\"/>\n",
              "    <text dy=\"1.25em\" style=\"font-size: 0.8em; letter-spacing: 1px\">\n",
              "        <textPath xlink:href=\"#arrow-863daf716ee9419bb3b269c060e73284-0-5\" class=\"displacy-label\" startOffset=\"50%\" side=\"left\" fill=\"currentColor\" text-anchor=\"middle\">case</textPath>\n",
              "    </text>\n",
              "    <path class=\"displacy-arrowhead\" d=\"M1120,441.5 L1112,429.5 1128,429.5\" fill=\"currentColor\"/>\n",
              "</g>\n",
              "\n",
              "<g class=\"displacy-arrow\">\n",
              "    <path class=\"displacy-arc\" id=\"arrow-863daf716ee9419bb3b269c060e73284-0-6\" stroke-width=\"2px\" d=\"M1295,439.5 C1295,177.0 1790.0,177.0 1790.0,439.5\" fill=\"none\" stroke=\"currentColor\"/>\n",
              "    <text dy=\"1.25em\" style=\"font-size: 0.8em; letter-spacing: 1px\">\n",
              "        <textPath xlink:href=\"#arrow-863daf716ee9419bb3b269c060e73284-0-6\" class=\"displacy-label\" startOffset=\"50%\" side=\"left\" fill=\"currentColor\" text-anchor=\"middle\">compound</textPath>\n",
              "    </text>\n",
              "    <path class=\"displacy-arrowhead\" d=\"M1295,441.5 L1287,429.5 1303,429.5\" fill=\"currentColor\"/>\n",
              "</g>\n",
              "\n",
              "<g class=\"displacy-arrow\">\n",
              "    <path class=\"displacy-arc\" id=\"arrow-863daf716ee9419bb3b269c060e73284-0-7\" stroke-width=\"2px\" d=\"M1470,439.5 C1470,264.5 1785.0,264.5 1785.0,439.5\" fill=\"none\" stroke=\"currentColor\"/>\n",
              "    <text dy=\"1.25em\" style=\"font-size: 0.8em; letter-spacing: 1px\">\n",
              "        <textPath xlink:href=\"#arrow-863daf716ee9419bb3b269c060e73284-0-7\" class=\"displacy-label\" startOffset=\"50%\" side=\"left\" fill=\"currentColor\" text-anchor=\"middle\">compound</textPath>\n",
              "    </text>\n",
              "    <path class=\"displacy-arrowhead\" d=\"M1470,441.5 L1462,429.5 1478,429.5\" fill=\"currentColor\"/>\n",
              "</g>\n",
              "\n",
              "<g class=\"displacy-arrow\">\n",
              "    <path class=\"displacy-arc\" id=\"arrow-863daf716ee9419bb3b269c060e73284-0-8\" stroke-width=\"2px\" d=\"M1645,439.5 C1645,352.0 1780.0,352.0 1780.0,439.5\" fill=\"none\" stroke=\"currentColor\"/>\n",
              "    <text dy=\"1.25em\" style=\"font-size: 0.8em; letter-spacing: 1px\">\n",
              "        <textPath xlink:href=\"#arrow-863daf716ee9419bb3b269c060e73284-0-8\" class=\"displacy-label\" startOffset=\"50%\" side=\"left\" fill=\"currentColor\" text-anchor=\"middle\">compound</textPath>\n",
              "    </text>\n",
              "    <path class=\"displacy-arrowhead\" d=\"M1645,441.5 L1637,429.5 1653,429.5\" fill=\"currentColor\"/>\n",
              "</g>\n",
              "\n",
              "<g class=\"displacy-arrow\">\n",
              "    <path class=\"displacy-arc\" id=\"arrow-863daf716ee9419bb3b269c060e73284-0-9\" stroke-width=\"2px\" d=\"M945,439.5 C945,2.0 1800.0,2.0 1800.0,439.5\" fill=\"none\" stroke=\"currentColor\"/>\n",
              "    <text dy=\"1.25em\" style=\"font-size: 0.8em; letter-spacing: 1px\">\n",
              "        <textPath xlink:href=\"#arrow-863daf716ee9419bb3b269c060e73284-0-9\" class=\"displacy-label\" startOffset=\"50%\" side=\"left\" fill=\"currentColor\" text-anchor=\"middle\">nmod</textPath>\n",
              "    </text>\n",
              "    <path class=\"displacy-arrowhead\" d=\"M1800.0,441.5 L1808.0,429.5 1792.0,429.5\" fill=\"currentColor\"/>\n",
              "</g>\n",
              "</svg></span>"
            ],
            "text/plain": [
              "<IPython.core.display.HTML object>"
            ]
          },
          "metadata": {},
          "output_type": "display_data"
        }
      ],
      "source": [
        "# %%writefile de_viz.py\n",
        "\n",
        "import spacy\n",
        "from spacy import displacy\n",
        "print(spacy.__version__)\n",
        "\n",
        "# nlp = spacy.load('en_core_web_sm')\n",
        "# doc = nlp(\"List signaling molecules (ligands) that interact with the receptor EGFR?\")\n",
        "doc = nlp(\"Which thyroid hormone transporter be implicate in thyroid hormone resistence syndrome?\")\n",
        "displacy.render(doc,jupyter=True, style=\"dep\")"
      ]
    },
    {
      "cell_type": "code",
      "execution_count": null,
      "metadata": {
        "colab": {
          "base_uri": "https://localhost:8080/",
          "height": 441
        },
        "id": "sr-ytUCYyTHf",
        "outputId": "2b5e8b0c-14e2-490d-a219-719366f5604a"
      },
      "outputs": [
        {
          "data": {
            "text/html": [
              "<span class=\"tex2jax_ignore\"><svg xmlns=\"http://www.w3.org/2000/svg\" xmlns:xlink=\"http://www.w3.org/1999/xlink\" xml:lang=\"en\" id=\"335bb033653645329d45f3e2b5f2999f-0\" class=\"displacy\" width=\"1800\" height=\"399.5\" direction=\"ltr\" style=\"max-width: none; height: 399.5px; color: #000000; background: #ffffff; font-family: Arial; direction: ltr\">\n",
              "<text class=\"displacy-token\" fill=\"currentColor\" text-anchor=\"middle\" y=\"309.5\">\n",
              "    <tspan class=\"displacy-word\" fill=\"currentColor\" x=\"50\">List</tspan>\n",
              "    <tspan class=\"displacy-tag\" dy=\"2em\" fill=\"currentColor\" x=\"50\">NOUN</tspan>\n",
              "</text>\n",
              "\n",
              "<text class=\"displacy-token\" fill=\"currentColor\" text-anchor=\"middle\" y=\"309.5\">\n",
              "    <tspan class=\"displacy-word\" fill=\"currentColor\" x=\"225\">signaling</tspan>\n",
              "    <tspan class=\"displacy-tag\" dy=\"2em\" fill=\"currentColor\" x=\"225\">VERB</tspan>\n",
              "</text>\n",
              "\n",
              "<text class=\"displacy-token\" fill=\"currentColor\" text-anchor=\"middle\" y=\"309.5\">\n",
              "    <tspan class=\"displacy-word\" fill=\"currentColor\" x=\"400\">molecules (</tspan>\n",
              "    <tspan class=\"displacy-tag\" dy=\"2em\" fill=\"currentColor\" x=\"400\">NOUN</tspan>\n",
              "</text>\n",
              "\n",
              "<text class=\"displacy-token\" fill=\"currentColor\" text-anchor=\"middle\" y=\"309.5\">\n",
              "    <tspan class=\"displacy-word\" fill=\"currentColor\" x=\"575\">ligands)</tspan>\n",
              "    <tspan class=\"displacy-tag\" dy=\"2em\" fill=\"currentColor\" x=\"575\">NOUN</tspan>\n",
              "</text>\n",
              "\n",
              "<text class=\"displacy-token\" fill=\"currentColor\" text-anchor=\"middle\" y=\"309.5\">\n",
              "    <tspan class=\"displacy-word\" fill=\"currentColor\" x=\"750\">that</tspan>\n",
              "    <tspan class=\"displacy-tag\" dy=\"2em\" fill=\"currentColor\" x=\"750\">DET</tspan>\n",
              "</text>\n",
              "\n",
              "<text class=\"displacy-token\" fill=\"currentColor\" text-anchor=\"middle\" y=\"309.5\">\n",
              "    <tspan class=\"displacy-word\" fill=\"currentColor\" x=\"925\">interact</tspan>\n",
              "    <tspan class=\"displacy-tag\" dy=\"2em\" fill=\"currentColor\" x=\"925\">VERB</tspan>\n",
              "</text>\n",
              "\n",
              "<text class=\"displacy-token\" fill=\"currentColor\" text-anchor=\"middle\" y=\"309.5\">\n",
              "    <tspan class=\"displacy-word\" fill=\"currentColor\" x=\"1100\">with</tspan>\n",
              "    <tspan class=\"displacy-tag\" dy=\"2em\" fill=\"currentColor\" x=\"1100\">ADP</tspan>\n",
              "</text>\n",
              "\n",
              "<text class=\"displacy-token\" fill=\"currentColor\" text-anchor=\"middle\" y=\"309.5\">\n",
              "    <tspan class=\"displacy-word\" fill=\"currentColor\" x=\"1275\">the</tspan>\n",
              "    <tspan class=\"displacy-tag\" dy=\"2em\" fill=\"currentColor\" x=\"1275\">DET</tspan>\n",
              "</text>\n",
              "\n",
              "<text class=\"displacy-token\" fill=\"currentColor\" text-anchor=\"middle\" y=\"309.5\">\n",
              "    <tspan class=\"displacy-word\" fill=\"currentColor\" x=\"1450\">receptor</tspan>\n",
              "    <tspan class=\"displacy-tag\" dy=\"2em\" fill=\"currentColor\" x=\"1450\">NOUN</tspan>\n",
              "</text>\n",
              "\n",
              "<text class=\"displacy-token\" fill=\"currentColor\" text-anchor=\"middle\" y=\"309.5\">\n",
              "    <tspan class=\"displacy-word\" fill=\"currentColor\" x=\"1625\">EGFR?</tspan>\n",
              "    <tspan class=\"displacy-tag\" dy=\"2em\" fill=\"currentColor\" x=\"1625\">PROPN</tspan>\n",
              "</text>\n",
              "\n",
              "<g class=\"displacy-arrow\">\n",
              "    <path class=\"displacy-arc\" id=\"arrow-335bb033653645329d45f3e2b5f2999f-0-0\" stroke-width=\"2px\" d=\"M70,264.5 C70,177.0 215.0,177.0 215.0,264.5\" fill=\"none\" stroke=\"currentColor\"/>\n",
              "    <text dy=\"1.25em\" style=\"font-size: 0.8em; letter-spacing: 1px\">\n",
              "        <textPath xlink:href=\"#arrow-335bb033653645329d45f3e2b5f2999f-0-0\" class=\"displacy-label\" startOffset=\"50%\" side=\"left\" fill=\"currentColor\" text-anchor=\"middle\">acl</textPath>\n",
              "    </text>\n",
              "    <path class=\"displacy-arrowhead\" d=\"M215.0,266.5 L223.0,254.5 207.0,254.5\" fill=\"currentColor\"/>\n",
              "</g>\n",
              "\n",
              "<g class=\"displacy-arrow\">\n",
              "    <path class=\"displacy-arc\" id=\"arrow-335bb033653645329d45f3e2b5f2999f-0-1\" stroke-width=\"2px\" d=\"M245,264.5 C245,177.0 390.0,177.0 390.0,264.5\" fill=\"none\" stroke=\"currentColor\"/>\n",
              "    <text dy=\"1.25em\" style=\"font-size: 0.8em; letter-spacing: 1px\">\n",
              "        <textPath xlink:href=\"#arrow-335bb033653645329d45f3e2b5f2999f-0-1\" class=\"displacy-label\" startOffset=\"50%\" side=\"left\" fill=\"currentColor\" text-anchor=\"middle\">dobj</textPath>\n",
              "    </text>\n",
              "    <path class=\"displacy-arrowhead\" d=\"M390.0,266.5 L398.0,254.5 382.0,254.5\" fill=\"currentColor\"/>\n",
              "</g>\n",
              "\n",
              "<g class=\"displacy-arrow\">\n",
              "    <path class=\"displacy-arc\" id=\"arrow-335bb033653645329d45f3e2b5f2999f-0-2\" stroke-width=\"2px\" d=\"M420,264.5 C420,177.0 565.0,177.0 565.0,264.5\" fill=\"none\" stroke=\"currentColor\"/>\n",
              "    <text dy=\"1.25em\" style=\"font-size: 0.8em; letter-spacing: 1px\">\n",
              "        <textPath xlink:href=\"#arrow-335bb033653645329d45f3e2b5f2999f-0-2\" class=\"displacy-label\" startOffset=\"50%\" side=\"left\" fill=\"currentColor\" text-anchor=\"middle\">appos</textPath>\n",
              "    </text>\n",
              "    <path class=\"displacy-arrowhead\" d=\"M565.0,266.5 L573.0,254.5 557.0,254.5\" fill=\"currentColor\"/>\n",
              "</g>\n",
              "\n",
              "<g class=\"displacy-arrow\">\n",
              "    <path class=\"displacy-arc\" id=\"arrow-335bb033653645329d45f3e2b5f2999f-0-3\" stroke-width=\"2px\" d=\"M770,264.5 C770,177.0 915.0,177.0 915.0,264.5\" fill=\"none\" stroke=\"currentColor\"/>\n",
              "    <text dy=\"1.25em\" style=\"font-size: 0.8em; letter-spacing: 1px\">\n",
              "        <textPath xlink:href=\"#arrow-335bb033653645329d45f3e2b5f2999f-0-3\" class=\"displacy-label\" startOffset=\"50%\" side=\"left\" fill=\"currentColor\" text-anchor=\"middle\">nsubj</textPath>\n",
              "    </text>\n",
              "    <path class=\"displacy-arrowhead\" d=\"M770,266.5 L762,254.5 778,254.5\" fill=\"currentColor\"/>\n",
              "</g>\n",
              "\n",
              "<g class=\"displacy-arrow\">\n",
              "    <path class=\"displacy-arc\" id=\"arrow-335bb033653645329d45f3e2b5f2999f-0-4\" stroke-width=\"2px\" d=\"M945,264.5 C945,177.0 1090.0,177.0 1090.0,264.5\" fill=\"none\" stroke=\"currentColor\"/>\n",
              "    <text dy=\"1.25em\" style=\"font-size: 0.8em; letter-spacing: 1px\">\n",
              "        <textPath xlink:href=\"#arrow-335bb033653645329d45f3e2b5f2999f-0-4\" class=\"displacy-label\" startOffset=\"50%\" side=\"left\" fill=\"currentColor\" text-anchor=\"middle\">prep</textPath>\n",
              "    </text>\n",
              "    <path class=\"displacy-arrowhead\" d=\"M1090.0,266.5 L1098.0,254.5 1082.0,254.5\" fill=\"currentColor\"/>\n",
              "</g>\n",
              "\n",
              "<g class=\"displacy-arrow\">\n",
              "    <path class=\"displacy-arc\" id=\"arrow-335bb033653645329d45f3e2b5f2999f-0-5\" stroke-width=\"2px\" d=\"M1295,264.5 C1295,89.5 1620.0,89.5 1620.0,264.5\" fill=\"none\" stroke=\"currentColor\"/>\n",
              "    <text dy=\"1.25em\" style=\"font-size: 0.8em; letter-spacing: 1px\">\n",
              "        <textPath xlink:href=\"#arrow-335bb033653645329d45f3e2b5f2999f-0-5\" class=\"displacy-label\" startOffset=\"50%\" side=\"left\" fill=\"currentColor\" text-anchor=\"middle\">det</textPath>\n",
              "    </text>\n",
              "    <path class=\"displacy-arrowhead\" d=\"M1295,266.5 L1287,254.5 1303,254.5\" fill=\"currentColor\"/>\n",
              "</g>\n",
              "\n",
              "<g class=\"displacy-arrow\">\n",
              "    <path class=\"displacy-arc\" id=\"arrow-335bb033653645329d45f3e2b5f2999f-0-6\" stroke-width=\"2px\" d=\"M1470,264.5 C1470,177.0 1615.0,177.0 1615.0,264.5\" fill=\"none\" stroke=\"currentColor\"/>\n",
              "    <text dy=\"1.25em\" style=\"font-size: 0.8em; letter-spacing: 1px\">\n",
              "        <textPath xlink:href=\"#arrow-335bb033653645329d45f3e2b5f2999f-0-6\" class=\"displacy-label\" startOffset=\"50%\" side=\"left\" fill=\"currentColor\" text-anchor=\"middle\">compound</textPath>\n",
              "    </text>\n",
              "    <path class=\"displacy-arrowhead\" d=\"M1470,266.5 L1462,254.5 1478,254.5\" fill=\"currentColor\"/>\n",
              "</g>\n",
              "\n",
              "<g class=\"displacy-arrow\">\n",
              "    <path class=\"displacy-arc\" id=\"arrow-335bb033653645329d45f3e2b5f2999f-0-7\" stroke-width=\"2px\" d=\"M1120,264.5 C1120,2.0 1625.0,2.0 1625.0,264.5\" fill=\"none\" stroke=\"currentColor\"/>\n",
              "    <text dy=\"1.25em\" style=\"font-size: 0.8em; letter-spacing: 1px\">\n",
              "        <textPath xlink:href=\"#arrow-335bb033653645329d45f3e2b5f2999f-0-7\" class=\"displacy-label\" startOffset=\"50%\" side=\"left\" fill=\"currentColor\" text-anchor=\"middle\">pobj</textPath>\n",
              "    </text>\n",
              "    <path class=\"displacy-arrowhead\" d=\"M1625.0,266.5 L1633.0,254.5 1617.0,254.5\" fill=\"currentColor\"/>\n",
              "</g>\n",
              "</svg></span>"
            ],
            "text/plain": [
              "<IPython.core.display.HTML object>"
            ]
          },
          "metadata": {
            "tags": []
          },
          "output_type": "display_data"
        }
      ],
      "source": [
        "doc = nlp('List signaling molecules (ligands) that interact with the receptor EGFR?')\n",
        "displacy.render(doc,jupyter=True, style=\"dep\")"
      ]
    },
    {
      "cell_type": "code",
      "execution_count": null,
      "metadata": {
        "id": "vc5acMZXOe1o"
      },
      "outputs": [],
      "source": [
        ""
      ]
    },
    {
      "cell_type": "markdown",
      "metadata": {
        "id": "lymwSA8nOfuG"
      },
      "source": [
        "# Others"
      ]
    },
    {
      "cell_type": "code",
      "execution_count": null,
      "metadata": {
        "colab": {
          "base_uri": "https://localhost:8080/"
        },
        "id": "k5ebV_zWCrou",
        "outputId": "d5b5221f-34af-4534-96c0-a3e4d1ff733f"
      },
      "outputs": [
        {
          "name": "stdout",
          "output_type": "stream",
          "text": [
            "0\n",
            "1\n"
          ]
        }
      ],
      "source": [
        "droot_count= 0\n",
        "for idx,deps in enumerate(df['Question_dep']):\n",
        "  if deps.count('ROOT') > 1:\n",
        "    print(idx)\n",
        "    droot_count+=1\n",
        "\n",
        "print(droot_count)"
      ]
    },
    {
      "cell_type": "code",
      "execution_count": null,
      "metadata": {
        "colab": {
          "base_uri": "https://localhost:8080/"
        },
        "id": "B5Ha5qW6PePo",
        "outputId": "dfa47d76-51f2-48d3-d3af-11432ca34baf"
      },
      "outputs": [
        {
          "name": "stdout",
          "output_type": "stream",
          "text": [
            "0 ['List', 'signaling', 'molecules', '(', 'ligands', ')', 'that', 'interact', 'with', 'the', 'receptor', 'EGFR', '?']\n",
            "4 ['List', 'the', 'human', 'genes', 'encoding', 'for', 'the', 'dishevelled', 'proteins', '?']\n",
            "17 ['List', 'the', 'endoscopic', 'diagnoses', 'that', 'have', 'been', 'reported', 'in', 'children', 'with', 'autism']\n",
            "21 ['List', 'Hemolytic', 'Uremic', 'Syndrome', 'Triad', '.']\n",
            "35 ['List', 'side', 'effects', 'of', 'SGLT2', 'inhibitors', '?']\n",
            "38 ['List', 'symptoms', 'of', 'the', 'IFAP', 'syndrome', '.']\n",
            "41 ['List', 'two', 'common', 'features', 'of', 'Tay', 'syndrome', '.']\n",
            "55 ['List', 'genes', 'that', 'have', 'been', 'found', 'mutated', 'in', 'CMT1A']\n",
            "63 ['List', 'symptoms', 'of', '4H', 'leukodystrophy', '.']\n",
            "74 ['List', 'markers', 'for', 'autophagy', '.']\n",
            "86 ['List', 'human', 'proteins', 'that', 'are', 'subject', 'to', 'a', 'dimer', '-', 'to', '-', 'tetramer', 'transition', '.']\n",
            "11\n",
            "[0, 4, 17, 21, 35, 38, 41, 55, 63, 74, 86]\n"
          ]
        }
      ],
      "source": [
        "listq_count= 0\n",
        "listq_idx = []\n",
        "for idx,question in enumerate(df['Question']):\n",
        "  doc = nlp(question)\n",
        "  tokens = [n.text for n in doc]\n",
        "  if tokens[0].lower()=='list':\n",
        "    print(idx,tokens)\n",
        "    listq_count+=1\n",
        "    listq_idx.append(idx)\n",
        "\n",
        "\n",
        "print(listq_count)\n",
        "print(listq_idx)"
      ]
    },
    {
      "cell_type": "markdown",
      "metadata": {
        "id": "FakcUCOrf0AK"
      },
      "source": [
        "# focus identification"
      ]
    },
    {
      "cell_type": "code",
      "execution_count": null,
      "metadata": {
        "id": "qCWTsSxubi0q"
      },
      "outputs": [],
      "source": [
        "def get_root(doc):\n",
        "  # q_root = [n.lemma_ for n in doc if n.dep_ == 'ROOT']\n",
        "  q_root = [n for n in doc if n.dep_ == 'ROOT']\n",
        "  # print(\"root word:{}\".format(q_root[0].lemma_))\n",
        "  return q_root[0]\n",
        "\n",
        "def focus_extraction(question):\n",
        "  try:\n",
        "    noun_pos_tag_list=['NN','NNP','NNS','NNPS']\n",
        "    # noun_pos_tag_list=['NN','NNP','NNS','NNPS','VB']# added VERB\n",
        "\n",
        "    focus = None\n",
        "    # parsedQuestionTokens=[]\n",
        "    doc = nlp(question)\n",
        "    root = get_root(doc)\n",
        "    \n",
        "    for token in doc:\n",
        "      # parsedQuestionTokens.append(token.text)\n",
        "      if token.head != None:\n",
        "        if token.head.lemma_ == root.lemma_ and token.tag_ in noun_pos_tag_list:\n",
        "          focus = token\n",
        "          # print(\"question focus:{}\".format(focus.lemma_))\n",
        "          break\n",
        "\n",
        "      if doc[0].lemma_ == 'list':\n",
        "        if focus != None or focus.lemma_ == 'list':\n",
        "          focus = root\n",
        "          # print(\"focus (list question): {}\".format(focus))\n",
        "    # print(\"focus:{}\".format(focus))\n",
        "    return focus\n",
        "  except Exception:\n",
        "    # print(traceback.format_exc())\n",
        "    return None"
      ]
    },
    {
      "cell_type": "code",
      "execution_count": null,
      "metadata": {
        "id": "fD-AiTAYYTof"
      },
      "outputs": [],
      "source": [
        "df['Question_focus'] = df['Question'].swifter.apply(lambda row : focus_extraction(row))"
      ]
    },
    {
      "cell_type": "code",
      "execution_count": null,
      "metadata": {
        "colab": {
          "base_uri": "https://localhost:8080/"
        },
        "id": "kCKCwmQxY7-G",
        "outputId": "047f35ff-cf30-4b32-e4cf-babc99a77f38"
      },
      "outputs": [
        {
          "name": "stdout",
          "output_type": "stream",
          "text": [
            "<class 'pandas.core.frame.DataFrame'>\n",
            "Int64Index: 770 entries, 0 to 780\n",
            "Data columns (total 15 columns):\n",
            " #   Column          Non-Null Count  Dtype \n",
            "---  ------          --------------  ----- \n",
            " 0   Question        770 non-null    object\n",
            " 1   Documents       688 non-null    object\n",
            " 2   Ideal_Answer    695 non-null    object\n",
            " 3   Exact_Answer    688 non-null    object\n",
            " 4   Concept         551 non-null    object\n",
            " 5   Labels          770 non-null    object\n",
            " 6   class-1         770 non-null    object\n",
            " 7   class-2         358 non-null    object\n",
            " 8   class-3         118 non-null    object\n",
            " 9   class-4         30 non-null     object\n",
            " 10  class-5         12 non-null     object\n",
            " 11  class-6         5 non-null      object\n",
            " 12  class-7         2 non-null      object\n",
            " 13  class-8         2 non-null      object\n",
            " 14  Question_focus  723 non-null    object\n",
            "dtypes: object(15)\n",
            "memory usage: 116.2+ KB\n"
          ]
        }
      ],
      "source": [
        "df.info()"
      ]
    },
    {
      "cell_type": "code",
      "execution_count": null,
      "metadata": {
        "colab": {
          "base_uri": "https://localhost:8080/"
        },
        "id": "H6ahvbgo3y-O",
        "outputId": "e39ed9cf-4e69-42ec-8930-e5daf1a42db5"
      },
      "outputs": [
        {
          "data": {
            "text/plain": [
              "47"
            ]
          },
          "execution_count": 29,
          "metadata": {},
          "output_type": "execute_result"
        }
      ],
      "source": [
        "df[\"Question_focus\"].isna().sum()"
      ]
    },
    {
      "cell_type": "code",
      "execution_count": null,
      "metadata": {
        "id": "ZBAzG0Vp4XQZ"
      },
      "outputs": [],
      "source": [
        "df.to_csv(\"dataset_with_focus.csv\")"
      ]
    },
    {
      "cell_type": "code",
      "execution_count": null,
      "metadata": {
        "colab": {
          "base_uri": "https://localhost:8080/"
        },
        "id": "67CMa1hjesrO",
        "outputId": "699140e9-a667-42aa-d033-60be7754020d"
      },
      "outputs": [
        {
          "name": "stdout",
          "output_type": "stream",
          "text": [
            "'/content/dataset_with_focus.csv' -> '/content/drive/MyDrive/multi_label_question_classification/dataset_with_focus.csv'\n"
          ]
        }
      ],
      "source": [
        "%cp -v /content/dataset_with_focus.csv /content/drive/MyDrive/multi_label_question_classification"
      ]
    },
    {
      "cell_type": "code",
      "execution_count": null,
      "metadata": {
        "id": "bQ-FbLB9cHOT"
      },
      "outputs": [],
      "source": [
        "df[['Question','Question_focus']].to_csv(\"Qs&focus.csv\")"
      ]
    },
    {
      "cell_type": "code",
      "execution_count": null,
      "metadata": {
        "id": "LnnSxuhEzqDQ"
      },
      "outputs": [],
      "source": [
        "df[df[\"Question_focus\"].isna()]"
      ]
    },
    {
      "cell_type": "code",
      "execution_count": null,
      "metadata": {
        "id": "sKQ9WQin8pfL"
      },
      "outputs": [],
      "source": [
        "focus = focus_extraction(\"Which thyroid hormone transporter be implicate in thyroid hormone resistence syndrome?\")\n",
        "print(type(focus))\n",
        "print(\"focus:{}\".format(focus))"
      ]
    },
    {
      "cell_type": "code",
      "execution_count": null,
      "metadata": {
        "colab": {
          "base_uri": "https://localhost:8080/"
        },
        "id": "VBeWR9OHLMzV",
        "outputId": "758bac29-b2cb-4782-f28b-3070f3b10dd3"
      },
      "outputs": [
        {
          "name": "stdout",
          "output_type": "stream",
          "text": [
            "focus:List\n"
          ]
        }
      ],
      "source": [
        "focus = focus_extraction(\"List human genes encoding for the dishevelled proteins\")\n",
        "print(\"focus:{}\".format(focus))"
      ]
    },
    {
      "cell_type": "code",
      "execution_count": null,
      "metadata": {
        "colab": {
          "base_uri": "https://localhost:8080/"
        },
        "id": "VQtvHqQOGd2u",
        "outputId": "3a4d4043-dab9-4276-9ce1-9f7850725e5e"
      },
      "outputs": [
        {
          "name": "stdout",
          "output_type": "stream",
          "text": [
            "focus:None\n"
          ]
        }
      ],
      "source": [
        "focus = focus_extraction(\"List symptoms of the IFAP syndrome\")\n",
        "print(\"focus:{}\".format(focus))"
      ]
    },
    {
      "cell_type": "code",
      "execution_count": null,
      "metadata": {
        "colab": {
          "base_uri": "https://localhost:8080/"
        },
        "id": "4WyAgAbIG3DV",
        "outputId": "367a1059-f3f6-453b-8e4f-94356c9b1c3e"
      },
      "outputs": [
        {
          "name": "stdout",
          "output_type": "stream",
          "text": [
            "focus:list\n"
          ]
        }
      ],
      "source": [
        "focus = focus_extraction(\"list signaling molecules (ligands) that interact with the receptor EGFR\")\n",
        "print(\"focus:{}\".format(focus))"
      ]
    },
    {
      "cell_type": "markdown",
      "metadata": {
        "id": "32olpM-yf-2A"
      },
      "source": [
        "# Concept Identification"
      ]
    },
    {
      "cell_type": "markdown",
      "metadata": {
        "id": "ijQhYlFIy-SB"
      },
      "source": [
        "Concept Identification"
      ]
    },
    {
      "cell_type": "code",
      "execution_count": null,
      "metadata": {
        "id": "Eql1nIKho-b1"
      },
      "outputs": [],
      "source": [
        "# df.drop(['Question_concepts'], axis=1,inplace=True)"
      ]
    },
    {
      "cell_type": "code",
      "execution_count": null,
      "metadata": {
        "id": "svGRR54vA8iF"
      },
      "outputs": [],
      "source": [
        "from ast import literal_eval\n",
        "import re"
      ]
    },
    {
      "cell_type": "code",
      "execution_count": null,
      "metadata": {
        "id": "46zhftgnCNDk"
      },
      "outputs": [],
      "source": [
        "semantic_types = []\n",
        "\n",
        "for item in df['Semantic_types']:\n",
        "  semantic_types.append(literal_eval(item))\n",
        "\n",
        "df['Semantic_types'] = semantic_types"
      ]
    },
    {
      "cell_type": "code",
      "execution_count": null,
      "metadata": {
        "colab": {
          "base_uri": "https://localhost:8080/"
        },
        "id": "ZNv_qMpSFvMB",
        "outputId": "45b8c115-b7e1-47e4-a6e0-451d6f914d6c"
      },
      "outputs": [
        {
          "name": "stdout",
          "output_type": "stream",
          "text": [
            "<class 'pandas.core.frame.DataFrame'>\n",
            "RangeIndex: 770 entries, 0 to 769\n",
            "Data columns (total 16 columns):\n",
            " #   Column          Non-Null Count  Dtype \n",
            "---  ------          --------------  ----- \n",
            " 0   Question        770 non-null    object\n",
            " 1   Documents       688 non-null    object\n",
            " 2   Ideal_Answer    695 non-null    object\n",
            " 3   Exact_Answer    688 non-null    object\n",
            " 4   Concept         551 non-null    object\n",
            " 5   Labels          770 non-null    object\n",
            " 6   class-1         770 non-null    object\n",
            " 7   class-2         358 non-null    object\n",
            " 8   class-3         118 non-null    object\n",
            " 9   class-4         30 non-null     object\n",
            " 10  class-5         12 non-null     object\n",
            " 11  class-6         5 non-null      object\n",
            " 12  class-7         2 non-null      object\n",
            " 13  class-8         2 non-null      object\n",
            " 14  Question_focus  723 non-null    object\n",
            " 15  Semantic_types  770 non-null    object\n",
            "dtypes: object(16)\n",
            "memory usage: 96.4+ KB\n"
          ]
        }
      ],
      "source": [
        "df.info()"
      ]
    },
    {
      "cell_type": "code",
      "execution_count": null,
      "metadata": {
        "colab": {
          "base_uri": "https://localhost:8080/"
        },
        "id": "uYQqJcmXC4wc",
        "outputId": "5bf6ed20-2e6f-40b3-c2f9-dd118ba34333"
      },
      "outputs": [
        {
          "data": {
            "text/plain": [
              "0"
            ]
          },
          "execution_count": 12,
          "metadata": {},
          "output_type": "execute_result"
        }
      ],
      "source": [
        "df.dropna(subset = ['Question_focus'], inplace=True)\n",
        "df['Question_focus'].isna().sum()"
      ]
    },
    {
      "cell_type": "code",
      "execution_count": null,
      "metadata": {
        "colab": {
          "base_uri": "https://localhost:8080/",
          "height": 86
        },
        "id": "gMsR6MXlJLkO",
        "outputId": "89b22347-44a4-4a60-cc48-be51c646abb0"
      },
      "outputs": [
        {
          "data": {
            "text/html": [
              "<div>\n",
              "<style scoped>\n",
              "    .dataframe tbody tr th:only-of-type {\n",
              "        vertical-align: middle;\n",
              "    }\n",
              "\n",
              "    .dataframe tbody tr th {\n",
              "        vertical-align: top;\n",
              "    }\n",
              "\n",
              "    .dataframe thead th {\n",
              "        text-align: right;\n",
              "    }\n",
              "</style>\n",
              "<table border=\"1\" class=\"dataframe\">\n",
              "  <thead>\n",
              "    <tr style=\"text-align: right;\">\n",
              "      <th></th>\n",
              "      <th>Question</th>\n",
              "      <th>Documents</th>\n",
              "      <th>Ideal_Answer</th>\n",
              "      <th>Exact_Answer</th>\n",
              "      <th>Concept</th>\n",
              "      <th>Labels</th>\n",
              "      <th>class-1</th>\n",
              "      <th>class-2</th>\n",
              "      <th>class-3</th>\n",
              "      <th>class-4</th>\n",
              "      <th>class-5</th>\n",
              "      <th>class-6</th>\n",
              "      <th>class-7</th>\n",
              "      <th>class-8</th>\n",
              "      <th>Question_focus</th>\n",
              "      <th>Semantic_types</th>\n",
              "    </tr>\n",
              "  </thead>\n",
              "  <tbody>\n",
              "  </tbody>\n",
              "</table>\n",
              "</div>"
            ],
            "text/plain": [
              "Empty DataFrame\n",
              "Columns: [Question, Documents, Ideal_Answer, Exact_Answer, Concept, Labels, class-1, class-2, class-3, class-4, class-5, class-6, class-7, class-8, Question_focus, Semantic_types]\n",
              "Index: []"
            ]
          },
          "execution_count": 13,
          "metadata": {},
          "output_type": "execute_result"
        }
      ],
      "source": [
        "df.drop(df[df['Question_focus'] == 'List'].index,inplace=True)\n",
        "df[df['Question_focus'] == 'List']"
      ]
    },
    {
      "cell_type": "code",
      "execution_count": null,
      "metadata": {
        "id": "1lWWmjT8L9p1"
      },
      "outputs": [],
      "source": [
        "df[['Question_focus','Semantic_types']]"
      ]
    },
    {
      "cell_type": "code",
      "execution_count": null,
      "metadata": {
        "id": "AhI0yE11MmUr"
      },
      "outputs": [],
      "source": [
        "focus= df['Question_focus'][1]\n",
        "semantic_types = df['Semantic_types'][1]"
      ]
    },
    {
      "cell_type": "code",
      "execution_count": null,
      "metadata": {
        "colab": {
          "base_uri": "https://localhost:8080/"
        },
        "id": "m9NgXfNevi9m",
        "outputId": "640e7040-08d9-494a-e896-93b99a229077"
      },
      "outputs": [
        {
          "name": "stdout",
          "output_type": "stream",
          "text": [
            "aapp,bacs\n",
            "aapp,bacs\n"
          ]
        }
      ],
      "source": [
        "for sem_type in semantic_types:\n",
        "  if focus in sem_type:\n",
        "    concept_sem_type = re.findall('\\[.*?\\]',sem_type)\n",
        "    print(concept_sem_type[0][1:-1])"
      ]
    },
    {
      "cell_type": "code",
      "execution_count": null,
      "metadata": {
        "id": "A3NTWkOP0epK"
      },
      "outputs": [],
      "source": [
        "\n",
        "concept_sem_type = []\n",
        "for idx in df.index:\n",
        "  focus= df['Question_focus'][idx]\n",
        "  semantic_types = df['Semantic_types'][idx]\n",
        "  \n",
        "  sem_set = set() \n",
        "  for sem_type in semantic_types:\n",
        "    if focus.lower() in sem_type.lower():      \n",
        "      match = re.findall('\\[.*?\\]',sem_type)\n",
        "      # concept_sem_type.append(match[0][1:-1].split(','))\n",
        "      # match = set(match[0][1:-1].split(','))\n",
        "      match = match[0][1:-1].split(',')\n",
        "      sem_set.update(match)\n",
        "  concept_sem_type.append(sem_set)\n",
        "\n",
        "concept_sem_type"
      ]
    },
    {
      "cell_type": "code",
      "execution_count": null,
      "metadata": {
        "colab": {
          "base_uri": "https://localhost:8080/"
        },
        "id": "zgIggJcAX1Mg",
        "outputId": "fca3718a-0fb0-4749-addf-cd493f490389"
      },
      "outputs": [
        {
          "name": "stdout",
          "output_type": "stream",
          "text": [
            "<class 'pandas.core.frame.DataFrame'>\n",
            "Int64Index: 682 entries, 1 to 769\n",
            "Data columns (total 17 columns):\n",
            " #   Column            Non-Null Count  Dtype \n",
            "---  ------            --------------  ----- \n",
            " 0   Question          682 non-null    object\n",
            " 1   Documents         608 non-null    object\n",
            " 2   Ideal_Answer      615 non-null    object\n",
            " 3   Exact_Answer      608 non-null    object\n",
            " 4   Concept           492 non-null    object\n",
            " 5   Labels            682 non-null    object\n",
            " 6   class-1           682 non-null    object\n",
            " 7   class-2           321 non-null    object\n",
            " 8   class-3           101 non-null    object\n",
            " 9   class-4           26 non-null     object\n",
            " 10  class-5           10 non-null     object\n",
            " 11  class-6           4 non-null      object\n",
            " 12  class-7           1 non-null      object\n",
            " 13  class-8           1 non-null      object\n",
            " 14  Question_focus    682 non-null    object\n",
            " 15  Semantic_types    682 non-null    object\n",
            " 16  Concept_sem_type  682 non-null    object\n",
            "dtypes: object(17)\n",
            "memory usage: 115.9+ KB\n"
          ]
        }
      ],
      "source": [
        "df['Concept_sem_type'] = concept_sem_type\n",
        "df.info()"
      ]
    },
    {
      "cell_type": "code",
      "execution_count": null,
      "metadata": {
        "id": "wfgybiw4YNy8"
      },
      "outputs": [],
      "source": [
        "df.drop(df[df['Concept_sem_type'] == set()].index,inplace=True)"
      ]
    },
    {
      "cell_type": "code",
      "execution_count": null,
      "metadata": {
        "colab": {
          "base_uri": "https://localhost:8080/",
          "height": 86
        },
        "id": "7a24650_ZRXi",
        "outputId": "08e49651-dc03-4543-bf80-cb6e7f7bb24a"
      },
      "outputs": [
        {
          "data": {
            "text/html": [
              "<div>\n",
              "<style scoped>\n",
              "    .dataframe tbody tr th:only-of-type {\n",
              "        vertical-align: middle;\n",
              "    }\n",
              "\n",
              "    .dataframe tbody tr th {\n",
              "        vertical-align: top;\n",
              "    }\n",
              "\n",
              "    .dataframe thead th {\n",
              "        text-align: right;\n",
              "    }\n",
              "</style>\n",
              "<table border=\"1\" class=\"dataframe\">\n",
              "  <thead>\n",
              "    <tr style=\"text-align: right;\">\n",
              "      <th></th>\n",
              "      <th>Question</th>\n",
              "      <th>Documents</th>\n",
              "      <th>Ideal_Answer</th>\n",
              "      <th>Exact_Answer</th>\n",
              "      <th>Concept</th>\n",
              "      <th>Labels</th>\n",
              "      <th>class-1</th>\n",
              "      <th>class-2</th>\n",
              "      <th>class-3</th>\n",
              "      <th>class-4</th>\n",
              "      <th>class-5</th>\n",
              "      <th>class-6</th>\n",
              "      <th>class-7</th>\n",
              "      <th>class-8</th>\n",
              "      <th>Question_focus</th>\n",
              "      <th>Semantic_types</th>\n",
              "      <th>Concept_sem_type</th>\n",
              "    </tr>\n",
              "  </thead>\n",
              "  <tbody>\n",
              "  </tbody>\n",
              "</table>\n",
              "</div>"
            ],
            "text/plain": [
              "Empty DataFrame\n",
              "Columns: [Question, Documents, Ideal_Answer, Exact_Answer, Concept, Labels, class-1, class-2, class-3, class-4, class-5, class-6, class-7, class-8, Question_focus, Semantic_types, Concept_sem_type]\n",
              "Index: []"
            ]
          },
          "execution_count": 18,
          "metadata": {},
          "output_type": "execute_result"
        }
      ],
      "source": [
        "df[df['Concept_sem_type'] == set()]"
      ]
    },
    {
      "cell_type": "code",
      "execution_count": null,
      "metadata": {
        "id": "xS46X-LdZkR2"
      },
      "outputs": [],
      "source": [
        "df2 = pd.DataFrame(df.Concept_sem_type.values.tolist()).add_prefix('sem_')"
      ]
    },
    {
      "cell_type": "code",
      "execution_count": null,
      "metadata": {
        "id": "ne_lMH8_GQnM"
      },
      "outputs": [],
      "source": [
        "df2[['class-1','class-2','class-3','class-4','class-5','class-6','class-7','class-8']] = df[['class-1','class-2','class-3','class-4','class-5','class-6','class-7','class-8']].values"
      ]
    },
    {
      "cell_type": "code",
      "execution_count": null,
      "metadata": {
        "id": "grSGdLiVQLXl"
      },
      "outputs": [],
      "source": [
        "%cp  /content/drive/MyDrive/multi_label_question_classification/sem_types_and_class.csv /content"
      ]
    },
    {
      "cell_type": "code",
      "execution_count": null,
      "metadata": {
        "colab": {
          "base_uri": "https://localhost:8080/"
        },
        "id": "2tm7_dj0GBM6",
        "outputId": "511e9633-7cc0-4a1e-de3b-6f2880d8f788"
      },
      "outputs": [
        {
          "name": "stdout",
          "output_type": "stream",
          "text": [
            "<class 'pandas.core.frame.DataFrame'>\n",
            "RangeIndex: 605 entries, 0 to 604\n",
            "Data columns (total 14 columns):\n",
            " #   Column   Non-Null Count  Dtype \n",
            "---  ------   --------------  ----- \n",
            " 0   sem_0    605 non-null    object\n",
            " 1   sem_1    319 non-null    object\n",
            " 2   sem_2    96 non-null     object\n",
            " 3   sem_3    26 non-null     object\n",
            " 4   sem_4    8 non-null      object\n",
            " 5   sem_5    1 non-null      object\n",
            " 6   class-1  605 non-null    object\n",
            " 7   class-2  288 non-null    object\n",
            " 8   class-3  89 non-null     object\n",
            " 9   class-4  20 non-null     object\n",
            " 10  class-5  8 non-null      object\n",
            " 11  class-6  4 non-null      object\n",
            " 12  class-7  1 non-null      object\n",
            " 13  class-8  1 non-null      object\n",
            "dtypes: object(14)\n",
            "memory usage: 66.3+ KB\n"
          ]
        }
      ],
      "source": [
        "df2 = pd.read_csv(\"sem_types_and_class.csv\")\n",
        "df2 = df2.loc[:, ~df2.columns.str.contains('^Unnamed')]\n",
        "df2.info()"
      ]
    },
    {
      "cell_type": "code",
      "execution_count": null,
      "metadata": {
        "id": "BQqoTy9uFIkQ"
      },
      "outputs": [],
      "source": [
        "sem_dict = {'aapp':116,'acab':20,'acty':52,'aggp':100,'amas':87,'amph':11,'anab':190,'anim':8,'anst':17,\n",
        "            'antb':195,'arch':194,'bacs':123,'bact':7,'bdsu':31,'bdsy':22,'bhvr':53,'biof':38,'bird':12,\n",
        "            'blor':29,'bmod':91,'bodm':122,'bpoc':23,'bsoj':30,'celc':26,'celf':43,'cell':25,'cgab':19,\n",
        "            'chem':103,'chvf':120,'chvs':104,'clas':185,'clna':201,'clnd':200,'cnce':77,'comd':49,'crbs':88,\n",
        "            'diap':60,'dora':56,'drdd':203,'dsyn':47,'edac':65,'eehu':69,'elii':196,'emod':50,'emst':18,\n",
        "            'enty':71,'enzy':126,'euka':204,'evnt':51,'famg':99,'ffas':21,'fish':13,'fndg':33,'fngs':4,'food':168,\n",
        "            'ftcn':169,'genf':45,'geoa':83,'gngm':28,'gora':64,'grpa':102,'grup':96,'hcpp':68,'hcro':93,'hlca':58,\n",
        "            'hops':131,'horm':125,'humn':16,'idcn':78,'imft':129,'inbe':55,'inch':197,'inpo':37,'inpr':170,\n",
        "            'irda':130,'lang':171,'lbpr':59,'lbtr':34,'mamm':15,'mbrt':63,'mcha':66,'medd':74,'menp':41,\n",
        "            'mnob':73,'mobd':48,'moft':44,'mosq':85,'neop':191,'nnon':114,'npop':70,'nusq':86,'ocac':57,\n",
        "            'ocdi':90,'orch':109,'orga':32,'orgf':40,'orgm':1,'orgt':92,'ortf':42,'patf':46,'phob':72,\n",
        "            'phpr':67,'phsf':39,'phsu':121,'plnt':2,'podg':101,'popg':98,'prog':97,'pros':94,'qlco':80,\n",
        "            'qnco':81,'rcpt':192,'rept':14,'resa':62,'resd':75,'rnlw':89,'sbst':167,'shro':95,'socb':54,\n",
        "            'sosy':184,'spco':82,'tisu':24,'tmco':79,'topp':61,'virs':5,'vita':127,'vtbt':10}"
      ]
    },
    {
      "cell_type": "code",
      "execution_count": null,
      "metadata": {
        "id": "9K2-FIJRHQqc"
      },
      "outputs": [],
      "source": [
        "df2.replace({\"sem_0\": sem_dict,\"sem_1\": sem_dict,\"sem_2\": sem_dict,\"sem_3\": sem_dict,\"sem_4\": sem_dict,\"sem_5\": sem_dict},inplace=True)"
      ]
    },
    {
      "cell_type": "code",
      "execution_count": null,
      "metadata": {
        "colab": {
          "base_uri": "https://localhost:8080/"
        },
        "id": "AMhdHvmKU0Yt",
        "outputId": "33d0f1d5-5710-45b6-f02a-deeb0e071e3c"
      },
      "outputs": [
        {
          "name": "stdout",
          "output_type": "stream",
          "text": [
            "<class 'pandas.core.frame.DataFrame'>\n",
            "RangeIndex: 605 entries, 0 to 604\n",
            "Data columns (total 14 columns):\n",
            " #   Column   Non-Null Count  Dtype  \n",
            "---  ------   --------------  -----  \n",
            " 0   sem_0    605 non-null    object \n",
            " 1   sem_1    319 non-null    float64\n",
            " 2   sem_2    96 non-null     float64\n",
            " 3   sem_3    26 non-null     float64\n",
            " 4   sem_4    8 non-null      float64\n",
            " 5   sem_5    1 non-null      float64\n",
            " 6   class-1  605 non-null    object \n",
            " 7   class-2  288 non-null    object \n",
            " 8   class-3  89 non-null     object \n",
            " 9   class-4  20 non-null     object \n",
            " 10  class-5  8 non-null      object \n",
            " 11  class-6  4 non-null      object \n",
            " 12  class-7  1 non-null      object \n",
            " 13  class-8  1 non-null      object \n",
            "dtypes: float64(5), object(9)\n",
            "memory usage: 66.3+ KB\n"
          ]
        }
      ],
      "source": [
        "df2.info()"
      ]
    },
    {
      "cell_type": "code",
      "execution_count": null,
      "metadata": {
        "id": "jd2pQQdeLykM"
      },
      "outputs": [],
      "source": [
        "df2.drop(df2[df2['sem_0'] == 'Publication Type'].index, inplace = True)\n",
        "df2.drop(df2[df2['sem_0'] == 'MoA'].index, inplace = True) \n",
        "df2.drop(df2[df2['sem_0'] == '18F'].index, inplace = True) \n",
        "df2.drop(df2[df2['sem_0'] == 'EPC'].index, inplace = True) \n",
        "\n",
        "# df.drop(df[df['Age'] < 25].index, inplace = True)"
      ]
    },
    {
      "cell_type": "code",
      "execution_count": null,
      "metadata": {
        "colab": {
          "base_uri": "https://localhost:8080/"
        },
        "id": "lRvG_2ZOOPyn",
        "outputId": "bc4c4672-c51f-4d4b-9c92-a296539b6f0c"
      },
      "outputs": [
        {
          "name": "stdout",
          "output_type": "stream",
          "text": [
            "<class 'pandas.core.frame.DataFrame'>\n",
            "Int64Index: 600 entries, 0 to 604\n",
            "Data columns (total 14 columns):\n",
            " #   Column   Non-Null Count  Dtype  \n",
            "---  ------   --------------  -----  \n",
            " 0   sem_0    600 non-null    object \n",
            " 1   sem_1    316 non-null    float64\n",
            " 2   sem_2    95 non-null     float64\n",
            " 3   sem_3    26 non-null     float64\n",
            " 4   sem_4    8 non-null      float64\n",
            " 5   sem_5    1 non-null      float64\n",
            " 6   class-1  600 non-null    object \n",
            " 7   class-2  283 non-null    object \n",
            " 8   class-3  86 non-null     object \n",
            " 9   class-4  20 non-null     object \n",
            " 10  class-5  8 non-null      object \n",
            " 11  class-6  4 non-null      object \n",
            " 12  class-7  1 non-null      object \n",
            " 13  class-8  1 non-null      object \n",
            "dtypes: float64(5), object(9)\n",
            "memory usage: 70.3+ KB\n"
          ]
        }
      ],
      "source": [
        "# df2.rename(columns={\"class-1\": \"class\"}, inplace=True)\n",
        "df2.info()"
      ]
    },
    {
      "cell_type": "code",
      "execution_count": null,
      "metadata": {
        "id": "jYU4bkqPOngv"
      },
      "outputs": [],
      "source": [
        "df2[df2.columns[:6]] = df2[df2.columns[:6]].fillna(value=0)"
      ]
    },
    {
      "cell_type": "code",
      "execution_count": null,
      "metadata": {
        "colab": {
          "base_uri": "https://localhost:8080/",
          "height": 505
        },
        "id": "say6fDpBUbPq",
        "outputId": "5509dfb6-7e3b-4b51-dc98-0f23591740a9"
      },
      "outputs": [
        {
          "data": {
            "text/html": [
              "\n",
              "  <div id=\"df-a8ff061f-13d4-4877-bcb5-be5d964b853b\">\n",
              "    <div class=\"colab-df-container\">\n",
              "      <div>\n",
              "<style scoped>\n",
              "    .dataframe tbody tr th:only-of-type {\n",
              "        vertical-align: middle;\n",
              "    }\n",
              "\n",
              "    .dataframe tbody tr th {\n",
              "        vertical-align: top;\n",
              "    }\n",
              "\n",
              "    .dataframe thead th {\n",
              "        text-align: right;\n",
              "    }\n",
              "</style>\n",
              "<table border=\"1\" class=\"dataframe\">\n",
              "  <thead>\n",
              "    <tr style=\"text-align: right;\">\n",
              "      <th></th>\n",
              "      <th>sem_0</th>\n",
              "      <th>sem_1</th>\n",
              "      <th>sem_2</th>\n",
              "      <th>sem_3</th>\n",
              "      <th>sem_4</th>\n",
              "      <th>sem_5</th>\n",
              "      <th>class-1</th>\n",
              "      <th>class-2</th>\n",
              "      <th>class-3</th>\n",
              "      <th>class-4</th>\n",
              "      <th>class-5</th>\n",
              "      <th>class-6</th>\n",
              "      <th>class-7</th>\n",
              "      <th>class-8</th>\n",
              "    </tr>\n",
              "  </thead>\n",
              "  <tbody>\n",
              "    <tr>\n",
              "      <th>0</th>\n",
              "      <td>116</td>\n",
              "      <td>123.0</td>\n",
              "      <td>74.0</td>\n",
              "      <td>0.0</td>\n",
              "      <td>0.0</td>\n",
              "      <td>0.0</td>\n",
              "      <td>umls:enzy</td>\n",
              "      <td>NaN</td>\n",
              "      <td>NaN</td>\n",
              "      <td>NaN</td>\n",
              "      <td>NaN</td>\n",
              "      <td>NaN</td>\n",
              "      <td>NaN</td>\n",
              "      <td>NaN</td>\n",
              "    </tr>\n",
              "    <tr>\n",
              "      <th>1</th>\n",
              "      <td>114</td>\n",
              "      <td>123.0</td>\n",
              "      <td>0.0</td>\n",
              "      <td>0.0</td>\n",
              "      <td>0.0</td>\n",
              "      <td>0.0</td>\n",
              "      <td>umls:nusq</td>\n",
              "      <td>umls:gngm</td>\n",
              "      <td>NaN</td>\n",
              "      <td>NaN</td>\n",
              "      <td>NaN</td>\n",
              "      <td>NaN</td>\n",
              "      <td>NaN</td>\n",
              "      <td>NaN</td>\n",
              "    </tr>\n",
              "    <tr>\n",
              "      <th>2</th>\n",
              "      <td>121</td>\n",
              "      <td>0.0</td>\n",
              "      <td>0.0</td>\n",
              "      <td>0.0</td>\n",
              "      <td>0.0</td>\n",
              "      <td>0.0</td>\n",
              "      <td>umls:orch</td>\n",
              "      <td>umls:clnd</td>\n",
              "      <td>umls:phsu</td>\n",
              "      <td>NaN</td>\n",
              "      <td>NaN</td>\n",
              "      <td>NaN</td>\n",
              "      <td>NaN</td>\n",
              "      <td>NaN</td>\n",
              "    </tr>\n",
              "    <tr>\n",
              "      <th>3</th>\n",
              "      <td>80</td>\n",
              "      <td>170.0</td>\n",
              "      <td>0.0</td>\n",
              "      <td>0.0</td>\n",
              "      <td>0.0</td>\n",
              "      <td>0.0</td>\n",
              "      <td>umls:neop</td>\n",
              "      <td>NaN</td>\n",
              "      <td>NaN</td>\n",
              "      <td>NaN</td>\n",
              "      <td>NaN</td>\n",
              "      <td>NaN</td>\n",
              "      <td>NaN</td>\n",
              "      <td>NaN</td>\n",
              "    </tr>\n",
              "    <tr>\n",
              "      <th>4</th>\n",
              "      <td>170</td>\n",
              "      <td>58.0</td>\n",
              "      <td>0.0</td>\n",
              "      <td>0.0</td>\n",
              "      <td>0.0</td>\n",
              "      <td>0.0</td>\n",
              "      <td>umls:clas</td>\n",
              "      <td>NaN</td>\n",
              "      <td>NaN</td>\n",
              "      <td>NaN</td>\n",
              "      <td>NaN</td>\n",
              "      <td>NaN</td>\n",
              "      <td>NaN</td>\n",
              "      <td>NaN</td>\n",
              "    </tr>\n",
              "    <tr>\n",
              "      <th>...</th>\n",
              "      <td>...</td>\n",
              "      <td>...</td>\n",
              "      <td>...</td>\n",
              "      <td>...</td>\n",
              "      <td>...</td>\n",
              "      <td>...</td>\n",
              "      <td>...</td>\n",
              "      <td>...</td>\n",
              "      <td>...</td>\n",
              "      <td>...</td>\n",
              "      <td>...</td>\n",
              "      <td>...</td>\n",
              "      <td>...</td>\n",
              "      <td>...</td>\n",
              "    </tr>\n",
              "    <tr>\n",
              "      <th>600</th>\n",
              "      <td>80</td>\n",
              "      <td>0.0</td>\n",
              "      <td>0.0</td>\n",
              "      <td>0.0</td>\n",
              "      <td>0.0</td>\n",
              "      <td>0.0</td>\n",
              "      <td>umls:sosy</td>\n",
              "      <td>NaN</td>\n",
              "      <td>NaN</td>\n",
              "      <td>NaN</td>\n",
              "      <td>NaN</td>\n",
              "      <td>NaN</td>\n",
              "      <td>NaN</td>\n",
              "      <td>NaN</td>\n",
              "    </tr>\n",
              "    <tr>\n",
              "      <th>601</th>\n",
              "      <td>121</td>\n",
              "      <td>0.0</td>\n",
              "      <td>0.0</td>\n",
              "      <td>0.0</td>\n",
              "      <td>0.0</td>\n",
              "      <td>0.0</td>\n",
              "      <td>umls:clnd</td>\n",
              "      <td>umls:phsu</td>\n",
              "      <td>umls:aapp</td>\n",
              "      <td>NaN</td>\n",
              "      <td>NaN</td>\n",
              "      <td>NaN</td>\n",
              "      <td>NaN</td>\n",
              "      <td>NaN</td>\n",
              "    </tr>\n",
              "    <tr>\n",
              "      <th>602</th>\n",
              "      <td>81</td>\n",
              "      <td>0.0</td>\n",
              "      <td>0.0</td>\n",
              "      <td>0.0</td>\n",
              "      <td>0.0</td>\n",
              "      <td>0.0</td>\n",
              "      <td>umls:resa</td>\n",
              "      <td>NaN</td>\n",
              "      <td>NaN</td>\n",
              "      <td>NaN</td>\n",
              "      <td>NaN</td>\n",
              "      <td>NaN</td>\n",
              "      <td>NaN</td>\n",
              "      <td>NaN</td>\n",
              "    </tr>\n",
              "    <tr>\n",
              "      <th>603</th>\n",
              "      <td>80</td>\n",
              "      <td>0.0</td>\n",
              "      <td>0.0</td>\n",
              "      <td>0.0</td>\n",
              "      <td>0.0</td>\n",
              "      <td>0.0</td>\n",
              "      <td>umls:qnco</td>\n",
              "      <td>umls:clnd</td>\n",
              "      <td>NaN</td>\n",
              "      <td>NaN</td>\n",
              "      <td>NaN</td>\n",
              "      <td>NaN</td>\n",
              "      <td>NaN</td>\n",
              "      <td>NaN</td>\n",
              "    </tr>\n",
              "    <tr>\n",
              "      <th>604</th>\n",
              "      <td>61</td>\n",
              "      <td>121.0</td>\n",
              "      <td>0.0</td>\n",
              "      <td>0.0</td>\n",
              "      <td>0.0</td>\n",
              "      <td>0.0</td>\n",
              "      <td>umls:clnd</td>\n",
              "      <td>NaN</td>\n",
              "      <td>NaN</td>\n",
              "      <td>NaN</td>\n",
              "      <td>NaN</td>\n",
              "      <td>NaN</td>\n",
              "      <td>NaN</td>\n",
              "      <td>NaN</td>\n",
              "    </tr>\n",
              "  </tbody>\n",
              "</table>\n",
              "<p>600 rows × 14 columns</p>\n",
              "</div>\n",
              "      <button class=\"colab-df-convert\" onclick=\"convertToInteractive('df-a8ff061f-13d4-4877-bcb5-be5d964b853b')\"\n",
              "              title=\"Convert this dataframe to an interactive table.\"\n",
              "              style=\"display:none;\">\n",
              "        \n",
              "  <svg xmlns=\"http://www.w3.org/2000/svg\" height=\"24px\"viewBox=\"0 0 24 24\"\n",
              "       width=\"24px\">\n",
              "    <path d=\"M0 0h24v24H0V0z\" fill=\"none\"/>\n",
              "    <path d=\"M18.56 5.44l.94 2.06.94-2.06 2.06-.94-2.06-.94-.94-2.06-.94 2.06-2.06.94zm-11 1L8.5 8.5l.94-2.06 2.06-.94-2.06-.94L8.5 2.5l-.94 2.06-2.06.94zm10 10l.94 2.06.94-2.06 2.06-.94-2.06-.94-.94-2.06-.94 2.06-2.06.94z\"/><path d=\"M17.41 7.96l-1.37-1.37c-.4-.4-.92-.59-1.43-.59-.52 0-1.04.2-1.43.59L10.3 9.45l-7.72 7.72c-.78.78-.78 2.05 0 2.83L4 21.41c.39.39.9.59 1.41.59.51 0 1.02-.2 1.41-.59l7.78-7.78 2.81-2.81c.8-.78.8-2.07 0-2.86zM5.41 20L4 18.59l7.72-7.72 1.47 1.35L5.41 20z\"/>\n",
              "  </svg>\n",
              "      </button>\n",
              "      \n",
              "  <style>\n",
              "    .colab-df-container {\n",
              "      display:flex;\n",
              "      flex-wrap:wrap;\n",
              "      gap: 12px;\n",
              "    }\n",
              "\n",
              "    .colab-df-convert {\n",
              "      background-color: #E8F0FE;\n",
              "      border: none;\n",
              "      border-radius: 50%;\n",
              "      cursor: pointer;\n",
              "      display: none;\n",
              "      fill: #1967D2;\n",
              "      height: 32px;\n",
              "      padding: 0 0 0 0;\n",
              "      width: 32px;\n",
              "    }\n",
              "\n",
              "    .colab-df-convert:hover {\n",
              "      background-color: #E2EBFA;\n",
              "      box-shadow: 0px 1px 2px rgba(60, 64, 67, 0.3), 0px 1px 3px 1px rgba(60, 64, 67, 0.15);\n",
              "      fill: #174EA6;\n",
              "    }\n",
              "\n",
              "    [theme=dark] .colab-df-convert {\n",
              "      background-color: #3B4455;\n",
              "      fill: #D2E3FC;\n",
              "    }\n",
              "\n",
              "    [theme=dark] .colab-df-convert:hover {\n",
              "      background-color: #434B5C;\n",
              "      box-shadow: 0px 1px 3px 1px rgba(0, 0, 0, 0.15);\n",
              "      filter: drop-shadow(0px 1px 2px rgba(0, 0, 0, 0.3));\n",
              "      fill: #FFFFFF;\n",
              "    }\n",
              "  </style>\n",
              "\n",
              "      <script>\n",
              "        const buttonEl =\n",
              "          document.querySelector('#df-a8ff061f-13d4-4877-bcb5-be5d964b853b button.colab-df-convert');\n",
              "        buttonEl.style.display =\n",
              "          google.colab.kernel.accessAllowed ? 'block' : 'none';\n",
              "\n",
              "        async function convertToInteractive(key) {\n",
              "          const element = document.querySelector('#df-a8ff061f-13d4-4877-bcb5-be5d964b853b');\n",
              "          const dataTable =\n",
              "            await google.colab.kernel.invokeFunction('convertToInteractive',\n",
              "                                                     [key], {});\n",
              "          if (!dataTable) return;\n",
              "\n",
              "          const docLinkHtml = 'Like what you see? Visit the ' +\n",
              "            '<a target=\"_blank\" href=https://colab.research.google.com/notebooks/data_table.ipynb>data table notebook</a>'\n",
              "            + ' to learn more about interactive tables.';\n",
              "          element.innerHTML = '';\n",
              "          dataTable['output_type'] = 'display_data';\n",
              "          await google.colab.output.renderOutput(dataTable, element);\n",
              "          const docLink = document.createElement('div');\n",
              "          docLink.innerHTML = docLinkHtml;\n",
              "          element.appendChild(docLink);\n",
              "        }\n",
              "      </script>\n",
              "    </div>\n",
              "  </div>\n",
              "  "
            ],
            "text/plain": [
              "     sem_0  sem_1  sem_2  sem_3  sem_4  ...  class-4 class-5 class-6 class-7 class-8\n",
              "0      116  123.0   74.0    0.0    0.0  ...      NaN     NaN     NaN     NaN     NaN\n",
              "1      114  123.0    0.0    0.0    0.0  ...      NaN     NaN     NaN     NaN     NaN\n",
              "2      121    0.0    0.0    0.0    0.0  ...      NaN     NaN     NaN     NaN     NaN\n",
              "3       80  170.0    0.0    0.0    0.0  ...      NaN     NaN     NaN     NaN     NaN\n",
              "4      170   58.0    0.0    0.0    0.0  ...      NaN     NaN     NaN     NaN     NaN\n",
              "..     ...    ...    ...    ...    ...  ...      ...     ...     ...     ...     ...\n",
              "600     80    0.0    0.0    0.0    0.0  ...      NaN     NaN     NaN     NaN     NaN\n",
              "601    121    0.0    0.0    0.0    0.0  ...      NaN     NaN     NaN     NaN     NaN\n",
              "602     81    0.0    0.0    0.0    0.0  ...      NaN     NaN     NaN     NaN     NaN\n",
              "603     80    0.0    0.0    0.0    0.0  ...      NaN     NaN     NaN     NaN     NaN\n",
              "604     61  121.0    0.0    0.0    0.0  ...      NaN     NaN     NaN     NaN     NaN\n",
              "\n",
              "[600 rows x 14 columns]"
            ]
          },
          "execution_count": 14,
          "metadata": {},
          "output_type": "execute_result"
        }
      ],
      "source": [
        "df2"
      ]
    },
    {
      "cell_type": "code",
      "execution_count": null,
      "metadata": {
        "colab": {
          "base_uri": "https://localhost:8080/",
          "height": 424
        },
        "id": "6Vii28nASdSd",
        "outputId": "4897641b-ee93-481e-a409-8ffc80e0ef20"
      },
      "outputs": [
        {
          "data": {
            "text/html": [
              "\n",
              "  <div id=\"df-f9b587a9-2651-4249-88ea-cdbc4805d0e6\">\n",
              "    <div class=\"colab-df-container\">\n",
              "      <div>\n",
              "<style scoped>\n",
              "    .dataframe tbody tr th:only-of-type {\n",
              "        vertical-align: middle;\n",
              "    }\n",
              "\n",
              "    .dataframe tbody tr th {\n",
              "        vertical-align: top;\n",
              "    }\n",
              "\n",
              "    .dataframe thead th {\n",
              "        text-align: right;\n",
              "    }\n",
              "</style>\n",
              "<table border=\"1\" class=\"dataframe\">\n",
              "  <thead>\n",
              "    <tr style=\"text-align: right;\">\n",
              "      <th></th>\n",
              "      <th>class-1</th>\n",
              "      <th>class-2</th>\n",
              "      <th>class-3</th>\n",
              "      <th>class-4</th>\n",
              "      <th>class-5</th>\n",
              "      <th>class-6</th>\n",
              "      <th>class-7</th>\n",
              "      <th>class-8</th>\n",
              "    </tr>\n",
              "  </thead>\n",
              "  <tbody>\n",
              "    <tr>\n",
              "      <th>0</th>\n",
              "      <td>umls:enzy</td>\n",
              "      <td>NaN</td>\n",
              "      <td>NaN</td>\n",
              "      <td>NaN</td>\n",
              "      <td>NaN</td>\n",
              "      <td>NaN</td>\n",
              "      <td>NaN</td>\n",
              "      <td>NaN</td>\n",
              "    </tr>\n",
              "    <tr>\n",
              "      <th>1</th>\n",
              "      <td>umls:nusq</td>\n",
              "      <td>umls:gngm</td>\n",
              "      <td>NaN</td>\n",
              "      <td>NaN</td>\n",
              "      <td>NaN</td>\n",
              "      <td>NaN</td>\n",
              "      <td>NaN</td>\n",
              "      <td>NaN</td>\n",
              "    </tr>\n",
              "    <tr>\n",
              "      <th>2</th>\n",
              "      <td>umls:orch</td>\n",
              "      <td>umls:clnd</td>\n",
              "      <td>umls:phsu</td>\n",
              "      <td>NaN</td>\n",
              "      <td>NaN</td>\n",
              "      <td>NaN</td>\n",
              "      <td>NaN</td>\n",
              "      <td>NaN</td>\n",
              "    </tr>\n",
              "    <tr>\n",
              "      <th>3</th>\n",
              "      <td>umls:neop</td>\n",
              "      <td>NaN</td>\n",
              "      <td>NaN</td>\n",
              "      <td>NaN</td>\n",
              "      <td>NaN</td>\n",
              "      <td>NaN</td>\n",
              "      <td>NaN</td>\n",
              "      <td>NaN</td>\n",
              "    </tr>\n",
              "    <tr>\n",
              "      <th>4</th>\n",
              "      <td>umls:clas</td>\n",
              "      <td>NaN</td>\n",
              "      <td>NaN</td>\n",
              "      <td>NaN</td>\n",
              "      <td>NaN</td>\n",
              "      <td>NaN</td>\n",
              "      <td>NaN</td>\n",
              "      <td>NaN</td>\n",
              "    </tr>\n",
              "    <tr>\n",
              "      <th>...</th>\n",
              "      <td>...</td>\n",
              "      <td>...</td>\n",
              "      <td>...</td>\n",
              "      <td>...</td>\n",
              "      <td>...</td>\n",
              "      <td>...</td>\n",
              "      <td>...</td>\n",
              "      <td>...</td>\n",
              "    </tr>\n",
              "    <tr>\n",
              "      <th>600</th>\n",
              "      <td>umls:sosy</td>\n",
              "      <td>NaN</td>\n",
              "      <td>NaN</td>\n",
              "      <td>NaN</td>\n",
              "      <td>NaN</td>\n",
              "      <td>NaN</td>\n",
              "      <td>NaN</td>\n",
              "      <td>NaN</td>\n",
              "    </tr>\n",
              "    <tr>\n",
              "      <th>601</th>\n",
              "      <td>umls:clnd</td>\n",
              "      <td>umls:phsu</td>\n",
              "      <td>umls:aapp</td>\n",
              "      <td>NaN</td>\n",
              "      <td>NaN</td>\n",
              "      <td>NaN</td>\n",
              "      <td>NaN</td>\n",
              "      <td>NaN</td>\n",
              "    </tr>\n",
              "    <tr>\n",
              "      <th>602</th>\n",
              "      <td>umls:resa</td>\n",
              "      <td>NaN</td>\n",
              "      <td>NaN</td>\n",
              "      <td>NaN</td>\n",
              "      <td>NaN</td>\n",
              "      <td>NaN</td>\n",
              "      <td>NaN</td>\n",
              "      <td>NaN</td>\n",
              "    </tr>\n",
              "    <tr>\n",
              "      <th>603</th>\n",
              "      <td>umls:qnco</td>\n",
              "      <td>umls:clnd</td>\n",
              "      <td>NaN</td>\n",
              "      <td>NaN</td>\n",
              "      <td>NaN</td>\n",
              "      <td>NaN</td>\n",
              "      <td>NaN</td>\n",
              "      <td>NaN</td>\n",
              "    </tr>\n",
              "    <tr>\n",
              "      <th>604</th>\n",
              "      <td>umls:clnd</td>\n",
              "      <td>NaN</td>\n",
              "      <td>NaN</td>\n",
              "      <td>NaN</td>\n",
              "      <td>NaN</td>\n",
              "      <td>NaN</td>\n",
              "      <td>NaN</td>\n",
              "      <td>NaN</td>\n",
              "    </tr>\n",
              "  </tbody>\n",
              "</table>\n",
              "<p>600 rows × 8 columns</p>\n",
              "</div>\n",
              "      <button class=\"colab-df-convert\" onclick=\"convertToInteractive('df-f9b587a9-2651-4249-88ea-cdbc4805d0e6')\"\n",
              "              title=\"Convert this dataframe to an interactive table.\"\n",
              "              style=\"display:none;\">\n",
              "        \n",
              "  <svg xmlns=\"http://www.w3.org/2000/svg\" height=\"24px\"viewBox=\"0 0 24 24\"\n",
              "       width=\"24px\">\n",
              "    <path d=\"M0 0h24v24H0V0z\" fill=\"none\"/>\n",
              "    <path d=\"M18.56 5.44l.94 2.06.94-2.06 2.06-.94-2.06-.94-.94-2.06-.94 2.06-2.06.94zm-11 1L8.5 8.5l.94-2.06 2.06-.94-2.06-.94L8.5 2.5l-.94 2.06-2.06.94zm10 10l.94 2.06.94-2.06 2.06-.94-2.06-.94-.94-2.06-.94 2.06-2.06.94z\"/><path d=\"M17.41 7.96l-1.37-1.37c-.4-.4-.92-.59-1.43-.59-.52 0-1.04.2-1.43.59L10.3 9.45l-7.72 7.72c-.78.78-.78 2.05 0 2.83L4 21.41c.39.39.9.59 1.41.59.51 0 1.02-.2 1.41-.59l7.78-7.78 2.81-2.81c.8-.78.8-2.07 0-2.86zM5.41 20L4 18.59l7.72-7.72 1.47 1.35L5.41 20z\"/>\n",
              "  </svg>\n",
              "      </button>\n",
              "      \n",
              "  <style>\n",
              "    .colab-df-container {\n",
              "      display:flex;\n",
              "      flex-wrap:wrap;\n",
              "      gap: 12px;\n",
              "    }\n",
              "\n",
              "    .colab-df-convert {\n",
              "      background-color: #E8F0FE;\n",
              "      border: none;\n",
              "      border-radius: 50%;\n",
              "      cursor: pointer;\n",
              "      display: none;\n",
              "      fill: #1967D2;\n",
              "      height: 32px;\n",
              "      padding: 0 0 0 0;\n",
              "      width: 32px;\n",
              "    }\n",
              "\n",
              "    .colab-df-convert:hover {\n",
              "      background-color: #E2EBFA;\n",
              "      box-shadow: 0px 1px 2px rgba(60, 64, 67, 0.3), 0px 1px 3px 1px rgba(60, 64, 67, 0.15);\n",
              "      fill: #174EA6;\n",
              "    }\n",
              "\n",
              "    [theme=dark] .colab-df-convert {\n",
              "      background-color: #3B4455;\n",
              "      fill: #D2E3FC;\n",
              "    }\n",
              "\n",
              "    [theme=dark] .colab-df-convert:hover {\n",
              "      background-color: #434B5C;\n",
              "      box-shadow: 0px 1px 3px 1px rgba(0, 0, 0, 0.15);\n",
              "      filter: drop-shadow(0px 1px 2px rgba(0, 0, 0, 0.3));\n",
              "      fill: #FFFFFF;\n",
              "    }\n",
              "  </style>\n",
              "\n",
              "      <script>\n",
              "        const buttonEl =\n",
              "          document.querySelector('#df-f9b587a9-2651-4249-88ea-cdbc4805d0e6 button.colab-df-convert');\n",
              "        buttonEl.style.display =\n",
              "          google.colab.kernel.accessAllowed ? 'block' : 'none';\n",
              "\n",
              "        async function convertToInteractive(key) {\n",
              "          const element = document.querySelector('#df-f9b587a9-2651-4249-88ea-cdbc4805d0e6');\n",
              "          const dataTable =\n",
              "            await google.colab.kernel.invokeFunction('convertToInteractive',\n",
              "                                                     [key], {});\n",
              "          if (!dataTable) return;\n",
              "\n",
              "          const docLinkHtml = 'Like what you see? Visit the ' +\n",
              "            '<a target=\"_blank\" href=https://colab.research.google.com/notebooks/data_table.ipynb>data table notebook</a>'\n",
              "            + ' to learn more about interactive tables.';\n",
              "          element.innerHTML = '';\n",
              "          dataTable['output_type'] = 'display_data';\n",
              "          await google.colab.output.renderOutput(dataTable, element);\n",
              "          const docLink = document.createElement('div');\n",
              "          docLink.innerHTML = docLinkHtml;\n",
              "          element.appendChild(docLink);\n",
              "        }\n",
              "      </script>\n",
              "    </div>\n",
              "  </div>\n",
              "  "
            ],
            "text/plain": [
              "       class-1    class-2    class-3 class-4 class-5 class-6 class-7 class-8\n",
              "0    umls:enzy        NaN        NaN     NaN     NaN     NaN     NaN     NaN\n",
              "1    umls:nusq  umls:gngm        NaN     NaN     NaN     NaN     NaN     NaN\n",
              "2    umls:orch  umls:clnd  umls:phsu     NaN     NaN     NaN     NaN     NaN\n",
              "3    umls:neop        NaN        NaN     NaN     NaN     NaN     NaN     NaN\n",
              "4    umls:clas        NaN        NaN     NaN     NaN     NaN     NaN     NaN\n",
              "..         ...        ...        ...     ...     ...     ...     ...     ...\n",
              "600  umls:sosy        NaN        NaN     NaN     NaN     NaN     NaN     NaN\n",
              "601  umls:clnd  umls:phsu  umls:aapp     NaN     NaN     NaN     NaN     NaN\n",
              "602  umls:resa        NaN        NaN     NaN     NaN     NaN     NaN     NaN\n",
              "603  umls:qnco  umls:clnd        NaN     NaN     NaN     NaN     NaN     NaN\n",
              "604  umls:clnd        NaN        NaN     NaN     NaN     NaN     NaN     NaN\n",
              "\n",
              "[600 rows x 8 columns]"
            ]
          },
          "execution_count": 10,
          "metadata": {},
          "output_type": "execute_result"
        }
      ],
      "source": [
        "df2[df2.columns[6:]]"
      ]
    },
    {
      "cell_type": "code",
      "execution_count": null,
      "metadata": {
        "id": "npo1RdTrfZ-K"
      },
      "outputs": [],
      "source": [
        "# t2 = pd.get_dummies(df2[df2.columns[6:]],prefix='')\n",
        "# t2 = t2.groupby(t2.columns, axis=1).sum()\n",
        "for column in t2.columns:\n",
        "  print(t2[column].value_counts()[1] >= 20)"
      ]
    },
    {
      "cell_type": "code",
      "execution_count": null,
      "metadata": {
        "colab": {
          "base_uri": "https://localhost:8080/"
        },
        "id": "zeU7IhcB9kf_",
        "outputId": "0b03c65d-6ef5-4656-87ea-0507a2e96e24"
      },
      "outputs": [
        {
          "name": "stdout",
          "output_type": "stream",
          "text": [
            "Class name: __QUANTITY\n",
            "no of instances 27\n",
            "model name:RandomForestClassifier\n",
            "score on test: 0.9625\n",
            "score on train: 0.9666666666666667\n",
            "[[229   3]\n",
            " [  6   2]]\n",
            "model name:LinearSVC\n",
            "score on test: 0.8\n",
            "score on train: 0.8166666666666667\n",
            "[[192  40]\n",
            " [  8   0]]\n",
            "model name:MultinomialNB\n",
            "score on test: 0.4875\n",
            "score on train: 0.4111111111111111\n",
            "[[109 123]\n",
            " [  0   8]]\n",
            "model name:LogisticRegression\n",
            "score on test: 0.9666666666666667\n",
            "score on train: 0.9472222222222222\n",
            "[[232   0]\n",
            " [  8   0]]\n",
            "model name:KNeighborsClassifier\n",
            "score on test: 0.9625\n",
            "score on train: 0.9611111111111111\n",
            "[[229   3]\n",
            " [  6   2]]\n",
            "--------------------------------------------------------\n",
            "Class name: _umls:aapp\n",
            "no of instances 170\n",
            "model name:RandomForestClassifier\n",
            "score on test: 0.7875\n",
            "score on train: 0.8777777777777778\n",
            "[[152  20]\n",
            " [ 31  37]]\n",
            "model name:LinearSVC\n",
            "score on test: 0.7208333333333333\n",
            "score on train: 0.7083333333333334\n",
            "[[172   0]\n",
            " [ 67   1]]\n",
            "model name:MultinomialNB\n",
            "score on test: 0.625\n",
            "score on train: 0.6694444444444444\n",
            "[[132  40]\n",
            " [ 50  18]]\n",
            "model name:LogisticRegression\n",
            "score on test: 0.6958333333333333\n",
            "score on train: 0.7388888888888889\n",
            "[[151  21]\n",
            " [ 52  16]]\n",
            "model name:KNeighborsClassifier\n",
            "score on test: 0.7333333333333333\n",
            "score on train: 0.8138888888888889\n",
            "[[137  35]\n",
            " [ 29  39]]\n",
            "--------------------------------------------------------\n",
            "Class name: _umls:bacs\n",
            "no of instances 49\n",
            "model name:RandomForestClassifier\n",
            "score on test: 0.9166666666666666\n",
            "score on train: 0.9277777777777778\n",
            "[[220   5]\n",
            " [ 15   0]]\n",
            "model name:LinearSVC\n",
            "score on test: 0.9375\n",
            "score on train: 0.9055555555555556\n",
            "[[225   0]\n",
            " [ 15   0]]\n",
            "model name:MultinomialNB\n",
            "score on test: 0.5791666666666667\n",
            "score on train: 0.6611111111111111\n",
            "[[132  93]\n",
            " [  8   7]]\n",
            "model name:LogisticRegression\n",
            "score on test: 0.9375\n",
            "score on train: 0.9055555555555556\n",
            "[[225   0]\n",
            " [ 15   0]]\n",
            "model name:KNeighborsClassifier\n",
            "score on test: 0.9375\n",
            "score on train: 0.9055555555555556\n",
            "[[225   0]\n",
            " [ 15   0]]\n",
            "--------------------------------------------------------\n",
            "Class name: _umls:clnd\n",
            "no of instances 25\n",
            "model name:RandomForestClassifier\n",
            "score on test: 0.9583333333333334\n",
            "score on train: 0.9833333333333333\n",
            "[[225   5]\n",
            " [  5   5]]\n",
            "model name:LinearSVC\n",
            "score on test: 0.37916666666666665\n",
            "score on train: 0.44722222222222224\n",
            "[[ 82 148]\n",
            " [  1   9]]\n",
            "model name:MultinomialNB\n",
            "score on test: 0.6458333333333334\n",
            "score on train: 0.7166666666666667\n",
            "[[151  79]\n",
            " [  6   4]]\n",
            "model name:LogisticRegression\n",
            "score on test: 0.9583333333333334\n",
            "score on train: 0.9583333333333334\n",
            "[[230   0]\n",
            " [ 10   0]]\n",
            "model name:KNeighborsClassifier\n",
            "score on test: 0.95\n",
            "score on train: 0.9777777777777777\n",
            "[[223   7]\n",
            " [  5   5]]\n",
            "--------------------------------------------------------\n",
            "Class name: _umls:dsyn\n",
            "no of instances 87\n",
            "model name:RandomForestClassifier\n",
            "score on test: 0.8666666666666667\n",
            "score on train: 0.9444444444444444\n",
            "[[192  13]\n",
            " [ 19  16]]\n",
            "model name:LinearSVC\n",
            "score on test: 0.8541666666666666\n",
            "score on train: 0.8555555555555555\n",
            "[[205   0]\n",
            " [ 35   0]]\n",
            "model name:MultinomialNB\n",
            "score on test: 0.49166666666666664\n",
            "score on train: 0.5555555555555556\n",
            "[[110  95]\n",
            " [ 27   8]]\n",
            "model name:LogisticRegression\n",
            "score on test: 0.85\n",
            "score on train: 0.8555555555555555\n",
            "[[204   1]\n",
            " [ 35   0]]\n",
            "model name:KNeighborsClassifier\n",
            "score on test: 0.8625\n",
            "score on train: 0.9083333333333333\n",
            "[[195  10]\n",
            " [ 23  12]]\n",
            "--------------------------------------------------------\n",
            "Class name: _umls:enzy\n",
            "no of instances 60\n",
            "model name:RandomForestClassifier\n",
            "score on test: 0.9041666666666667\n",
            "score on train: 0.9722222222222222\n",
            "[[205   5]\n",
            " [ 18  12]]\n",
            "model name:LinearSVC\n",
            "score on test: 0.8375\n",
            "score on train: 0.8916666666666667\n",
            "[[200  10]\n",
            " [ 29   1]]\n",
            "model name:MultinomialNB\n",
            "score on test: 0.8083333333333333\n",
            "score on train: 0.85\n",
            "[[183  27]\n",
            " [ 19  11]]\n",
            "model name:LogisticRegression\n",
            "score on test: 0.8708333333333333\n",
            "score on train: 0.925\n",
            "[[207   3]\n",
            " [ 28   2]]\n",
            "model name:KNeighborsClassifier\n",
            "score on test: 0.8875\n",
            "score on train: 0.9527777777777777\n",
            "[[202   8]\n",
            " [ 19  11]]\n",
            "--------------------------------------------------------\n",
            "Class name: _umls:genf\n",
            "no of instances 23\n",
            "model name:RandomForestClassifier\n",
            "score on test: 0.9583333333333334\n",
            "score on train: 0.9777777777777777\n",
            "[[226   6]\n",
            " [  4   4]]\n",
            "model name:LinearSVC\n",
            "score on test: 0.9666666666666667\n",
            "score on train: 0.9583333333333334\n",
            "[[232   0]\n",
            " [  8   0]]\n",
            "model name:MultinomialNB\n",
            "score on test: 0.6041666666666666\n",
            "score on train: 0.625\n",
            "[[143  89]\n",
            " [  6   2]]\n",
            "model name:LogisticRegression\n",
            "score on test: 0.9666666666666667\n",
            "score on train: 0.9583333333333334\n",
            "[[232   0]\n",
            " [  8   0]]\n",
            "model name:KNeighborsClassifier\n",
            "score on test: 0.9541666666666667\n",
            "score on train: 0.9666666666666667\n",
            "[[227   5]\n",
            " [  6   2]]\n",
            "--------------------------------------------------------\n",
            "Class name: _umls:gngm\n",
            "no of instances 106\n",
            "model name:RandomForestClassifier\n",
            "score on test: 0.8458333333333333\n",
            "score on train: 0.9111111111111111\n",
            "[[189  11]\n",
            " [ 26  14]]\n",
            "model name:LinearSVC\n",
            "score on test: 0.8333333333333334\n",
            "score on train: 0.8166666666666667\n",
            "[[200   0]\n",
            " [ 40   0]]\n",
            "model name:MultinomialNB\n",
            "score on test: 0.7291666666666666\n",
            "score on train: 0.75\n",
            "[[170  30]\n",
            " [ 35   5]]\n",
            "model name:LogisticRegression\n",
            "score on test: 0.8333333333333334\n",
            "score on train: 0.8166666666666667\n",
            "[[200   0]\n",
            " [ 40   0]]\n",
            "model name:KNeighborsClassifier\n",
            "score on test: 0.8541666666666666\n",
            "score on train: 0.8777777777777778\n",
            "[[189  11]\n",
            " [ 24  16]]\n",
            "--------------------------------------------------------\n",
            "Class name: _umls:nusq\n",
            "no of instances 20\n",
            "model name:RandomForestClassifier\n",
            "score on test: 0.9625\n",
            "score on train: 0.9888888888888889\n",
            "[[229   0]\n",
            " [  9   2]]\n",
            "model name:LinearSVC\n",
            "score on test: 0.9541666666666667\n",
            "score on train: 0.975\n",
            "[[229   0]\n",
            " [ 11   0]]\n",
            "model name:MultinomialNB\n",
            "score on test: 0.55\n",
            "score on train: 0.5138888888888888\n",
            "[[127 102]\n",
            " [  6   5]]\n",
            "model name:LogisticRegression\n",
            "score on test: 0.9541666666666667\n",
            "score on train: 0.9777777777777777\n",
            "[[229   0]\n",
            " [ 11   0]]\n",
            "model name:KNeighborsClassifier\n",
            "score on test: 0.9583333333333334\n",
            "score on train: 0.9777777777777777\n",
            "[[228   1]\n",
            " [  9   2]]\n",
            "--------------------------------------------------------\n",
            "Class name: _umls:orch\n",
            "no of instances 26\n",
            "model name:RandomForestClassifier\n",
            "score on test: 0.9583333333333334\n",
            "score on train: 0.975\n",
            "[[227   3]\n",
            " [  7   3]]\n",
            "model name:LinearSVC\n",
            "score on test: 0.9583333333333334\n",
            "score on train: 0.9555555555555556\n",
            "[[230   0]\n",
            " [ 10   0]]\n",
            "model name:MultinomialNB\n",
            "score on test: 0.20416666666666666\n",
            "score on train: 0.2\n",
            "[[ 41 189]\n",
            " [  2   8]]\n",
            "model name:LogisticRegression\n",
            "score on test: 0.9583333333333334\n",
            "score on train: 0.9555555555555556\n",
            "[[230   0]\n",
            " [ 10   0]]\n",
            "model name:KNeighborsClassifier\n",
            "score on test: 0.9541666666666667\n",
            "score on train: 0.9583333333333334\n",
            "[[227   3]\n",
            " [  8   2]]\n",
            "--------------------------------------------------------\n",
            "Class name: _umls:phsu\n",
            "no of instances 44\n",
            "model name:RandomForestClassifier\n",
            "score on test: 0.9125\n",
            "score on train: 0.9638888888888889\n",
            "[[217   3]\n",
            " [ 18   2]]\n",
            "model name:LinearSVC\n",
            "score on test: 0.9166666666666666\n",
            "score on train: 0.9361111111111111\n",
            "[[220   0]\n",
            " [ 20   0]]\n",
            "model name:MultinomialNB\n",
            "score on test: 0.675\n",
            "score on train: 0.7333333333333333\n",
            "[[153  67]\n",
            " [ 11   9]]\n",
            "model name:LogisticRegression\n",
            "score on test: 0.9166666666666666\n",
            "score on train: 0.9361111111111111\n",
            "[[220   0]\n",
            " [ 20   0]]\n",
            "model name:KNeighborsClassifier\n",
            "score on test: 0.9083333333333333\n",
            "score on train: 0.9472222222222222\n",
            "[[216   4]\n",
            " [ 18   2]]\n",
            "--------------------------------------------------------\n",
            "Class name: _umls:qnco\n",
            "no of instances 30\n",
            "model name:RandomForestClassifier\n",
            "score on test: 0.95\n",
            "score on train: 0.975\n",
            "[[224   6]\n",
            " [  6   4]]\n",
            "model name:LinearSVC\n",
            "score on test: 0.9583333333333334\n",
            "score on train: 0.9444444444444444\n",
            "[[230   0]\n",
            " [ 10   0]]\n",
            "model name:MultinomialNB\n",
            "score on test: 0.325\n",
            "score on train: 0.3055555555555556\n",
            "[[ 68 162]\n",
            " [  0  10]]\n",
            "model name:LogisticRegression\n",
            "score on test: 0.9583333333333334\n",
            "score on train: 0.9444444444444444\n",
            "[[230   0]\n",
            " [ 10   0]]\n",
            "model name:KNeighborsClassifier\n",
            "score on test: 0.9625\n",
            "score on train: 0.9638888888888889\n",
            "[[228   2]\n",
            " [  7   3]]\n",
            "--------------------------------------------------------\n",
            "Class name: _umls:sosy\n",
            "no of instances 30\n",
            "model name:RandomForestClassifier\n",
            "score on test: 0.9625\n",
            "score on train: 0.9666666666666667\n",
            "[[228   2]\n",
            " [  7   3]]\n",
            "model name:LinearSVC\n",
            "score on test: 0.9583333333333334\n",
            "score on train: 0.9444444444444444\n",
            "[[230   0]\n",
            " [ 10   0]]\n",
            "model name:MultinomialNB\n",
            "score on test: 0.29583333333333334\n",
            "score on train: 0.2833333333333333\n",
            "[[ 63 167]\n",
            " [  2   8]]\n",
            "model name:LogisticRegression\n",
            "score on test: 0.9583333333333334\n",
            "score on train: 0.9444444444444444\n",
            "[[230   0]\n",
            " [ 10   0]]\n",
            "model name:KNeighborsClassifier\n",
            "score on test: 0.95\n",
            "score on train: 0.9472222222222222\n",
            "[[226   4]\n",
            " [  8   2]]\n",
            "--------------------------------------------------------\n"
          ]
        }
      ],
      "source": [
        "import warnings\n",
        "warnings.filterwarnings('ignore')\n",
        "from sklearn.preprocessing import LabelEncoder\n",
        "from sklearn.model_selection import train_test_split\n",
        "from sklearn.naive_bayes import MultinomialNB\n",
        "from sklearn.linear_model import LogisticRegression\n",
        "from sklearn.neighbors import KNeighborsClassifier\n",
        "from sklearn.ensemble import RandomForestClassifier\n",
        "from sklearn.svm import LinearSVC\n",
        "# from sklearn.multiclass import OneVsRestClassifier\n",
        "from sklearn.svm import SVC\n",
        "from sklearn.model_selection import cross_val_score\n",
        "from sklearn.metrics import confusion_matrix\n",
        "\n",
        "\n",
        "features = df2[df2.columns[:6]].values\n",
        "\n",
        "\n",
        "for column in t2.columns:\n",
        "  if t2[column].value_counts()[1] >= 20:\n",
        "    print(\"Class name: {}\".format(column))\n",
        "    print(\"no of instances {}\".format(t2[column].value_counts()[1]))\n",
        "    labels = t2[column].values\n",
        "    X_train, X_test, y_train, y_test = train_test_split(features, labels, random_state=0)\n",
        "\n",
        "    models = [\n",
        "        # RandomForestClassifier(n_estimators=200, max_depth=3, random_state=0),\n",
        "        RandomForestClassifier(),\n",
        "        LinearSVC(),\n",
        "        MultinomialNB(),\n",
        "        LogisticRegression(),\n",
        "        KNeighborsClassifier()\n",
        "    ]\n",
        "    CV = 10\n",
        "    cv_df = pd.DataFrame(index=range(CV * len(models)))\n",
        "    entries = []\n",
        "    for model in models:\n",
        "      model_name = model.__class__.__name__\n",
        "      print(\"model name:{}\".format(model_name))\n",
        "      X_train, X_test, y_train, y_test = train_test_split(features, labels, test_size=0.4, random_state=0)\n",
        "      model.fit(X_train, y_train)\n",
        "      print(\"score on test: \" + str(model.score(X_test, y_test)))\n",
        "      print(\"score on train: \"+ str(model.score(X_train, y_train)))\n",
        "      y_pred = model.predict(X_test)\n",
        "      conf_mat = confusion_matrix(y_test, y_pred)\n",
        "      print(conf_mat)\n",
        "\n",
        "    print(\"--------------------------------------------------------\")\n",
        "\n"
      ]
    },
    {
      "cell_type": "code",
      "execution_count": null,
      "metadata": {
        "colab": {
          "base_uri": "https://localhost:8080/"
        },
        "id": "xslKWB3rYXkY",
        "outputId": "67a80567-9022-4d62-8700-22658564b5a9"
      },
      "outputs": [
        {
          "name": "stdout",
          "output_type": "stream",
          "text": [
            "Feature name: __QUANTITY\n",
            "no of instances 27\n",
            "model_name\n",
            "KNeighborsClassifier      0.955000\n",
            "LinearSVC                 0.935000\n",
            "LogisticRegression        0.955000\n",
            "MultinomialNB             0.453333\n",
            "RandomForestClassifier    0.960000\n",
            "Name: accuracy, dtype: float64\n",
            "Feature name: _umls:aapp\n",
            "no of instances 170\n",
            "model_name\n",
            "KNeighborsClassifier      0.790000\n",
            "LinearSVC                 0.646667\n",
            "LogisticRegression        0.710000\n",
            "MultinomialNB             0.675000\n",
            "RandomForestClassifier    0.796667\n",
            "Name: accuracy, dtype: float64\n",
            "Feature name: _umls:bacs\n",
            "no of instances 49\n",
            "model_name\n",
            "KNeighborsClassifier      0.906667\n",
            "LinearSVC                 0.868333\n",
            "LogisticRegression        0.918333\n",
            "MultinomialNB             0.656667\n",
            "RandomForestClassifier    0.908333\n",
            "Name: accuracy, dtype: float64\n",
            "Feature name: _umls:clnd\n",
            "no of instances 25\n",
            "model_name\n",
            "KNeighborsClassifier      0.970000\n",
            "LinearSVC                 0.896667\n",
            "LogisticRegression        0.956667\n",
            "MultinomialNB             0.701667\n",
            "RandomForestClassifier    0.968333\n",
            "Name: accuracy, dtype: float64\n",
            "Feature name: _umls:dsyn\n",
            "no of instances 87\n",
            "model_name\n",
            "KNeighborsClassifier      0.865000\n",
            "LinearSVC                 0.800000\n",
            "LogisticRegression        0.853333\n",
            "MultinomialNB             0.753333\n",
            "RandomForestClassifier    0.875000\n",
            "Name: accuracy, dtype: float64\n",
            "Feature name: _umls:enzy\n",
            "no of instances 60\n",
            "model_name\n",
            "KNeighborsClassifier      0.916667\n",
            "LinearSVC                 0.888333\n",
            "LogisticRegression        0.905000\n",
            "MultinomialNB             0.835000\n",
            "RandomForestClassifier    0.935000\n",
            "Name: accuracy, dtype: float64\n",
            "Feature name: _umls:genf\n",
            "no of instances 23\n",
            "model_name\n",
            "KNeighborsClassifier      0.963333\n",
            "LinearSVC                 0.961667\n",
            "LogisticRegression        0.961667\n",
            "MultinomialNB             0.270000\n",
            "RandomForestClassifier    0.953333\n",
            "Name: accuracy, dtype: float64\n",
            "Feature name: _umls:gngm\n",
            "no of instances 106\n",
            "model_name\n",
            "KNeighborsClassifier      0.826667\n",
            "LinearSVC                 0.748333\n",
            "LogisticRegression        0.820000\n",
            "MultinomialNB             0.635000\n",
            "RandomForestClassifier    0.875000\n",
            "Name: accuracy, dtype: float64\n",
            "Feature name: _umls:nusq\n",
            "no of instances 20\n",
            "model_name\n",
            "KNeighborsClassifier      0.973333\n",
            "LinearSVC                 0.923333\n",
            "LogisticRegression        0.965000\n",
            "MultinomialNB             0.488333\n",
            "RandomForestClassifier    0.966667\n",
            "Name: accuracy, dtype: float64\n",
            "Feature name: _umls:orch\n",
            "no of instances 26\n",
            "model_name\n",
            "KNeighborsClassifier      0.953333\n",
            "LinearSVC                 0.946667\n",
            "LogisticRegression        0.956667\n",
            "MultinomialNB             0.323333\n",
            "RandomForestClassifier    0.958333\n",
            "Name: accuracy, dtype: float64\n",
            "Feature name: _umls:phsu\n",
            "no of instances 44\n",
            "model_name\n",
            "KNeighborsClassifier      0.920000\n",
            "LinearSVC                 0.876667\n",
            "LogisticRegression        0.926667\n",
            "MultinomialNB             0.715000\n",
            "RandomForestClassifier    0.921667\n",
            "Name: accuracy, dtype: float64\n",
            "Feature name: _umls:qnco\n",
            "no of instances 30\n",
            "model_name\n",
            "KNeighborsClassifier      0.955000\n",
            "LinearSVC                 0.873333\n",
            "LogisticRegression        0.950000\n",
            "MultinomialNB             0.461667\n",
            "RandomForestClassifier    0.956667\n",
            "Name: accuracy, dtype: float64\n",
            "Feature name: _umls:sosy\n",
            "no of instances 30\n",
            "model_name\n",
            "KNeighborsClassifier      0.943333\n",
            "LinearSVC                 0.788333\n",
            "LogisticRegression        0.950000\n",
            "MultinomialNB             0.276667\n",
            "RandomForestClassifier    0.951667\n",
            "Name: accuracy, dtype: float64\n"
          ]
        }
      ],
      "source": [
        "import warnings\n",
        "warnings.filterwarnings('ignore')\n",
        "from sklearn.preprocessing import LabelEncoder\n",
        "from sklearn.model_selection import train_test_split\n",
        "from sklearn.naive_bayes import MultinomialNB\n",
        "from sklearn.linear_model import LogisticRegression\n",
        "from sklearn.neighbors import KNeighborsClassifier\n",
        "from sklearn.ensemble import RandomForestClassifier\n",
        "from sklearn.svm import LinearSVC\n",
        "# from sklearn.multiclass import OneVsRestClassifier\n",
        "from sklearn.svm import SVC\n",
        "from sklearn.model_selection import cross_val_score\n",
        "\n",
        "features = df2[df2.columns[:6]].values\n",
        "\n",
        "\n",
        "for column in t2.columns:\n",
        "  if t2[column].value_counts()[1] >= 20:\n",
        "    labels = t2[column].values\n",
        "    X_train, X_test, y_train, y_test = train_test_split(features, labels, random_state=0)\n",
        "\n",
        "    models = [\n",
        "        # RandomForestClassifier(n_estimators=200, max_depth=3, random_state=0),\n",
        "        RandomForestClassifier(),\n",
        "        LinearSVC(),\n",
        "        MultinomialNB(),\n",
        "        LogisticRegression(),\n",
        "        KNeighborsClassifier()\n",
        "    ]\n",
        "    CV = 10\n",
        "    cv_df = pd.DataFrame(index=range(CV * len(models)))\n",
        "    entries = []\n",
        "    for model in models:\n",
        "      model_name = model.__class__.__name__\n",
        "      accuracies = cross_val_score(model, features, labels, scoring='accuracy', cv=CV,n_jobs=5)\n",
        "      for fold_idx, accuracy in enumerate(accuracies):\n",
        "        entries.append((model_name, fold_idx, accuracy))\n",
        "    cv_df = pd.DataFrame(entries, columns=['model_name', 'fold_idx', 'accuracy'])\n",
        "    # import seaborn as sns\n",
        "    # sns.boxplot(x='model_name', y='accuracy', data=cv_df)\n",
        "    # sns.stripplot(x='model_name', y='accuracy', data=cv_df, \n",
        "    #               size=8, jitter=True, edgecolor=\"gray\", linewidth=2)\n",
        "    # plt.show()\n",
        "    print(\"Feature name: {}\".format(column))\n",
        "    print(\"no of instances {}\".format(t2[column].value_counts()[1]))\n",
        "    print(cv_df.groupby('model_name').accuracy.mean())"
      ]
    },
    {
      "cell_type": "code",
      "execution_count": null,
      "metadata": {
        "id": "GJ8zqWkslbrc"
      },
      "outputs": [],
      "source": [
        "from sklearn.preprocessing import LabelEncoder\n",
        "from sklearn.model_selection import train_test_split\n",
        "from sklearn.naive_bayes import MultinomialNB\n",
        "from sklearn.linear_model import LogisticRegression\n",
        "from sklearn.ensemble import RandomForestClassifier\n",
        "from sklearn.svm import LinearSVC\n",
        "# from sklearn.multiclass import OneVsRestClassifier\n",
        "# from sklearn.svm import SVC\n",
        "from sklearn.model_selection import cross_val_score\n",
        "\n",
        "for n_data in range(41):\n",
        "\n",
        "  f_df = df2.groupby('class-1').filter(lambda x : len(x) > n_data)\n",
        "  n_class = f_df['class-1'].nunique()\n",
        "  encoder = LabelEncoder()\n",
        "  encoded_values = encoder.fit_transform(f_df[\"class-1\"].values)\n",
        "  f_df[\"class_id\"] = pd.Series(encoded_values, index=f_df.index)\n",
        "  features = f_df[f_df.columns[:6]].values\n",
        "  labels = f_df['class_id'].values\n",
        "  X_train, X_test, y_train, y_test = train_test_split(features, labels, random_state=0)\n",
        "\n",
        "  models = [\n",
        "      RandomForestClassifier(n_estimators=200, max_depth=3, random_state=0),\n",
        "      LinearSVC(),\n",
        "      MultinomialNB(),\n",
        "      LogisticRegression(multi_class='multinomial',random_state=0),\n",
        "      OneVsRestClassifier(SVC())\n",
        "  ]\n",
        "  CV = 5\n",
        "  cv_df = pd.DataFrame(index=range(CV * len(models)))\n",
        "  entries = []\n",
        "  for model in models:\n",
        "    model_name = model.__class__.__name__\n",
        "    accuracies = cross_val_score(model, features, labels, scoring='accuracy', cv=CV)\n",
        "    for fold_idx, accuracy in enumerate(accuracies):\n",
        "      entries.append((model_name, fold_idx, accuracy))\n",
        "  cv_df = pd.DataFrame(entries, columns=['model_name', 'fold_idx', 'accuracy'])\n",
        "  # import seaborn as sns\n",
        "  # sns.boxplot(x='model_name', y='accuracy', data=cv_df)\n",
        "  # sns.stripplot(x='model_name', y='accuracy', data=cv_df, \n",
        "  #               size=8, jitter=True, edgecolor=\"gray\", linewidth=2)\n",
        "  # plt.show()\n",
        "  print(cv_df.groupby('model_name').accuracy.mean())\n",
        "  print(\"Number of class {} minimum data per class {}\".format(n_class,n_data+1))"
      ]
    },
    {
      "cell_type": "code",
      "execution_count": null,
      "metadata": {
        "colab": {
          "base_uri": "https://localhost:8080/",
          "height": 609
        },
        "id": "XwzENmbyrdFi",
        "outputId": "771eea15-ebb6-4159-b739-511a51d8bd9e"
      },
      "outputs": [
        {
          "data": {
            "image/png": "[encoded data removed]",
            "text/plain": [
              "<Figure size 720x720 with 2 Axes>"
            ]
          },
          "metadata": {},
          "output_type": "display_data"
        }
      ],
      "source": [
        "f_df = df2.groupby('class').filter(lambda x : len(x) > 32)\n",
        "encoder = LabelEncoder()\n",
        "encoded_values = encoder.fit_transform(f_df[\"class\"].values)\n",
        "f_df[\"class_id\"] = pd.Series(encoded_values, index=f_df.index)\n",
        "from sklearn.model_selection import train_test_split\n",
        "from sklearn.naive_bayes import MultinomialNB\n",
        "features = f_df[f_df.columns[:6]].values\n",
        "labels = f_df['class_id'].values\n",
        "\n",
        "\n",
        "model = RandomForestClassifier(n_estimators=200, max_depth=3, random_state=0)\n",
        "X_train, X_test, y_train, y_test, indices_train, indices_test = train_test_split(features, labels, f_df.index, test_size=0.33, random_state=0)\n",
        "model.fit(X_train, y_train)\n",
        "y_pred = model.predict(X_test)\n",
        "from sklearn.metrics import confusion_matrix\n",
        "conf_mat = confusion_matrix(y_test, y_pred)\n",
        "fig, ax = plt.subplots(figsize=(10,10))\n",
        "sns.heatmap(conf_mat, annot=True, fmt='d')\n",
        "plt.ylabel('Actual')\n",
        "plt.xlabel('Predicted')\n",
        "plt.show()"
      ]
    },
    {
      "cell_type": "code",
      "execution_count": null,
      "metadata": {
        "id": "wgvs0zT9ZBfU"
      },
      "outputs": [],
      "source": [
        "from sklearn.datasets import make_multilabel_classification\n",
        "\n",
        "# this will generate a random multi-label dataset\n",
        "X, y = make_multilabel_classification(sparse = True, n_labels = 5,return_indicator = 'sparse', allow_unlabeled = True)"
      ]
    },
    {
      "cell_type": "code",
      "execution_count": null,
      "metadata": {
        "colab": {
          "base_uri": "https://localhost:8080/"
        },
        "id": "sIj0JgYkZNHH",
        "outputId": "9007d374-707c-40de-a18f-daabf183442d"
      },
      "outputs": [
        {
          "data": {
            "text/plain": [
              "<100x5 sparse matrix of type '<class 'numpy.int64'>'\n",
              "\twith 363 stored elements in Compressed Sparse Row format>"
            ]
          },
          "execution_count": 55,
          "metadata": {},
          "output_type": "execute_result"
        }
      ],
      "source": [
        "y"
      ]
    },
    {
      "cell_type": "code",
      "execution_count": null,
      "metadata": {
        "id": "EcHPuq36Oifm"
      },
      "outputs": [],
      "source": [
        "for n in range(2,9):\n",
        "  target = \"class-{}\".format(n)\n",
        "  temp = df[[\"Labels\", \"Question_lemma\", \"Question_focus\",\t\"Question_concepts\",\t\"Dependency_pairs\",\t\"Head_dependency_pairs\",target]].dropna()\n",
        "  temp.rename(columns={target: \"Class\"}, inplace=True)\n",
        "  tdf = pd.concat([tdf, temp], ignore_index=True, sort=False)\n",
        "\n",
        "tdf.info()"
      ]
    },
    {
      "cell_type": "code",
      "execution_count": null,
      "metadata": {
        "id": "MJ_yPzc9z-_j"
      },
      "outputs": [],
      "source": [
        "df.apply(lambda x: some_func(a = x['a'], b = x['b'], c = x['c']), axis=1)"
      ]
    },
    {
      "cell_type": "code",
      "execution_count": null,
      "metadata": {
        "colab": {
          "base_uri": "https://localhost:8080/"
        },
        "id": "-duiCUy5NXBj",
        "outputId": "99b3ca42-9f05-4950-c412-d57b8cf28f0d"
      },
      "outputs": [
        {
          "data": {
            "text/plain": [
              "['transporter (Membrane Transport Proteins) [aapp,bacs]',\n",
              " 'transporter (Membrane Transport Proteins) [aapp,bacs]']"
            ]
          },
          "execution_count": 17,
          "metadata": {},
          "output_type": "execute_result"
        }
      ],
      "source": [
        "matching = [s for s in semantic_types if focus in s]\n"
      ]
    },
    {
      "cell_type": "code",
      "execution_count": null,
      "metadata": {
        "id": "Ph_iSunt1Hpe"
      },
      "outputs": [],
      "source": [
        "# def get_concept(question):\n",
        "#   try:\n",
        "#     doc = nlp(question)\n",
        "#     # print(\"entites:{}\".format(doc.ents))\n",
        "#     focus = focus_extraction(question)\n",
        "#     # print(\"focus:{}\".format(focus))\n",
        "#     for ent in doc.ents:\n",
        "#       # print(\"focus:{} - ent:{}\".format(focus,ent.lemma_))\n",
        "#       if focus != None and focus.lemma_ in ent.lemma_:\n",
        "#         # concept = str(ent.lemma_)\n",
        "#         concept = ent\n",
        "#         # print(\"concept: {}\".format(concept))\n",
        "#         return concept\n",
        "#   except:\n",
        "#     return None    \n"
      ]
    },
    {
      "cell_type": "code",
      "execution_count": null,
      "metadata": {
        "colab": {
          "base_uri": "https://localhost:8080/",
          "height": 49,
          "referenced_widgets": [
            "f3d479cb0dfb4bad8f1622592bdfc999",
            "be5ee1bba70d424aa7a8f69ef4330694",
            "2d0649279b2644fcab2fed634e45d11f",
            "5b5d7af5ff5641d1a805fef855b11436",
            "51407382628d49959d978ddb547bd5f3",
            "57d248f4f5e2435781bbecea94d26570",
            "9bea01d3597743109ff11fb5a393bd37",
            "d29b0583817541f89a7e39239c0240bc",
            "03ba66c5979041979abaaf1a06d6b6f4",
            "3ba0000ed6ee4472bdba36d74deb4756",
            "454012c20c7e4f548e73d74b1c967c72"
          ]
        },
        "id": "vY5emTj1gMRs",
        "outputId": "3156576a-1374-4d4c-a348-99a8ad64cf02"
      },
      "outputs": [
        {
          "data": {
            "application/vnd.jupyter.widget-view+json": {
              "model_id": "f3d479cb0dfb4bad8f1622592bdfc999",
              "version_major": 2,
              "version_minor": 0
            },
            "text/plain": [
              "Pandas Apply:   0%|          | 0/773 [00:00<?, ?it/s]"
            ]
          },
          "metadata": {},
          "output_type": "display_data"
        }
      ],
      "source": [
        "df['Question_concepts'] = df['Question'].swifter.apply(lambda row : get_concept(row))"
      ]
    },
    {
      "cell_type": "code",
      "execution_count": null,
      "metadata": {
        "id": "8RaOY-TK4v7M"
      },
      "outputs": [],
      "source": [
        "df[['Question','Question_concepts']].to_csv(\"Qs&concept.csv\")"
      ]
    },
    {
      "cell_type": "code",
      "execution_count": null,
      "metadata": {
        "colab": {
          "base_uri": "https://localhost:8080/"
        },
        "id": "fUu3Sp--Gfdb",
        "outputId": "86340c69-7f13-477c-f8f9-1f94bc18d4b2"
      },
      "outputs": [
        {
          "name": "stdout",
          "output_type": "stream",
          "text": [
            "<class 'pandas.core.frame.DataFrame'>\n",
            "Int64Index: 773 entries, 0 to 780\n",
            "Data columns (total 17 columns):\n",
            " #   Column             Non-Null Count  Dtype \n",
            "---  ------             --------------  ----- \n",
            " 0   Question           773 non-null    object\n",
            " 1   Documents          689 non-null    object\n",
            " 2   Ideal_Answer       696 non-null    object\n",
            " 3   Exact_Answer       689 non-null    object\n",
            " 4   Concept            552 non-null    object\n",
            " 5   Labels             773 non-null    object\n",
            " 6   class-1            773 non-null    object\n",
            " 7   class-2            359 non-null    object\n",
            " 8   class-3            119 non-null    object\n",
            " 9   class-4            31 non-null     object\n",
            " 10  class-5            13 non-null     object\n",
            " 11  class-6            5 non-null      object\n",
            " 12  class-7            2 non-null      object\n",
            " 13  class-8            2 non-null      object\n",
            " 14  Question_lemma     773 non-null    object\n",
            " 15  Question_focus     726 non-null    object\n",
            " 16  Question_concepts  629 non-null    object\n",
            "dtypes: object(17)\n",
            "memory usage: 128.7+ KB\n"
          ]
        }
      ],
      "source": [
        "df.info()"
      ]
    },
    {
      "cell_type": "code",
      "execution_count": null,
      "metadata": {
        "colab": {
          "base_uri": "https://localhost:8080/"
        },
        "id": "b3J-1gPCrZ6q",
        "outputId": "ada380ef-9ee6-4d34-9d43-614848494d02"
      },
      "outputs": [
        {
          "data": {
            "text/plain": [
              "NoneType"
            ]
          },
          "execution_count": 55,
          "metadata": {},
          "output_type": "execute_result"
        }
      ],
      "source": [
        "type(df['Question_concepts' ][0])"
      ]
    },
    {
      "cell_type": "code",
      "execution_count": null,
      "metadata": {
        "colab": {
          "base_uri": "https://localhost:8080/"
        },
        "id": "cFliNO8LHOzs",
        "outputId": "3ff57c18-b6ce-44c1-952a-8ec7bd32b395"
      },
      "outputs": [
        {
          "data": {
            "text/plain": [
              "144"
            ]
          },
          "execution_count": 56,
          "metadata": {},
          "output_type": "execute_result"
        }
      ],
      "source": [
        "df['Question_concepts' ].isna().sum()"
      ]
    },
    {
      "cell_type": "code",
      "execution_count": null,
      "metadata": {
        "id": "EqgZNjBm9VZ2"
      },
      "outputs": [],
      "source": [
        "df[df['Question_concepts'].isna()]"
      ]
    },
    {
      "cell_type": "code",
      "execution_count": null,
      "metadata": {
        "colab": {
          "base_uri": "https://localhost:8080/"
        },
        "id": "hPJerqeL6sdq",
        "outputId": "e4e81c83-373d-4d11-b452-ca4228e22984"
      },
      "outputs": [
        {
          "name": "stdout",
          "output_type": "stream",
          "text": [
            "entites:(list, signaling molecules, ligands, interact, receptor EGFR)\n",
            "focus:list\n",
            "concept: list\n",
            "list\n"
          ]
        }
      ],
      "source": [
        "concept = get_concept(\"list signaling molecules (ligands) that interact with the receptor EGFR\")\n",
        "print(concept)"
      ]
    },
    {
      "cell_type": "markdown",
      "metadata": {
        "id": "IkDDwQmZq4d8"
      },
      "source": [
        "# Semantic dependency parsing"
      ]
    },
    {
      "cell_type": "code",
      "execution_count": null,
      "metadata": {
        "id": "ZTHjOAt9CW30"
      },
      "outputs": [],
      "source": [
        "from itertools import combinations\n",
        "from itertools import product"
      ]
    },
    {
      "cell_type": "code",
      "execution_count": null,
      "metadata": {
        "id": "peHhwoLg5UYu"
      },
      "outputs": [],
      "source": [
        "# -----------------backup-----------------\n",
        "def get_dependency_pairs(question):\n",
        "  try:\n",
        "    doc = nlp(question)\n",
        "    concept = get_concept(question)\n",
        "    dependency_pairs = []\n",
        "    for word in concept:\n",
        "      dependency_pairs.append([(child,word) for child in word.children])\n",
        "    dependency_pairs = max(dependency_pairs,key=len)\n",
        "    if dependency_pairs:\n",
        "      # print(dependency_pairs)\n",
        "      return dependency_pairs\n",
        "    else:\n",
        "      # print([(concept,)])\n",
        "      return (concept,)\n",
        "  except:\n",
        "    return None"
      ]
    },
    {
      "cell_type": "code",
      "execution_count": null,
      "metadata": {
        "id": "aCThNgOUsNWg"
      },
      "outputs": [],
      "source": [
        "def get_dependency_pairs(question):\n",
        "  try:\n",
        "    doc = nlp(question)\n",
        "    concept = get_concept(question)\n",
        "    dependency_pairs = []\n",
        "    for word in concept:\n",
        "      dependency_pairs.append([child.lemma_+' '+word.lemma_ for child in word.children])\n",
        "    dependency_pairs = max(dependency_pairs,key=len)\n",
        "    if dependency_pairs:\n",
        "      dependency_pair_string = ' '.join([pair for pair in dependency_pairs])\n",
        "      # print(\"dep pair string:{}\".format(dependency_pair_string))\n",
        "      return dependency_pair_string\n",
        "    else:\n",
        "      # print(\"returning concept as dep pairs:{}\".format(concept.lemma_))\n",
        "      return concept.lemma_\n",
        "  except:\n",
        "    # print(\"None\")\n",
        "    return None"
      ]
    },
    {
      "cell_type": "code",
      "execution_count": null,
      "metadata": {
        "colab": {
          "base_uri": "https://localhost:8080/",
          "height": 49,
          "referenced_widgets": [
            "1f4594198fd64eaebf5bb8649fa84a0b"
          ]
        },
        "id": "qlUhUkquDr12",
        "outputId": "5261319e-d222-4cbb-ba55-8848ad5faec3"
      },
      "outputs": [
        {
          "data": {
            "application/vnd.jupyter.widget-view+json": {
              "model_id": "1f4594198fd64eaebf5bb8649fa84a0b",
              "version_major": 2,
              "version_minor": 0
            },
            "text/plain": [
              "Pandas Apply:   0%|          | 0/773 [00:00<?, ?it/s]"
            ]
          },
          "metadata": {},
          "output_type": "display_data"
        }
      ],
      "source": [
        "df['Dependency_pairs'] = df['Question'].swifter.apply(lambda row : get_dependency_pairs(row))"
      ]
    },
    {
      "cell_type": "code",
      "execution_count": null,
      "metadata": {
        "id": "eYylJ4F2BH5H"
      },
      "outputs": [],
      "source": [
        "df['Dependency_pairs'].isnull().sum()"
      ]
    },
    {
      "cell_type": "code",
      "execution_count": null,
      "metadata": {
        "id": "pDMOLeCf67lK"
      },
      "outputs": [],
      "source": [
        "df[['Question','Dependency_pairs']].to_csv(\"Qs&dprs.csv\")"
      ]
    },
    {
      "cell_type": "code",
      "execution_count": null,
      "metadata": {
        "id": "Uy-nQxOT-cng"
      },
      "outputs": [],
      "source": [
        "df[df[\"Dependency_pairs\"].astype(bool) == False]"
      ]
    },
    {
      "cell_type": "code",
      "execution_count": null,
      "metadata": {
        "id": "GucS-OYbkQk6"
      },
      "outputs": [],
      "source": [
        "df[df['Dependency_pairs'].isna()]"
      ]
    },
    {
      "cell_type": "code",
      "execution_count": null,
      "metadata": {
        "colab": {
          "base_uri": "https://localhost:8080/",
          "height": 35
        },
        "id": "LFwwrAqo_a7i",
        "outputId": "5a99541d-104d-40dd-f0e1-301dd1638a62"
      },
      "outputs": [
        {
          "data": {
            "application/vnd.google.colaboratory.intrinsic+json": {
              "type": "string"
            },
            "text/plain": [
              "'abnormality link chromosome link be link disease link ? link'"
            ]
          },
          "execution_count": 78,
          "metadata": {},
          "output_type": "execute_result"
        }
      ],
      "source": [
        "question = \"Abnormalities in which chromosomes were linked to the Moyamoya disease?\"\n",
        "get_dependency_pairs(question)\n",
        "get_head_dependency_pairs(question)"
      ]
    },
    {
      "cell_type": "markdown",
      "metadata": {
        "id": "_EMlGs3oRNFK"
      },
      "source": [
        "# Semantic head dependency"
      ]
    },
    {
      "cell_type": "code",
      "execution_count": null,
      "metadata": {
        "id": "zIIbwHDrrARq"
      },
      "outputs": [],
      "source": [
        "# -----------------backup-----------------\n",
        "def get_head_dependency_pairs(question):\n",
        "  doc = nlp(question)\n",
        "  try:\n",
        "    focus,concept = get_concept(question)\n",
        "    head_dependency_pairs = []\n",
        "    for word in concept:\n",
        "      print( \"word: {}->{}\".format( word,word.head) )\n",
        "      head_dependency_pairs.append([(child,word.head) for child in word.head.children])\n",
        "    head_dependency_pairs = max(head_dependency_pairs,key=len)\n",
        "    if head_dependency_pairs:\n",
        "      # print(head_dependency_pairs)\n",
        "      return head_dependency_pairs\n",
        "  except:\n",
        "    # print(\"None\")\n",
        "    return None"
      ]
    },
    {
      "cell_type": "code",
      "execution_count": null,
      "metadata": {
        "id": "lvng0vdUxzNj"
      },
      "outputs": [],
      "source": [
        "def get_head_dependency_pairs(question):\n",
        "  try:\n",
        "    doc = nlp(question)\n",
        "    concept = get_concept(question)\n",
        "    dependency_pairs = []\n",
        "    for word in concept:\n",
        "      dependency_pairs.append([child.lemma_+' '+word.head.lemma_ for child in word.head.children])\n",
        "    dependency_pairs = max(dependency_pairs,key=len)\n",
        "    if dependency_pairs:\n",
        "      dependency_pair_string = ' '.join([pair for pair in dependency_pairs])\n",
        "      # print(\"head_dep pair string:{}\".format(dependency_pair_string))\n",
        "      # return dependency_pair_string\n",
        "      return dependency_pairs\n",
        "  except:\n",
        "    # print(\"None\")\n",
        "    return None"
      ]
    },
    {
      "cell_type": "code",
      "execution_count": null,
      "metadata": {
        "colab": {
          "base_uri": "https://localhost:8080/"
        },
        "id": "HuQU1fRM3qP8",
        "outputId": "607018a9-77f0-411a-c18d-b51c4cfbe20c"
      },
      "outputs": [
        {
          "data": {
            "text/plain": [
              "['abnormality link', 'chromosome link', 'be link', 'disease link', '? link']"
            ]
          },
          "execution_count": 62,
          "metadata": {},
          "output_type": "execute_result"
        }
      ],
      "source": [
        "question = \"Abnormalities in which chromosomes were linked to the Moyamoya disease?\"\n",
        "get_head_dependency_pairs(question)"
      ]
    },
    {
      "cell_type": "code",
      "execution_count": null,
      "metadata": {
        "colab": {
          "base_uri": "https://localhost:8080/",
          "height": 49,
          "referenced_widgets": [
            "bfd7c9b372de4b709d0e5257df7c48bc"
          ]
        },
        "id": "qR4ulTPTs5sk",
        "outputId": "e861ea3d-a507-45d6-f217-8f8bb4b01faa"
      },
      "outputs": [
        {
          "data": {
            "application/vnd.jupyter.widget-view+json": {
              "model_id": "bfd7c9b372de4b709d0e5257df7c48bc",
              "version_major": 2,
              "version_minor": 0
            },
            "text/plain": [
              "Pandas Apply:   0%|          | 0/773 [00:00<?, ?it/s]"
            ]
          },
          "metadata": {},
          "output_type": "display_data"
        }
      ],
      "source": [
        "df['Head_dependency_pairs'] = df['Question'].swifter.apply(lambda row : get_head_dependency_pairs(row))"
      ]
    },
    {
      "cell_type": "code",
      "execution_count": null,
      "metadata": {
        "id": "tJdSVuW5FzPI"
      },
      "outputs": [],
      "source": [
        "df[['Question','Head_dependency_pairs']].to_csv(\"Qs&Headprs.csv\")"
      ]
    },
    {
      "cell_type": "code",
      "execution_count": null,
      "metadata": {
        "colab": {
          "base_uri": "https://localhost:8080/"
        },
        "id": "k4byTVbdsE_Z",
        "outputId": "37ac602d-7be5-4f39-f5f7-806c5b8fb9e7"
      },
      "outputs": [
        {
          "name": "stdout",
          "output_type": "stream",
          "text": [
            "<class 'pandas.core.frame.DataFrame'>\n",
            "Int64Index: 773 entries, 0 to 780\n",
            "Data columns (total 22 columns):\n",
            " #   Column                 Non-Null Count  Dtype \n",
            "---  ------                 --------------  ----- \n",
            " 0   Question               773 non-null    object\n",
            " 1   Documents              689 non-null    object\n",
            " 2   Ideal_Answer           696 non-null    object\n",
            " 3   Exact_Answer           689 non-null    object\n",
            " 4   Concept                552 non-null    object\n",
            " 5   Labels                 773 non-null    object\n",
            " 6   class-1                773 non-null    object\n",
            " 7   class-2                359 non-null    object\n",
            " 8   class-3                119 non-null    object\n",
            " 9   class-4                31 non-null     object\n",
            " 10  class-5                13 non-null     object\n",
            " 11  class-6                5 non-null      object\n",
            " 12  class-7                2 non-null      object\n",
            " 13  class-8                2 non-null      object\n",
            " 14  Question_lemma         773 non-null    object\n",
            " 15  Question_pos_tag       773 non-null    object\n",
            " 16  Is_choice              773 non-null    int64 \n",
            " 17  Is_quantity            773 non-null    int64 \n",
            " 18  Question_focus         726 non-null    object\n",
            " 19  Question_concepts      629 non-null    object\n",
            " 20  Dependency_pairs       629 non-null    object\n",
            " 21  Head_dependency_pairs  629 non-null    object\n",
            "dtypes: int64(2), object(20)\n",
            "memory usage: 158.9+ KB\n"
          ]
        }
      ],
      "source": [
        "df.info()"
      ]
    },
    {
      "cell_type": "code",
      "execution_count": null,
      "metadata": {
        "id": "m3f6hNxHs2YN"
      },
      "outputs": [],
      "source": [
        "df[df[\"Dependency_pairs\"].isna()]"
      ]
    },
    {
      "cell_type": "code",
      "execution_count": null,
      "metadata": {
        "id": "mCFLqxUP3Hu8"
      },
      "outputs": [],
      "source": [
        "df.to_csv(\"whole_dataset_b4_trans.csv\")"
      ]
    },
    {
      "cell_type": "markdown",
      "metadata": {
        "id": "-ft-ef8xk2hp"
      },
      "source": [
        "#Data investigation"
      ]
    },
    {
      "cell_type": "code",
      "execution_count": null,
      "metadata": {
        "id": "lHuu7t63k42d"
      },
      "outputs": [],
      "source": [
        "feature_name = 'Head_dependency_pairs'\n",
        "for idx, value in enumerate(df[feature_name]):\n",
        "  print(\"Question lemma:{}\".format(df['Question_lemma'].iloc[idx]))\n",
        "  print(value)"
      ]
    },
    {
      "cell_type": "markdown",
      "metadata": {
        "id": "LyE9tfq3xIAW"
      },
      "source": [
        "# Classification "
      ]
    },
    {
      "cell_type": "code",
      "execution_count": null,
      "metadata": {
        "id": "RkbFqZWh1vad"
      },
      "outputs": [],
      "source": [
        "import pandas as pd\n",
        "from sklearn.model_selection import train_test_split\n",
        "from sklearn.feature_extraction.text import CountVectorizer\n",
        "from sklearn.feature_extraction.text import TfidfTransformer\n",
        "from sklearn.feature_extraction.text import TfidfVectorizer\n",
        "from sklearn import preprocessing\n",
        "from sklearn.linear_model import LogisticRegression\n",
        "from sklearn.ensemble import RandomForestClassifier\n",
        "from sklearn.naive_bayes import MultinomialNB\n",
        "from sklearn.svm import LinearSVC\n",
        "from sklearn.model_selection import train_test_split\n",
        "from sklearn import metrics\n",
        "from sklearn.model_selection import cross_val_score,cross_val_predict\n",
        "# from sklearn.base import TransformerMixin\n",
        "# from sklearn.pipeline import Pipeline\n",
        "from functools import partial\n",
        "from itertools import repeat\n",
        "from multiprocessing import Pool, freeze_support\n",
        "from itertools import product\n",
        "from sklearn.preprocessing import LabelEncoder\n",
        "import scipy.sparse as sp\n",
        "import traceback\n",
        "import sys"
      ]
    },
    {
      "cell_type": "markdown",
      "metadata": {
        "id": "_QOY7uc1okGC"
      },
      "source": [
        "##Data-set formation"
      ]
    },
    {
      "cell_type": "code",
      "execution_count": null,
      "metadata": {
        "colab": {
          "base_uri": "https://localhost:8080/"
        },
        "id": "F5NwRy4OIjof",
        "outputId": "8618a03e-a520-4182-bc43-93f31b33cd52"
      },
      "outputs": [
        {
          "name": "stdout",
          "output_type": "stream",
          "text": [
            "<class 'pandas.core.frame.DataFrame'>\n",
            "Int64Index: 773 entries, 0 to 780\n",
            "Data columns (total 14 columns):\n",
            " #   Column        Non-Null Count  Dtype \n",
            "---  ------        --------------  ----- \n",
            " 0   Question      773 non-null    object\n",
            " 1   Documents     689 non-null    object\n",
            " 2   Ideal_Answer  696 non-null    object\n",
            " 3   Exact_Answer  689 non-null    object\n",
            " 4   Concept       552 non-null    object\n",
            " 5   Labels        773 non-null    object\n",
            " 6   class-1       773 non-null    object\n",
            " 7   class-2       359 non-null    object\n",
            " 8   class-3       119 non-null    object\n",
            " 9   class-4       31 non-null     object\n",
            " 10  class-5       13 non-null     object\n",
            " 11  class-6       5 non-null      object\n",
            " 12  class-7       2 non-null      object\n",
            " 13  class-8       2 non-null      object\n",
            "dtypes: object(14)\n",
            "memory usage: 90.6+ KB\n"
          ]
        }
      ],
      "source": [
        "df.info()"
      ]
    },
    {
      "cell_type": "code",
      "execution_count": null,
      "metadata": {
        "colab": {
          "base_uri": "https://localhost:8080/"
        },
        "id": "5Tz0BU5xgGyu",
        "outputId": "b078054c-74cb-4c6e-9c0f-4bc9d6495b68"
      },
      "outputs": [
        {
          "name": "stdout",
          "output_type": "stream",
          "text": [
            "<class 'pandas.core.frame.DataFrame'>\n",
            "Int64Index: 629 entries, 1 to 780\n",
            "Data columns (total 9 columns):\n",
            " #   Column                 Non-Null Count  Dtype \n",
            "---  ------                 --------------  ----- \n",
            " 0   Labels                 629 non-null    object\n",
            " 1   Is_choice              629 non-null    int64 \n",
            " 2   Is_quantity            629 non-null    int64 \n",
            " 3   Question_lemma         629 non-null    object\n",
            " 4   Question_focus         629 non-null    object\n",
            " 5   Question_concepts      629 non-null    object\n",
            " 6   Dependency_pairs       629 non-null    object\n",
            " 7   Head_dependency_pairs  629 non-null    object\n",
            " 8   Class                  629 non-null    object\n",
            "dtypes: int64(2), object(7)\n",
            "memory usage: 49.1+ KB\n"
          ]
        }
      ],
      "source": [
        "tdf = df[[\"Labels\", \"Is_choice\",\"Is_quantity\",\"Question_lemma\", \"Question_focus\",\t\"Question_concepts\",\t\"Dependency_pairs\",\t\"Head_dependency_pairs\",\"class-1\"]].dropna()\n",
        "tdf.rename(columns={\"class-1\": \"Class\"}, inplace=True)\n",
        "tdf.info()"
      ]
    },
    {
      "cell_type": "code",
      "execution_count": null,
      "metadata": {
        "colab": {
          "base_uri": "https://localhost:8080/"
        },
        "id": "iYWgP7skjJj3",
        "outputId": "3ec5011c-babe-4ab9-a505-88263240c6b1"
      },
      "outputs": [
        {
          "name": "stdout",
          "output_type": "stream",
          "text": [
            "<class 'pandas.core.frame.DataFrame'>\n",
            "RangeIndex: 1075 entries, 0 to 1074\n",
            "Data columns (total 9 columns):\n",
            " #   Column                 Non-Null Count  Dtype  \n",
            "---  ------                 --------------  -----  \n",
            " 0   Labels                 1075 non-null   object \n",
            " 1   Is_choice              629 non-null    float64\n",
            " 2   Is_quantity            629 non-null    float64\n",
            " 3   Question_lemma         1075 non-null   object \n",
            " 4   Question_focus         1075 non-null   object \n",
            " 5   Question_concepts      1075 non-null   object \n",
            " 6   Dependency_pairs       1075 non-null   object \n",
            " 7   Head_dependency_pairs  1075 non-null   object \n",
            " 8   Class                  1075 non-null   object \n",
            "dtypes: float64(2), object(7)\n",
            "memory usage: 75.7+ KB\n"
          ]
        }
      ],
      "source": [
        "#Copy Transformation\n",
        "for n in range(2,9):\n",
        "  target = \"class-{}\".format(n)\n",
        "  temp = df[[\"Labels\", \"Question_lemma\", \"Question_focus\",\t\"Question_concepts\",\t\"Dependency_pairs\",\t\"Head_dependency_pairs\",target]].dropna()\n",
        "  temp.rename(columns={target: \"Class\"}, inplace=True)\n",
        "  tdf = pd.concat([tdf, temp], ignore_index=True, sort=False)\n",
        "\n",
        "tdf.info()"
      ]
    },
    {
      "cell_type": "markdown",
      "metadata": {
        "id": "pYvzB4HAo2Ag"
      },
      "source": [
        "##Backup and restore"
      ]
    },
    {
      "cell_type": "code",
      "execution_count": null,
      "metadata": {
        "colab": {
          "base_uri": "https://localhost:8080/"
        },
        "id": "5tgWrJtQXF4P",
        "outputId": "7992ac45-0d67-4137-b890-c23636b089a3"
      },
      "outputs": [
        {
          "name": "stdout",
          "output_type": "stream",
          "text": [
            "Mounted at /content/drive\n"
          ]
        }
      ],
      "source": [
        "from google.colab import drive\n",
        "drive.mount('/content/drive')"
      ]
    },
    {
      "cell_type": "code",
      "execution_count": null,
      "metadata": {
        "colab": {
          "base_uri": "https://localhost:8080/"
        },
        "id": "oyHKA4ZW94yx",
        "outputId": "8947096c-6292-47a1-c330-64032a903fc5"
      },
      "outputs": [
        {
          "name": "stdout",
          "output_type": "stream",
          "text": [
            "cp: cannot stat '/content/prepared_data.csv': No such file or directory\n"
          ]
        }
      ],
      "source": [
        "#copy to drive\n",
        "# tdf.to_csv(\"prepared_data.csv\")\n",
        "%cp  \"/content/prepared_data.csv\" \"/content/drive/MyDrive/multi_label_question_classification/\"\n",
        "# %cp  \"/content/cv_df_ngram_0-2.csv\" \"/content/drive/MyDrive/multi_label_question_classification/\"\n"
      ]
    },
    {
      "cell_type": "code",
      "execution_count": null,
      "metadata": {
        "id": "vW-gdfDcA1T7"
      },
      "outputs": [],
      "source": [
        "#drive to colab\n",
        "%cp \"/content/drive/MyDrive/multi_label_question_classification/prepared_data.csv\" \"/content/\"\n",
        "# %cp \"/content/drive/MyDrive/multi_label_question_classification/cv_df_ngram_0-2.csv\" \"/content/\"\n"
      ]
    },
    {
      "cell_type": "code",
      "execution_count": null,
      "metadata": {
        "colab": {
          "base_uri": "https://localhost:8080/"
        },
        "id": "EsRdsReOCG77",
        "outputId": "5fb2d239-a5d1-4c97-bf32-45f0e404a3a5"
      },
      "outputs": [
        {
          "name": "stdout",
          "output_type": "stream",
          "text": [
            "<class 'pandas.core.frame.DataFrame'>\n",
            "RangeIndex: 1075 entries, 0 to 1074\n",
            "Data columns (total 9 columns):\n",
            " #   Column                 Non-Null Count  Dtype  \n",
            "---  ------                 --------------  -----  \n",
            " 0   Labels                 1075 non-null   object \n",
            " 1   Is_choice              629 non-null    float64\n",
            " 2   Is_quantity            629 non-null    float64\n",
            " 3   Question_lemma         1075 non-null   object \n",
            " 4   Question_focus         1075 non-null   object \n",
            " 5   Question_concepts      1075 non-null   object \n",
            " 6   Dependency_pairs       1075 non-null   object \n",
            " 7   Head_dependency_pairs  1075 non-null   object \n",
            " 8   Class                  1075 non-null   object \n",
            "dtypes: float64(2), object(7)\n",
            "memory usage: 75.7+ KB\n"
          ]
        }
      ],
      "source": [
        "tdf = pd.read_csv(\"prepared_data.csv\")\n",
        "tdf = tdf.loc[:, ~tdf.columns.str.contains('^Unnamed')]\n",
        "tdf.info()"
      ]
    },
    {
      "cell_type": "code",
      "execution_count": null,
      "metadata": {
        "id": "fDx3eo4E8xyl"
      },
      "outputs": [],
      "source": [
        "tdf['Labels'].value_counts()"
      ]
    },
    {
      "cell_type": "markdown",
      "metadata": {
        "id": "zquMKjyyo93u"
      },
      "source": [
        "##Combine columns"
      ]
    },
    {
      "cell_type": "code",
      "execution_count": null,
      "metadata": {
        "id": "EIxr4abAnhpS"
      },
      "outputs": [],
      "source": [
        "#\n",
        "tdf['Combined'] = tdf[tdf.columns[:-2]].apply(\n",
        "    lambda x: ' '.join(x.astype(str)),\n",
        "    axis=1\n",
        ")"
      ]
    },
    {
      "cell_type": "code",
      "execution_count": null,
      "metadata": {
        "colab": {
          "base_uri": "https://localhost:8080/",
          "height": 70
        },
        "id": "0WKqYS85rYSl",
        "outputId": "cd06051b-9e12-48a0-8c85-2a8769bf5e7d"
      },
      "outputs": [
        {
          "data": {
            "application/vnd.google.colaboratory.intrinsic+json": {
              "type": "string"
            },
            "text/plain": [
              "'factoid which thyroid hormone transporter be implicate in thyroid hormone resistance syndrome ? transporter thyroid hormone transporter which transporter thyroid transporter hormone transporter transporter implicate be implicate syndrome implicate ? implicate'"
            ]
          },
          "execution_count": 64,
          "metadata": {},
          "output_type": "execute_result"
        }
      ],
      "source": [
        "tdf[\"Combined\"][0]"
      ]
    },
    {
      "cell_type": "code",
      "execution_count": null,
      "metadata": {
        "colab": {
          "base_uri": "https://localhost:8080/"
        },
        "id": "XMrd51uH4DWV",
        "outputId": "c5baba2e-f789-482a-9a8e-266ef347c612"
      },
      "outputs": [
        {
          "data": {
            "text/plain": [
              "42"
            ]
          },
          "execution_count": 5,
          "metadata": {},
          "output_type": "execute_result"
        }
      ],
      "source": [
        "tdf[\"Combined\"].str.len().min()"
      ]
    },
    {
      "cell_type": "code",
      "execution_count": null,
      "metadata": {
        "colab": {
          "base_uri": "https://localhost:8080/"
        },
        "id": "9MWjW8oTYAqy",
        "outputId": "1b95ee95-fa3a-479d-97fd-640e05a8a2c1"
      },
      "outputs": [
        {
          "data": {
            "text/plain": [
              "[(1, 59),\n",
              " (2, 49),\n",
              " (3, 45),\n",
              " (4, 41),\n",
              " (5, 35),\n",
              " (6, 31),\n",
              " (7, 28),\n",
              " (8, 27),\n",
              " (9, 27),\n",
              " (10, 27),\n",
              " (11, 21),\n",
              " (12, 18),\n",
              " (13, 16),\n",
              " (14, 14),\n",
              " (15, 13),\n",
              " (16, 13),\n",
              " (17, 13),\n",
              " (18, 13),\n",
              " (19, 13),\n",
              " (20, 12),\n",
              " (21, 12),\n",
              " (22, 12),\n",
              " (23, 11),\n",
              " (24, 11),\n",
              " (25, 11),\n",
              " (26, 9),\n",
              " (27, 9),\n",
              " (28, 9),\n",
              " (29, 7),\n",
              " (30, 7),\n",
              " (31, 7),\n",
              " (32, 7),\n",
              " (33, 6),\n",
              " (34, 6),\n",
              " (35, 6),\n",
              " (36, 6),\n",
              " (37, 6),\n",
              " (38, 6),\n",
              " (39, 6),\n",
              " (40, 6),\n",
              " (41, 6),\n",
              " (42, 6),\n",
              " (43, 6),\n",
              " (44, 6),\n",
              " (45, 6),\n",
              " (46, 6),\n",
              " (47, 6),\n",
              " (48, 6),\n",
              " (49, 5),\n",
              " (50, 5)]"
            ]
          },
          "execution_count": 40,
          "metadata": {},
          "output_type": "execute_result"
        }
      ],
      "source": [
        "data_n_class = []\n",
        "for n in range(1,51):\n",
        "  n_class = tdf.groupby('Class').filter(lambda x : len(x) > n)['Class'].nunique()\n",
        "  data_n_class.append((n,n_class))\n",
        "\n",
        "data_n_class"
      ]
    },
    {
      "cell_type": "code",
      "execution_count": null,
      "metadata": {
        "id": "of32sWanTUgy"
      },
      "outputs": [],
      "source": [
        "pd.get_dummies(data = tdf ,columns=['Class'])"
      ]
    },
    {
      "cell_type": "code",
      "execution_count": null,
      "metadata": {
        "id": "RkXj54pUcZSO"
      },
      "outputs": [],
      "source": [
        "def find_best_parameters(n_data,n_gram,mndf):\n",
        "  try:\n",
        "    f_df = tdf.groupby('Class').filter(lambda x : len(x) > n_data)\n",
        "\n",
        "    encoder = LabelEncoder()\n",
        "    encoded_values = encoder.fit_transform(f_df[\"Class\"].values)\n",
        "    f_df[\"Class_id\"] = pd.Series(encoded_values, index=f_df.index)\n",
        "    \n",
        "    models = [LogisticRegression(multi_class='multinomial',random_state=0)]\n",
        "\n",
        "    tfidf = TfidfVectorizer( norm='l2', sublinear_tf=True, min_df=mndf, ngram_range=(1,n_gram))\n",
        "    sample = f_df[[ 'Labels',\t'Question_lemma',\t'Question_focus',\t'Question_concepts',\t'Dependency_pairs',\t'Head_dependency_pairs'\t]]\n",
        "    features = sp.hstack(sample.apply(lambda col: tfidf.fit_transform(col)))\n",
        "    # features = tfidf.fit_transform(f_df.Combined).toarray()\n",
        "    labels = f_df.Class_id\n",
        "    entries = []\n",
        "    for model in models:\n",
        "            model_name = model.__class__.__name__\n",
        "            accuracies = cross_val_score(model, features, labels, scoring='accuracy', cv=10, n_jobs= 10)\n",
        "            for fold_idx, accuracy in enumerate(accuracies):\n",
        "                entries.append((model_name,n_data, n_gram, mndf, fold_idx, accuracy))\n",
        "                # entries.append((n_data, n_gram, mndf, fold_idx, accuracy))\n",
        "    return entries\n",
        "  \n",
        "  except Exception:\n",
        "    print(traceback.format_exc())\n",
        "    print(\" exception for n_gram: {} and min_df:{}\".format(n_gram, mndf))\n"
      ]
    },
    {
      "cell_type": "code",
      "execution_count": null,
      "metadata": {
        "colab": {
          "base_uri": "https://localhost:8080/"
        },
        "id": "xFwAK_5-YTTT",
        "outputId": "569afafd-db17-4a1d-fe4f-e7274100370b"
      },
      "outputs": [
        {
          "data": {
            "text/plain": [
              "315"
            ]
          },
          "execution_count": 70,
          "metadata": {},
          "output_type": "execute_result"
        }
      ],
      "source": [
        "n_data_list = [1,2,3,4,5,7,10]\n",
        "n_gram_list = [*range(1,4)] # last range 3\n",
        "mndf_list =  [*range(6,21)]\n",
        "param_list = list(product(n_data_list,n_gram_list, mndf_list))\n",
        "len(param_list)"
      ]
    },
    {
      "cell_type": "code",
      "execution_count": null,
      "metadata": {
        "id": "hRpnJigq2UwU"
      },
      "outputs": [],
      "source": [
        "if __name__ == '__main__':\n",
        "    freeze_support()\n",
        "    with Pool(processes=16) as pool:\n",
        "        results = pool.starmap(find_best_parameters,param_list)\n",
        "# results"
      ]
    },
    {
      "cell_type": "code",
      "execution_count": null,
      "metadata": {
        "id": "cYyca1LZ7xRR"
      },
      "outputs": [],
      "source": [
        "cv_list = [tpl for result in  results for tpl in result if result != None]\n",
        "cv_df = pd.DataFrame(cv_list, columns=['model_name','n_data','n_gram','min_df', 'fold_idx', 'accuracy'])"
      ]
    },
    {
      "cell_type": "code",
      "execution_count": null,
      "metadata": {
        "id": "wCkHPvoyagu0"
      },
      "outputs": [],
      "source": [
        "# cv_df = pd.read_csv(\"cv_df_ngram_0-2.csv\")\n",
        "# old_cv_df = pd.read_csv(\"cv_df_ngram_0-2.csv\")"
      ]
    },
    {
      "cell_type": "code",
      "execution_count": null,
      "metadata": {
        "colab": {
          "base_uri": "https://localhost:8080/"
        },
        "id": "4K3SCALS2oUB",
        "outputId": "d2f225ac-03d6-48dd-eb49-c6026fad66f0"
      },
      "outputs": [
        {
          "name": "stdout",
          "output_type": "stream",
          "text": [
            "<class 'pandas.core.frame.DataFrame'>\n",
            "RangeIndex: 3150 entries, 0 to 3149\n",
            "Data columns (total 6 columns):\n",
            " #   Column      Non-Null Count  Dtype  \n",
            "---  ------      --------------  -----  \n",
            " 0   model_name  3150 non-null   object \n",
            " 1   n_data      3150 non-null   int64  \n",
            " 2   n_gram      3150 non-null   int64  \n",
            " 3   min_df      3150 non-null   int64  \n",
            " 4   fold_idx    3150 non-null   int64  \n",
            " 5   accuracy    3150 non-null   float64\n",
            "dtypes: float64(1), int64(4), object(1)\n",
            "memory usage: 147.8+ KB\n"
          ]
        }
      ],
      "source": [
        "cv_df.info()"
      ]
    },
    {
      "cell_type": "code",
      "execution_count": null,
      "metadata": {
        "colab": {
          "base_uri": "https://localhost:8080/",
          "height": 81
        },
        "id": "GBq9cVDrwRK9",
        "outputId": "9aaabf9e-2841-4b1d-a3c7-b2b92410938d"
      },
      "outputs": [
        {
          "data": {
            "text/html": [
              "<div>\n",
              "<style scoped>\n",
              "    .dataframe tbody tr th:only-of-type {\n",
              "        vertical-align: middle;\n",
              "    }\n",
              "\n",
              "    .dataframe tbody tr th {\n",
              "        vertical-align: top;\n",
              "    }\n",
              "\n",
              "    .dataframe thead th {\n",
              "        text-align: right;\n",
              "    }\n",
              "</style>\n",
              "<table border=\"1\" class=\"dataframe\">\n",
              "  <thead>\n",
              "    <tr style=\"text-align: right;\">\n",
              "      <th></th>\n",
              "      <th>model_name</th>\n",
              "      <th>n_data</th>\n",
              "      <th>n_gram</th>\n",
              "      <th>min_df</th>\n",
              "      <th>fold_idx</th>\n",
              "      <th>accuracy</th>\n",
              "    </tr>\n",
              "  </thead>\n",
              "  <tbody>\n",
              "    <tr>\n",
              "      <th>3120</th>\n",
              "      <td>LogisticRegression</td>\n",
              "      <td>10</td>\n",
              "      <td>3</td>\n",
              "      <td>18</td>\n",
              "      <td>0</td>\n",
              "      <td>0.380435</td>\n",
              "    </tr>\n",
              "  </tbody>\n",
              "</table>\n",
              "</div>"
            ],
            "text/plain": [
              "              model_name  n_data  n_gram  min_df  fold_idx  accuracy\n",
              "3120  LogisticRegression      10       3      18         0  0.380435"
            ]
          },
          "execution_count": 79,
          "metadata": {},
          "output_type": "execute_result"
        }
      ],
      "source": [
        "cv_df[cv_df[\"accuracy\"] == cv_df[\"accuracy\"].max()]"
      ]
    },
    {
      "cell_type": "code",
      "execution_count": null,
      "metadata": {
        "colab": {
          "base_uri": "https://localhost:8080/",
          "height": 81
        },
        "id": "c0usnYl5ea-G",
        "outputId": "791018eb-0c1a-4e3e-967d-6f7d07d6917f"
      },
      "outputs": [
        {
          "data": {
            "text/html": [
              "<div>\n",
              "<style scoped>\n",
              "    .dataframe tbody tr th:only-of-type {\n",
              "        vertical-align: middle;\n",
              "    }\n",
              "\n",
              "    .dataframe tbody tr th {\n",
              "        vertical-align: top;\n",
              "    }\n",
              "\n",
              "    .dataframe thead th {\n",
              "        text-align: right;\n",
              "    }\n",
              "</style>\n",
              "<table border=\"1\" class=\"dataframe\">\n",
              "  <thead>\n",
              "    <tr style=\"text-align: right;\">\n",
              "      <th></th>\n",
              "      <th>model_name</th>\n",
              "      <th>n_data</th>\n",
              "      <th>n_gram</th>\n",
              "      <th>min_df</th>\n",
              "      <th>fold_idx</th>\n",
              "      <th>accuracy</th>\n",
              "    </tr>\n",
              "  </thead>\n",
              "  <tbody>\n",
              "    <tr>\n",
              "      <th>3120</th>\n",
              "      <td>LogisticRegression</td>\n",
              "      <td>10</td>\n",
              "      <td>3</td>\n",
              "      <td>18</td>\n",
              "      <td>0</td>\n",
              "      <td>0.380435</td>\n",
              "    </tr>\n",
              "  </tbody>\n",
              "</table>\n",
              "</div>"
            ],
            "text/plain": [
              "              model_name  n_data  n_gram  min_df  fold_idx  accuracy\n",
              "3120  LogisticRegression      10       3      18         0  0.380435"
            ]
          },
          "execution_count": 80,
          "metadata": {},
          "output_type": "execute_result"
        }
      ],
      "source": [
        "max_10 =cv_df[cv_df[\"n_data\"] == 10]['accuracy'].max()\n",
        "cv_df[cv_df[\"accuracy\"] == max_10]\n"
      ]
    },
    {
      "cell_type": "code",
      "execution_count": null,
      "metadata": {
        "colab": {
          "base_uri": "https://localhost:8080/",
          "height": 81
        },
        "id": "ZPwuQ1UxDUg7",
        "outputId": "2fe88559-be33-417c-e0a5-40861ed1a948"
      },
      "outputs": [
        {
          "data": {
            "text/html": [
              "<div>\n",
              "<style scoped>\n",
              "    .dataframe tbody tr th:only-of-type {\n",
              "        vertical-align: middle;\n",
              "    }\n",
              "\n",
              "    .dataframe tbody tr th {\n",
              "        vertical-align: top;\n",
              "    }\n",
              "\n",
              "    .dataframe thead th {\n",
              "        text-align: right;\n",
              "    }\n",
              "</style>\n",
              "<table border=\"1\" class=\"dataframe\">\n",
              "  <thead>\n",
              "    <tr style=\"text-align: right;\">\n",
              "      <th></th>\n",
              "      <th>model_name</th>\n",
              "      <th>n_data</th>\n",
              "      <th>n_gram</th>\n",
              "      <th>min_df</th>\n",
              "      <th>fold_idx</th>\n",
              "      <th>accuracy</th>\n",
              "    </tr>\n",
              "  </thead>\n",
              "  <tbody>\n",
              "    <tr>\n",
              "      <th>3120</th>\n",
              "      <td>LogisticRegression</td>\n",
              "      <td>10</td>\n",
              "      <td>3</td>\n",
              "      <td>18</td>\n",
              "      <td>0</td>\n",
              "      <td>0.380435</td>\n",
              "    </tr>\n",
              "  </tbody>\n",
              "</table>\n",
              "</div>"
            ],
            "text/plain": [
              "              model_name  n_data  n_gram  min_df  fold_idx  accuracy\n",
              "3120  LogisticRegression      10       3      18         0  0.380435"
            ]
          },
          "execution_count": 81,
          "metadata": {},
          "output_type": "execute_result"
        }
      ],
      "source": [
        "max_10 =cv_df[cv_df[\"n_data\"] == 10]['accuracy'].max()\n",
        "cv_df[cv_df[\"accuracy\"] == max_10]\n"
      ]
    },
    {
      "cell_type": "code",
      "execution_count": null,
      "metadata": {
        "id": "PREdeoSbw0XR"
      },
      "outputs": [],
      "source": [
        "file_name = \"cv_df_ngram_1-3_mindf_6-20_with_all_col_feat.csv\"\n",
        "cv_df.to_csv(file_name)\n",
        "%cp   $file_name \"/content/drive/MyDrive/multi_label_question_classification/\"\n"
      ]
    },
    {
      "cell_type": "markdown",
      "metadata": {
        "id": "FbZ42fz9vf8F"
      },
      "source": [
        "##Testing"
      ]
    },
    {
      "cell_type": "code",
      "execution_count": null,
      "metadata": {
        "id": "vcJlpjp9QAmZ"
      },
      "outputs": [],
      "source": [
        "# target_feature = 'Most Active Current News Type'\n",
        "#use encoder and transform\n",
        "encoder = LabelEncoder()\n",
        "encoded_values = encoder.fit_transform(tdf[\"Class\"].values)\n",
        "tdf[\"Class_id\"] = pd.Series(encoded_values, index=tdf.index)"
      ]
    },
    {
      "cell_type": "code",
      "execution_count": null,
      "metadata": {
        "id": "XM4fM0z4rCOq"
      },
      "outputs": [],
      "source": [
        ""
      ]
    },
    {
      "cell_type": "code",
      "execution_count": null,
      "metadata": {
        "colab": {
          "base_uri": "https://localhost:8080/"
        },
        "id": "AU66-Yucra2z",
        "outputId": "3a66c0fc-61ab-4b88-c028-fc30ef98481d"
      },
      "outputs": [
        {
          "name": "stdout",
          "output_type": "stream",
          "text": [
            "(1073, 53475) 49\n"
          ]
        }
      ],
      "source": [
        "\n",
        "sample = tdf[[ 'Labels',\t'Question_lemma',\t'Question_focus',\t'Question_concepts',\t'Dependency_pairs',\t'Head_dependency_pairs'\t]]\n",
        "sample = sample.apply(lambda col: col.str.strip())\n",
        "# for n in range(1,50):\n",
        "vect = CountVectorizer(ngram_range=(1,27))\n",
        "train = sp.hstack(sample.apply(lambda col: vect.fit_transform(col)))\n",
        "print(train.shape,n)"
      ]
    },
    {
      "cell_type": "code",
      "execution_count": null,
      "metadata": {
        "id": "HIc_srMJ6azx"
      },
      "outputs": [],
      "source": [
        "for n_gram in range(1,50):\n",
        "  tfidf = TfidfVectorizer( norm='l2', sublinear_tf=True, min_df=mndf, ngram_range=(n_gram,n_gram))\n",
        "  features = tfidf.fit_transform(tdf.Question_lemma).toarray()\n",
        "  print(features.shape)"
      ]
    },
    {
      "cell_type": "code",
      "execution_count": null,
      "metadata": {
        "id": "OO3xkXk5ydfc"
      },
      "outputs": [],
      "source": [
        "def check_feature_shape(n_data,n_gram,mndf):\n",
        "  try:\n",
        "    f_df = tdf.groupby('Class').filter(lambda x : len(x) > n_data)\n",
        "\n",
        "    encoder = LabelEncoder()\n",
        "    encoded_values = encoder.fit_transform(f_df[\"Class\"].values)\n",
        "    f_df[\"Class_id\"] = pd.Series(encoded_values, index=f_df.index)\n",
        "    \n",
        "\n",
        "    tfidf = TfidfVectorizer( norm='l2', sublinear_tf=True, min_df=mndf, ngram_range=(1,n_gram))\n",
        "    combined_col_features = tfidf.fit_transform(f_df.Combined).toarray()\n",
        "    \n",
        "    sample = f_df[[ 'Labels',\t'Question_lemma',\t'Question_focus',\t'Question_concepts',\t'Dependency_pairs',\t'Head_dependency_pairs'\t]]\n",
        "    all_col_features = sp.hstack(sample.apply(lambda col: tfidf.fit_transform(col)))\n",
        "\n",
        "    labels = f_df.Class_id\n",
        "\n",
        "    entries = [ n_data , n_gram, mndf, all_col_features.shape[1],combined_col_features.shape[1], labels.shape]\n",
        "    return entries\n",
        "  \n",
        "  except Exception:\n",
        "    print(traceback.format_exc())\n",
        "    print(\" exception for n_gram: {} and min_df:{}\".format(n_gram, mndf))\n"
      ]
    },
    {
      "cell_type": "code",
      "execution_count": null,
      "metadata": {
        "colab": {
          "base_uri": "https://localhost:8080/"
        },
        "id": "UH9V-usTdSyb",
        "outputId": "40c3d423-da25-44b9-8ce1-a967f34b23ab"
      },
      "outputs": [
        {
          "data": {
            "text/plain": [
              "[1, 2, 3, 3517, 2112, (1050,)]"
            ]
          },
          "execution_count": 18,
          "metadata": {},
          "output_type": "execute_result"
        }
      ],
      "source": [
        "check_feature_shape(1,2,3)"
      ]
    },
    {
      "cell_type": "code",
      "execution_count": null,
      "metadata": {
        "colab": {
          "base_uri": "https://localhost:8080/"
        },
        "id": "uQdUhkF48btQ",
        "outputId": "7f8080df-d624-4e0e-dbdc-ffa1a10ef898"
      },
      "outputs": [
        {
          "data": {
            "text/plain": [
              "120"
            ]
          },
          "execution_count": 32,
          "metadata": {},
          "output_type": "execute_result"
        }
      ],
      "source": [
        "n_data_list = [0,1]\n",
        "n_gram_list = [*range(35,50)] # last range 3\n",
        "mndf_list =  [*range(1,5)]\n",
        "param_list = list(product(n_data_list,n_gram_list,mndf_list))\n",
        "len(param_list)"
      ]
    },
    {
      "cell_type": "code",
      "execution_count": null,
      "metadata": {
        "id": "_e-pPoQ48ivy"
      },
      "outputs": [],
      "source": [
        "if __name__ == '__main__':\n",
        "    freeze_support()\n",
        "    with Pool(processes=4) as pool:\n",
        "        results = pool.starmap(check_feature_shape,param_list)"
      ]
    },
    {
      "cell_type": "code",
      "execution_count": null,
      "metadata": {
        "colab": {
          "base_uri": "https://localhost:8080/"
        },
        "id": "zrx-t9XXA9Zf",
        "outputId": "4d8bf6e0-0741-40a8-919e-3590892da1c0"
      },
      "outputs": [
        {
          "name": "stdout",
          "output_type": "stream",
          "text": [
            "<class 'pandas.core.frame.DataFrame'>\n",
            "RangeIndex: 120 entries, 0 to 119\n",
            "Data columns (total 6 columns):\n",
            " #   Column                 Non-Null Count  Dtype \n",
            "---  ------                 --------------  ----- \n",
            " 0   n_data                 120 non-null    int64 \n",
            " 1   n_gram                 120 non-null    int64 \n",
            " 2   mndf                   120 non-null    int64 \n",
            " 3   all_col_features       120 non-null    int64 \n",
            " 4   combined_col_features  120 non-null    int64 \n",
            " 5   labels                 120 non-null    object\n",
            "dtypes: int64(5), object(1)\n",
            "memory usage: 5.8+ KB\n"
          ]
        }
      ],
      "source": [
        "tfidf_df = pd.DataFrame(results, columns = [ 'n_data' , 'n_gram', 'mndf', 'all_col_features','combined_col_features', 'labels'])\n",
        "tfidf_df.info()"
      ]
    },
    {
      "cell_type": "code",
      "execution_count": null,
      "metadata": {
        "colab": {
          "base_uri": "https://localhost:8080/",
          "height": 520
        },
        "id": "n-QaFZdd-_y8",
        "outputId": "317ce477-d891-42c9-d795-7cc2e5d00d89"
      },
      "outputs": [
        {
          "data": {
            "text/html": [
              "<div>\n",
              "<style scoped>\n",
              "    .dataframe tbody tr th:only-of-type {\n",
              "        vertical-align: middle;\n",
              "    }\n",
              "\n",
              "    .dataframe tbody tr th {\n",
              "        vertical-align: top;\n",
              "    }\n",
              "\n",
              "    .dataframe thead th {\n",
              "        text-align: right;\n",
              "    }\n",
              "</style>\n",
              "<table border=\"1\" class=\"dataframe\">\n",
              "  <thead>\n",
              "    <tr style=\"text-align: right;\">\n",
              "      <th></th>\n",
              "      <th>n_data</th>\n",
              "      <th>n_gram</th>\n",
              "      <th>mndf</th>\n",
              "      <th>all_col_features</th>\n",
              "      <th>combined_col_features</th>\n",
              "      <th>labels</th>\n",
              "    </tr>\n",
              "  </thead>\n",
              "  <tbody>\n",
              "    <tr>\n",
              "      <th>28</th>\n",
              "      <td>0</td>\n",
              "      <td>42</td>\n",
              "      <td>1</td>\n",
              "      <td>53475</td>\n",
              "      <td>95450</td>\n",
              "      <td>(1073,)</td>\n",
              "    </tr>\n",
              "    <tr>\n",
              "      <th>32</th>\n",
              "      <td>0</td>\n",
              "      <td>43</td>\n",
              "      <td>1</td>\n",
              "      <td>53475</td>\n",
              "      <td>95450</td>\n",
              "      <td>(1073,)</td>\n",
              "    </tr>\n",
              "    <tr>\n",
              "      <th>36</th>\n",
              "      <td>0</td>\n",
              "      <td>44</td>\n",
              "      <td>1</td>\n",
              "      <td>53475</td>\n",
              "      <td>95450</td>\n",
              "      <td>(1073,)</td>\n",
              "    </tr>\n",
              "    <tr>\n",
              "      <th>40</th>\n",
              "      <td>0</td>\n",
              "      <td>45</td>\n",
              "      <td>1</td>\n",
              "      <td>53475</td>\n",
              "      <td>95450</td>\n",
              "      <td>(1073,)</td>\n",
              "    </tr>\n",
              "    <tr>\n",
              "      <th>44</th>\n",
              "      <td>0</td>\n",
              "      <td>46</td>\n",
              "      <td>1</td>\n",
              "      <td>53475</td>\n",
              "      <td>95450</td>\n",
              "      <td>(1073,)</td>\n",
              "    </tr>\n",
              "    <tr>\n",
              "      <th>48</th>\n",
              "      <td>0</td>\n",
              "      <td>47</td>\n",
              "      <td>1</td>\n",
              "      <td>53475</td>\n",
              "      <td>95450</td>\n",
              "      <td>(1073,)</td>\n",
              "    </tr>\n",
              "    <tr>\n",
              "      <th>52</th>\n",
              "      <td>0</td>\n",
              "      <td>48</td>\n",
              "      <td>1</td>\n",
              "      <td>53475</td>\n",
              "      <td>95450</td>\n",
              "      <td>(1073,)</td>\n",
              "    </tr>\n",
              "    <tr>\n",
              "      <th>56</th>\n",
              "      <td>0</td>\n",
              "      <td>49</td>\n",
              "      <td>1</td>\n",
              "      <td>53475</td>\n",
              "      <td>95450</td>\n",
              "      <td>(1073,)</td>\n",
              "    </tr>\n",
              "    <tr>\n",
              "      <th>24</th>\n",
              "      <td>0</td>\n",
              "      <td>41</td>\n",
              "      <td>1</td>\n",
              "      <td>53475</td>\n",
              "      <td>95449</td>\n",
              "      <td>(1073,)</td>\n",
              "    </tr>\n",
              "    <tr>\n",
              "      <th>20</th>\n",
              "      <td>0</td>\n",
              "      <td>40</td>\n",
              "      <td>1</td>\n",
              "      <td>53475</td>\n",
              "      <td>95447</td>\n",
              "      <td>(1073,)</td>\n",
              "    </tr>\n",
              "    <tr>\n",
              "      <th>16</th>\n",
              "      <td>0</td>\n",
              "      <td>39</td>\n",
              "      <td>1</td>\n",
              "      <td>53475</td>\n",
              "      <td>95442</td>\n",
              "      <td>(1073,)</td>\n",
              "    </tr>\n",
              "    <tr>\n",
              "      <th>12</th>\n",
              "      <td>0</td>\n",
              "      <td>38</td>\n",
              "      <td>1</td>\n",
              "      <td>53475</td>\n",
              "      <td>95434</td>\n",
              "      <td>(1073,)</td>\n",
              "    </tr>\n",
              "    <tr>\n",
              "      <th>8</th>\n",
              "      <td>0</td>\n",
              "      <td>37</td>\n",
              "      <td>1</td>\n",
              "      <td>53475</td>\n",
              "      <td>95423</td>\n",
              "      <td>(1073,)</td>\n",
              "    </tr>\n",
              "    <tr>\n",
              "      <th>4</th>\n",
              "      <td>0</td>\n",
              "      <td>36</td>\n",
              "      <td>1</td>\n",
              "      <td>53475</td>\n",
              "      <td>95407</td>\n",
              "      <td>(1073,)</td>\n",
              "    </tr>\n",
              "    <tr>\n",
              "      <th>0</th>\n",
              "      <td>0</td>\n",
              "      <td>35</td>\n",
              "      <td>1</td>\n",
              "      <td>53475</td>\n",
              "      <td>95384</td>\n",
              "      <td>(1073,)</td>\n",
              "    </tr>\n",
              "  </tbody>\n",
              "</table>\n",
              "</div>"
            ],
            "text/plain": [
              "    n_data  n_gram  mndf  all_col_features  combined_col_features   labels\n",
              "28       0      42     1             53475                  95450  (1073,)\n",
              "32       0      43     1             53475                  95450  (1073,)\n",
              "36       0      44     1             53475                  95450  (1073,)\n",
              "40       0      45     1             53475                  95450  (1073,)\n",
              "44       0      46     1             53475                  95450  (1073,)\n",
              "48       0      47     1             53475                  95450  (1073,)\n",
              "52       0      48     1             53475                  95450  (1073,)\n",
              "56       0      49     1             53475                  95450  (1073,)\n",
              "24       0      41     1             53475                  95449  (1073,)\n",
              "20       0      40     1             53475                  95447  (1073,)\n",
              "16       0      39     1             53475                  95442  (1073,)\n",
              "12       0      38     1             53475                  95434  (1073,)\n",
              "8        0      37     1             53475                  95423  (1073,)\n",
              "4        0      36     1             53475                  95407  (1073,)\n",
              "0        0      35     1             53475                  95384  (1073,)"
            ]
          },
          "execution_count": 36,
          "metadata": {},
          "output_type": "execute_result"
        }
      ],
      "source": [
        "tfidf_df.sort_values('combined_col_features',ascending=False).head(15)"
      ]
    },
    {
      "cell_type": "code",
      "execution_count": null,
      "metadata": {
        "colab": {
          "base_uri": "https://localhost:8080/"
        },
        "id": "kcmzFo_lBVSp",
        "outputId": "a71d5ce7-a968-4ae7-b8af-4445172db361"
      },
      "outputs": [
        {
          "name": "stderr",
          "output_type": "stream",
          "text": [
            "/usr/local/lib/python3.7/dist-packages/sklearn/model_selection/_split.py:667: UserWarning: The least populated class in y has only 1 members, which is less than n_splits=10.\n",
            "  % (min_groups, self.n_splits)), UserWarning)\n"
          ]
        }
      ],
      "source": [
        "mndf = 5\n",
        "n_gram = 27\n",
        "# best_accuracy = 0\n",
        "\n",
        "# tdf = tdf.groupby('Class').filter(lambda x : len(x) > 10)\n",
        "# print(tdf['Class'].nunique())\n",
        "encoder = LabelEncoder()\n",
        "encoded_values = encoder.fit_transform(tdf[\"Class\"].values)\n",
        "tdf[\"Class_id\"] = pd.Series(encoded_values, index=tdf.index)\n",
        "\n",
        "sample = tdf[[ 'Labels',\t'Question_lemma',\t'Question_focus',\t'Question_concepts',\t'Dependency_pairs',\t'Head_dependency_pairs'\t]]\n",
        "\n",
        "tfidf = TfidfVectorizer( norm='l2', sublinear_tf=True, min_df=mndf, ngram_range=(1,n_gram))\n",
        "\n",
        "features = sp.hstack(sample.apply(lambda col: tfidf.fit_transform(col)))\n",
        "\n",
        "# features = tfidf.fit_transform(tdf.Combined).toarray()\n",
        "# features = preprocessing.normalize(train, norm='l2')\n",
        "labels = tdf.Class_id\n",
        "\n",
        "# X_train, X_test, y_train, y_test = train_test_split(tdf['Combined'], tdf['Class'], random_state = 0)\n",
        "# count_vect = CountVectorizer()\n",
        "# X_train_counts = count_vect.fit_transform(X_train)\n",
        "# tfidf_transformer = TfidfTransformer()\n",
        "# X_train_tfidf = tfidf_transformer.fit_transform(X_train_counts)\n",
        "# clf = MultinomialNB().fit(X_train_tfidf, y_train)\n",
        "\n",
        "models = [LogisticRegression(multi_class='multinomial',random_state=0)]\n",
        "CV = 10\n",
        "cv_df = pd.DataFrame(index=range(CV * len(models)))\n",
        "entries = []\n",
        "\n",
        "for model in models:\n",
        "    model_name = model.__class__.__name__\n",
        "    accuracies = cross_val_score(model, features, labels, scoring='accuracy', cv=CV,n_jobs=100)\n",
        "    for fold_idx, accuracy in enumerate(accuracies):\n",
        "        # entries.append((model_name, n_gram, mndf, fold_idx, accuracy))\n",
        "        entries.append((model_name, fold_idx, accuracy))\n",
        "\n",
        "        # if accuracy > best_accuracy:\n",
        "        #   best_accuracy = accuracy\n",
        "        #   best_model = model\n",
        "\n",
        "# cv_df = pd.DataFrame(entries, columns=['model_name','n_gram','min_df', 'fold_idx', 'accuracy'])\n",
        "cv_df = pd.DataFrame(entries, columns=['model_name','fold_idx', 'accuracy'])"
      ]
    },
    {
      "cell_type": "code",
      "execution_count": null,
      "metadata": {
        "colab": {
          "base_uri": "https://localhost:8080/",
          "height": 81
        },
        "id": "Clq3RxeNHZxl",
        "outputId": "6f15bf51-61cb-43b7-dc1c-efecd3c8f4c4"
      },
      "outputs": [
        {
          "data": {
            "text/html": [
              "<div>\n",
              "<style scoped>\n",
              "    .dataframe tbody tr th:only-of-type {\n",
              "        vertical-align: middle;\n",
              "    }\n",
              "\n",
              "    .dataframe tbody tr th {\n",
              "        vertical-align: top;\n",
              "    }\n",
              "\n",
              "    .dataframe thead th {\n",
              "        text-align: right;\n",
              "    }\n",
              "</style>\n",
              "<table border=\"1\" class=\"dataframe\">\n",
              "  <thead>\n",
              "    <tr style=\"text-align: right;\">\n",
              "      <th></th>\n",
              "      <th>model_name</th>\n",
              "      <th>fold_idx</th>\n",
              "      <th>accuracy</th>\n",
              "    </tr>\n",
              "  </thead>\n",
              "  <tbody>\n",
              "    <tr>\n",
              "      <th>1</th>\n",
              "      <td>LogisticRegression</td>\n",
              "      <td>1</td>\n",
              "      <td>0.314815</td>\n",
              "    </tr>\n",
              "  </tbody>\n",
              "</table>\n",
              "</div>"
            ],
            "text/plain": [
              "           model_name  fold_idx  accuracy\n",
              "1  LogisticRegression         1  0.314815"
            ]
          },
          "execution_count": 41,
          "metadata": {},
          "output_type": "execute_result"
        }
      ],
      "source": [
        "cv_df[cv_df[\"accuracy\"] == cv_df[\"accuracy\"].max()]"
      ]
    },
    {
      "cell_type": "code",
      "execution_count": null,
      "metadata": {
        "colab": {
          "base_uri": "https://localhost:8080/"
        },
        "id": "cDlUZc_aBqWu",
        "outputId": "3d3a1bfa-274d-4a2d-8ce8-0c12b3a30696"
      },
      "outputs": [
        {
          "name": "stdout",
          "output_type": "stream",
          "text": [
            "model_name\n",
            "LogisticRegression    0.205815\n",
            "Name: accuracy, dtype: float64\n"
          ]
        }
      ],
      "source": [
        "print(cv_df.groupby('model_name').accuracy.mean())"
      ]
    },
    {
      "cell_type": "code",
      "execution_count": null,
      "metadata": {
        "id": "Ga1Ts9cBIIiY"
      },
      "outputs": [],
      "source": [
        "X_train, X_test, y_train, y_test, indices_train, indices_test = train_test_split(features, labels, tdf.index, test_size=0.3, random_state=0)\n",
        "# best_model.fit(X_train, y_train)\n",
        "# Make cross validated predictions\n",
        "predictions = cross_val_predict(best_model, features, labels, cv=CV)\n",
        "# plt.scatter(y_test, predictions)"
      ]
    },
    {
      "cell_type": "code",
      "execution_count": null,
      "metadata": {
        "id": "oi_ch4r7JMgQ"
      },
      "outputs": [],
      "source": [
        "print(metrics.classification_report(labels, predictions,target_names=tdf['Class'].unique()))"
      ]
    },
    {
      "cell_type": "code",
      "execution_count": null,
      "metadata": {
        "colab": {
          "base_uri": "https://localhost:8080/"
        },
        "id": "5NAm1yXZ_nYP",
        "outputId": "012a1d79-068b-4cf4-f61a-87c73a9b60a8"
      },
      "outputs": [
        {
          "name": "stdout",
          "output_type": "stream",
          "text": [
            "Logistic Regression Accuracy: 0.09523809523809523\n"
          ]
        }
      ],
      "source": [
        "# Custom transformer using spaCy\n",
        "class predictors(TransformerMixin):\n",
        "    def transform(self, X, **transform_params):\n",
        "        # Cleaning Text\n",
        "        return [clean_text(text) for text in X]\n",
        "\n",
        "    def fit(self, X, y=None, **fit_params):\n",
        "        return self\n",
        "\n",
        "    def get_params(self, deep=True):\n",
        "        return {}\n",
        "\n",
        "# Basic function to clean the text\n",
        "def clean_text(text):\n",
        "    # Removing spaces and converting text into lowercase\n",
        "    return text.strip().lower()\n",
        "\n",
        "tfidf_vector = TfidfVectorizer(sublinear_tf=True, norm='l2', ngram_range=(10,10))\n",
        "bow_vector = CountVectorizer( ngram_range=(10,10))\n",
        "X = tdf['Question_lemma'] # the features we want to analyze\n",
        "ylabels = tdf['target_class'] # the labels, or answers, we want to test against\n",
        "\n",
        "X_train, X_test, y_train, y_test = train_test_split(X, ylabels, test_size=0.3)\n",
        "\n",
        "# classifier = LogisticRegression()\n",
        "classifier = LogisticRegression(multi_class='ovr', solver='liblinear')\n",
        "\n",
        "# Create pipeline using Bag of Words\n",
        "pipe = Pipeline([('vectorizer', tfidf_vector),\n",
        "                 ('classifier', classifier)])\n",
        "\n",
        "# model generation\n",
        "pipe.fit(X_train,y_train)\n",
        "\n",
        "predicted = pipe.predict(X_test)\n",
        "\n",
        "# Model Accuracy\n",
        "print(\"Logistic Regression Accuracy:\",metrics.accuracy_score(y_test, predicted))\n",
        "# print(\"Logistic Regression Precision:\",metrics.precision_score(y_test, predicted))\n",
        "# print(\"Logistic Regression Recall:\",metrics.recall_score(y_test, predicted))"
      ]
    },
    {
      "cell_type": "code",
      "execution_count": null,
      "metadata": {
        "id": "4bXyC3lpROg3"
      },
      "outputs": [],
      "source": [
        ""
      ]
    },
    {
      "cell_type": "markdown",
      "metadata": {
        "id": "GGBk1io0RPTm"
      },
      "source": [
        "# Deep Learning"
      ]
    },
    {
      "cell_type": "markdown",
      "metadata": {
        "id": "B6tMqcka-fNi"
      },
      "source": [
        "##Requred modules and data"
      ]
    },
    {
      "cell_type": "code",
      "execution_count": null,
      "metadata": {
        "id": "7WzTA97n-dNY"
      },
      "outputs": [],
      "source": [
        "import pandas as pd\n",
        "from sklearn.model_selection import train_test_split\n",
        "from sklearn.feature_extraction.text import CountVectorizer\n",
        "from sklearn.feature_extraction.text import TfidfVectorizer\n",
        "from sklearn import preprocessing\n",
        "from sklearn.model_selection import train_test_split\n",
        "from sklearn import metrics\n",
        "from sklearn.model_selection import cross_val_score,cross_val_predict\n",
        "from multiprocessing import Pool, freeze_support\n",
        "from itertools import product\n",
        "from sklearn.preprocessing import LabelEncoder\n",
        "import scipy.sparse as sp\n",
        "import traceback\n",
        "import sys"
      ]
    },
    {
      "cell_type": "code",
      "execution_count": null,
      "metadata": {
        "id": "PIzp2dsilajO"
      },
      "outputs": [],
      "source": [
        "import matplotlib.pyplot as plt\n",
        "plt.style.use('ggplot')\n",
        "\n",
        "def plot_history(history):\n",
        "    acc = history.history['accuracy']\n",
        "    val_acc = history.history['val_accuracy']\n",
        "    loss = history.history['loss']\n",
        "    val_loss = history.history['val_loss']\n",
        "    x = range(1, len(acc) + 1)\n",
        "\n",
        "    plt.figure(figsize=(12, 5))\n",
        "    plt.subplot(1, 2, 1)\n",
        "    plt.plot(x, acc, 'b', label='Training acc')\n",
        "    plt.plot(x, val_acc, 'r', label='Validation acc')\n",
        "    plt.title('Training and validation accuracy')\n",
        "    plt.legend()\n",
        "    plt.subplot(1, 2, 2)\n",
        "    plt.plot(x, loss, 'b', label='Training loss')\n",
        "    plt.plot(x, val_loss, 'r', label='Validation loss')\n",
        "    plt.title('Training and validation loss')\n",
        "    plt.legend()"
      ]
    },
    {
      "cell_type": "code",
      "execution_count": null,
      "metadata": {
        "id": "O-aUpMlfg9rA"
      },
      "outputs": [],
      "source": [
        "%cp \"/content/drive/MyDrive/multi_label_question_classification/prepared_data.csv\" \"/content/\""
      ]
    },
    {
      "cell_type": "code",
      "execution_count": null,
      "metadata": {
        "colab": {
          "base_uri": "https://localhost:8080/"
        },
        "id": "Lf10s325-Tax",
        "outputId": "3e8ba360-c9cd-4312-95a2-54e916e94cd7"
      },
      "outputs": [
        {
          "name": "stdout",
          "output_type": "stream",
          "text": [
            "<class 'pandas.core.frame.DataFrame'>\n",
            "RangeIndex: 1073 entries, 0 to 1072\n",
            "Data columns (total 7 columns):\n",
            " #   Column                 Non-Null Count  Dtype \n",
            "---  ------                 --------------  ----- \n",
            " 0   Labels                 1073 non-null   object\n",
            " 1   Question_lemma         1073 non-null   object\n",
            " 2   Question_focus         1073 non-null   object\n",
            " 3   Question_concepts      1073 non-null   object\n",
            " 4   Dependency_pairs       1073 non-null   object\n",
            " 5   Head_dependency_pairs  1073 non-null   object\n",
            " 6   Class                  1073 non-null   object\n",
            "dtypes: object(7)\n",
            "memory usage: 58.8+ KB\n"
          ]
        }
      ],
      "source": [
        "tdf = pd.read_csv(\"prepared_data.csv\")\n",
        "tdf = tdf.loc[:, ~tdf.columns.str.contains('^Unnamed')]\n",
        "tdf.info()"
      ]
    },
    {
      "cell_type": "code",
      "execution_count": null,
      "metadata": {
        "id": "qIu54gddcBPi"
      },
      "outputs": [],
      "source": [
        "# To get combined feature\n",
        "tdf['Combined'] = tdf[tdf.columns[:-2]].apply(\n",
        "    lambda x: ' '.join(x.astype(str)),\n",
        "    axis=1\n",
        ")"
      ]
    },
    {
      "cell_type": "code",
      "execution_count": null,
      "metadata": {
        "colab": {
          "base_uri": "https://localhost:8080/"
        },
        "id": "oMS7USAAcLQW",
        "outputId": "752c25ff-afb2-4d0d-beed-6b13e2e4cee4"
      },
      "outputs": [
        {
          "data": {
            "text/plain": [
              "0    factoid which thyroid hormone transporter be i...\n",
              "1    list which mirna could be use as potential bio...\n",
              "2    list which acetylcholinesterase inhibitor be u...\n",
              "3    list which be the class of anti-arrhythmic dru...\n",
              "4    list which be the different isoform of the mam...\n",
              "Name: Combined, dtype: object"
            ]
          },
          "execution_count": 8,
          "metadata": {},
          "output_type": "execute_result"
        }
      ],
      "source": [
        "tdf[\"Combined\"].head()"
      ]
    },
    {
      "cell_type": "code",
      "execution_count": null,
      "metadata": {
        "id": "ZLdfgqKwuAIa"
      },
      "outputs": [],
      "source": [
        "encoder = LabelEncoder()\n",
        "encoded_values = encoder.fit_transform(tdf[\"Class\"].values)\n",
        "tdf[\"Class_id\"] = pd.Series(encoded_values, index=tdf.index)"
      ]
    },
    {
      "cell_type": "code",
      "execution_count": null,
      "metadata": {
        "id": "Xvd6g46BzSJU"
      },
      "outputs": [],
      "source": [
        "# tdf = tdf.groupby('Class').filter(lambda x : len(x) > 2)"
      ]
    },
    {
      "cell_type": "code",
      "execution_count": null,
      "metadata": {
        "colab": {
          "base_uri": "https://localhost:8080/"
        },
        "id": "Ho4R7AavznFE",
        "outputId": "a0402c8b-af5a-4650-ba46-06f57265dd56"
      },
      "outputs": [
        {
          "name": "stdout",
          "output_type": "stream",
          "text": [
            "<class 'pandas.core.frame.DataFrame'>\n",
            "Int64Index: 1030 entries, 0 to 1071\n",
            "Data columns (total 9 columns):\n",
            " #   Column                 Non-Null Count  Dtype \n",
            "---  ------                 --------------  ----- \n",
            " 0   Labels                 1030 non-null   object\n",
            " 1   Question_lemma         1030 non-null   object\n",
            " 2   Question_focus         1030 non-null   object\n",
            " 3   Question_concepts      1030 non-null   object\n",
            " 4   Dependency_pairs       1030 non-null   object\n",
            " 5   Head_dependency_pairs  1030 non-null   object\n",
            " 6   Class                  1030 non-null   object\n",
            " 7   Combined               1030 non-null   object\n",
            " 8   Class_id               1030 non-null   int64 \n",
            "dtypes: int64(1), object(8)\n",
            "memory usage: 80.5+ KB\n"
          ]
        }
      ],
      "source": [
        "# tdf.info()"
      ]
    },
    {
      "cell_type": "markdown",
      "metadata": {
        "id": "ZHSL6S49leyS"
      },
      "source": [
        "##LR with RBM"
      ]
    },
    {
      "cell_type": "code",
      "execution_count": null,
      "metadata": {
        "id": "S_mm5ZAcRTdh"
      },
      "outputs": [],
      "source": [
        "mndf = 1\n",
        "n_gram = 2\n",
        "# best_accuracy = 0\n",
        "\n",
        "# tdf = tdf.groupby('Class').filter(lambda x : len(x) > 10)\n",
        "# print(tdf['Class'].nunique())\n",
        "\n",
        "tfidf = TfidfVectorizer( norm='l2', sublinear_tf=True, min_df=mndf, ngram_range=(1,n_gram))\n",
        "# sample = tdf[[ 'Labels',\t'Question_lemma',\t'Question_focus',\t'Question_concepts',\t'Dependency_pairs',\t'Head_dependency_pairs'\t]]\n",
        "# features = sp.hstack(sample.apply(lambda col: tfidf.fit_transform(col))).toarray()\n",
        "features = tfidf.fit_transform(tdf.Combined).toarray()\n",
        "labels = tdf.Class_id\n"
      ]
    },
    {
      "cell_type": "code",
      "execution_count": null,
      "metadata": {
        "id": "NNKQcumPTNCz"
      },
      "outputs": [],
      "source": [
        "X_train, X_test, y_train, y_test = train_test_split(features, labels, test_size=0.2, random_state=0)"
      ]
    },
    {
      "cell_type": "code",
      "execution_count": null,
      "metadata": {
        "colab": {
          "base_uri": "https://localhost:8080/"
        },
        "id": "2u6un-oZTgCH",
        "outputId": "54e9893f-7316-4870-8fe2-62693c84e5af"
      },
      "outputs": [
        {
          "name": "stdout",
          "output_type": "stream",
          "text": [
            "Model: \"sequential_1\"\n",
            "_________________________________________________________________\n",
            "Layer (type)                 Output Shape              Param #   \n",
            "=================================================================\n",
            "dense_2 (Dense)              (None, 10)                70370     \n",
            "_________________________________________________________________\n",
            "dense_3 (Dense)              (None, 1)                 11        \n",
            "=================================================================\n",
            "Total params: 70,381\n",
            "Trainable params: 70,381\n",
            "Non-trainable params: 0\n",
            "_________________________________________________________________\n"
          ]
        }
      ],
      "source": [
        "from keras.models import Sequential\n",
        "from keras import layers\n",
        "\n",
        "input_dim = X_train.shape[1]  # Number of features\n",
        "model = Sequential()\n",
        "model.add(layers.Dense(10, input_dim=input_dim, activation='relu'))\n",
        "model.add(layers.Dense(1, activation='sigmoid'))\n",
        "model.compile(loss='binary_crossentropy', \n",
        "              optimizer='adam', \n",
        "              metrics=['accuracy'])\n",
        "model.summary()"
      ]
    },
    {
      "cell_type": "code",
      "execution_count": null,
      "metadata": {
        "id": "7S920btLT9ku"
      },
      "outputs": [],
      "source": [
        "history = model.fit(X_train, y_train,\n",
        "                    epochs=100,\n",
        "                    validation_data=(X_test, y_test),\n",
        "                    batch_size=10)\n",
        "from keras.backend import clear_session\n",
        "clear_session()\n",
        "loss, accuracy = model.evaluate(X_train, y_train, verbose=False)\n",
        "print(\"Training Accuracy: {:.4f}\".format(accuracy))\n",
        "loss, accuracy = model.evaluate(X_test, y_test, verbose=False)\n",
        "print(\"Testing Accuracy:  {:.4f}\".format(accuracy))\n",
        "plot_history(history)"
      ]
    },
    {
      "cell_type": "markdown",
      "metadata": {
        "id": "ML1gOqWHc3Dv"
      },
      "source": [
        "##One Hot encoding"
      ]
    },
    {
      "cell_type": "code",
      "execution_count": null,
      "metadata": {
        "colab": {
          "base_uri": "https://localhost:8080/"
        },
        "id": "hBAv_BTldNnj",
        "outputId": "2a4f0229-3197-44e0-a5d3-757eff0a9200"
      },
      "outputs": [
        {
          "data": {
            "text/plain": [
              "(1073,)"
            ]
          },
          "execution_count": 58,
          "metadata": {},
          "output_type": "execute_result"
        }
      ],
      "source": [
        "labels.shape"
      ]
    },
    {
      "cell_type": "code",
      "execution_count": null,
      "metadata": {
        "colab": {
          "base_uri": "https://localhost:8080/"
        },
        "id": "6Blr6TORc69z",
        "outputId": "9940b5c0-d2b7-4496-eb40-8bfa8944c581"
      },
      "outputs": [
        {
          "data": {
            "text/plain": [
              "array([[0., 0., 0., ..., 0., 0., 0.],\n",
              "       [0., 0., 0., ..., 0., 0., 0.],\n",
              "       [0., 0., 0., ..., 0., 0., 0.],\n",
              "       ...,\n",
              "       [0., 0., 0., ..., 0., 1., 0.],\n",
              "       [0., 0., 0., ..., 0., 0., 0.],\n",
              "       [0., 0., 0., ..., 0., 0., 0.]])"
            ]
          },
          "execution_count": 60,
          "metadata": {},
          "output_type": "execute_result"
        }
      ],
      "source": [
        "from sklearn.preprocessing import OneHotEncoder\n",
        "# encoder = LabelEncoder()\n",
        "# encoded_values = encoder.fit_transform(tdf[\"Class\"].values)\n",
        "encoder = OneHotEncoder(sparse=False)\n",
        "city_labels = encoded_values.reshape((labels.shape[0], 1))\n",
        "encoder.fit_transform(city_labels)"
      ]
    },
    {
      "cell_type": "markdown",
      "metadata": {
        "id": "zeiLy_JXeWI-"
      },
      "source": [
        "##Word Embeddings"
      ]
    },
    {
      "cell_type": "code",
      "execution_count": null,
      "metadata": {
        "id": "nyTBje2CfEUw"
      },
      "outputs": [],
      "source": [
        "sentences_train, sentences_test, y_train, y_test= train_test_split(tdf.Combined.values, tdf.Class_id.values, test_size=0.2, random_state=0)"
      ]
    },
    {
      "cell_type": "code",
      "execution_count": null,
      "metadata": {
        "colab": {
          "base_uri": "https://localhost:8080/"
        },
        "id": "hXAWU1kgef3P",
        "outputId": "a5883d20-9cc6-4a30-e0d7-13ee503ad401"
      },
      "outputs": [
        {
          "name": "stdout",
          "output_type": "stream",
          "text": [
            "list what be be measure with an accelerometer in back pain patient accelerometer accelerometer with accelerometer an accelerometer\n",
            "[4, 10, 2, 2, 201, 29, 127, 498, 8, 1348, 746, 75, 498, 498, 29, 498, 127, 498]\n"
          ]
        }
      ],
      "source": [
        "from keras.preprocessing.text import Tokenizer\n",
        "# tokenizer = Tokenizer(num_words=5000)\n",
        "tokenizer = Tokenizer()\n",
        "# tokenizer.fit_on_texts(sentences_train)\n",
        "tokenizer.fit_on_texts(tdf.Combined.values)\n",
        "X_train = tokenizer.texts_to_sequences(sentences_train)\n",
        "X_test = tokenizer.texts_to_sequences(sentences_test)\n",
        "vocab_size = len(tokenizer.word_index) + 1  # Adding 1 because of reserved 0 index\n",
        "print(sentences_train[2])\n",
        "print(X_train[2])"
      ]
    },
    {
      "cell_type": "code",
      "execution_count": null,
      "metadata": {
        "colab": {
          "base_uri": "https://localhost:8080/"
        },
        "id": "vmZW8Z4OjYa8",
        "outputId": "e7048a79-227c-4a5c-b08a-71bf047f0c8b"
      },
      "outputs": [
        {
          "name": "stdout",
          "output_type": "stream",
          "text": [
            "[   4    1   53  109    2   81   17    2 1351  190  168  924   53  924\n",
            "    1  109   53  109    0    0    0    0    0    0    0    0    0    0\n",
            "    0    0    0    0    0    0    0    0    0    0    0    0    0    0\n",
            "    0    0    0    0    0    0    0    0    0    0    0    0    0    0\n",
            "    0    0    0    0    0    0    0    0    0    0    0    0    0    0\n",
            "    0    0    0    0    0    0    0    0    0    0    0    0    0    0\n",
            "    0    0    0    0    0    0    0    0    0    0    0    0    0    0\n",
            "    0    0]\n"
          ]
        }
      ],
      "source": [
        "from keras.preprocessing.sequence import pad_sequences\n",
        "maxlen = 100\n",
        "X_train = pad_sequences(X_train, padding='post', maxlen=maxlen)\n",
        "X_test = pad_sequences(X_test, padding='post', maxlen=maxlen)\n",
        "print(X_train[0, :])"
      ]
    },
    {
      "cell_type": "code",
      "execution_count": null,
      "metadata": {
        "colab": {
          "base_uri": "https://localhost:8080/"
        },
        "id": "kKJmvHXFjfYO",
        "outputId": "d69ec8ce-d98c-4616-8c34-0edb4d01d35e"
      },
      "outputs": [
        {
          "name": "stdout",
          "output_type": "stream",
          "text": [
            "Model: \"sequential_4\"\n",
            "_________________________________________________________________\n",
            "Layer (type)                 Output Shape              Param #   \n",
            "=================================================================\n",
            "embedding_4 (Embedding)      (None, 100, 50)           85000     \n",
            "_________________________________________________________________\n",
            "flatten_1 (Flatten)          (None, 5000)              0         \n",
            "_________________________________________________________________\n",
            "dense_8 (Dense)              (None, 10)                50010     \n",
            "_________________________________________________________________\n",
            "dense_9 (Dense)              (None, 1)                 11        \n",
            "=================================================================\n",
            "Total params: 135,021\n",
            "Trainable params: 135,021\n",
            "Non-trainable params: 0\n",
            "_________________________________________________________________\n"
          ]
        }
      ],
      "source": [
        "from keras.models import Sequential\n",
        "from keras import layers\n",
        "\n",
        "embedding_dim = 50\n",
        "\n",
        "model = Sequential()\n",
        "model.add(layers.Embedding(input_dim=vocab_size, \n",
        "                           output_dim=embedding_dim, \n",
        "                           input_length=maxlen))\n",
        "model.add(layers.Flatten())\n",
        "model.add(layers.Dense(10, activation='relu'))\n",
        "model.add(layers.Dense(1, activation='sigmoid'))\n",
        "model.compile(optimizer='adam',\n",
        "              loss='binary_crossentropy',\n",
        "              metrics=['accuracy'])\n",
        "model.summary()"
      ]
    },
    {
      "cell_type": "code",
      "execution_count": null,
      "metadata": {
        "colab": {
          "base_uri": "https://localhost:8080/",
          "height": 1000
        },
        "id": "wp0iB2YHjh1T",
        "outputId": "e281e613-3135-42ab-b448-eb84020caaf4"
      },
      "outputs": [
        {
          "name": "stdout",
          "output_type": "stream",
          "text": [
            "Epoch 1/100\n",
            "14/14 [==============================] - 1s 19ms/step - loss: -55.0674 - accuracy: 0.0105 - val_loss: -163.1759 - val_accuracy: 0.0047\n",
            "Epoch 2/100\n",
            "14/14 [==============================] - 0s 7ms/step - loss: -312.9601 - accuracy: 0.0117 - val_loss: -551.4984 - val_accuracy: 0.0047\n",
            "Epoch 3/100\n",
            "14/14 [==============================] - 0s 7ms/step - loss: -851.4775 - accuracy: 0.0117 - val_loss: -1281.8912 - val_accuracy: 0.0047\n",
            "Epoch 4/100\n",
            "14/14 [==============================] - 0s 8ms/step - loss: -1798.6432 - accuracy: 0.0117 - val_loss: -2488.7256 - val_accuracy: 0.0047\n",
            "Epoch 5/100\n",
            "14/14 [==============================] - 0s 8ms/step - loss: -3281.8704 - accuracy: 0.0117 - val_loss: -4315.3789 - val_accuracy: 0.0047\n",
            "Epoch 6/100\n",
            "14/14 [==============================] - 0s 7ms/step - loss: -5460.6948 - accuracy: 0.0117 - val_loss: -6900.2661 - val_accuracy: 0.0047\n",
            "Epoch 7/100\n",
            "14/14 [==============================] - 0s 7ms/step - loss: -8445.8652 - accuracy: 0.0117 - val_loss: -10393.6396 - val_accuracy: 0.0047\n",
            "Epoch 8/100\n",
            "14/14 [==============================] - 0s 7ms/step - loss: -12457.5400 - accuracy: 0.0117 - val_loss: -14933.3955 - val_accuracy: 0.0047\n",
            "Epoch 9/100\n",
            "14/14 [==============================] - 0s 8ms/step - loss: -17570.8809 - accuracy: 0.0117 - val_loss: -20693.0254 - val_accuracy: 0.0047\n",
            "Epoch 10/100\n",
            "14/14 [==============================] - 0s 8ms/step - loss: -24020.2637 - accuracy: 0.0117 - val_loss: -27775.4531 - val_accuracy: 0.0047\n",
            "Epoch 11/100\n",
            "14/14 [==============================] - 0s 7ms/step - loss: -31922.7207 - accuracy: 0.0117 - val_loss: -36405.5078 - val_accuracy: 0.0047\n",
            "Epoch 12/100\n",
            "14/14 [==============================] - 0s 7ms/step - loss: -41381.5430 - accuracy: 0.0117 - val_loss: -46706.9297 - val_accuracy: 0.0047\n",
            "Epoch 13/100\n",
            "14/14 [==============================] - 0s 7ms/step - loss: -52631.5742 - accuracy: 0.0117 - val_loss: -58844.1523 - val_accuracy: 0.0047\n",
            "Epoch 14/100\n",
            "14/14 [==============================] - 0s 7ms/step - loss: -65703.5859 - accuracy: 0.0117 - val_loss: -72999.4062 - val_accuracy: 0.0047\n",
            "Epoch 15/100\n",
            "14/14 [==============================] - 0s 7ms/step - loss: -80901.8203 - accuracy: 0.0117 - val_loss: -89266.4062 - val_accuracy: 0.0047\n",
            "Epoch 16/100\n",
            "14/14 [==============================] - 0s 8ms/step - loss: -98520.4141 - accuracy: 0.0117 - val_loss: -107563.5156 - val_accuracy: 0.0047\n",
            "Epoch 17/100\n",
            "14/14 [==============================] - 0s 7ms/step - loss: -118128.4297 - accuracy: 0.0117 - val_loss: -128499.7578 - val_accuracy: 0.0047\n",
            "Epoch 18/100\n",
            "14/14 [==============================] - 0s 7ms/step - loss: -140319.3750 - accuracy: 0.0117 - val_loss: -151842.1250 - val_accuracy: 0.0047\n",
            "Epoch 19/100\n",
            "14/14 [==============================] - 0s 7ms/step - loss: -164875.2188 - accuracy: 0.0117 - val_loss: -177719.9219 - val_accuracy: 0.0047\n",
            "Epoch 20/100\n",
            "14/14 [==============================] - 0s 7ms/step - loss: -192510.4219 - accuracy: 0.0117 - val_loss: -206410.8281 - val_accuracy: 0.0047\n",
            "Epoch 21/100\n",
            "14/14 [==============================] - 0s 7ms/step - loss: -223074.1562 - accuracy: 0.0117 - val_loss: -238047.6094 - val_accuracy: 0.0047\n",
            "Epoch 22/100\n",
            "14/14 [==============================] - 0s 7ms/step - loss: -256521.0469 - accuracy: 0.0117 - val_loss: -273047.9375 - val_accuracy: 0.0047\n",
            "Epoch 23/100\n",
            "14/14 [==============================] - 0s 7ms/step - loss: -293341.7500 - accuracy: 0.0117 - val_loss: -311387.4062 - val_accuracy: 0.0047\n",
            "Epoch 24/100\n",
            "14/14 [==============================] - 0s 7ms/step - loss: -333656.2188 - accuracy: 0.0117 - val_loss: -352962.3125 - val_accuracy: 0.0047\n",
            "Epoch 25/100\n",
            "14/14 [==============================] - 0s 9ms/step - loss: -377616.9688 - accuracy: 0.0117 - val_loss: -397654.3750 - val_accuracy: 0.0047\n",
            "Epoch 26/100\n",
            "14/14 [==============================] - 0s 7ms/step - loss: -424513.3438 - accuracy: 0.0117 - val_loss: -446646.3750 - val_accuracy: 0.0047\n",
            "Epoch 27/100\n",
            "14/14 [==============================] - 0s 7ms/step - loss: -475872.8438 - accuracy: 0.0117 - val_loss: -498919.0000 - val_accuracy: 0.0047\n",
            "Epoch 28/100\n",
            "14/14 [==============================] - 0s 7ms/step - loss: -530048.0625 - accuracy: 0.0117 - val_loss: -555615.7500 - val_accuracy: 0.0047\n",
            "Epoch 29/100\n",
            "14/14 [==============================] - 0s 8ms/step - loss: -589401.4375 - accuracy: 0.0117 - val_loss: -615428.5625 - val_accuracy: 0.0047\n",
            "Epoch 30/100\n",
            "14/14 [==============================] - 0s 7ms/step - loss: -652174.6875 - accuracy: 0.0117 - val_loss: -679935.1250 - val_accuracy: 0.0047\n",
            "Epoch 31/100\n",
            "14/14 [==============================] - 0s 8ms/step - loss: -719042.4375 - accuracy: 0.0117 - val_loss: -748405.8750 - val_accuracy: 0.0047\n",
            "Epoch 32/100\n",
            "14/14 [==============================] - 0s 7ms/step - loss: -790350.6875 - accuracy: 0.0117 - val_loss: -821247.3750 - val_accuracy: 0.0047\n",
            "Epoch 33/100\n",
            "14/14 [==============================] - 0s 7ms/step - loss: -866024.1250 - accuracy: 0.0117 - val_loss: -898899.0625 - val_accuracy: 0.0047\n",
            "Epoch 34/100\n",
            "14/14 [==============================] - 0s 7ms/step - loss: -946551.0625 - accuracy: 0.0117 - val_loss: -981118.6875 - val_accuracy: 0.0047\n",
            "Epoch 35/100\n",
            "14/14 [==============================] - 0s 7ms/step - loss: -1031670.6875 - accuracy: 0.0117 - val_loss: -1068062.1250 - val_accuracy: 0.0047\n",
            "Epoch 36/100\n",
            "14/14 [==============================] - 0s 8ms/step - loss: -1121982.2500 - accuracy: 0.0117 - val_loss: -1159283.2500 - val_accuracy: 0.0047\n",
            "Epoch 37/100\n",
            "14/14 [==============================] - 0s 7ms/step - loss: -1216692.6250 - accuracy: 0.0117 - val_loss: -1256320.0000 - val_accuracy: 0.0047\n",
            "Epoch 38/100\n",
            "14/14 [==============================] - 0s 7ms/step - loss: -1317119.1250 - accuracy: 0.0117 - val_loss: -1357558.8750 - val_accuracy: 0.0047\n",
            "Epoch 39/100\n",
            "14/14 [==============================] - 0s 7ms/step - loss: -1423019.2500 - accuracy: 0.0117 - val_loss: -1463925.3750 - val_accuracy: 0.0047\n",
            "Epoch 40/100\n",
            "14/14 [==============================] - 0s 7ms/step - loss: -1532415.8750 - accuracy: 0.0117 - val_loss: -1576083.0000 - val_accuracy: 0.0047\n",
            "Epoch 41/100\n",
            "14/14 [==============================] - 0s 7ms/step - loss: -1647905.8750 - accuracy: 0.0117 - val_loss: -1693833.5000 - val_accuracy: 0.0047\n",
            "Epoch 42/100\n",
            "14/14 [==============================] - 0s 8ms/step - loss: -1770528.6250 - accuracy: 0.0117 - val_loss: -1815410.6250 - val_accuracy: 0.0047\n",
            "Epoch 43/100\n",
            "14/14 [==============================] - 0s 8ms/step - loss: -1895976.6250 - accuracy: 0.0117 - val_loss: -1945147.3750 - val_accuracy: 0.0047\n",
            "Epoch 44/100\n",
            "14/14 [==============================] - 0s 8ms/step - loss: -2029131.3750 - accuracy: 0.0117 - val_loss: -2078868.5000 - val_accuracy: 0.0047\n",
            "Epoch 45/100\n",
            "14/14 [==============================] - 0s 7ms/step - loss: -2167610.7500 - accuracy: 0.0117 - val_loss: -2218089.5000 - val_accuracy: 0.0047\n",
            "Epoch 46/100\n",
            "14/14 [==============================] - 0s 7ms/step - loss: -2311190.7500 - accuracy: 0.0117 - val_loss: -2363956.0000 - val_accuracy: 0.0047\n",
            "Epoch 47/100\n",
            "14/14 [==============================] - 0s 8ms/step - loss: -2461643.7500 - accuracy: 0.0117 - val_loss: -2515344.7500 - val_accuracy: 0.0047\n",
            "Epoch 48/100\n",
            "14/14 [==============================] - 0s 8ms/step - loss: -2616685.2500 - accuracy: 0.0117 - val_loss: -2674134.2500 - val_accuracy: 0.0047\n",
            "Epoch 49/100\n",
            "14/14 [==============================] - 0s 8ms/step - loss: -2779849.7500 - accuracy: 0.0117 - val_loss: -2835579.5000 - val_accuracy: 0.0047\n",
            "Epoch 50/100\n",
            "14/14 [==============================] - 0s 7ms/step - loss: -2947022.7500 - accuracy: 0.0117 - val_loss: -3006546.7500 - val_accuracy: 0.0047\n",
            "Epoch 51/100\n",
            "14/14 [==============================] - 0s 7ms/step - loss: -3123160.0000 - accuracy: 0.0117 - val_loss: -3182902.5000 - val_accuracy: 0.0047\n",
            "Epoch 52/100\n",
            "14/14 [==============================] - 0s 7ms/step - loss: -3303145.5000 - accuracy: 0.0117 - val_loss: -3366628.0000 - val_accuracy: 0.0047\n",
            "Epoch 53/100\n",
            "14/14 [==============================] - 0s 7ms/step - loss: -3493518.0000 - accuracy: 0.0117 - val_loss: -3552191.5000 - val_accuracy: 0.0047\n",
            "Epoch 54/100\n",
            "14/14 [==============================] - 0s 7ms/step - loss: -3685031.0000 - accuracy: 0.0117 - val_loss: -3747585.7500 - val_accuracy: 0.0047\n",
            "Epoch 55/100\n",
            "14/14 [==============================] - 0s 7ms/step - loss: -3885066.2500 - accuracy: 0.0117 - val_loss: -3950807.2500 - val_accuracy: 0.0047\n",
            "Epoch 56/100\n",
            "14/14 [==============================] - 0s 8ms/step - loss: -4093549.0000 - accuracy: 0.0117 - val_loss: -4159558.2500 - val_accuracy: 0.0047\n",
            "Epoch 57/100\n",
            "14/14 [==============================] - 0s 8ms/step - loss: -4307950.5000 - accuracy: 0.0117 - val_loss: -4373321.0000 - val_accuracy: 0.0047\n",
            "Epoch 58/100\n",
            "14/14 [==============================] - 0s 8ms/step - loss: -4528045.5000 - accuracy: 0.0117 - val_loss: -4595881.0000 - val_accuracy: 0.0047\n",
            "Epoch 59/100\n",
            "14/14 [==============================] - 0s 8ms/step - loss: -4756859.0000 - accuracy: 0.0117 - val_loss: -4825654.0000 - val_accuracy: 0.0047\n",
            "Epoch 60/100\n",
            "14/14 [==============================] - 0s 8ms/step - loss: -4991756.0000 - accuracy: 0.0117 - val_loss: -5063186.5000 - val_accuracy: 0.0047\n",
            "Epoch 61/100\n",
            "14/14 [==============================] - 0s 8ms/step - loss: -5234354.0000 - accuracy: 0.0117 - val_loss: -5307925.5000 - val_accuracy: 0.0047\n",
            "Epoch 62/100\n",
            "14/14 [==============================] - 0s 8ms/step - loss: -5486767.0000 - accuracy: 0.0117 - val_loss: -5555548.5000 - val_accuracy: 0.0047\n",
            "Epoch 63/100\n",
            "14/14 [==============================] - 0s 7ms/step - loss: -5742426.5000 - accuracy: 0.0117 - val_loss: -5813372.5000 - val_accuracy: 0.0047\n",
            "Epoch 64/100\n",
            "14/14 [==============================] - 0s 7ms/step - loss: -6007350.5000 - accuracy: 0.0117 - val_loss: -6078039.5000 - val_accuracy: 0.0047\n",
            "Epoch 65/100\n",
            "14/14 [==============================] - 0s 9ms/step - loss: -6278362.5000 - accuracy: 0.0117 - val_loss: -6352681.5000 - val_accuracy: 0.0047\n",
            "Epoch 66/100\n",
            "14/14 [==============================] - 0s 7ms/step - loss: -6559349.5000 - accuracy: 0.0117 - val_loss: -6629875.5000 - val_accuracy: 0.0047\n",
            "Epoch 67/100\n",
            "14/14 [==============================] - 0s 7ms/step - loss: -6844502.0000 - accuracy: 0.0117 - val_loss: -6918467.5000 - val_accuracy: 0.0047\n",
            "Epoch 68/100\n",
            "14/14 [==============================] - 0s 7ms/step - loss: -7140061.5000 - accuracy: 0.0117 - val_loss: -7214658.0000 - val_accuracy: 0.0047\n",
            "Epoch 69/100\n",
            "14/14 [==============================] - 0s 8ms/step - loss: -7443545.5000 - accuracy: 0.0117 - val_loss: -7519123.0000 - val_accuracy: 0.0047\n",
            "Epoch 70/100\n",
            "14/14 [==============================] - 0s 8ms/step - loss: -7755024.0000 - accuracy: 0.0117 - val_loss: -7829618.5000 - val_accuracy: 0.0047\n",
            "Epoch 71/100\n",
            "14/14 [==============================] - 0s 8ms/step - loss: -8072987.0000 - accuracy: 0.0117 - val_loss: -8150621.5000 - val_accuracy: 0.0047\n",
            "Epoch 72/100\n",
            "14/14 [==============================] - 0s 8ms/step - loss: -8400514.0000 - accuracy: 0.0117 - val_loss: -8478647.0000 - val_accuracy: 0.0047\n",
            "Epoch 73/100\n",
            "14/14 [==============================] - 0s 8ms/step - loss: -8736374.0000 - accuracy: 0.0117 - val_loss: -8811272.0000 - val_accuracy: 0.0047\n",
            "Epoch 74/100\n",
            "14/14 [==============================] - 0s 9ms/step - loss: -9076867.0000 - accuracy: 0.0117 - val_loss: -9156202.0000 - val_accuracy: 0.0047\n",
            "Epoch 75/100\n",
            "14/14 [==============================] - 0s 8ms/step - loss: -9428741.0000 - accuracy: 0.0117 - val_loss: -9506536.0000 - val_accuracy: 0.0047\n",
            "Epoch 76/100\n",
            "14/14 [==============================] - 0s 7ms/step - loss: -9788094.0000 - accuracy: 0.0117 - val_loss: -9863067.0000 - val_accuracy: 0.0047\n",
            "Epoch 77/100\n",
            "14/14 [==============================] - 0s 8ms/step - loss: -10149808.0000 - accuracy: 0.0117 - val_loss: -10229517.0000 - val_accuracy: 0.0047\n",
            "Epoch 78/100\n",
            "14/14 [==============================] - 0s 8ms/step - loss: -10526140.0000 - accuracy: 0.0117 - val_loss: -10601408.0000 - val_accuracy: 0.0047\n",
            "Epoch 79/100\n",
            "14/14 [==============================] - 0s 8ms/step - loss: -10907716.0000 - accuracy: 0.0117 - val_loss: -10985482.0000 - val_accuracy: 0.0047\n",
            "Epoch 80/100\n",
            "14/14 [==============================] - 0s 8ms/step - loss: -11300580.0000 - accuracy: 0.0117 - val_loss: -11376480.0000 - val_accuracy: 0.0047\n",
            "Epoch 81/100\n",
            "14/14 [==============================] - 0s 7ms/step - loss: -11699440.0000 - accuracy: 0.0117 - val_loss: -11775386.0000 - val_accuracy: 0.0047\n",
            "Epoch 82/100\n",
            "14/14 [==============================] - 0s 7ms/step - loss: -12108043.0000 - accuracy: 0.0117 - val_loss: -12186362.0000 - val_accuracy: 0.0047\n",
            "Epoch 83/100\n",
            "14/14 [==============================] - 0s 8ms/step - loss: -12528539.0000 - accuracy: 0.0117 - val_loss: -12600609.0000 - val_accuracy: 0.0047\n",
            "Epoch 84/100\n",
            "14/14 [==============================] - 0s 7ms/step - loss: -12952003.0000 - accuracy: 0.0117 - val_loss: -13030964.0000 - val_accuracy: 0.0047\n",
            "Epoch 85/100\n",
            "14/14 [==============================] - 0s 7ms/step - loss: -13389529.0000 - accuracy: 0.0117 - val_loss: -13463987.0000 - val_accuracy: 0.0047\n",
            "Epoch 86/100\n",
            "14/14 [==============================] - 0s 7ms/step - loss: -13832866.0000 - accuracy: 0.0117 - val_loss: -13902284.0000 - val_accuracy: 0.0047\n",
            "Epoch 87/100\n",
            "14/14 [==============================] - 0s 8ms/step - loss: -14279334.0000 - accuracy: 0.0117 - val_loss: -14357530.0000 - val_accuracy: 0.0047\n",
            "Epoch 88/100\n",
            "14/14 [==============================] - 0s 7ms/step - loss: -14743863.0000 - accuracy: 0.0117 - val_loss: -14808872.0000 - val_accuracy: 0.0047\n",
            "Epoch 89/100\n",
            "14/14 [==============================] - 0s 7ms/step - loss: -15210263.0000 - accuracy: 0.0117 - val_loss: -15278201.0000 - val_accuracy: 0.0047\n",
            "Epoch 90/100\n",
            "14/14 [==============================] - 0s 8ms/step - loss: -15686016.0000 - accuracy: 0.0117 - val_loss: -15758049.0000 - val_accuracy: 0.0047\n",
            "Epoch 91/100\n",
            "14/14 [==============================] - 0s 8ms/step - loss: -16176553.0000 - accuracy: 0.0117 - val_loss: -16244356.0000 - val_accuracy: 0.0047\n",
            "Epoch 92/100\n",
            "14/14 [==============================] - 0s 8ms/step - loss: -16672187.0000 - accuracy: 0.0117 - val_loss: -16739658.0000 - val_accuracy: 0.0047\n",
            "Epoch 93/100\n",
            "14/14 [==============================] - 0s 7ms/step - loss: -17178808.0000 - accuracy: 0.0117 - val_loss: -17245494.0000 - val_accuracy: 0.0047\n",
            "Epoch 94/100\n",
            "14/14 [==============================] - 0s 7ms/step - loss: -17697328.0000 - accuracy: 0.0117 - val_loss: -17759622.0000 - val_accuracy: 0.0047\n",
            "Epoch 95/100\n",
            "14/14 [==============================] - 0s 8ms/step - loss: -18219184.0000 - accuracy: 0.0117 - val_loss: -18283246.0000 - val_accuracy: 0.0047\n",
            "Epoch 96/100\n",
            "14/14 [==============================] - 0s 7ms/step - loss: -18751768.0000 - accuracy: 0.0117 - val_loss: -18820374.0000 - val_accuracy: 0.0047\n",
            "Epoch 97/100\n",
            "14/14 [==============================] - 0s 7ms/step - loss: -19299598.0000 - accuracy: 0.0117 - val_loss: -19357416.0000 - val_accuracy: 0.0047\n",
            "Epoch 98/100\n",
            "14/14 [==============================] - 0s 7ms/step - loss: -19849478.0000 - accuracy: 0.0117 - val_loss: -19910710.0000 - val_accuracy: 0.0047\n",
            "Epoch 99/100\n",
            "14/14 [==============================] - 0s 7ms/step - loss: -20417676.0000 - accuracy: 0.0117 - val_loss: -20467472.0000 - val_accuracy: 0.0047\n",
            "Epoch 100/100\n",
            "14/14 [==============================] - 0s 7ms/step - loss: -20981998.0000 - accuracy: 0.0117 - val_loss: -21040978.0000 - val_accuracy: 0.0047\n",
            "Training Accuracy: 0.0117\n",
            "Testing Accuracy:  0.0047\n"
          ]
        },
        {
          "data": {
            "image/png": "[encoded data removed]",
            "text/plain": [
              "<Figure size 864x360 with 2 Axes>"
            ]
          },
          "metadata": {},
          "output_type": "display_data"
        }
      ],
      "source": [
        "history = model.fit(X_train, y_train,\n",
        "                    epochs=100,\n",
        "                    verbose=True,\n",
        "                    validation_data=(X_test, y_test),\n",
        "                    batch_size=64)\n",
        "loss, accuracy = model.evaluate(X_train, y_train, verbose=False)\n",
        "print(\"Training Accuracy: {:.4f}\".format(accuracy))\n",
        "loss, accuracy = model.evaluate(X_test, y_test, verbose=False)\n",
        "print(\"Testing Accuracy:  {:.4f}\".format(accuracy))\n",
        "plot_history(history)"
      ]
    },
    {
      "cell_type": "code",
      "execution_count": null,
      "metadata": {
        "colab": {
          "base_uri": "https://localhost:8080/"
        },
        "id": "LssykO6vkF8c",
        "outputId": "16a550d5-647c-4cc0-9b0b-acc5e115a33d"
      },
      "outputs": [
        {
          "name": "stdout",
          "output_type": "stream",
          "text": [
            "Model: \"sequential_1\"\n",
            "_________________________________________________________________\n",
            "Layer (type)                 Output Shape              Param #   \n",
            "=================================================================\n",
            "embedding_1 (Embedding)      (None, 100, 50)           85000     \n",
            "_________________________________________________________________\n",
            "global_max_pooling1d (Global (None, 50)                0         \n",
            "_________________________________________________________________\n",
            "dense_2 (Dense)              (None, 10)                510       \n",
            "_________________________________________________________________\n",
            "dense_3 (Dense)              (None, 1)                 11        \n",
            "=================================================================\n",
            "Total params: 85,521\n",
            "Trainable params: 85,521\n",
            "Non-trainable params: 0\n",
            "_________________________________________________________________\n"
          ]
        }
      ],
      "source": [
        "from keras.models import Sequential\n",
        "from keras import layers\n",
        "\n",
        "embedding_dim = 50\n",
        "\n",
        "model = Sequential()\n",
        "model.add(layers.Embedding(input_dim=vocab_size, \n",
        "                           output_dim=embedding_dim, \n",
        "                           input_length=maxlen))\n",
        "model.add(layers.GlobalMaxPool1D())\n",
        "model.add(layers.Dense(10, activation='relu'))\n",
        "model.add(layers.Dense(1, activation='sigmoid'))\n",
        "model.compile(optimizer='adam',\n",
        "              loss='binary_crossentropy',\n",
        "              metrics=['accuracy'])\n",
        "model.summary()"
      ]
    },
    {
      "cell_type": "code",
      "execution_count": null,
      "metadata": {
        "colab": {
          "base_uri": "https://localhost:8080/",
          "height": 372
        },
        "id": "1eBNbp80kJpX",
        "outputId": "e917706f-a1eb-4737-a0ee-928528754e68"
      },
      "outputs": [
        {
          "name": "stdout",
          "output_type": "stream",
          "text": [
            "Training Accuracy: 0.0117\n",
            "Testing Accuracy:  0.0047\n"
          ]
        },
        {
          "data": {
            "image/png": "[encoded data removed]",
            "text/plain": [
              "<Figure size 864x360 with 2 Axes>"
            ]
          },
          "metadata": {},
          "output_type": "display_data"
        }
      ],
      "source": [
        "history = model.fit(X_train, y_train,\n",
        "                    epochs=50,\n",
        "                    verbose=False,\n",
        "                    validation_data=(X_test, y_test),\n",
        "                    batch_size=10)\n",
        "loss, accuracy = model.evaluate(X_train, y_train, verbose=False)\n",
        "print(\"Training Accuracy: {:.4f}\".format(accuracy))\n",
        "loss, accuracy = model.evaluate(X_test, y_test, verbose=False)\n",
        "print(\"Testing Accuracy:  {:.4f}\".format(accuracy))\n",
        "plot_history(history)"
      ]
    },
    {
      "cell_type": "code",
      "execution_count": null,
      "metadata": {
        "id": "Gi1-xkIckHUV"
      },
      "outputs": [],
      "source": [
        ""
      ]
    },
    {
      "cell_type": "markdown",
      "metadata": {
        "id": "k0JEvT7bnMOi"
      },
      "source": [
        "##Glove"
      ]
    },
    {
      "cell_type": "code",
      "execution_count": null,
      "metadata": {
        "id": "Lj4vwoiWnP65"
      },
      "outputs": [],
      "source": [
        "# !wget \"https://nlp.stanford.edu/data/glove.6B.zip\""
      ]
    },
    {
      "cell_type": "code",
      "execution_count": null,
      "metadata": {
        "id": "AxSlOKhEnPm_"
      },
      "outputs": [],
      "source": [
        "# !unzip glove*.zip"
      ]
    },
    {
      "cell_type": "code",
      "execution_count": null,
      "metadata": {
        "id": "lqtnzqbwsx4-"
      },
      "outputs": [],
      "source": [
        "# %cp -r *.txt /content/drive/MyDrive/multi_label_question_classification/glove/\n",
        "%cp -r /content/drive/MyDrive/multi_label_question_classification/glove/*.txt /content"
      ]
    },
    {
      "cell_type": "code",
      "execution_count": null,
      "metadata": {
        "id": "iH5uX5HnpUTT"
      },
      "outputs": [],
      "source": [
        "import numpy as np\n",
        "\n",
        "def create_embedding_matrix(filepath, word_index, embedding_dim):\n",
        "    vocab_size = len(word_index) + 1  # Adding again 1 because of reserved 0 index\n",
        "    embedding_matrix = np.zeros((vocab_size, embedding_dim))\n",
        "\n",
        "    with open(filepath) as f:\n",
        "        for line in f:\n",
        "            word, *vector = line.split()\n",
        "            if word in word_index:\n",
        "                idx = word_index[word] \n",
        "                embedding_matrix[idx] = np.array(\n",
        "                    vector, dtype=np.float32)[:embedding_dim]\n",
        "\n",
        "    return embedding_matrix"
      ]
    },
    {
      "cell_type": "code",
      "execution_count": null,
      "metadata": {
        "id": "x_92ZvSLpWNz"
      },
      "outputs": [],
      "source": [
        "embedding_dim = 50\n",
        "embedding_matrix = create_embedding_matrix('glove.6B.300d.txt',tokenizer.word_index, embedding_dim)"
      ]
    },
    {
      "cell_type": "code",
      "execution_count": null,
      "metadata": {
        "colab": {
          "base_uri": "https://localhost:8080/"
        },
        "id": "qSFwNFPZrTxV",
        "outputId": "1fadd88a-5d43-4af9-e82d-ca6f48728f67"
      },
      "outputs": [
        {
          "data": {
            "text/plain": [
              "0.8423529411764706"
            ]
          },
          "execution_count": 23,
          "metadata": {},
          "output_type": "execute_result"
        }
      ],
      "source": [
        "nonzero_elements = np.count_nonzero(np.count_nonzero(embedding_matrix, axis=1))\n",
        "nonzero_elements / vocab_size"
      ]
    },
    {
      "cell_type": "code",
      "execution_count": null,
      "metadata": {
        "colab": {
          "base_uri": "https://localhost:8080/"
        },
        "id": "oV5qJYZntRxy",
        "outputId": "5681d54e-c07f-49d6-db52-9dfad14332ec"
      },
      "outputs": [
        {
          "name": "stdout",
          "output_type": "stream",
          "text": [
            "Model: \"sequential_3\"\n",
            "_________________________________________________________________\n",
            "Layer (type)                 Output Shape              Param #   \n",
            "=================================================================\n",
            "embedding_3 (Embedding)      (None, 100, 50)           85000     \n",
            "_________________________________________________________________\n",
            "global_max_pooling1d_2 (Glob (None, 50)                0         \n",
            "_________________________________________________________________\n",
            "dense_6 (Dense)              (None, 10)                510       \n",
            "_________________________________________________________________\n",
            "dense_7 (Dense)              (None, 1)                 11        \n",
            "=================================================================\n",
            "Total params: 85,521\n",
            "Trainable params: 85,521\n",
            "Non-trainable params: 0\n",
            "_________________________________________________________________\n"
          ]
        }
      ],
      "source": [
        "model = Sequential()\n",
        "model.add(layers.Embedding(vocab_size, embedding_dim, \n",
        "                           weights=[embedding_matrix], \n",
        "                           input_length=maxlen, \n",
        "                           trainable=True))\n",
        "model.add(layers.GlobalMaxPool1D())\n",
        "model.add(layers.Dense(10, activation='relu'))\n",
        "model.add(layers.Dense(1, activation='sigmoid'))\n",
        "model.compile(optimizer='adam',\n",
        "              loss='binary_crossentropy',\n",
        "              metrics=['accuracy'])\n",
        "model.summary()"
      ]
    },
    {
      "cell_type": "code",
      "execution_count": null,
      "metadata": {
        "colab": {
          "base_uri": "https://localhost:8080/",
          "height": 372
        },
        "id": "jWNDIu1rtWpE",
        "outputId": "c02d29ce-7a7b-4792-9319-4e0daf857c05"
      },
      "outputs": [
        {
          "name": "stdout",
          "output_type": "stream",
          "text": [
            "Training Accuracy: 0.0117\n",
            "Testing Accuracy:  0.0047\n"
          ]
        },
        {
          "data": {
            "image/png": "[encoded data removed]",
            "text/plain": [
              "<Figure size 864x360 with 2 Axes>"
            ]
          },
          "metadata": {},
          "output_type": "display_data"
        }
      ],
      "source": [
        "history = model.fit(X_train, y_train,\n",
        "                    epochs=50,\n",
        "                    verbose=False,\n",
        "                    validation_data=(X_test, y_test),\n",
        "                    batch_size=10)\n",
        "loss, accuracy = model.evaluate(X_train, y_train, verbose=False)\n",
        "print(\"Training Accuracy: {:.4f}\".format(accuracy))\n",
        "loss, accuracy = model.evaluate(X_test, y_test, verbose=False)\n",
        "print(\"Testing Accuracy:  {:.4f}\".format(accuracy))\n",
        "plot_history(history)"
      ]
    },
    {
      "cell_type": "markdown",
      "metadata": {
        "id": "nc1m2cT278v1"
      },
      "source": [
        "##CNN"
      ]
    },
    {
      "cell_type": "code",
      "execution_count": null,
      "metadata": {
        "colab": {
          "base_uri": "https://localhost:8080/"
        },
        "id": "cDym_r4-8Dm-",
        "outputId": "39b8b0c6-5c02-4003-a2a6-ad189858d123"
      },
      "outputs": [
        {
          "name": "stdout",
          "output_type": "stream",
          "text": [
            "Model: \"sequential_5\"\n",
            "_________________________________________________________________\n",
            "Layer (type)                 Output Shape              Param #   \n",
            "=================================================================\n",
            "embedding_5 (Embedding)      (None, 100, 100)          170000    \n",
            "_________________________________________________________________\n",
            "conv1d (Conv1D)              (None, 96, 128)           64128     \n",
            "_________________________________________________________________\n",
            "global_max_pooling1d_3 (Glob (None, 128)               0         \n",
            "_________________________________________________________________\n",
            "dense_10 (Dense)             (None, 10)                1290      \n",
            "_________________________________________________________________\n",
            "dense_11 (Dense)             (None, 1)                 11        \n",
            "=================================================================\n",
            "Total params: 235,429\n",
            "Trainable params: 235,429\n",
            "Non-trainable params: 0\n",
            "_________________________________________________________________\n"
          ]
        }
      ],
      "source": [
        "embedding_dim = 100\n",
        "\n",
        "model = Sequential()\n",
        "model.add(layers.Embedding(vocab_size, embedding_dim, input_length=maxlen))\n",
        "model.add(layers.Conv1D(128, 5, activation='relu'))\n",
        "model.add(layers.GlobalMaxPooling1D())\n",
        "model.add(layers.Dense(10, activation='relu'))\n",
        "model.add(layers.Dense(1, activation='sigmoid'))\n",
        "model.compile(optimizer='adam',\n",
        "              loss='binary_crossentropy',\n",
        "              metrics=['accuracy'])\n",
        "model.summary()"
      ]
    },
    {
      "cell_type": "code",
      "execution_count": null,
      "metadata": {
        "colab": {
          "base_uri": "https://localhost:8080/",
          "height": 372
        },
        "id": "H53kB2mab83F",
        "outputId": "56271598-ffa2-45ee-f902-d0990a13567c"
      },
      "outputs": [
        {
          "name": "stdout",
          "output_type": "stream",
          "text": [
            "Training Accuracy: 0.0117\n",
            "Testing Accuracy:  0.0047\n"
          ]
        },
        {
          "data": {
            "image/png": "[encoded data removed]",
            "text/plain": [
              "<Figure size 864x360 with 2 Axes>"
            ]
          },
          "metadata": {},
          "output_type": "display_data"
        }
      ],
      "source": [
        "history = model.fit(X_train, y_train,\n",
        "                    epochs=10,\n",
        "                    verbose=False,\n",
        "                    validation_data=(X_test, y_test),\n",
        "                    batch_size=64)\n",
        "loss, accuracy = model.evaluate(X_train, y_train, verbose=False)\n",
        "print(\"Training Accuracy: {:.4f}\".format(accuracy))\n",
        "loss, accuracy = model.evaluate(X_test, y_test, verbose=False)\n",
        "print(\"Testing Accuracy:  {:.4f}\".format(accuracy))\n",
        "plot_history(history)"
      ]
    },
    {
      "cell_type": "markdown",
      "metadata": {
        "id": "tn6_Zrj1mAXT"
      },
      "source": [
        "##Hyperparameters Optimization"
      ]
    },
    {
      "cell_type": "code",
      "execution_count": null,
      "metadata": {
        "id": "y1_cnx4OedcQ"
      },
      "outputs": [],
      "source": [
        "def create_model(num_filters, kernel_size, vocab_size, embedding_dim, maxlen):\n",
        "    model = Sequential()\n",
        "    model.add(layers.Embedding(vocab_size, embedding_dim, input_length=maxlen))\n",
        "    model.add(layers.Conv1D(num_filters, kernel_size, activation='relu'))\n",
        "    model.add(layers.GlobalMaxPooling1D())\n",
        "    model.add(layers.Dense(10, activation='relu'))\n",
        "    model.add(layers.Dense(1, activation='sigmoid'))\n",
        "    model.compile(optimizer='adam',\n",
        "                  loss='binary_crossentropy',\n",
        "                  metrics=['accuracy'])\n",
        "    return model"
      ]
    },
    {
      "cell_type": "code",
      "execution_count": null,
      "metadata": {
        "id": "rGwz5wSsmNeb"
      },
      "outputs": [],
      "source": [
        "param_grid = dict(num_filters=[32, 64, 128],\n",
        "                  kernel_size=[3, 5, 7],\n",
        "                  vocab_size=[5000], \n",
        "                  embedding_dim=[50],\n",
        "                  maxlen=[100])"
      ]
    },
    {
      "cell_type": "code",
      "execution_count": null,
      "metadata": {
        "id": "CZgROFL7meNn"
      },
      "outputs": [],
      "source": [
        "from keras.wrappers.scikit_learn import KerasClassifier\n",
        "from sklearn.model_selection import RandomizedSearchCV\n",
        "\n",
        "# Main settings\n",
        "epochs = 20\n",
        "embedding_dim = 50\n",
        "maxlen = 100\n",
        "output_file = 'data/output.txt'\n",
        "\n",
        "# Run grid search for each source (yelp, amazon, imdb)\n",
        "for source, frame in df.groupby('source'):\n",
        "    print('Running grid search for data set :', source)\n",
        "    sentences = df['sentence'].values\n",
        "    y = df['label'].values\n",
        "\n",
        "    # Train-test split\n",
        "    sentences_train, sentences_test, y_train, y_test = train_test_split(\n",
        "        sentences, y, test_size=0.25, random_state=1000)\n",
        "\n",
        "    # Tokenize words\n",
        "    tokenizer = Tokenizer(num_words=5000)\n",
        "    tokenizer.fit_on_texts(sentences_train)\n",
        "    X_train = tokenizer.texts_to_sequences(sentences_train)\n",
        "    X_test = tokenizer.texts_to_sequences(sentences_test)\n",
        "\n",
        "    # Adding 1 because of reserved 0 index\n",
        "    vocab_size = len(tokenizer.word_index) + 1\n",
        "\n",
        "    # Pad sequences with zeros\n",
        "    X_train = pad_sequences(X_train, padding='post', maxlen=maxlen)\n",
        "    X_test = pad_sequences(X_test, padding='post', maxlen=maxlen)\n",
        "\n",
        "    # Parameter grid for grid search\n",
        "    param_grid = dict(num_filters=[32, 64, 128],\n",
        "                      kernel_size=[3, 5, 7],\n",
        "                      vocab_size=[vocab_size],\n",
        "                      embedding_dim=[embedding_dim],\n",
        "                      maxlen=[maxlen])\n",
        "    model = KerasClassifier(build_fn=create_model,\n",
        "                            epochs=epochs, batch_size=10,\n",
        "                            verbose=False)\n",
        "    grid = RandomizedSearchCV(estimator=model, param_distributions=param_grid,\n",
        "                              cv=4, verbose=1, n_iter=5)\n",
        "    grid_result = grid.fit(X_train, y_train)\n",
        "\n",
        "    # Evaluate testing set\n",
        "    test_accuracy = grid.score(X_test, y_test)\n",
        "\n",
        "    # Save and evaluate results\n",
        "    prompt = input(f'finished {source}; write to file and proceed? [y/n]')\n",
        "    if prompt.lower() not in {'y', 'true', 'yes'}:\n",
        "        break\n",
        "    with open(output_file, 'a') as f:\n",
        "        s = ('Running {} data set\\nBest Accuracy : '\n",
        "             '{:.4f}\\n{}\\nTest Accuracy : {:.4f}\\n\\n')\n",
        "        output_string = s.format(\n",
        "            source,\n",
        "            grid_result.best_score_,\n",
        "            grid_result.best_params_,\n",
        "            test_accuracy)\n",
        "        print(output_string)\n",
        "        f.write(output_string)"
      ]
    },
    {
      "cell_type": "markdown",
      "metadata": {
        "id": "yipjtt_G65ze"
      },
      "source": [
        "# BioAsk"
      ]
    },
    {
      "cell_type": "markdown",
      "source": [
        "### Install cudf"
      ],
      "metadata": {
        "id": "mYbMaYkmaHkb"
      }
    },
    {
      "cell_type": "code",
      "source": [
        "!python --version\n",
        "!lsb_release -a\n",
        "!nvcc -V && which nvcc\n",
        "!nvidia-smi"
      ],
      "metadata": {
        "colab": {
          "base_uri": "https://localhost:8080/"
        },
        "id": "5ppOuKA2aMeJ",
        "outputId": "ee724d86-eb2e-4c34-fe72-5718f050318e"
      },
      "execution_count": 1,
      "outputs": [
        {
          "output_type": "stream",
          "name": "stdout",
          "text": [
            "Python 3.7.13\n",
            "No LSB modules are available.\n",
            "Distributor ID:\tUbuntu\n",
            "Description:\tUbuntu 18.04.5 LTS\n",
            "Release:\t18.04\n",
            "Codename:\tbionic\n",
            "nvcc: NVIDIA (R) Cuda compiler driver\n",
            "Copyright (c) 2005-2020 NVIDIA Corporation\n",
            "Built on Mon_Oct_12_20:09:46_PDT_2020\n",
            "Cuda compilation tools, release 11.1, V11.1.105\n",
            "Build cuda_11.1.TC455_06.29190527_0\n",
            "/usr/local/cuda/bin/nvcc\n",
            "Thu May 12 04:40:12 2022       \n",
            "+-----------------------------------------------------------------------------+\n",
            "| NVIDIA-SMI 460.32.03    Driver Version: 460.32.03    CUDA Version: 11.2     |\n",
            "|-------------------------------+----------------------+----------------------+\n",
            "| GPU  Name        Persistence-M| Bus-Id        Disp.A | Volatile Uncorr. ECC |\n",
            "| Fan  Temp  Perf  Pwr:Usage/Cap|         Memory-Usage | GPU-Util  Compute M. |\n",
            "|                               |                      |               MIG M. |\n",
            "|===============================+======================+======================|\n",
            "|   0  Tesla T4            Off  | 00000000:00:04.0 Off |                    0 |\n",
            "| N/A   45C    P8     9W /  70W |      0MiB / 15109MiB |      0%      Default |\n",
            "|                               |                      |                  N/A |\n",
            "+-------------------------------+----------------------+----------------------+\n",
            "                                                                               \n",
            "+-----------------------------------------------------------------------------+\n",
            "| Processes:                                                                  |\n",
            "|  GPU   GI   CI        PID   Type   Process name                  GPU Memory |\n",
            "|        ID   ID                                                   Usage      |\n",
            "|=============================================================================|\n",
            "|  No running processes found                                                 |\n",
            "+-----------------------------------------------------------------------------+\n"
          ]
        }
      ]
    },
    {
      "cell_type": "code",
      "source": [
        "# This get the RAPIDS-Colab install files and test check your GPU.  Run cells 1 and 2 only.\n",
        "# Please read the output of this cell.  If your Colab Instance is not RAPIDS compatible, it will warn you and give you remediation steps.\n",
        "\n",
        "!git clone https://github.com/rapidsai-community/rapidsai-csp-utils.git\n",
        "!python rapidsai-csp-utils/colab/env-check.py"
      ],
      "metadata": {
        "colab": {
          "base_uri": "https://localhost:8080/"
        },
        "id": "gQCcUvkCdazh",
        "outputId": "7188e482-399e-4fd1-aa26-01827bc8f7f2"
      },
      "execution_count": 2,
      "outputs": [
        {
          "output_type": "stream",
          "name": "stdout",
          "text": [
            "Cloning into 'rapidsai-csp-utils'...\n",
            "remote: Enumerating objects: 300, done.\u001b[K\n",
            "remote: Counting objects: 100% (129/129), done.\u001b[K\n",
            "remote: Compressing objects: 100% (74/74), done.\u001b[K\n",
            "remote: Total 300 (delta 74), reused 99 (delta 55), pack-reused 171\u001b[K\n",
            "Receiving objects: 100% (300/300), 87.58 KiB | 6.74 MiB/s, done.\n",
            "Resolving deltas: 100% (136/136), done.\n",
            "***********************************************************************\n",
            "Woo! Your instance has the right kind of GPU, a Tesla T4!\n",
            "***********************************************************************\n",
            "\n"
          ]
        }
      ]
    },
    {
      "cell_type": "code",
      "source": [
        "# This will update the Colab environment and restart the kernel.\n",
        "!bash rapidsai-csp-utils/colab/update_gcc.sh\n",
        "import os\n",
        "os._exit(00)"
      ],
      "metadata": {
        "colab": {
          "base_uri": "https://localhost:8080/"
        },
        "id": "M7sPqDSzeBwq",
        "outputId": "126da072-2402-4937-807d-1683a97a05d4"
      },
      "execution_count": null,
      "outputs": [
        {
          "output_type": "stream",
          "name": "stdout",
          "text": [
            "Updating your Colab environment.  This will restart your kernel.  Don't Panic!\n",
            "Get:1 https://developer.download.nvidia.com/compute/cuda/repos/ubuntu1804/x86_64  InRelease [1,581 B]\n",
            "Get:2 https://cloud.r-project.org/bin/linux/ubuntu bionic-cran40/ InRelease [3,626 B]\n",
            "Ign:3 https://developer.download.nvidia.com/compute/machine-learning/repos/ubuntu1804/x86_64  InRelease\n",
            "Hit:4 https://developer.download.nvidia.com/compute/machine-learning/repos/ubuntu1804/x86_64  Release\n",
            "Get:5 https://developer.download.nvidia.com/compute/cuda/repos/ubuntu1804/x86_64  Packages [742 kB]\n",
            "Hit:6 http://archive.ubuntu.com/ubuntu bionic InRelease\n",
            "Get:7 http://archive.ubuntu.com/ubuntu bionic-updates InRelease [88.7 kB]\n",
            "Get:8 https://cloud.r-project.org/bin/linux/ubuntu bionic-cran40/ Packages [85.2 kB]\n",
            "Get:9 http://ppa.launchpad.net/c2d4u.team/c2d4u4.0+/ubuntu bionic InRelease [15.9 kB]\n",
            "Get:11 http://security.ubuntu.com/ubuntu bionic-security InRelease [88.7 kB]\n",
            "Get:12 http://archive.ubuntu.com/ubuntu bionic-backports InRelease [74.6 kB]\n",
            "Get:13 http://archive.ubuntu.com/ubuntu bionic-updates/main amd64 Packages [3,195 kB]\n",
            "Hit:14 http://ppa.launchpad.net/cran/libgit2/ubuntu bionic InRelease\n",
            "Get:15 http://ppa.launchpad.net/deadsnakes/ppa/ubuntu bionic InRelease [15.9 kB]\n",
            "Get:16 http://archive.ubuntu.com/ubuntu bionic-updates/restricted amd64 Packages [966 kB]\n",
            "Get:17 http://archive.ubuntu.com/ubuntu bionic-updates/universe amd64 Packages [2,277 kB]\n",
            "Get:18 http://security.ubuntu.com/ubuntu bionic-security/main amd64 Packages [2,747 kB]\n",
            "Hit:19 http://ppa.launchpad.net/graphics-drivers/ppa/ubuntu bionic InRelease\n",
            "Get:20 http://ppa.launchpad.net/ubuntu-toolchain-r/test/ubuntu bionic InRelease [20.8 kB]\n",
            "Get:21 http://security.ubuntu.com/ubuntu bionic-security/universe amd64 Packages [1,501 kB]\n",
            "Get:22 http://security.ubuntu.com/ubuntu bionic-security/restricted amd64 Packages [921 kB]\n",
            "Get:23 http://ppa.launchpad.net/c2d4u.team/c2d4u4.0+/ubuntu bionic/main Sources [1,957 kB]\n",
            "Get:24 http://ppa.launchpad.net/c2d4u.team/c2d4u4.0+/ubuntu bionic/main amd64 Packages [1,004 kB]\n",
            "Get:25 http://ppa.launchpad.net/deadsnakes/ppa/ubuntu bionic/main amd64 Packages [45.3 kB]\n",
            "Get:26 http://ppa.launchpad.net/ubuntu-toolchain-r/test/ubuntu bionic/main amd64 Packages [50.4 kB]\n",
            "Fetched 15.8 MB in 5s (3,008 kB/s)\n",
            "Reading package lists... Done\n",
            "Added repo\n",
            "Hit:1 https://developer.download.nvidia.com/compute/cuda/repos/ubuntu1804/x86_64  InRelease\n",
            "Hit:2 https://cloud.r-project.org/bin/linux/ubuntu bionic-cran40/ InRelease\n",
            "Ign:3 https://developer.download.nvidia.com/compute/machine-learning/repos/ubuntu1804/x86_64  InRelease\n",
            "Hit:4 https://developer.download.nvidia.com/compute/machine-learning/repos/ubuntu1804/x86_64  Release\n",
            "Hit:5 http://archive.ubuntu.com/ubuntu bionic InRelease\n",
            "Hit:6 http://archive.ubuntu.com/ubuntu bionic-updates InRelease\n",
            "Hit:8 http://archive.ubuntu.com/ubuntu bionic-backports InRelease\n",
            "Hit:9 http://security.ubuntu.com/ubuntu bionic-security InRelease\n",
            "Hit:10 http://ppa.launchpad.net/c2d4u.team/c2d4u4.0+/ubuntu bionic InRelease\n",
            "Hit:11 http://ppa.launchpad.net/cran/libgit2/ubuntu bionic InRelease\n",
            "Hit:12 http://ppa.launchpad.net/deadsnakes/ppa/ubuntu bionic InRelease\n",
            "Hit:13 http://ppa.launchpad.net/graphics-drivers/ppa/ubuntu bionic InRelease\n",
            "Hit:14 http://ppa.launchpad.net/ubuntu-toolchain-r/test/ubuntu bionic InRelease\n",
            "Reading package lists... Done\n",
            "Installing libstdc++\n",
            "Reading package lists... Done\n",
            "Building dependency tree       \n",
            "Reading state information... Done\n",
            "Selected version '11.1.0-1ubuntu1~18.04.1' (Toolchain test builds:18.04/bionic [amd64]) for 'libstdc++6'\n",
            "The following packages were automatically installed and are no longer required:\n",
            "  libnvidia-common-460 nsight-compute-2020.2.0\n",
            "Use 'sudo apt autoremove' to remove them.\n",
            "The following additional packages will be installed:\n",
            "  gcc-11-base libgcc-s1\n",
            "The following NEW packages will be installed:\n",
            "  gcc-11-base libgcc-s1\n",
            "The following packages will be upgraded:\n",
            "  libstdc++6\n",
            "1 upgraded, 2 newly installed, 0 to remove and 77 not upgraded.\n",
            "Need to get 641 kB of archives.\n",
            "After this operation, 981 kB of additional disk space will be used.\n",
            "Get:1 http://ppa.launchpad.net/ubuntu-toolchain-r/test/ubuntu bionic/main amd64 gcc-11-base amd64 11.1.0-1ubuntu1~18.04.1 [19.0 kB]\n",
            "Get:2 http://ppa.launchpad.net/ubuntu-toolchain-r/test/ubuntu bionic/main amd64 libgcc-s1 amd64 11.1.0-1ubuntu1~18.04.1 [41.8 kB]\n",
            "Get:3 http://ppa.launchpad.net/ubuntu-toolchain-r/test/ubuntu bionic/main amd64 libstdc++6 amd64 11.1.0-1ubuntu1~18.04.1 [580 kB]\n",
            "Fetched 641 kB in 2s (332 kB/s)\n",
            "debconf: unable to initialize frontend: Dialog\n",
            "debconf: (No usable dialog-like program is installed, so the dialog based frontend cannot be used. at /usr/share/perl5/Debconf/FrontEnd/Dialog.pm line 76, <> line 3.)\n",
            "debconf: falling back to frontend: Readline\n",
            "debconf: unable to initialize frontend: Readline\n",
            "debconf: (This frontend requires a controlling tty.)\n",
            "debconf: falling back to frontend: Teletype\n",
            "dpkg-preconfigure: unable to re-open stdin: \n",
            "Selecting previously unselected package gcc-11-base:amd64.\n",
            "(Reading database ... 155203 files and directories currently installed.)\n",
            "Preparing to unpack .../gcc-11-base_11.1.0-1ubuntu1~18.04.1_amd64.deb ...\n",
            "Unpacking gcc-11-base:amd64 (11.1.0-1ubuntu1~18.04.1) ...\n",
            "Setting up gcc-11-base:amd64 (11.1.0-1ubuntu1~18.04.1) ...\n",
            "Selecting previously unselected package libgcc-s1:amd64.\n",
            "(Reading database ... 155208 files and directories currently installed.)\n",
            "Preparing to unpack .../libgcc-s1_11.1.0-1ubuntu1~18.04.1_amd64.deb ...\n",
            "Unpacking libgcc-s1:amd64 (11.1.0-1ubuntu1~18.04.1) ...\n",
            "Replacing files in old package libgcc1:amd64 (1:8.4.0-1ubuntu1~18.04) ...\n",
            "Setting up libgcc-s1:amd64 (11.1.0-1ubuntu1~18.04.1) ...\n",
            "(Reading database ... 155210 files and directories currently installed.)\n",
            "Preparing to unpack .../libstdc++6_11.1.0-1ubuntu1~18.04.1_amd64.deb ...\n",
            "Unpacking libstdc++6:amd64 (11.1.0-1ubuntu1~18.04.1) over (8.4.0-1ubuntu1~18.04) ...\n",
            "Setting up libstdc++6:amd64 (11.1.0-1ubuntu1~18.04.1) ...\n",
            "Processing triggers for libc-bin (2.27-3ubuntu1.3) ...\n",
            "/sbin/ldconfig.real: /usr/local/lib/python3.7/dist-packages/ideep4py/lib/libmkldnn.so.0 is not a symbolic link\n",
            "\n",
            "restarting Colab...\n"
          ]
        }
      ]
    },
    {
      "cell_type": "code",
      "source": [
        "## Installing CondaColab.  This will restart your kernel again\n",
        "import condacolab\n",
        "condacolab.install()"
      ],
      "metadata": {
        "colab": {
          "base_uri": "https://localhost:8080/"
        },
        "id": "Y1QNcyQ0eEfz",
        "outputId": "f06d6002-57a7-4d2f-cbf1-8d0019e965ef"
      },
      "execution_count": 2,
      "outputs": [
        {
          "output_type": "stream",
          "name": "stdout",
          "text": [
            "⏬ Downloading https://github.com/jaimergp/miniforge/releases/latest/download/Mambaforge-colab-Linux-x86_64.sh...\n",
            "📦 Installing...\n",
            "📌 Adjusting configuration...\n",
            "🩹 Patching environment...\n",
            "⏲ Done in 0:00:25\n",
            "🔁 Restarting kernel...\n"
          ]
        }
      ]
    },
    {
      "cell_type": "code",
      "source": [
        "import condacolab\n",
        "condacolab.check()"
      ],
      "metadata": {
        "colab": {
          "base_uri": "https://localhost:8080/"
        },
        "id": "vcM6XfYScvbv",
        "outputId": "1589c0ac-6708-469c-9741-4e3c22a77294"
      },
      "execution_count": 1,
      "outputs": [
        {
          "output_type": "stream",
          "name": "stdout",
          "text": [
            "✨🍰✨ Everything looks OK!\n"
          ]
        }
      ]
    },
    {
      "cell_type": "code",
      "source": [
        "# Installing RAPIDS is now 'python rapidsai-csp-utils/colab/install_rapids.py <release> <packages>'\n",
        "# The <release> options are 'stable' and 'nightly'.  Leaving it blank or adding any other words will default to stable.\n",
        "# The <packages> option are default blank or 'core'.  By default, we install RAPIDSAI and BlazingSQL.  The 'core' option will install only RAPIDSAI and not include BlazingSQL, \n",
        "!python rapidsai-csp-utils/colab/install_rapids.py stable core\n",
        "import os\n",
        "os.environ['NUMBAPRO_NVVM'] = '/usr/local/cuda/nvvm/lib64/libnvvm.so'\n",
        "os.environ['NUMBAPRO_LIBDEVICE'] = '/usr/local/cuda/nvvm/libdevice/'\n",
        "os.environ['CONDA_PREFIX'] = '/usr/local'"
      ],
      "metadata": {
        "colab": {
          "base_uri": "https://localhost:8080/"
        },
        "id": "VXZbn-CQd6rs",
        "outputId": "62063426-44a1-4b10-9521-54b013e07016"
      },
      "execution_count": null,
      "outputs": [
        {
          "output_type": "stream",
          "name": "stdout",
          "text": [
            "Found existing installation: cffi 1.15.0\n",
            "Uninstalling cffi-1.15.0:\n",
            "  Successfully uninstalled cffi-1.15.0\n",
            "WARNING: Skipping cryptography as it is not installed.\n",
            "Collecting cffi==1.15.0\n",
            "  Using cached cffi-1.15.0-cp37-cp37m-manylinux_2_12_x86_64.manylinux2010_x86_64.whl (427 kB)\n",
            "Requirement already satisfied: pycparser in /usr/local/lib/python3.7/site-packages (from cffi==1.15.0) (2.20)\n",
            "Installing collected packages: cffi\n",
            "Successfully installed cffi-1.15.0\n",
            "Installing RAPIDS Stable 21.12\n",
            "Starting the RAPIDS install on Colab.  This will take about 15 minutes.\n",
            "Collecting package metadata (current_repodata.json): ...working... done\n",
            "Solving environment: ...working... WARNING conda.core.solve:_add_specs(611): pinned spec cudatoolkit=11.1 conflicts with explicit specs.  Overriding pinned spec.\n",
            "failed with initial frozen solve. Retrying with flexible solve.\n",
            "Solving environment: ...working... WARNING conda.core.solve:_add_specs(611): pinned spec cudatoolkit=11.1 conflicts with explicit specs.  Overriding pinned spec.\n",
            "failed with repodata from current_repodata.json, will retry with next repodata source.\n",
            "Collecting package metadata (repodata.json): ...working... done\n",
            "Solving environment: ...working... WARNING conda.core.solve:_add_specs(611): pinned spec cudatoolkit=11.1 conflicts with explicit specs.  Overriding pinned spec.\n"
          ]
        }
      ]
    },
    {
      "cell_type": "code",
      "source": [
        "# or, for CUDA 11.2\n",
        "!conda install -c rapidsai -c nvidia -c numba -c conda-forge \\\n",
        "    cudf=21.08 python=3.7 cudatoolkit=11.2"
      ],
      "metadata": {
        "id": "VUR-xgzVgFCW"
      },
      "execution_count": null,
      "outputs": []
    },
    {
      "cell_type": "code",
      "source": [
        "# Critical imports\n",
        "import cudf\n",
        "import cuml\n",
        "import os\n",
        "import numpy as np\n",
        "import pandas as pd"
      ],
      "metadata": {
        "id": "JGvJ4QRmcEFz"
      },
      "execution_count": null,
      "outputs": []
    },
    {
      "cell_type": "code",
      "source": [
        "!pip install cudf"
      ],
      "metadata": {
        "colab": {
          "base_uri": "https://localhost:8080/"
        },
        "id": "FTeuTmM8e8OF",
        "outputId": "4ecdb714-b91c-48f7-8254-5f3d62088ee4"
      },
      "execution_count": 4,
      "outputs": [
        {
          "output_type": "stream",
          "name": "stdout",
          "text": [
            "Collecting cudf\n",
            "  Downloading cudf-0.6.1.post1.tar.gz (1.1 kB)\n",
            "Building wheels for collected packages: cudf\n",
            "  Building wheel for cudf (setup.py) ... \u001b[?25lerror\n",
            "\u001b[31m  ERROR: Failed building wheel for cudf\u001b[0m\n",
            "\u001b[?25h  Running setup.py clean for cudf\n",
            "Failed to build cudf\n",
            "Installing collected packages: cudf\n",
            "    Running setup.py install for cudf ... \u001b[?25l\u001b[?25herror\n",
            "\u001b[31mERROR: Command errored out with exit status 1: /usr/local/bin/python3.7 -u -c 'import sys, setuptools, tokenize; sys.argv[0] = '\"'\"'/tmp/pip-install-myju4ko1/cudf_758a37a166774cc49f784bd2f275fc96/setup.py'\"'\"'; __file__='\"'\"'/tmp/pip-install-myju4ko1/cudf_758a37a166774cc49f784bd2f275fc96/setup.py'\"'\"';f=getattr(tokenize, '\"'\"'open'\"'\"', open)(__file__);code=f.read().replace('\"'\"'\\r\\n'\"'\"', '\"'\"'\\n'\"'\"');f.close();exec(compile(code, __file__, '\"'\"'exec'\"'\"'))' install --record /tmp/pip-record-2l0_ahpw/install-record.txt --single-version-externally-managed --compile --install-headers /usr/local/include/python3.7m/cudf Check the logs for full command output.\u001b[0m\n"
          ]
        }
      ]
    },
    {
      "cell_type": "markdown",
      "metadata": {
        "id": "qiUwQ4eCNaKO"
      },
      "source": [
        "## data investigation"
      ]
    },
    {
      "cell_type": "code",
      "execution_count": null,
      "metadata": {
        "id": "w5T-n-UuNZtF"
      },
      "outputs": [],
      "source": [
        "%cp /content/drive/MyDrive/multi_label_question_classification/BioASQ-trainingDataset4b.json /content"
      ]
    },
    {
      "cell_type": "code",
      "execution_count": null,
      "metadata": {
        "id": "inKD7Tr6PxyA"
      },
      "outputs": [],
      "source": [
        "%cp -r \"/content/drive/MyDrive/multi_label_question_classification/BioASQ Data/Task4BGoldenEnriched/.\" \"/content\""
      ]
    },
    {
      "cell_type": "code",
      "execution_count": null,
      "metadata": {
        "id": "oCFspePraXdw"
      },
      "outputs": [],
      "source": [
        "df[df.ideal_answer.str.len() <= 3].index"
      ]
    },
    {
      "cell_type": "code",
      "execution_count": null,
      "metadata": {
        "id": "rGCcoih8b8rM"
      },
      "outputs": [],
      "source": [
        "\"exact_answer\""
      ]
    },
    {
      "cell_type": "markdown",
      "metadata": {
        "id": "v-00nYlE7sXW"
      },
      "source": [
        "## import data"
      ]
    },
    {
      "cell_type": "code",
      "execution_count": null,
      "metadata": {
        "colab": {
          "base_uri": "https://localhost:8080/"
        },
        "id": "sX34Ju6a7N9Q",
        "outputId": "ab56277a-2f6c-4fde-8d04-c86e11af4d08"
      },
      "outputs": [
        {
          "name": "stdout",
          "output_type": "stream",
          "text": [
            "<class 'pandas.core.frame.DataFrame'>\n",
            "RangeIndex: 1337 entries, 0 to 1336\n",
            "Data columns (total 6 columns):\n",
            " #   Column         Non-Null Count  Dtype  \n",
            "---  ------         --------------  -----  \n",
            " 0   Question       1337 non-null   object \n",
            " 1   Type           1336 non-null   object \n",
            " 2   Ideal Answer   1337 non-null   object \n",
            " 3   Exact Answer   1044 non-null   object \n",
            " 4   Focus          0 non-null      float64\n",
            " 5   Quantity Type  0 non-null      float64\n",
            "dtypes: float64(2), object(4)\n",
            "memory usage: 62.8+ KB\n"
          ]
        }
      ],
      "source": [
        "import pandas as pd\n",
        "%cp /content/drive/MyDrive/multi_label_question_classification/bioAsk-manual-curated-train.xlsx /content\n",
        "df = pd.read_excel('bioAsk-manual-curated-train.xlsx',sheet_name=0)\n",
        "df.info()"
      ]
    },
    {
      "cell_type": "markdown",
      "metadata": {
        "id": "yFMfug8aMeXB"
      },
      "source": [
        "## leammetization"
      ]
    },
    {
      "cell_type": "code",
      "execution_count": null,
      "metadata": {
        "id": "BCux8511NZha"
      },
      "outputs": [],
      "source": [
        "!pip install -U spacy\n",
        "!wget https://s3-us-west-2.amazonaws.com/ai2-s2-scispacy/releases/v0.4.0/en_core_sci_scibert-0.4.0.tar.gz\n",
        "!pip install en_core_sci_scibert-0.4.0.tar.gz\n",
        "!pip install scispacy\n",
        "!pip install swifter"
      ]
    },
    {
      "cell_type": "code",
      "execution_count": 14,
      "metadata": {
        "colab": {
          "base_uri": "https://localhost:8080/"
        },
        "id": "8RTvhXkrOaJi",
        "outputId": "4a2964d6-1245-4fb0-c109-9beb094043f6"
      },
      "outputs": [
        {
          "output_type": "stream",
          "name": "stderr",
          "text": [
            "/usr/local/lib/python3.7/dist-packages/spacy/util.py:833: UserWarning: [W095] Model 'en_core_sci_scibert' (0.4.0) was trained with spaCy v3.0 and may not be 100% compatible with the current version (3.2.4). If you see errors or degraded performance, download a newer compatible model or retrain your custom model with the current spaCy version. For more details and available updates, run: python -m spacy validate\n",
            "  warnings.warn(warn_msg)\n"
          ]
        }
      ],
      "source": [
        "import spacy\n",
        "import scispacy\n",
        "import swifter\n",
        "nlp = spacy.load(\"en_core_sci_scibert\")"
      ]
    },
    {
      "cell_type": "code",
      "execution_count": 3,
      "metadata": {
        "id": "SU5I5BwMMhhB"
      },
      "outputs": [],
      "source": [
        "def get_lemma(question):\n",
        "    try:\n",
        "      doc = nlp(str(question))\n",
        "      lemmetized = ' '.join([n.lemma_ for n in doc])\n",
        "      return lemmetized\n",
        "    except:\n",
        "      return None"
      ]
    },
    {
      "cell_type": "code",
      "execution_count": 7,
      "metadata": {
        "id": "rXuWY0WbO_x4"
      },
      "outputs": [],
      "source": [
        "df['question_lemma'] = df['Question'].map(lambda row : get_lemma(row))"
      ]
    },
    {
      "cell_type": "code",
      "source": [
        "df"
      ],
      "metadata": {
        "colab": {
          "base_uri": "https://localhost:8080/",
          "height": 424
        },
        "id": "clad7GQ4Xo8L",
        "outputId": "c99cc797-0395-4d4a-a8ba-9b5349de5abc"
      },
      "execution_count": 8,
      "outputs": [
        {
          "output_type": "execute_result",
          "data": {
            "text/plain": [
              "                                               Question     Type  \\\n",
              "0       What symptoms characterize the Muenke syndrome?  summary   \n",
              "1     What is the inheritance pattern of Li-Fraumeni...  factoid   \n",
              "2               What are the indications for alteplase?     List   \n",
              "3              What is the role of Inn1 in cytokinesis?  summary   \n",
              "4     What is the main role of Ctf4 in dna replication?  factoid   \n",
              "...                                                 ...      ...   \n",
              "1318  Which is the receptor for substrates of Chaper...  factoid   \n",
              "1319              Which are the Atg8 homologs in human?     List   \n",
              "1320  Describe the known functions for the prothymos...  summary   \n",
              "1321  Has field-programmable gate array (FPGA) techn...    yesno   \n",
              "1322  How many selenoproteins are encoded in the hum...  factoid   \n",
              "\n",
              "                                           Ideal Answer  \\\n",
              "0     Muenke syndrome is characterized by considerab...   \n",
              "1     Li-Fraumeni syndrome shows autosomal dominant ...   \n",
              "2     Intravenous alteplase (recombinant tissue plas...   \n",
              "3     Inn1 associates with the contractile actomyosi...   \n",
              "4     Ctf4 coordinates the progression of helicase a...   \n",
              "...                                                 ...   \n",
              "1318  Chaperone-mediated autophagy (CMA) is a lysoso...   \n",
              "1319  Autophagy (Autophagy-related protein 8 or Atg8...   \n",
              "1320  Prothymosin alpha (ProTα) (encoded in human by...   \n",
              "1321  Yes. Field-Programmable Gate Arrays (FPGAs) ar...   \n",
              "1322  25. 15kDa, DI1, DI2, DI3, GPx1, GPx2, GPx3, GP...   \n",
              "\n",
              "                                         question_lemma  \n",
              "0       what symptom characterize the Muenke syndrome ?  \n",
              "1     what be the inheritance pattern of li-fraumeni...  \n",
              "2                what be the indication for alteplase ?  \n",
              "3             what be the role of inn1 in cytokinesis ?  \n",
              "4     what be the main role of ctf4 in dna replicati...  \n",
              "...                                                 ...  \n",
              "1318  which be the receptor for substrate of chapero...  \n",
              "1319               which be the atg8 homolog in human ?  \n",
              "1320  describe the known function for the prothymosi...  \n",
              "1321  have field-programmable gate array ( fpga ) te...  \n",
              "1322  how many selenoprotein be encode in the human ...  \n",
              "\n",
              "[1323 rows x 4 columns]"
            ],
            "text/html": [
              "\n",
              "  <div id=\"df-232fbc13-6ea1-44e7-a64d-414f2a349a2e\">\n",
              "    <div class=\"colab-df-container\">\n",
              "      <div>\n",
              "<style scoped>\n",
              "    .dataframe tbody tr th:only-of-type {\n",
              "        vertical-align: middle;\n",
              "    }\n",
              "\n",
              "    .dataframe tbody tr th {\n",
              "        vertical-align: top;\n",
              "    }\n",
              "\n",
              "    .dataframe thead th {\n",
              "        text-align: right;\n",
              "    }\n",
              "</style>\n",
              "<table border=\"1\" class=\"dataframe\">\n",
              "  <thead>\n",
              "    <tr style=\"text-align: right;\">\n",
              "      <th></th>\n",
              "      <th>Question</th>\n",
              "      <th>Type</th>\n",
              "      <th>Ideal Answer</th>\n",
              "      <th>question_lemma</th>\n",
              "    </tr>\n",
              "  </thead>\n",
              "  <tbody>\n",
              "    <tr>\n",
              "      <th>0</th>\n",
              "      <td>What symptoms characterize the Muenke syndrome?</td>\n",
              "      <td>summary</td>\n",
              "      <td>Muenke syndrome is characterized by considerab...</td>\n",
              "      <td>what symptom characterize the Muenke syndrome ?</td>\n",
              "    </tr>\n",
              "    <tr>\n",
              "      <th>1</th>\n",
              "      <td>What is the inheritance pattern of Li-Fraumeni...</td>\n",
              "      <td>factoid</td>\n",
              "      <td>Li-Fraumeni syndrome shows autosomal dominant ...</td>\n",
              "      <td>what be the inheritance pattern of li-fraumeni...</td>\n",
              "    </tr>\n",
              "    <tr>\n",
              "      <th>2</th>\n",
              "      <td>What are the indications for alteplase?</td>\n",
              "      <td>List</td>\n",
              "      <td>Intravenous alteplase (recombinant tissue plas...</td>\n",
              "      <td>what be the indication for alteplase ?</td>\n",
              "    </tr>\n",
              "    <tr>\n",
              "      <th>3</th>\n",
              "      <td>What is the role of Inn1 in cytokinesis?</td>\n",
              "      <td>summary</td>\n",
              "      <td>Inn1 associates with the contractile actomyosi...</td>\n",
              "      <td>what be the role of inn1 in cytokinesis ?</td>\n",
              "    </tr>\n",
              "    <tr>\n",
              "      <th>4</th>\n",
              "      <td>What is the main role of Ctf4 in dna replication?</td>\n",
              "      <td>factoid</td>\n",
              "      <td>Ctf4 coordinates the progression of helicase a...</td>\n",
              "      <td>what be the main role of ctf4 in dna replicati...</td>\n",
              "    </tr>\n",
              "    <tr>\n",
              "      <th>...</th>\n",
              "      <td>...</td>\n",
              "      <td>...</td>\n",
              "      <td>...</td>\n",
              "      <td>...</td>\n",
              "    </tr>\n",
              "    <tr>\n",
              "      <th>1318</th>\n",
              "      <td>Which is the receptor for substrates of Chaper...</td>\n",
              "      <td>factoid</td>\n",
              "      <td>Chaperone-mediated autophagy (CMA) is a lysoso...</td>\n",
              "      <td>which be the receptor for substrate of chapero...</td>\n",
              "    </tr>\n",
              "    <tr>\n",
              "      <th>1319</th>\n",
              "      <td>Which are the Atg8 homologs in human?</td>\n",
              "      <td>List</td>\n",
              "      <td>Autophagy (Autophagy-related protein 8 or Atg8...</td>\n",
              "      <td>which be the atg8 homolog in human ?</td>\n",
              "    </tr>\n",
              "    <tr>\n",
              "      <th>1320</th>\n",
              "      <td>Describe the known functions for the prothymos...</td>\n",
              "      <td>summary</td>\n",
              "      <td>Prothymosin alpha (ProTα) (encoded in human by...</td>\n",
              "      <td>describe the known function for the prothymosi...</td>\n",
              "    </tr>\n",
              "    <tr>\n",
              "      <th>1321</th>\n",
              "      <td>Has field-programmable gate array (FPGA) techn...</td>\n",
              "      <td>yesno</td>\n",
              "      <td>Yes. Field-Programmable Gate Arrays (FPGAs) ar...</td>\n",
              "      <td>have field-programmable gate array ( fpga ) te...</td>\n",
              "    </tr>\n",
              "    <tr>\n",
              "      <th>1322</th>\n",
              "      <td>How many selenoproteins are encoded in the hum...</td>\n",
              "      <td>factoid</td>\n",
              "      <td>25. 15kDa, DI1, DI2, DI3, GPx1, GPx2, GPx3, GP...</td>\n",
              "      <td>how many selenoprotein be encode in the human ...</td>\n",
              "    </tr>\n",
              "  </tbody>\n",
              "</table>\n",
              "<p>1323 rows × 4 columns</p>\n",
              "</div>\n",
              "      <button class=\"colab-df-convert\" onclick=\"convertToInteractive('df-232fbc13-6ea1-44e7-a64d-414f2a349a2e')\"\n",
              "              title=\"Convert this dataframe to an interactive table.\"\n",
              "              style=\"display:none;\">\n",
              "        \n",
              "  <svg xmlns=\"http://www.w3.org/2000/svg\" height=\"24px\"viewBox=\"0 0 24 24\"\n",
              "       width=\"24px\">\n",
              "    <path d=\"M0 0h24v24H0V0z\" fill=\"none\"/>\n",
              "    <path d=\"M18.56 5.44l.94 2.06.94-2.06 2.06-.94-2.06-.94-.94-2.06-.94 2.06-2.06.94zm-11 1L8.5 8.5l.94-2.06 2.06-.94-2.06-.94L8.5 2.5l-.94 2.06-2.06.94zm10 10l.94 2.06.94-2.06 2.06-.94-2.06-.94-.94-2.06-.94 2.06-2.06.94z\"/><path d=\"M17.41 7.96l-1.37-1.37c-.4-.4-.92-.59-1.43-.59-.52 0-1.04.2-1.43.59L10.3 9.45l-7.72 7.72c-.78.78-.78 2.05 0 2.83L4 21.41c.39.39.9.59 1.41.59.51 0 1.02-.2 1.41-.59l7.78-7.78 2.81-2.81c.8-.78.8-2.07 0-2.86zM5.41 20L4 18.59l7.72-7.72 1.47 1.35L5.41 20z\"/>\n",
              "  </svg>\n",
              "      </button>\n",
              "      \n",
              "  <style>\n",
              "    .colab-df-container {\n",
              "      display:flex;\n",
              "      flex-wrap:wrap;\n",
              "      gap: 12px;\n",
              "    }\n",
              "\n",
              "    .colab-df-convert {\n",
              "      background-color: #E8F0FE;\n",
              "      border: none;\n",
              "      border-radius: 50%;\n",
              "      cursor: pointer;\n",
              "      display: none;\n",
              "      fill: #1967D2;\n",
              "      height: 32px;\n",
              "      padding: 0 0 0 0;\n",
              "      width: 32px;\n",
              "    }\n",
              "\n",
              "    .colab-df-convert:hover {\n",
              "      background-color: #E2EBFA;\n",
              "      box-shadow: 0px 1px 2px rgba(60, 64, 67, 0.3), 0px 1px 3px 1px rgba(60, 64, 67, 0.15);\n",
              "      fill: #174EA6;\n",
              "    }\n",
              "\n",
              "    [theme=dark] .colab-df-convert {\n",
              "      background-color: #3B4455;\n",
              "      fill: #D2E3FC;\n",
              "    }\n",
              "\n",
              "    [theme=dark] .colab-df-convert:hover {\n",
              "      background-color: #434B5C;\n",
              "      box-shadow: 0px 1px 3px 1px rgba(0, 0, 0, 0.15);\n",
              "      filter: drop-shadow(0px 1px 2px rgba(0, 0, 0, 0.3));\n",
              "      fill: #FFFFFF;\n",
              "    }\n",
              "  </style>\n",
              "\n",
              "      <script>\n",
              "        const buttonEl =\n",
              "          document.querySelector('#df-232fbc13-6ea1-44e7-a64d-414f2a349a2e button.colab-df-convert');\n",
              "        buttonEl.style.display =\n",
              "          google.colab.kernel.accessAllowed ? 'block' : 'none';\n",
              "\n",
              "        async function convertToInteractive(key) {\n",
              "          const element = document.querySelector('#df-232fbc13-6ea1-44e7-a64d-414f2a349a2e');\n",
              "          const dataTable =\n",
              "            await google.colab.kernel.invokeFunction('convertToInteractive',\n",
              "                                                     [key], {});\n",
              "          if (!dataTable) return;\n",
              "\n",
              "          const docLinkHtml = 'Like what you see? Visit the ' +\n",
              "            '<a target=\"_blank\" href=https://colab.research.google.com/notebooks/data_table.ipynb>data table notebook</a>'\n",
              "            + ' to learn more about interactive tables.';\n",
              "          element.innerHTML = '';\n",
              "          dataTable['output_type'] = 'display_data';\n",
              "          await google.colab.output.renderOutput(dataTable, element);\n",
              "          const docLink = document.createElement('div');\n",
              "          docLink.innerHTML = docLinkHtml;\n",
              "          element.appendChild(docLink);\n",
              "        }\n",
              "      </script>\n",
              "    </div>\n",
              "  </div>\n",
              "  "
            ]
          },
          "metadata": {},
          "execution_count": 8
        }
      ]
    },
    {
      "cell_type": "markdown",
      "metadata": {
        "id": "jSJ8or7573Kd"
      },
      "source": [
        "## Clean data"
      ]
    },
    {
      "cell_type": "markdown",
      "metadata": {
        "id": "j1NTbdNNTUWG"
      },
      "source": [
        "### clean type columns"
      ]
    },
    {
      "cell_type": "code",
      "execution_count": null,
      "metadata": {
        "id": "xFO0pS0O75KT"
      },
      "outputs": [],
      "source": [
        "for column in df.columns:\n",
        "  print(column)\n",
        "  print(df[column].value_counts())\n",
        "  print(\"-----------------------\")"
      ]
    },
    {
      "cell_type": "code",
      "execution_count": null,
      "metadata": {
        "id": "KGVHoE6mEy-k"
      },
      "outputs": [],
      "source": [
        "df['Type'].value_counts()"
      ]
    },
    {
      "cell_type": "code",
      "execution_count": null,
      "metadata": {
        "colab": {
          "base_uri": "https://localhost:8080/"
        },
        "id": "Pr36xf8DLNj5",
        "outputId": "c828c926-84bb-4028-e9b7-bb4f22209b57"
      },
      "outputs": [
        {
          "data": {
            "text/plain": [
              "1273"
            ]
          },
          "execution_count": 22,
          "metadata": {},
          "output_type": "execute_result"
        }
      ],
      "source": [
        "df['id'].value_counts()[:15]"
      ]
    },
    {
      "cell_type": "code",
      "execution_count": null,
      "metadata": {
        "id": "LwV9LGFUEFyl"
      },
      "outputs": [],
      "source": [
        "def clean_qtypes(types):\n",
        "  if types in ['summary','yesno','list','factoid']:\n",
        "    return types\n",
        "  else:\n",
        "    return None"
      ]
    },
    {
      "cell_type": "code",
      "execution_count": null,
      "metadata": {
        "colab": {
          "base_uri": "https://localhost:8080/"
        },
        "id": "s-gCvxejLW6K",
        "outputId": "1a6d87f7-a69e-449b-9c1e-a0e4a543928e"
      },
      "outputs": [
        {
          "name": "stdout",
          "output_type": "stream",
          "text": [
            "summary    217\n",
            "yesno       56\n",
            "list        55\n",
            "factoid     43\n",
            "Name: type, dtype: int64\n",
            "371\n",
            "936\n"
          ]
        }
      ],
      "source": [
        "df['type'] = df['type'].apply(clean_qtypes)\n",
        "print(df['type'].value_counts())\n",
        "print(df['type'].value_counts().sum())\n",
        "print(df['type'].isna().sum())"
      ]
    },
    {
      "cell_type": "code",
      "execution_count": null,
      "metadata": {
        "colab": {
          "base_uri": "https://localhost:8080/"
        },
        "id": "5KAy942AMsZq",
        "outputId": "a7a0c0f7-e2bb-49ef-9cf7-60dc41417aa5"
      },
      "outputs": [
        {
          "name": "stdout",
          "output_type": "stream",
          "text": [
            "yesno      299\n",
            "factoid    271\n",
            "list       246\n",
            "Name: id, dtype: int64\n",
            "816\n",
            "491\n"
          ]
        }
      ],
      "source": [
        "df['id'] = df['id'].apply(clean_qtypes)\n",
        "print(df['id'].value_counts())\n",
        "print(df['id'].value_counts().sum())\n",
        "print(df['id'].isna().sum())"
      ]
    },
    {
      "cell_type": "code",
      "execution_count": null,
      "metadata": {
        "id": "XxIdFRp6OZLw"
      },
      "outputs": [],
      "source": [
        "df['type'].fillna(df['id'],inplace=True)"
      ]
    },
    {
      "cell_type": "markdown",
      "metadata": {
        "id": "kCnNvAQyTav_"
      },
      "source": [
        "### Clean null value"
      ]
    },
    {
      "cell_type": "code",
      "execution_count": null,
      "metadata": {
        "colab": {
          "base_uri": "https://localhost:8080/"
        },
        "id": "_XFJcJVtTx82",
        "outputId": "f3c98dab-0af2-4f37-9ada-7caa8cc82ac4"
      },
      "outputs": [
        {
          "data": {
            "text/plain": [
              "Question        0\n",
              "Type            0\n",
              "Ideal Answer    0\n",
              "dtype: int64"
            ]
          },
          "execution_count": 31,
          "metadata": {},
          "output_type": "execute_result"
        }
      ],
      "source": [
        "df[['Question','Type','Ideal Answer']].isna().sum()"
      ]
    },
    {
      "cell_type": "code",
      "execution_count": null,
      "metadata": {
        "colab": {
          "base_uri": "https://localhost:8080/"
        },
        "id": "1Q6OO46GF4t1",
        "outputId": "bccb1dc2-7cda-411c-9986-3ae453bbf111"
      },
      "outputs": [
        {
          "data": {
            "text/plain": [
              "50"
            ]
          },
          "execution_count": 20,
          "metadata": {},
          "output_type": "execute_result"
        }
      ],
      "source": [
        "pd.reset_option(\"max_colwidth\")\n",
        "pd.get_option(\"max_colwidth\")"
      ]
    },
    {
      "cell_type": "code",
      "execution_count": null,
      "metadata": {
        "colab": {
          "base_uri": "https://localhost:8080/"
        },
        "id": "-TqZs8fABdbx",
        "outputId": "063bd400-1de7-4b7b-b21b-72819884d3a3"
      },
      "outputs": [
        {
          "name": "stderr",
          "output_type": "stream",
          "text": [
            "/usr/local/lib/python3.7/dist-packages/ipykernel_launcher.py:2: SettingWithCopyWarning: \n",
            "A value is trying to be set on a copy of a slice from a DataFrame\n",
            "\n",
            "See the caveats in the documentation: https://pandas.pydata.org/pandas-docs/stable/user_guide/indexing.html#returning-a-view-versus-a-copy\n",
            "  \n"
          ]
        }
      ],
      "source": [
        "# pd.set_option(\"max_colwidth\", 100)\n",
        "df['Type'][df[df['Type'].isna()].index] = 'yesno'"
      ]
    },
    {
      "cell_type": "code",
      "execution_count": null,
      "metadata": {
        "colab": {
          "base_uri": "https://localhost:8080/"
        },
        "id": "s3FyBqqCUAk7",
        "outputId": "93bf6ee8-709d-48d5-82bf-a32b29a18118"
      },
      "outputs": [
        {
          "name": "stderr",
          "output_type": "stream",
          "text": [
            "/usr/local/lib/python3.7/dist-packages/pandas/util/_decorators.py:311: SettingWithCopyWarning: \n",
            "A value is trying to be set on a copy of a slice from a DataFrame\n",
            "\n",
            "See the caveats in the documentation: https://pandas.pydata.org/pandas-docs/stable/user_guide/indexing.html#returning-a-view-versus-a-copy\n",
            "  return func(*args, **kwargs)\n"
          ]
        }
      ],
      "source": [
        "df = df[['Question','Type','Ideal Answer']]\n",
        "df.dropna(inplace=True)"
      ]
    },
    {
      "cell_type": "code",
      "execution_count": null,
      "metadata": {
        "colab": {
          "base_uri": "https://localhost:8080/"
        },
        "id": "Kq_62mo7VTOg",
        "outputId": "894e00d6-7fcd-42b2-88f8-8d01c18610a9"
      },
      "outputs": [
        {
          "data": {
            "text/plain": [
              "Question        0\n",
              "Type            0\n",
              "Ideal Answer    0\n",
              "dtype: int64"
            ]
          },
          "execution_count": 35,
          "metadata": {},
          "output_type": "execute_result"
        }
      ],
      "source": [
        "df.isna().sum()"
      ]
    },
    {
      "cell_type": "code",
      "execution_count": null,
      "metadata": {
        "id": "stgpznXFVZRJ"
      },
      "outputs": [],
      "source": [
        "# df.to_csv('BioASQ-train4b-3features.csv')\n",
        "file_name = 'bioAsk-manual-curated-train-3features.csv'\n",
        "df.to_csv(file_name)"
      ]
    },
    {
      "cell_type": "code",
      "execution_count": null,
      "metadata": {
        "id": "hG4MFvNfWIkY"
      },
      "outputs": [],
      "source": [
        "%cp /content/$file_name /content/drive/MyDrive/multi_label_question_classification"
      ]
    },
    {
      "cell_type": "markdown",
      "metadata": {
        "id": "Py7eBisiWWDi"
      },
      "source": [
        "### clean up question column"
      ]
    },
    {
      "cell_type": "code",
      "execution_count": null,
      "metadata": {
        "colab": {
          "base_uri": "https://localhost:8080/"
        },
        "id": "Bfs3vyBN_3YV",
        "outputId": "742ec09c-7dd3-438b-e918-cb339942cba2"
      },
      "outputs": [
        {
          "name": "stdout",
          "output_type": "stream",
          "text": [
            "<class 'pandas.core.frame.DataFrame'>\n",
            "RangeIndex: 1336 entries, 0 to 1335\n",
            "Data columns (total 3 columns):\n",
            " #   Column        Non-Null Count  Dtype \n",
            "---  ------        --------------  ----- \n",
            " 0   Question      1336 non-null   object\n",
            " 1   Type          1336 non-null   object\n",
            " 2   Ideal Answer  1336 non-null   object\n",
            "dtypes: object(3)\n",
            "memory usage: 31.4+ KB\n"
          ]
        }
      ],
      "source": [
        "import pandas as pd\n",
        "file_name = 'bioAsk-manual-curated-train-3features.csv'\n",
        "%cp /content/drive/MyDrive/multi_label_question_classification/$file_name /content\n",
        "df = pd.read_csv(file_name)\n",
        "df = df.loc[:, ~df.columns.str.contains('^Unnamed')]\n",
        "df.info()"
      ]
    },
    {
      "cell_type": "code",
      "execution_count": null,
      "metadata": {
        "id": "U_iJFcPZZ2gh"
      },
      "outputs": [],
      "source": [
        "# df[\"body\"] = df[\"body\"].str.lower()"
      ]
    },
    {
      "cell_type": "code",
      "execution_count": null,
      "metadata": {
        "colab": {
          "base_uri": "https://localhost:8080/"
        },
        "id": "CSm4xJgFbo9y",
        "outputId": "3d1498bd-b7ad-455f-bc81-fef17f903c62"
      },
      "outputs": [
        {
          "data": {
            "text/plain": [
              "Counter({' ': 11963,\n",
              "         \"'\": 28,\n",
              "         '(': 169,\n",
              "         ')': 169,\n",
              "         '*': 2,\n",
              "         '+': 1,\n",
              "         ',': 16,\n",
              "         '-': 301,\n",
              "         '.': 90,\n",
              "         '/': 20,\n",
              "         ':': 2,\n",
              "         '?': 1233,\n",
              "         '[': 1,\n",
              "         ']': 1})"
            ]
          },
          "execution_count": 3,
          "metadata": {},
          "output_type": "execute_result"
        }
      ],
      "source": [
        "from collections import Counter\n",
        "col_name = 'Question'\n",
        "char_list = []\n",
        "# for idx, question in enumerate(df[\"body\"]):\n",
        "#   print(idx,[c for c in question if not c.isalnum()])\n",
        "for item in df[col_name]:\n",
        "  for c in item:\n",
        "    if not c.isalnum():\n",
        "      char_list.append(c)\n",
        "\n",
        "Counter(char_list)"
      ]
    },
    {
      "cell_type": "code",
      "execution_count": null,
      "metadata": {
        "id": "A_eUIMy8P-cw"
      },
      "outputs": [],
      "source": [
        "col_name = 'Question'\n",
        "ch2fx = '\\\\n'\n",
        "for idx, item in enumerate(df[col_name]):\n",
        "  if ch2fx in item:\n",
        "    print(idx, item)\n",
        "    # print(item.replace(ch2fx,'-'))\n",
        "    # df[col_name].iloc[idx] = item.replace(ch2fx,'-')"
      ]
    },
    {
      "cell_type": "code",
      "execution_count": null,
      "metadata": {
        "id": "ANS8b4RNYBpR"
      },
      "outputs": [],
      "source": [
        "file_name = 'bioAsk-manual-curated-train-3features.csv'\n",
        "df.to_csv(file_name)\n",
        "%cp /content/$file_name /content/drive/MyDrive/multi_label_question_classification"
      ]
    },
    {
      "cell_type": "markdown",
      "metadata": {
        "id": "uoju988xDL-B"
      },
      "source": [
        "### clean up answer column ( non alpha-nemeric char)"
      ]
    },
    {
      "cell_type": "code",
      "execution_count": null,
      "metadata": {
        "id": "GRc9JrlMKYJM"
      },
      "outputs": [],
      "source": [
        "#special item (keeping it for later)\n",
        "special_idx_list = [144,834,976]\n",
        "duplicates = [(1126,1152),()]\n",
        "\n",
        "#find unicode (code) in dataframe\n",
        "df['Ideal Answer'].str.extractall(r'(\\\\u.{4})')\n",
        "\n",
        "#regex logics (keeping it for later)\n",
        "re.findall(\"'.*'\",item)\n",
        "re.findall(\"\\d'\",item)\n",
        "re.findall(\"'s\",item)\n",
        "re.findall(\"s'\",item)\n",
        "print(\"[{}]\".format(idx),re.sub(\"(.{130})\", \"\\\\1\\n\", item, 0, re.DOTALL))#prints upto given no. of chars per line"
      ]
    },
    {
      "cell_type": "code",
      "execution_count": null,
      "metadata": {
        "id": "kGMt35snuZqu"
      },
      "outputs": [],
      "source": [
        "#check balanced parentheses\n",
        "def matched(str):\n",
        "    count = 0\n",
        "    for i in str:\n",
        "        if i == \"(\":\n",
        "            count += 1\n",
        "        elif i == \")\":\n",
        "            count -= 1\n",
        "        if count < 0:\n",
        "            return False\n",
        "    return count == 0"
      ]
    },
    {
      "cell_type": "code",
      "execution_count": null,
      "metadata": {
        "id": "v6-ADslZ043F"
      },
      "outputs": [],
      "source": [
        "#find index of mismatched \"()\"\n",
        "def find_parens(s):\n",
        "    toret = {}\n",
        "    pstack = []\n",
        "\n",
        "    for i, c in enumerate(s):\n",
        "        if c == '(':\n",
        "            pstack.append(i)\n",
        "        elif c == ')':\n",
        "            if len(pstack) == 0:\n",
        "                # print(\"No matching closing parens at: \" + str(i))\n",
        "                print(s[i-5:i+5])\n",
        "                continue\n",
        "            toret[pstack.pop()] = i\n",
        "\n",
        "    if len(pstack) > 0:\n",
        "        # print(\"No matching opening parens at: \" + str(pstack.pop()))\n",
        "        s_idx = pstack.pop()\n",
        "        print(s[s_idx-5:s_idx+5])\n",
        "\n",
        "    return toret"
      ]
    },
    {
      "cell_type": "code",
      "execution_count": null,
      "metadata": {
        "id": "HnExIz0g8Fyh"
      },
      "outputs": [],
      "source": [
        "def fix_unicode(s):\n",
        "  import codecs\n",
        "  unicode_index = s.find(\"\\\\u\")\n",
        "  #print(unicode_index)\n",
        "  the_uni_code = s[unicode_index:unicode_index+6]\n",
        "  the_uni_char = codecs.decode(the_uni_code, 'unicode_escape')\n",
        "  # return [the_uni_code,the_uni_char]\n",
        "  # return s.replace(the_uni_code,the_uni_char)"
      ]
    },
    {
      "cell_type": "code",
      "execution_count": null,
      "metadata": {
        "id": "FGhbE1VCDC25"
      },
      "outputs": [],
      "source": [
        "#find non alpha-numeric char\n",
        "from collections import Counter\n",
        "col_name = 'Ideal Answer'\n",
        "char_list = []\n",
        "\n",
        "for item in df[col_name]:\n",
        "  for c in item:\n",
        "    if not c.isalnum():\n",
        "      char_list.append(c)\n",
        "\n",
        "Counter(char_list)"
      ]
    },
    {
      "cell_type": "code",
      "execution_count": null,
      "metadata": {
        "id": "TMMqFI7PVHi1"
      },
      "outputs": [],
      "source": [
        "exp = r'(\\n\\s+)'\n",
        "change_to = '\\n' \n",
        "df['Ideal Answer'].str.extractall(exp)"
      ]
    },
    {
      "cell_type": "code",
      "execution_count": null,
      "metadata": {
        "id": "IBGdnVFVaom0"
      },
      "outputs": [],
      "source": [
        "#apply the fix (be careful !!!)\n",
        "df['Ideal Answer'].replace(to_replace=exp, value= change_to, regex=True, inplace=True)"
      ]
    },
    {
      "cell_type": "code",
      "execution_count": null,
      "metadata": {
        "id": "gMWcw5A6pjW5"
      },
      "outputs": [],
      "source": [
        "# drop single row !\n",
        "# df.drop(1152,inplace=True)"
      ]
    },
    {
      "cell_type": "code",
      "execution_count": null,
      "metadata": {
        "id": "FCbwirJhGmH1"
      },
      "outputs": [],
      "source": [
        "#to check\n",
        "import re\n",
        "col_name = 'Ideal Answer'\n",
        "ch2fx = '\\n'\n",
        "trgt_char = '\\n'\n",
        "for idx, item in enumerate(df[col_name]):\n",
        "  # if ch2fx in item:\n",
        "  if re.findall(exp,item):\n",
        "  # if any(word in item for word in ch2fx):\n",
        "    print(idx,item)\n",
        "    # print(\"[{}]\".format(idx),re.sub(\"(.{130})\", \"\\\\1\\n\", item, 0, re.DOTALL))\n",
        "    # print(\"==>[{}]\".format(idx),re.sub(\"(.{130})\", \"\\\\1\\n\", item.replace(ch2fx,trgt_char), 0, re.DOTALL))\n",
        "    # print(\"==>\",idx,item.replace(ch2fx,trgt_char))"
      ]
    },
    {
      "cell_type": "code",
      "execution_count": null,
      "metadata": {
        "id": "kW9zNzzOclxn"
      },
      "outputs": [],
      "source": [
        "#apply the fix\n",
        "for idx, item in enumerate(df[col_name]):\n",
        "  # if ch2fx in item:\n",
        "  if re.findall(exp,item):\n",
        "  # if any(word in item for word in ch2fx):\n",
        "    df[col_name].iloc[idx] = item.replace(ch2fx,trgt_char)"
      ]
    },
    {
      "cell_type": "code",
      "execution_count": null,
      "metadata": {
        "id": "o4qJK3N6U96m"
      },
      "outputs": [],
      "source": [
        "#for manual fixup\n",
        "s_idx = 783\n",
        "\n",
        "# fixed_txt = \"Hutchinson-Gilford progeria syndrome is a rare, sporadic, autosomal dominant syndrome that involves premature aging, generally leading to death at approximately 13 years of age due to myocardial infarction or stroke. The genetic basis of most cases of this syndrome is a change from glycine GGC to glycine GGT in codon 608 of the lamin A (LMNA) gene, which activates a cryptic splice donor site to produce abnormal lamin A; this disrupts the nuclear membrane and alters transcription.\"\n",
        "# df['Ideal Answer'].iloc[s_idx] = fixed_txt\n",
        "\n",
        "display(df['Question'].iloc[s_idx]d)\n",
        "display(df['Ieal Answer'].iloc[s_idx])"
      ]
    },
    {
      "cell_type": "markdown",
      "metadata": {
        "id": "TFf4nvZqgZdl"
      },
      "source": [
        "### clean up answer column ( duplicate string )"
      ]
    },
    {
      "cell_type": "code",
      "execution_count": null,
      "metadata": {
        "id": "vUHn-wT2XAzC"
      },
      "outputs": [],
      "source": [
        "exp = r'(\\.\\s+\\w+)'\n",
        "extract_df = df['Ideal Answer'].str.extractall(exp)\n",
        "extract_df"
      ]
    },
    {
      "cell_type": "code",
      "execution_count": null,
      "metadata": {
        "id": "9DwAB0SdXCjU"
      },
      "outputs": [],
      "source": [
        "extract_set = set(extract_df[0].to_list())\n",
        "extract_set"
      ]
    },
    {
      "cell_type": "code",
      "execution_count": null,
      "metadata": {
        "id": "CXURTPSTe6Ib"
      },
      "outputs": [],
      "source": [
        "# find and mark matches\n",
        "def mark_match(exp,s,color):\n",
        "  from termcolor import colored\n",
        "\n",
        "  splits = re.split(exp,s)\n",
        "  matches= re.findall(exp,s)\n",
        "  final_string = \"\"\n",
        "\n",
        "  for split in splits:\n",
        "    if split in matches:\n",
        "      split = colored(split,color)\n",
        "    final_string = final_string+split\n",
        "\n",
        "  return final_string"
      ]
    },
    {
      "cell_type": "code",
      "execution_count": null,
      "metadata": {
        "id": "bE-AnYUH4ZfU"
      },
      "outputs": [],
      "source": [
        "def clean_duplicate_string(s):\n",
        "  import re\n",
        "  # split and clean string based on new line\n",
        "  cleaned_nl = []    \n",
        "  for split_nl in s.split('\\n'):\n",
        "    split_nl = split_nl.strip()\n",
        "    if re.findall(r',$',split_nl):\n",
        "      split_nl = split_nl[:-1]\n",
        "      if split_nl not in cleaned_nl:\n",
        "        cleaned_nl.append(split_nl)\n",
        "        cleaned_nl.append(',')\n",
        "    if split_nl not in cleaned_nl:\n",
        "        cleaned_nl.append(split_nl)\n",
        "  cleaned_nl_joined = \" \".join(cleaned_nl)\n",
        "\n",
        "  # split and clean string based on (.) full stop\n",
        "  cleaned_dot = []\n",
        "  for split_dot in re.split(r'\\.\\s+',cleaned_nl_joined):\n",
        "    split_dot = split_dot.strip('.')\n",
        "    if split_dot not in cleaned_dot:\n",
        "      cleaned_dot.append(split_dot)\n",
        "\n",
        "  # clean duplicate sub-string \n",
        "  for str_x in cleaned_dot:\n",
        "    for idx,str_y in enumerate(cleaned_dot):\n",
        "        if str_x == str_y:\n",
        "          continue\n",
        "        if str_x in str_y:\n",
        "          cleaned_dot[idx] = str_y.replace(str_x,\"\")\n",
        "        \n",
        "\n",
        "  # final cleaning and joining  \n",
        "  final_set = [string for string in cleaned_dot if re.findall(r'\\w+',string)]\n",
        "  final_string = \". \".join(final_set)\n",
        "  # display(final_set)\n",
        "\n",
        "  return final_string"
      ]
    },
    {
      "cell_type": "code",
      "execution_count": null,
      "metadata": {
        "id": "-CwVVDSn47X-"
      },
      "outputs": [],
      "source": [
        "# s_idx = 4\n",
        "# s_idx = 176\n",
        "# s_idx = 91\n",
        "s_idx = 54\n",
        "s = df['Ideal Answer'].iloc[s_idx]\n",
        "# print(s)\n",
        "print(\"-->\",clean_duplicate_string(s))"
      ]
    },
    {
      "cell_type": "code",
      "execution_count": null,
      "metadata": {
        "id": "strlqsmLbW3c"
      },
      "outputs": [],
      "source": [
        "#duplicate sentence cleaning\n",
        "import re\n",
        "col_name = 'Ideal Answer'\n",
        "for idx, item in enumerate(df[col_name]):\n",
        "    print(idx,item)\n",
        "    # print(idx,mark_match(exp,item,'red'))\n",
        "    # print(\"-->\",clean_duplicate_string(item))\n",
        "    # print(\"==>[{}]\".format(idx),re.sub(\"(.{130})\", \"\\\\1\\n\", clean_duplicate_string(item), 0, re.DOTALL))\n",
        "    # df[col_name].iloc[idx] = clean_duplicate_string(item)"
      ]
    },
    {
      "cell_type": "code",
      "execution_count": null,
      "metadata": {
        "id": "x2oAgurJRgFF"
      },
      "outputs": [],
      "source": [
        "file_name = 'bioAsk-manual-curated-train-3features.csv'\n",
        "df.to_csv(file_name)\n",
        "%cp /content/$file_name /content/drive/MyDrive/multi_label_question_classification"
      ]
    },
    {
      "cell_type": "markdown",
      "metadata": {
        "id": "ihGwk9nLA2ZJ"
      },
      "source": [
        "### fix irregular data points"
      ]
    },
    {
      "cell_type": "code",
      "execution_count": null,
      "metadata": {
        "id": "TlcApLgxMuPb"
      },
      "outputs": [],
      "source": [
        "%cp /content/drive/MyDrive/multi_label_question_classification/BioASQ-trainingDataset4b.json /content"
      ]
    },
    {
      "cell_type": "code",
      "execution_count": null,
      "metadata": {
        "id": "mlYescP6BS1u"
      },
      "outputs": [],
      "source": [
        "import pandas as pd\n",
        "file_name = 'bioAsk-manual-curated-train-3features.csv'\n",
        "%cp /content/drive/MyDrive/multi_label_question_classification/$file_name /content\n",
        "df = pd.read_csv(file_name)\n",
        "df = df.loc[:, ~df.columns.str.contains('^Unnamed')]\n",
        "df.info()"
      ]
    },
    {
      "cell_type": "code",
      "execution_count": null,
      "metadata": {
        "id": "ITIbByIhBIH3"
      },
      "outputs": [],
      "source": [
        "with pd.option_context('display.max_rows', None, 'display.max_columns', None):\n",
        "      display(df.sort_values(by=\"Ideal Answer\", key=lambda x: x.str.len() ))\n",
        "      # display(df[df['Ideal Answer'].str.len() < 4])"
      ]
    },
    {
      "cell_type": "code",
      "execution_count": null,
      "metadata": {
        "id": "YQixH_ixDoLF"
      },
      "outputs": [],
      "source": [
        "irg_df = df[df['Ideal Answer'].str.len() < 4]\n",
        "irg_df.index"
      ]
    },
    {
      "cell_type": "code",
      "execution_count": null,
      "metadata": {
        "id": "tpPtlOE9z4OI"
      },
      "outputs": [],
      "source": [
        "import json\n",
        "with open(\"/content/BioASQ-trainingDataset4b.json\") as search_file:\n",
        "  json_file = json.load(search_file)\n",
        "\n",
        "for q_id,item in enumerate(json_file['questions']):\n",
        "  for question in irg_df['Question']:\n",
        "    if question in item['body']:\n",
        "      print(item['ideal_answer'])      "
      ]
    },
    {
      "cell_type": "code",
      "execution_count": null,
      "metadata": {
        "id": "dKDYPJuX4y2d"
      },
      "outputs": [],
      "source": [
        "df.drop(irg_df.index,inplace=True)"
      ]
    },
    {
      "cell_type": "code",
      "execution_count": null,
      "metadata": {
        "id": "adfyrVFk59YZ"
      },
      "outputs": [],
      "source": [
        "file_name = 'bioAsk-manual-curated-train-3features.csv'\n",
        "df.to_csv(file_name)\n",
        "%cp /content/$file_name /content/drive/MyDrive/multi_label_question_classification"
      ]
    },
    {
      "cell_type": "markdown",
      "metadata": {
        "id": "KId-8UsB7Or9"
      },
      "source": [
        "## Format type column"
      ]
    },
    {
      "cell_type": "code",
      "source": [
        "%cd /content\n",
        "!pip install cudf"
      ],
      "metadata": {
        "colab": {
          "base_uri": "https://localhost:8080/"
        },
        "id": "QPFnC57xDAQS",
        "outputId": "9a3d81b7-b6d0-457c-96c3-7c76e65dfdc5"
      },
      "execution_count": 16,
      "outputs": [
        {
          "output_type": "stream",
          "name": "stdout",
          "text": [
            "/content\n",
            "Collecting cudf\n",
            "  Using cached cudf-0.6.1.post1.tar.gz (1.1 kB)\n",
            "Building wheels for collected packages: cudf\n",
            "  Building wheel for cudf (setup.py) ... \u001b[?25lerror\n",
            "\u001b[31m  ERROR: Failed building wheel for cudf\u001b[0m\n",
            "\u001b[?25h  Running setup.py clean for cudf\n",
            "Failed to build cudf\n",
            "Installing collected packages: cudf\n",
            "    Running setup.py install for cudf ... \u001b[?25l\u001b[?25herror\n",
            "\u001b[31mERROR: Command errored out with exit status 1: /usr/bin/python3 -u -c 'import io, os, sys, setuptools, tokenize; sys.argv[0] = '\"'\"'/tmp/pip-install-ytmra1jw/cudf_052d47a06a3f436fb2eb2f3b475108ef/setup.py'\"'\"'; __file__='\"'\"'/tmp/pip-install-ytmra1jw/cudf_052d47a06a3f436fb2eb2f3b475108ef/setup.py'\"'\"';f = getattr(tokenize, '\"'\"'open'\"'\"', open)(__file__) if os.path.exists(__file__) else io.StringIO('\"'\"'from setuptools import setup; setup()'\"'\"');code = f.read().replace('\"'\"'\\r\\n'\"'\"', '\"'\"'\\n'\"'\"');f.close();exec(compile(code, __file__, '\"'\"'exec'\"'\"'))' install --record /tmp/pip-record-d_pufvo1/install-record.txt --single-version-externally-managed --compile --install-headers /usr/local/include/python3.7/cudf Check the logs for full command output.\u001b[0m\n"
          ]
        }
      ]
    },
    {
      "cell_type": "code",
      "execution_count": 15,
      "metadata": {
        "colab": {
          "base_uri": "https://localhost:8080/",
          "height": 373
        },
        "id": "ddulWiL87R5_",
        "outputId": "17db233b-89e5-49b0-879f-d639d09cc5cb"
      },
      "outputs": [
        {
          "output_type": "error",
          "ename": "ModuleNotFoundError",
          "evalue": "ignored",
          "traceback": [
            "\u001b[0;31m---------------------------------------------------------------------------\u001b[0m",
            "\u001b[0;31mModuleNotFoundError\u001b[0m                       Traceback (most recent call last)",
            "\u001b[0;32m<ipython-input-15-4be4e7ef8b7f>\u001b[0m in \u001b[0;36m<module>\u001b[0;34m()\u001b[0m\n\u001b[1;32m      1\u001b[0m \u001b[0;32mimport\u001b[0m \u001b[0mpandas\u001b[0m \u001b[0;32mas\u001b[0m \u001b[0mpd\u001b[0m\u001b[0;34m\u001b[0m\u001b[0;34m\u001b[0m\u001b[0m\n\u001b[0;32m----> 2\u001b[0;31m \u001b[0;32mimport\u001b[0m \u001b[0mcudf\u001b[0m\u001b[0;34m\u001b[0m\u001b[0;34m\u001b[0m\u001b[0m\n\u001b[0m\u001b[1;32m      3\u001b[0m \u001b[0mfile_name\u001b[0m \u001b[0;34m=\u001b[0m \u001b[0;34m'bioAsk-manual-curated-train-3features.csv'\u001b[0m\u001b[0;34m\u001b[0m\u001b[0;34m\u001b[0m\u001b[0m\n\u001b[1;32m      4\u001b[0m \u001b[0mget_ipython\u001b[0m\u001b[0;34m(\u001b[0m\u001b[0;34m)\u001b[0m\u001b[0;34m.\u001b[0m\u001b[0mmagic\u001b[0m\u001b[0;34m(\u001b[0m\u001b[0;34m'cp /content/drive/MyDrive/multi_label_question_classification/$file_name /content'\u001b[0m\u001b[0;34m)\u001b[0m\u001b[0;34m\u001b[0m\u001b[0;34m\u001b[0m\u001b[0m\n\u001b[1;32m      5\u001b[0m \u001b[0mdf\u001b[0m \u001b[0;34m=\u001b[0m \u001b[0mcudf\u001b[0m\u001b[0;34m.\u001b[0m\u001b[0mread_csv\u001b[0m\u001b[0;34m(\u001b[0m\u001b[0mfile_name\u001b[0m\u001b[0;34m)\u001b[0m\u001b[0;34m\u001b[0m\u001b[0;34m\u001b[0m\u001b[0m\n",
            "\u001b[0;31mModuleNotFoundError\u001b[0m: No module named 'cudf'",
            "",
            "\u001b[0;31m---------------------------------------------------------------------------\u001b[0;32m\nNOTE: If your import is failing due to a missing package, you can\nmanually install dependencies using either !pip or !apt.\n\nTo view examples of installing some common dependencies, click the\n\"Open Examples\" button below.\n\u001b[0;31m---------------------------------------------------------------------------\u001b[0m\n"
          ],
          "errorDetails": {
            "actions": [
              {
                "action": "open_url",
                "actionText": "Open Examples",
                "url": "/notebooks/snippets/importing_libraries.ipynb"
              }
            ]
          }
        }
      ],
      "source": [
        "import pandas as pd\n",
        "import cudf\n",
        "file_name = 'bioAsk-manual-curated-train-3features.csv'\n",
        "%cp /content/drive/MyDrive/multi_label_question_classification/$file_name /content\n",
        "df = cudf.read_csv(file_name)\n",
        "df = df.loc[:, ~df.columns.str.contains('^Unnamed')]\n",
        "df.info()"
      ]
    },
    {
      "cell_type": "code",
      "execution_count": 10,
      "metadata": {
        "id": "CshtrM6X_kIY",
        "colab": {
          "base_uri": "https://localhost:8080/",
          "height": 424
        },
        "outputId": "6415a30b-f4ae-43b2-ddca-0af5fc4f030c"
      },
      "outputs": [
        {
          "output_type": "execute_result",
          "data": {
            "text/plain": [
              "                                               Question     Type  \\\n",
              "0       What symptoms characterize the Muenke syndrome?  summary   \n",
              "1     What is the inheritance pattern of Li-Fraumeni...  factoid   \n",
              "2               What are the indications for alteplase?     List   \n",
              "3              What is the role of Inn1 in cytokinesis?  summary   \n",
              "4     What is the main role of Ctf4 in dna replication?  factoid   \n",
              "...                                                 ...      ...   \n",
              "1318  Which is the receptor for substrates of Chaper...  factoid   \n",
              "1319              Which are the Atg8 homologs in human?     List   \n",
              "1320  Describe the known functions for the prothymos...  summary   \n",
              "1321  Has field-programmable gate array (FPGA) techn...    yesno   \n",
              "1322  How many selenoproteins are encoded in the hum...  factoid   \n",
              "\n",
              "                                           Ideal Answer  \n",
              "0     Muenke syndrome is characterized by considerab...  \n",
              "1     Li-Fraumeni syndrome shows autosomal dominant ...  \n",
              "2     Intravenous alteplase (recombinant tissue plas...  \n",
              "3     Inn1 associates with the contractile actomyosi...  \n",
              "4     Ctf4 coordinates the progression of helicase a...  \n",
              "...                                                 ...  \n",
              "1318  Chaperone-mediated autophagy (CMA) is a lysoso...  \n",
              "1319  Autophagy (Autophagy-related protein 8 or Atg8...  \n",
              "1320  Prothymosin alpha (ProTα) (encoded in human by...  \n",
              "1321  Yes. Field-Programmable Gate Arrays (FPGAs) ar...  \n",
              "1322  25. 15kDa, DI1, DI2, DI3, GPx1, GPx2, GPx3, GP...  \n",
              "\n",
              "[1323 rows x 3 columns]"
            ],
            "text/html": [
              "\n",
              "  <div id=\"df-aecf8a86-459a-4f07-a066-5adf7733e291\">\n",
              "    <div class=\"colab-df-container\">\n",
              "      <div>\n",
              "<style scoped>\n",
              "    .dataframe tbody tr th:only-of-type {\n",
              "        vertical-align: middle;\n",
              "    }\n",
              "\n",
              "    .dataframe tbody tr th {\n",
              "        vertical-align: top;\n",
              "    }\n",
              "\n",
              "    .dataframe thead th {\n",
              "        text-align: right;\n",
              "    }\n",
              "</style>\n",
              "<table border=\"1\" class=\"dataframe\">\n",
              "  <thead>\n",
              "    <tr style=\"text-align: right;\">\n",
              "      <th></th>\n",
              "      <th>Question</th>\n",
              "      <th>Type</th>\n",
              "      <th>Ideal Answer</th>\n",
              "    </tr>\n",
              "  </thead>\n",
              "  <tbody>\n",
              "    <tr>\n",
              "      <th>0</th>\n",
              "      <td>What symptoms characterize the Muenke syndrome?</td>\n",
              "      <td>summary</td>\n",
              "      <td>Muenke syndrome is characterized by considerab...</td>\n",
              "    </tr>\n",
              "    <tr>\n",
              "      <th>1</th>\n",
              "      <td>What is the inheritance pattern of Li-Fraumeni...</td>\n",
              "      <td>factoid</td>\n",
              "      <td>Li-Fraumeni syndrome shows autosomal dominant ...</td>\n",
              "    </tr>\n",
              "    <tr>\n",
              "      <th>2</th>\n",
              "      <td>What are the indications for alteplase?</td>\n",
              "      <td>List</td>\n",
              "      <td>Intravenous alteplase (recombinant tissue plas...</td>\n",
              "    </tr>\n",
              "    <tr>\n",
              "      <th>3</th>\n",
              "      <td>What is the role of Inn1 in cytokinesis?</td>\n",
              "      <td>summary</td>\n",
              "      <td>Inn1 associates with the contractile actomyosi...</td>\n",
              "    </tr>\n",
              "    <tr>\n",
              "      <th>4</th>\n",
              "      <td>What is the main role of Ctf4 in dna replication?</td>\n",
              "      <td>factoid</td>\n",
              "      <td>Ctf4 coordinates the progression of helicase a...</td>\n",
              "    </tr>\n",
              "    <tr>\n",
              "      <th>...</th>\n",
              "      <td>...</td>\n",
              "      <td>...</td>\n",
              "      <td>...</td>\n",
              "    </tr>\n",
              "    <tr>\n",
              "      <th>1318</th>\n",
              "      <td>Which is the receptor for substrates of Chaper...</td>\n",
              "      <td>factoid</td>\n",
              "      <td>Chaperone-mediated autophagy (CMA) is a lysoso...</td>\n",
              "    </tr>\n",
              "    <tr>\n",
              "      <th>1319</th>\n",
              "      <td>Which are the Atg8 homologs in human?</td>\n",
              "      <td>List</td>\n",
              "      <td>Autophagy (Autophagy-related protein 8 or Atg8...</td>\n",
              "    </tr>\n",
              "    <tr>\n",
              "      <th>1320</th>\n",
              "      <td>Describe the known functions for the prothymos...</td>\n",
              "      <td>summary</td>\n",
              "      <td>Prothymosin alpha (ProTα) (encoded in human by...</td>\n",
              "    </tr>\n",
              "    <tr>\n",
              "      <th>1321</th>\n",
              "      <td>Has field-programmable gate array (FPGA) techn...</td>\n",
              "      <td>yesno</td>\n",
              "      <td>Yes. Field-Programmable Gate Arrays (FPGAs) ar...</td>\n",
              "    </tr>\n",
              "    <tr>\n",
              "      <th>1322</th>\n",
              "      <td>How many selenoproteins are encoded in the hum...</td>\n",
              "      <td>factoid</td>\n",
              "      <td>25. 15kDa, DI1, DI2, DI3, GPx1, GPx2, GPx3, GP...</td>\n",
              "    </tr>\n",
              "  </tbody>\n",
              "</table>\n",
              "<p>1323 rows × 3 columns</p>\n",
              "</div>\n",
              "      <button class=\"colab-df-convert\" onclick=\"convertToInteractive('df-aecf8a86-459a-4f07-a066-5adf7733e291')\"\n",
              "              title=\"Convert this dataframe to an interactive table.\"\n",
              "              style=\"display:none;\">\n",
              "        \n",
              "  <svg xmlns=\"http://www.w3.org/2000/svg\" height=\"24px\"viewBox=\"0 0 24 24\"\n",
              "       width=\"24px\">\n",
              "    <path d=\"M0 0h24v24H0V0z\" fill=\"none\"/>\n",
              "    <path d=\"M18.56 5.44l.94 2.06.94-2.06 2.06-.94-2.06-.94-.94-2.06-.94 2.06-2.06.94zm-11 1L8.5 8.5l.94-2.06 2.06-.94-2.06-.94L8.5 2.5l-.94 2.06-2.06.94zm10 10l.94 2.06.94-2.06 2.06-.94-2.06-.94-.94-2.06-.94 2.06-2.06.94z\"/><path d=\"M17.41 7.96l-1.37-1.37c-.4-.4-.92-.59-1.43-.59-.52 0-1.04.2-1.43.59L10.3 9.45l-7.72 7.72c-.78.78-.78 2.05 0 2.83L4 21.41c.39.39.9.59 1.41.59.51 0 1.02-.2 1.41-.59l7.78-7.78 2.81-2.81c.8-.78.8-2.07 0-2.86zM5.41 20L4 18.59l7.72-7.72 1.47 1.35L5.41 20z\"/>\n",
              "  </svg>\n",
              "      </button>\n",
              "      \n",
              "  <style>\n",
              "    .colab-df-container {\n",
              "      display:flex;\n",
              "      flex-wrap:wrap;\n",
              "      gap: 12px;\n",
              "    }\n",
              "\n",
              "    .colab-df-convert {\n",
              "      background-color: #E8F0FE;\n",
              "      border: none;\n",
              "      border-radius: 50%;\n",
              "      cursor: pointer;\n",
              "      display: none;\n",
              "      fill: #1967D2;\n",
              "      height: 32px;\n",
              "      padding: 0 0 0 0;\n",
              "      width: 32px;\n",
              "    }\n",
              "\n",
              "    .colab-df-convert:hover {\n",
              "      background-color: #E2EBFA;\n",
              "      box-shadow: 0px 1px 2px rgba(60, 64, 67, 0.3), 0px 1px 3px 1px rgba(60, 64, 67, 0.15);\n",
              "      fill: #174EA6;\n",
              "    }\n",
              "\n",
              "    [theme=dark] .colab-df-convert {\n",
              "      background-color: #3B4455;\n",
              "      fill: #D2E3FC;\n",
              "    }\n",
              "\n",
              "    [theme=dark] .colab-df-convert:hover {\n",
              "      background-color: #434B5C;\n",
              "      box-shadow: 0px 1px 3px 1px rgba(0, 0, 0, 0.15);\n",
              "      filter: drop-shadow(0px 1px 2px rgba(0, 0, 0, 0.3));\n",
              "      fill: #FFFFFF;\n",
              "    }\n",
              "  </style>\n",
              "\n",
              "      <script>\n",
              "        const buttonEl =\n",
              "          document.querySelector('#df-aecf8a86-459a-4f07-a066-5adf7733e291 button.colab-df-convert');\n",
              "        buttonEl.style.display =\n",
              "          google.colab.kernel.accessAllowed ? 'block' : 'none';\n",
              "\n",
              "        async function convertToInteractive(key) {\n",
              "          const element = document.querySelector('#df-aecf8a86-459a-4f07-a066-5adf7733e291');\n",
              "          const dataTable =\n",
              "            await google.colab.kernel.invokeFunction('convertToInteractive',\n",
              "                                                     [key], {});\n",
              "          if (!dataTable) return;\n",
              "\n",
              "          const docLinkHtml = 'Like what you see? Visit the ' +\n",
              "            '<a target=\"_blank\" href=https://colab.research.google.com/notebooks/data_table.ipynb>data table notebook</a>'\n",
              "            + ' to learn more about interactive tables.';\n",
              "          element.innerHTML = '';\n",
              "          dataTable['output_type'] = 'display_data';\n",
              "          await google.colab.output.renderOutput(dataTable, element);\n",
              "          const docLink = document.createElement('div');\n",
              "          docLink.innerHTML = docLinkHtml;\n",
              "          element.appendChild(docLink);\n",
              "        }\n",
              "      </script>\n",
              "    </div>\n",
              "  </div>\n",
              "  "
            ]
          },
          "metadata": {},
          "execution_count": 10
        }
      ],
      "source": [
        "# df = pd.get_dummies(df, columns = ['Type'])\n",
        "df"
      ]
    },
    {
      "cell_type": "markdown",
      "metadata": {
        "id": "qNzQTPllPRNM"
      },
      "source": [
        "## Exctract semantic types"
      ]
    },
    {
      "cell_type": "markdown",
      "metadata": {
        "id": "0EJtm8cMP0V1"
      },
      "source": [
        "### install and configure metamap"
      ]
    },
    {
      "cell_type": "code",
      "execution_count": null,
      "metadata": {
        "id": "PTlM3vxwPc1Q"
      },
      "outputs": [],
      "source": [
        "!sudo apt-get update\n",
        "!sudo apt install software-properties-common\n",
        "!sudo mkdir -p /var/cache/oracle-jdk11-installer-local/\n",
        "!sudo cp -v /content/drive/MyDrive/multi_label_question_classification/jdk-11.0.13_linux-x64_bin.tar.gz /var/cache/oracle-jdk11-installer-local/\n",
        "!sudo ln -s /usr/lib/python3/dist-packages/gi/_gi.cpython-{36m,37m}-x86_64-linux-gnu.so\n",
        "!sudo add-apt-repository ppa:linuxuprising/java\n",
        "!sudo apt-get update\n",
        "!sudo apt install oracle-java11-installer-local"
      ]
    },
    {
      "cell_type": "code",
      "execution_count": null,
      "metadata": {
        "id": "Qsn9adsqQkr3"
      },
      "outputs": [],
      "source": [
        "!cp -v /content/drive/MyDrive/multi_label_question_classification/mm_linux_main_2020.tar.bz2 /content\n",
        "!bunzip2 -c mm_linux_main_2020.tar.bz2 | tar xvf - \n",
        "%cd public_mm\n",
        "!export JAVA_HOME=/usr/lib/jvm/java-11-oracle\n",
        "!export PATH=/content/public_mm/bin:$PATH\n",
        "!./bin/install.sh\n",
        "!./bin/skrmedpostctl start\n",
        "get_ipython().system_raw('./bin/wsdserverctl start &')"
      ]
    },
    {
      "cell_type": "code",
      "execution_count": null,
      "metadata": {
        "id": "nLIYuNUnSeUU"
      },
      "outputs": [],
      "source": [
        "!./bin/metamap --help"
      ]
    },
    {
      "cell_type": "code",
      "execution_count": null,
      "metadata": {
        "id": "u7-_W6ujSkum"
      },
      "outputs": [],
      "source": [
        "# !echo \"signaling molecules (ligands) that interact with the receptor EGFR\" | ./bin/metamap --silent -p -I -s\n",
        "!echo \"human genes encoding for the dishevelled proteins\" | /content/public_mm/bin/metamap --silent -p -s"
      ]
    },
    {
      "cell_type": "markdown",
      "source": [
        "### Speed up meta map output"
      ],
      "metadata": {
        "id": "o5RiLpx-_sTl"
      }
    },
    {
      "cell_type": "code",
      "execution_count": null,
      "metadata": {
        "id": "K07_b625jvvE"
      },
      "outputs": [],
      "source": [
        "df['Question'].to_csv(\"question.tsv\",sep='\\t')"
      ]
    },
    {
      "cell_type": "code",
      "execution_count": null,
      "metadata": {
        "id": "grHj1f8_dZ2r"
      },
      "outputs": [],
      "source": [
        "! /content/public_mm/bin/metamap --silent -p  -s /content/public_mm/question.tsv /content/public_mm/question_metamapped"
      ]
    },
    {
      "cell_type": "code",
      "source": [
        "!cat /content/public_mm/question.tsv"
      ],
      "metadata": {
        "id": "cApta2a30Xii"
      },
      "execution_count": null,
      "outputs": []
    },
    {
      "cell_type": "code",
      "execution_count": null,
      "metadata": {
        "id": "uKAmZOqmdEfY"
      },
      "outputs": [],
      "source": [
        "!cat /content/public_mm/question_metamapped\n",
        "# !cat /content/public_mm/question.tsv"
      ]
    },
    {
      "cell_type": "code",
      "execution_count": null,
      "metadata": {
        "id": "OMIXJmMZi6L_"
      },
      "outputs": [],
      "source": [
        "import re\n",
        "with open(\"/content/public_mm/question_metamapped\") as meta_map_file:\n",
        "    lines = meta_map_file.readlines()\n",
        "    joined_lines = \"\".join(lines)"
      ]
    },
    {
      "cell_type": "code",
      "source": [
        "splits = re.split(r'Processing question.tsv.tx.',joined_lines)"
      ],
      "metadata": {
        "id": "vBYWxplRy9-b"
      },
      "execution_count": null,
      "outputs": []
    },
    {
      "cell_type": "markdown",
      "metadata": {
        "id": "QpR8C_b1ZXlX"
      },
      "source": [
        "### extract and format"
      ]
    },
    {
      "cell_type": "code",
      "execution_count": null,
      "metadata": {
        "id": "2pK0fnJiWBr7"
      },
      "outputs": [],
      "source": [
        "meta_map_sem_types = [\"aapp\", \"acab\", \"acty\", \"aggp\", \"amas\", \"amph\", \"anab\", \"anim\", \"anst\", \"antb\", \"arch\", \"bacs\", \"bact\", \"bdsu\", \"bdsy\", \"bhvr\", \"biof\", \"bird\", \"blor\", \"bmod\", \"bodm\", \"bpoc\", \"bsoj\", \"celc\", \"celf\", \"cell\", \"cgab\", \"chem\", \"chvf\", \"chvs\", \"clas\", \"clna\", \"clnd\", \"cnce\", \"comd\", \"crbs\", \"diap\", \"dora\", \"drdd\", \"dsyn\", \"edac\", \"eehu\", \"elii\", \"emod\", \"emst\", \"enty\", \"enzy\", \"euka\", \"evnt\", \"famg\", \"ffas\", \"fish\", \"fndg\", \"fngs\", \"food\", \"ftcn\", \"genf\", \"geoa\", \"gngm\", \"gora\", \"grpa\", \"grup\", \"hcpp\", \"hcro\", \"hlca\", \"hops\", \"horm\", \"humn\", \"idcn\", \"imft\", \"inbe\", \"inch\", \"inpo\", \"inpr\", \"irda\", \"lang\", \"lbpr\", \"lbtr\", \"mamm\", \"mbrt\", \"mcha\", \"medd\", \"menp\", \"mnob\", \"mobd\", \"moft\", \"mosq\", \"neop\", \"nnon\", \"npop\", \"nusq\", \"ocac\", \"ocdi\", \"orch\", \"orga\", \"orgf\", \"orgm\", \"orgt\", \"ortf\", \"patf\", \"phob\", \"phpr\", \"phsf\", \"phsu\", \"plnt\", \"podg\", \"popg\", \"prog\", \"pros\", \"qlco\", \"qnco\", \"rcpt\", \"rept\", \"resa\", \"resd\", \"rnlw\", \"sbst\", \"shro\", \"socb\", \"sosy\", \"spco\", \"tisu\", \"tmco\", \"topp\", \"virs\", \"vita\", \"vtbt\"]"
      ]
    },
    {
      "cell_type": "code",
      "execution_count": null,
      "metadata": {
        "id": "olf0TWdvfmqw"
      },
      "outputs": [],
      "source": [
        "def meta_map(question):\n",
        "  from subprocess import Popen, check_output, PIPE\n",
        "  ps = Popen(['echo', question], stdout=PIPE)\n",
        "  output = check_output([\"/content/public_mm/bin/metamap\",\"--silent\", \"-p\", \"-s\"], stdin=ps.stdout)\n",
        "  ps.wait()\n",
        "  return output.decode(\"UTF-8\")"
      ]
    },
    {
      "cell_type": "code",
      "execution_count": null,
      "metadata": {
        "colab": {
          "base_uri": "https://localhost:8080/",
          "height": 105
        },
        "id": "zfQkkNrDGGVs",
        "outputId": "e504c825-29b2-4369-e3ac-fe329a6f4138"
      },
      "outputs": [
        {
          "output_type": "execute_result",
          "data": {
            "text/plain": [
              "'/content/public_mm/bin/SKRrun.20 /content/public_mm/bin/metamap20.BINARY.Linux --lexicon db -Z 2020AA --silent -p -s\\nProcessing USER.tx.1: human genes encoding for the dishevelled proteins\\nMeta Mapping (983):\\n   983   Human gene [gngm]\\nMeta Mapping (745):\\n   760   Encoding (MIME encoding) [idcn]\\n   806   Dishevelled Proteins [aapp,bacs]\\nMeta Mapping (745):\\n   760   Encoding (Encode (action)) [acty]\\n   806   Dishevelled Proteins [aapp,bacs]\\n'"
            ],
            "application/vnd.google.colaboratory.intrinsic+json": {
              "type": "string"
            }
          },
          "metadata": {},
          "execution_count": 183
        }
      ],
      "source": [
        "test = \"human genes encoding for the dishevelled proteins\"\n",
        "meta_map(test)"
      ]
    },
    {
      "cell_type": "code",
      "execution_count": null,
      "metadata": {
        "id": "GGk8IdTKgnNS"
      },
      "outputs": [],
      "source": [
        "df[\"meta_mapped\"] = df['Question'].map(lambda x:meta_map(x))"
      ]
    },
    {
      "cell_type": "code",
      "execution_count": null,
      "metadata": {
        "id": "8-tr6xvMUIMu"
      },
      "outputs": [],
      "source": [
        "df"
      ]
    },
    {
      "cell_type": "code",
      "execution_count": null,
      "metadata": {
        "id": "VezuUwj0wjjx"
      },
      "outputs": [],
      "source": [
        "for sem_type in meta_map_sem_types:\n",
        "  column_name = \"Q_\"+sem_type\n",
        "  df[column_name] = df[\"meta_mapped\"].map( lambda x: 1 if sem_type in x else 0)"
      ]
    },
    {
      "cell_type": "code",
      "execution_count": null,
      "metadata": {
        "id": "3Q0n0BiKBBoJ"
      },
      "outputs": [],
      "source": [
        "for sem_type in meta_map_sem_types:\n",
        "  column_name = \"Q_\"+sem_type\n",
        "  print(column_name,\":\",df[column_name].sum())"
      ]
    },
    {
      "cell_type": "markdown",
      "metadata": {
        "id": "Emt_uAm1mMq0"
      },
      "source": [
        "# Deep Neural Networks"
      ]
    },
    {
      "cell_type": "markdown",
      "metadata": {
        "id": "mv27-4YUmPu1"
      },
      "source": [
        ""
      ]
    },
    {
      "cell_type": "code",
      "execution_count": null,
      "metadata": {
        "id": "mRxTTMXVmQMc"
      },
      "outputs": [],
      "source": [
        ""
      ]
    },
    {
      "cell_type": "code",
      "execution_count": null,
      "metadata": {
        "id": "b78NJfAvmQQW"
      },
      "outputs": [],
      "source": [
        ""
      ]
    },
    {
      "cell_type": "code",
      "execution_count": null,
      "metadata": {
        "id": "gZePZWSXlvRF"
      },
      "outputs": [],
      "source": [
        ""
      ]
    },
    {
      "cell_type": "markdown",
      "metadata": {
        "id": "d3hQIrV9NPRx"
      },
      "source": [
        "#Test text-classification"
      ]
    },
    {
      "cell_type": "code",
      "execution_count": null,
      "metadata": {
        "colab": {
          "base_uri": "https://localhost:8080/",
          "height": 204
        },
        "id": "P03rTZsLNZ7A",
        "outputId": "8ce9834c-8438-4bcc-a988-f858940da758"
      },
      "outputs": [
        {
          "data": {
            "text/html": [
              "<div>\n",
              "<style scoped>\n",
              "    .dataframe tbody tr th:only-of-type {\n",
              "        vertical-align: middle;\n",
              "    }\n",
              "\n",
              "    .dataframe tbody tr th {\n",
              "        vertical-align: top;\n",
              "    }\n",
              "\n",
              "    .dataframe thead th {\n",
              "        text-align: right;\n",
              "    }\n",
              "</style>\n",
              "<table border=\"1\" class=\"dataframe\">\n",
              "  <thead>\n",
              "    <tr style=\"text-align: right;\">\n",
              "      <th></th>\n",
              "      <th>Labels</th>\n",
              "      <th>Question</th>\n",
              "      <th>category_id</th>\n",
              "    </tr>\n",
              "  </thead>\n",
              "  <tbody>\n",
              "    <tr>\n",
              "      <th>0</th>\n",
              "      <td>list</td>\n",
              "      <td>List signaling molecules (ligands) that intera...</td>\n",
              "      <td>0</td>\n",
              "    </tr>\n",
              "    <tr>\n",
              "      <th>1</th>\n",
              "      <td>factoid</td>\n",
              "      <td>Which thyroid hormone transporter is implicate...</td>\n",
              "      <td>1</td>\n",
              "    </tr>\n",
              "    <tr>\n",
              "      <th>2</th>\n",
              "      <td>list</td>\n",
              "      <td>Which miRNAs could be used as potential biomar...</td>\n",
              "      <td>0</td>\n",
              "    </tr>\n",
              "    <tr>\n",
              "      <th>3</th>\n",
              "      <td>list</td>\n",
              "      <td>Which acetylcholinesterase inhibitors are used...</td>\n",
              "      <td>0</td>\n",
              "    </tr>\n",
              "    <tr>\n",
              "      <th>4</th>\n",
              "      <td>list</td>\n",
              "      <td>List the human genes encoding for the dishevel...</td>\n",
              "      <td>0</td>\n",
              "    </tr>\n",
              "  </tbody>\n",
              "</table>\n",
              "</div>"
            ],
            "text/plain": [
              "    Labels                                           Question  category_id\n",
              "0     list  List signaling molecules (ligands) that intera...            0\n",
              "1  factoid  Which thyroid hormone transporter is implicate...            1\n",
              "2     list  Which miRNAs could be used as potential biomar...            0\n",
              "3     list  Which acetylcholinesterase inhibitors are used...            0\n",
              "4     list  List the human genes encoding for the dishevel...            0"
            ]
          },
          "execution_count": 18,
          "metadata": {
            "tags": []
          },
          "output_type": "execute_result"
        }
      ],
      "source": [
        "# from io import StringIO\n",
        "# col = ['Labels', 'Question']\n",
        "# df = df[col]\n",
        "# df = df[pd.notnull(df['Question'])]\n",
        "# df.columns = ['Labels', 'Question']\n",
        "# df['category_id'] = df['Labels'].factorize()[0]\n",
        "# category_id_df = df[['Labels', 'category_id']].drop_duplicates().sort_values('category_id')\n",
        "# category_to_id = dict(category_id_df.values)\n",
        "# id_to_category = dict(category_id_df[['category_id', 'Labels']].values)\n",
        "# df.head()"
      ]
    },
    {
      "cell_type": "code",
      "execution_count": null,
      "metadata": {
        "id": "NyGzeJusPt_h"
      },
      "outputs": [],
      "source": [
        "# import matplotlib.pyplot as plt\n",
        "# fig = plt.figure(figsize=(8,6))\n",
        "# df.groupby('Labels').Question.count().plot.bar(ylim=0)\n",
        "# plt.show()"
      ]
    },
    {
      "cell_type": "markdown",
      "metadata": {
        "id": "wNkDYaqiQNEJ"
      },
      "source": [
        "Text Representation"
      ]
    },
    {
      "cell_type": "code",
      "execution_count": null,
      "metadata": {
        "colab": {
          "base_uri": "https://localhost:8080/"
        },
        "id": "OrcprYTDQQ7Q",
        "outputId": "9d3002a8-7595-4bef-c7e6-880e558e63a1"
      },
      "outputs": [
        {
          "data": {
            "text/plain": [
              "(98, 10)"
            ]
          },
          "execution_count": 19,
          "metadata": {
            "tags": []
          },
          "output_type": "execute_result"
        }
      ],
      "source": [
        "# from sklearn.feature_extraction.text import TfidfVectorizer\n",
        "# tfidf = TfidfVectorizer(sublinear_tf=True, min_df=5, norm='l2', encoding='latin-1', ngram_range=(1, 2), stop_words='english')\n",
        "# features = tfidf.fit_transform(df.Question).toarray()\n",
        "# labels = df.category_id\n",
        "# features.shape"
      ]
    },
    {
      "cell_type": "code",
      "execution_count": null,
      "metadata": {
        "colab": {
          "base_uri": "https://localhost:8080/"
        },
        "id": "UPvw6RZmQjL1",
        "outputId": "722d385c-5ebe-4b04-e146-0b128a9f3dda"
      },
      "outputs": [
        {
          "name": "stdout",
          "output_type": "stream",
          "text": [
            "# 'factoid':\n",
            "  . Most correlated unigrams:\n",
            ". protein\n",
            ". list\n",
            "  . Most correlated bigrams:\n",
            ". \n",
            "# 'list':\n",
            "  . Most correlated unigrams:\n",
            ". protein\n",
            ". list\n",
            "  . Most correlated bigrams:\n",
            ". \n"
          ]
        }
      ],
      "source": [
        "# from sklearn.feature_selection import chi2\n",
        "# import numpy as np\n",
        "# N = 2\n",
        "# for Question, category_id in sorted(category_to_id.items()):\n",
        "#   features_chi2 = chi2(features, labels == category_id)\n",
        "#   indices = np.argsort(features_chi2[0])\n",
        "#   feature_names = np.array(tfidf.get_feature_names())[indices]\n",
        "#   unigrams = [v for v in feature_names if len(v.split(' ')) == 1]\n",
        "#   bigrams = [v for v in feature_names if len(v.split(' ')) == 2]\n",
        "#   print(\"# '{}':\".format(Question))\n",
        "#   print(\"  . Most correlated unigrams:\\n. {}\".format('\\n. '.join(unigrams[-N:])))\n",
        "#   print(\"  . Most correlated bigrams:\\n. {}\".format('\\n. '.join(bigrams[-N:])))"
      ]
    },
    {
      "cell_type": "code",
      "execution_count": null,
      "metadata": {
        "id": "bwWOc8cTROY5"
      },
      "outputs": [],
      "source": [
        "# from sklearn.model_selection import train_test_split\n",
        "# from sklearn.feature_extraction.text import CountVectorizer\n",
        "# from sklearn.feature_extraction.text import TfidfTransformer\n",
        "# from sklearn.naive_bayes import MultinomialNB\n",
        "\n",
        "# X_train, X_test, y_train, y_test = train_test_split(df['Question'], df['Labels'], random_state = 0)\n",
        "# count_vect = CountVectorizer()\n",
        "# X_train_counts = count_vect.fit_transform(X_train)\n",
        "# tfidf_transformer = TfidfTransformer()\n",
        "# X_train_tfidf = tfidf_transformer.fit_transform(X_train_counts)\n",
        "# clf = MultinomialNB().fit(X_train_tfidf, y_train)"
      ]
    },
    {
      "cell_type": "code",
      "execution_count": null,
      "metadata": {
        "colab": {
          "base_uri": "https://localhost:8080/"
        },
        "id": "KIh9LSQpYcKM",
        "outputId": "1356c91c-430f-4d45-de55-a1d028fed1f9"
      },
      "outputs": [
        {
          "name": "stdout",
          "output_type": "stream",
          "text": [
            "['list']\n"
          ]
        }
      ],
      "source": [
        "print(clf.predict(count_vect.transform([\"List signaling molecules (ligands) that interact with the receptor EGFR?\"])))"
      ]
    },
    {
      "cell_type": "code",
      "execution_count": null,
      "metadata": {
        "id": "ttTu8u8-ZtcJ"
      },
      "outputs": [],
      "source": [
        "# Save the model\n",
        "\n",
        "import pickle\n",
        "# Save to file in the current working directory\n",
        "pkl_filename = \"qa_model.pkl\"\n",
        "\n",
        "#with open(pkl_filename, 'wb') as file:\n",
        "    #pickle.dump(clf, file)\n",
        "pickle.dump(clf, open(pkl_filename, \"wb\"))"
      ]
    },
    {
      "cell_type": "markdown",
      "metadata": {
        "id": "t03slHjjYqZx"
      },
      "source": [
        "Model Selection"
      ]
    },
    {
      "cell_type": "code",
      "execution_count": null,
      "metadata": {
        "colab": {
          "base_uri": "https://localhost:8080/",
          "height": 280
        },
        "id": "B0hXzPv8YnKg",
        "outputId": "61fbc1a0-5673-4cd7-9d22-02c2e07a94dd"
      },
      "outputs": [
        {
          "data": {
            "image/png": "[encoded data removed]",
            "text/plain": [
              "<Figure size 432x288 with 1 Axes>"
            ]
          },
          "metadata": {
            "tags": []
          },
          "output_type": "display_data"
        }
      ],
      "source": [
        "from sklearn.linear_model import LogisticRegression\n",
        "from sklearn.ensemble import RandomForestClassifier\n",
        "from sklearn.svm import LinearSVC\n",
        "from sklearn.model_selection import cross_val_score\n",
        "models = [\n",
        "    RandomForestClassifier(n_estimators=200, max_depth=3, random_state=0),\n",
        "    LinearSVC(),\n",
        "    MultinomialNB(),\n",
        "    LogisticRegression(random_state=0),\n",
        "]\n",
        "CV = 5\n",
        "cv_df = pd.DataFrame(index=range(CV * len(models)))\n",
        "entries = []\n",
        "for model in models:\n",
        "  model_name = model.__class__.__name__\n",
        "  accuracies = cross_val_score(model, features, labels, scoring='accuracy', cv=CV)\n",
        "  for fold_idx, accuracy in enumerate(accuracies):\n",
        "    entries.append((model_name, fold_idx, accuracy))\n",
        "cv_df = pd.DataFrame(entries, columns=['model_name', 'fold_idx', 'accuracy'])\n",
        "import seaborn as sns\n",
        "sns.boxplot(x='model_name', y='accuracy', data=cv_df)\n",
        "sns.stripplot(x='model_name', y='accuracy', data=cv_df, \n",
        "              size=8, jitter=True, edgecolor=\"gray\", linewidth=2)\n",
        "plt.show()"
      ]
    },
    {
      "cell_type": "code",
      "execution_count": null,
      "metadata": {
        "colab": {
          "base_uri": "https://localhost:8080/"
        },
        "id": "3Hxf2my1bV12",
        "outputId": "d8c18377-0171-48ac-bee9-6dcb1b245d3e"
      },
      "outputs": [
        {
          "data": {
            "text/plain": [
              "model_name\n",
              "LinearSVC                 0.724211\n",
              "LogisticRegression        0.683684\n",
              "MultinomialNB             0.694211\n",
              "RandomForestClassifier    0.704211\n",
              "Name: accuracy, dtype: float64"
            ]
          },
          "execution_count": 67,
          "metadata": {
            "tags": []
          },
          "output_type": "execute_result"
        }
      ],
      "source": [
        "cv_df.groupby('model_name').accuracy.mean()"
      ]
    },
    {
      "cell_type": "markdown",
      "metadata": {
        "id": "MjPQKrX-be6I"
      },
      "source": [
        "Model Evaluation"
      ]
    },
    {
      "cell_type": "code",
      "execution_count": null,
      "metadata": {
        "colab": {
          "base_uri": "https://localhost:8080/",
          "height": 610
        },
        "id": "6-esGib4bcYK",
        "outputId": "94c84b6e-441d-49db-a354-0273be66baa3"
      },
      "outputs": [
        {
          "data": {
            "image/png": "[encoded data removed]",
            "text/plain": [
              "<Figure size 720x720 with 2 Axes>"
            ]
          },
          "metadata": {
            "tags": []
          },
          "output_type": "display_data"
        }
      ],
      "source": [
        "model = LinearSVC()\n",
        "X_train, X_test, y_train, y_test, indices_train, indices_test = train_test_split(features, labels, df.index, test_size=0.33, random_state=0)\n",
        "model.fit(X_train, y_train)\n",
        "y_pred = model.predict(X_test)\n",
        "\n",
        "from sklearn.metrics import confusion_matrix\n",
        "\n",
        "conf_mat = confusion_matrix(y_test, y_pred)\n",
        "fig, ax = plt.subplots(figsize=(10,10))\n",
        "sns.heatmap(conf_mat, annot=True, fmt='d',\n",
        "            xticklabels=category_id_df.Labels.values, yticklabels=category_id_df.Labels.values)\n",
        "plt.ylabel('Actual')\n",
        "plt.xlabel('Predicted')\n",
        "plt.show()"
      ]
    },
    {
      "cell_type": "code",
      "execution_count": null,
      "metadata": {
        "colab": {
          "base_uri": "https://localhost:8080/"
        },
        "id": "x6tthPdEb80B",
        "outputId": "6eb778f5-2f4a-4ee0-8758-02c5c3692507"
      },
      "outputs": [
        {
          "name": "stdout",
          "output_type": "stream",
          "text": [
            "              precision    recall  f1-score   support\n",
            "\n",
            "        list       0.67      0.31      0.42        13\n",
            "     factoid       0.67      0.90      0.77        20\n",
            "\n",
            "    accuracy                           0.67        33\n",
            "   macro avg       0.67      0.60      0.59        33\n",
            "weighted avg       0.67      0.67      0.63        33\n",
            "\n"
          ]
        }
      ],
      "source": [
        "from sklearn import metrics\n",
        "print(metrics.classification_report(y_test, y_pred, target_names=df['Labels'].unique()))"
      ]
    },
    {
      "cell_type": "code",
      "execution_count": null,
      "metadata": {
        "id": "5OZpeZf-Uc-0"
      },
      "outputs": [],
      "source": [
        ""
      ]
    },
    {
      "cell_type": "code",
      "execution_count": null,
      "metadata": {
        "id": "2LuL6TPaUzuZ"
      },
      "outputs": [],
      "source": [
        ""
      ]
    }
  ],
  "metadata": {
    "colab": {
      "collapsed_sections": [
        "xqbi7CXYXKCA",
        "DNfRUKPNX2TT",
        "_dHn0gosgUfL",
        "aWhDLBWegfxb",
        "X7Oenfa69pxN",
        "rt3BAVuQfazA",
        "WdSkl4EbfiRo",
        "dmb5FKyKxlOl",
        "AkmdNMlg4nAb",
        "gnbgaiCq0s0q",
        "UTGptnEQfthR",
        "QWq6YS85p6Jb",
        "xHw8ch9xXOJt",
        "lymwSA8nOfuG",
        "IkDDwQmZq4d8",
        "_EMlGs3oRNFK",
        "-ft-ef8xk2hp",
        "LyE9tfq3xIAW",
        "GGBk1io0RPTm",
        "B6tMqcka-fNi",
        "qiUwQ4eCNaKO",
        "v-00nYlE7sXW",
        "j1NTbdNNTUWG",
        "kCnNvAQyTav_",
        "Py7eBisiWWDi",
        "uoju988xDL-B",
        "TFf4nvZqgZdl",
        "ihGwk9nLA2ZJ",
        "Emt_uAm1mMq0",
        "d3hQIrV9NPRx"
      ],
      "name": "Multi-Label_Question_Classification_reproduction.ipynb",
      "provenance": [],
      "include_colab_link": true
    },
    "kernelspec": {
      "display_name": "Python 3",
      "name": "python3"
    },
    "language_info": {
      "name": "python"
    },
    "widgets": {
      "application/vnd.jupyter.widget-state+json": {
        "03ba66c5979041979abaaf1a06d6b6f4": {
          "model_module": "@jupyter-widgets/controls",
          "model_module_version": "1.5.0",
          "model_name": "ProgressStyleModel",
          "state": {
            "_model_module": "@jupyter-widgets/controls",
            "_model_module_version": "1.5.0",
            "_model_name": "ProgressStyleModel",
            "_view_count": null,
            "_view_module": "@jupyter-widgets/base",
            "_view_module_version": "1.2.0",
            "_view_name": "StyleView",
            "bar_color": null,
            "description_width": ""
          }
        },
        "2d0649279b2644fcab2fed634e45d11f": {
          "model_module": "@jupyter-widgets/controls",
          "model_module_version": "1.5.0",
          "model_name": "FloatProgressModel",
          "state": {
            "_dom_classes": [],
            "_model_module": "@jupyter-widgets/controls",
            "_model_module_version": "1.5.0",
            "_model_name": "FloatProgressModel",
            "_view_count": null,
            "_view_module": "@jupyter-widgets/controls",
            "_view_module_version": "1.5.0",
            "_view_name": "ProgressView",
            "bar_style": "success",
            "description": "",
            "description_tooltip": null,
            "layout": "IPY_MODEL_d29b0583817541f89a7e39239c0240bc",
            "max": 773,
            "min": 0,
            "orientation": "horizontal",
            "style": "IPY_MODEL_03ba66c5979041979abaaf1a06d6b6f4",
            "value": 773
          }
        },
        "3ba0000ed6ee4472bdba36d74deb4756": {
          "model_module": "@jupyter-widgets/base",
          "model_module_version": "1.2.0",
          "model_name": "LayoutModel",
          "state": {
            "_model_module": "@jupyter-widgets/base",
            "_model_module_version": "1.2.0",
            "_model_name": "LayoutModel",
            "_view_count": null,
            "_view_module": "@jupyter-widgets/base",
            "_view_module_version": "1.2.0",
            "_view_name": "LayoutView",
            "align_content": null,
            "align_items": null,
            "align_self": null,
            "border": null,
            "bottom": null,
            "display": null,
            "flex": null,
            "flex_flow": null,
            "grid_area": null,
            "grid_auto_columns": null,
            "grid_auto_flow": null,
            "grid_auto_rows": null,
            "grid_column": null,
            "grid_gap": null,
            "grid_row": null,
            "grid_template_areas": null,
            "grid_template_columns": null,
            "grid_template_rows": null,
            "height": null,
            "justify_content": null,
            "justify_items": null,
            "left": null,
            "margin": null,
            "max_height": null,
            "max_width": null,
            "min_height": null,
            "min_width": null,
            "object_fit": null,
            "object_position": null,
            "order": null,
            "overflow": null,
            "overflow_x": null,
            "overflow_y": null,
            "padding": null,
            "right": null,
            "top": null,
            "visibility": null,
            "width": null
          }
        },
        "454012c20c7e4f548e73d74b1c967c72": {
          "model_module": "@jupyter-widgets/controls",
          "model_module_version": "1.5.0",
          "model_name": "DescriptionStyleModel",
          "state": {
            "_model_module": "@jupyter-widgets/controls",
            "_model_module_version": "1.5.0",
            "_model_name": "DescriptionStyleModel",
            "_view_count": null,
            "_view_module": "@jupyter-widgets/base",
            "_view_module_version": "1.2.0",
            "_view_name": "StyleView",
            "description_width": ""
          }
        },
        "51407382628d49959d978ddb547bd5f3": {
          "model_module": "@jupyter-widgets/base",
          "model_module_version": "1.2.0",
          "model_name": "LayoutModel",
          "state": {
            "_model_module": "@jupyter-widgets/base",
            "_model_module_version": "1.2.0",
            "_model_name": "LayoutModel",
            "_view_count": null,
            "_view_module": "@jupyter-widgets/base",
            "_view_module_version": "1.2.0",
            "_view_name": "LayoutView",
            "align_content": null,
            "align_items": null,
            "align_self": null,
            "border": null,
            "bottom": null,
            "display": null,
            "flex": null,
            "flex_flow": null,
            "grid_area": null,
            "grid_auto_columns": null,
            "grid_auto_flow": null,
            "grid_auto_rows": null,
            "grid_column": null,
            "grid_gap": null,
            "grid_row": null,
            "grid_template_areas": null,
            "grid_template_columns": null,
            "grid_template_rows": null,
            "height": null,
            "justify_content": null,
            "justify_items": null,
            "left": null,
            "margin": null,
            "max_height": null,
            "max_width": null,
            "min_height": null,
            "min_width": null,
            "object_fit": null,
            "object_position": null,
            "order": null,
            "overflow": null,
            "overflow_x": null,
            "overflow_y": null,
            "padding": null,
            "right": null,
            "top": null,
            "visibility": null,
            "width": null
          }
        },
        "57d248f4f5e2435781bbecea94d26570": {
          "model_module": "@jupyter-widgets/base",
          "model_module_version": "1.2.0",
          "model_name": "LayoutModel",
          "state": {
            "_model_module": "@jupyter-widgets/base",
            "_model_module_version": "1.2.0",
            "_model_name": "LayoutModel",
            "_view_count": null,
            "_view_module": "@jupyter-widgets/base",
            "_view_module_version": "1.2.0",
            "_view_name": "LayoutView",
            "align_content": null,
            "align_items": null,
            "align_self": null,
            "border": null,
            "bottom": null,
            "display": null,
            "flex": null,
            "flex_flow": null,
            "grid_area": null,
            "grid_auto_columns": null,
            "grid_auto_flow": null,
            "grid_auto_rows": null,
            "grid_column": null,
            "grid_gap": null,
            "grid_row": null,
            "grid_template_areas": null,
            "grid_template_columns": null,
            "grid_template_rows": null,
            "height": null,
            "justify_content": null,
            "justify_items": null,
            "left": null,
            "margin": null,
            "max_height": null,
            "max_width": null,
            "min_height": null,
            "min_width": null,
            "object_fit": null,
            "object_position": null,
            "order": null,
            "overflow": null,
            "overflow_x": null,
            "overflow_y": null,
            "padding": null,
            "right": null,
            "top": null,
            "visibility": null,
            "width": null
          }
        },
        "5b5d7af5ff5641d1a805fef855b11436": {
          "model_module": "@jupyter-widgets/controls",
          "model_module_version": "1.5.0",
          "model_name": "HTMLModel",
          "state": {
            "_dom_classes": [],
            "_model_module": "@jupyter-widgets/controls",
            "_model_module_version": "1.5.0",
            "_model_name": "HTMLModel",
            "_view_count": null,
            "_view_module": "@jupyter-widgets/controls",
            "_view_module_version": "1.5.0",
            "_view_name": "HTMLView",
            "description": "",
            "description_tooltip": null,
            "layout": "IPY_MODEL_3ba0000ed6ee4472bdba36d74deb4756",
            "placeholder": "​",
            "style": "IPY_MODEL_454012c20c7e4f548e73d74b1c967c72",
            "value": " 773/773 [02:50&lt;00:00,  4.34it/s]"
          }
        },
        "9bea01d3597743109ff11fb5a393bd37": {
          "model_module": "@jupyter-widgets/controls",
          "model_module_version": "1.5.0",
          "model_name": "DescriptionStyleModel",
          "state": {
            "_model_module": "@jupyter-widgets/controls",
            "_model_module_version": "1.5.0",
            "_model_name": "DescriptionStyleModel",
            "_view_count": null,
            "_view_module": "@jupyter-widgets/base",
            "_view_module_version": "1.2.0",
            "_view_name": "StyleView",
            "description_width": ""
          }
        },
        "be5ee1bba70d424aa7a8f69ef4330694": {
          "model_module": "@jupyter-widgets/controls",
          "model_module_version": "1.5.0",
          "model_name": "HTMLModel",
          "state": {
            "_dom_classes": [],
            "_model_module": "@jupyter-widgets/controls",
            "_model_module_version": "1.5.0",
            "_model_name": "HTMLModel",
            "_view_count": null,
            "_view_module": "@jupyter-widgets/controls",
            "_view_module_version": "1.5.0",
            "_view_name": "HTMLView",
            "description": "",
            "description_tooltip": null,
            "layout": "IPY_MODEL_57d248f4f5e2435781bbecea94d26570",
            "placeholder": "​",
            "style": "IPY_MODEL_9bea01d3597743109ff11fb5a393bd37",
            "value": "Pandas Apply: 100%"
          }
        },
        "d29b0583817541f89a7e39239c0240bc": {
          "model_module": "@jupyter-widgets/base",
          "model_module_version": "1.2.0",
          "model_name": "LayoutModel",
          "state": {
            "_model_module": "@jupyter-widgets/base",
            "_model_module_version": "1.2.0",
            "_model_name": "LayoutModel",
            "_view_count": null,
            "_view_module": "@jupyter-widgets/base",
            "_view_module_version": "1.2.0",
            "_view_name": "LayoutView",
            "align_content": null,
            "align_items": null,
            "align_self": null,
            "border": null,
            "bottom": null,
            "display": null,
            "flex": null,
            "flex_flow": null,
            "grid_area": null,
            "grid_auto_columns": null,
            "grid_auto_flow": null,
            "grid_auto_rows": null,
            "grid_column": null,
            "grid_gap": null,
            "grid_row": null,
            "grid_template_areas": null,
            "grid_template_columns": null,
            "grid_template_rows": null,
            "height": null,
            "justify_content": null,
            "justify_items": null,
            "left": null,
            "margin": null,
            "max_height": null,
            "max_width": null,
            "min_height": null,
            "min_width": null,
            "object_fit": null,
            "object_position": null,
            "order": null,
            "overflow": null,
            "overflow_x": null,
            "overflow_y": null,
            "padding": null,
            "right": null,
            "top": null,
            "visibility": null,
            "width": null
          }
        },
        "f3d479cb0dfb4bad8f1622592bdfc999": {
          "model_module": "@jupyter-widgets/controls",
          "model_module_version": "1.5.0",
          "model_name": "HBoxModel",
          "state": {
            "_dom_classes": [],
            "_model_module": "@jupyter-widgets/controls",
            "_model_module_version": "1.5.0",
            "_model_name": "HBoxModel",
            "_view_count": null,
            "_view_module": "@jupyter-widgets/controls",
            "_view_module_version": "1.5.0",
            "_view_name": "HBoxView",
            "box_style": "",
            "children": [
              "IPY_MODEL_be5ee1bba70d424aa7a8f69ef4330694",
              "IPY_MODEL_2d0649279b2644fcab2fed634e45d11f",
              "IPY_MODEL_5b5d7af5ff5641d1a805fef855b11436"
            ],
            "layout": "IPY_MODEL_51407382628d49959d978ddb547bd5f3"
          }
        }
      }
    },
    "accelerator": "GPU"
  },
  "nbformat": 4,
  "nbformat_minor": 0
}